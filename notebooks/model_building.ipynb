{
 "cells": [
  {
   "cell_type": "code",
   "execution_count": 3,
   "id": "a755e5b6",
   "metadata": {},
   "outputs": [],
   "source": [
    "import numpy as np\n",
    "import matplotlib.pyplot as plt\n",
    "import pandas as pd"
   ]
  },
  {
   "cell_type": "code",
   "execution_count": 4,
   "id": "f851dbca",
   "metadata": {},
   "outputs": [
    {
     "name": "stderr",
     "output_type": "stream",
     "text": [
      "<>:1: SyntaxWarning: invalid escape sequence '\\d'\n",
      "<>:1: SyntaxWarning: invalid escape sequence '\\d'\n",
      "C:\\Users\\Asus\\AppData\\Local\\Temp\\ipykernel_5608\\3765686874.py:1: SyntaxWarning: invalid escape sequence '\\d'\n",
      "  data = pd.read_csv('..\\data\\sentiment_analysis.csv')\n"
     ]
    }
   ],
   "source": [
    "data = pd.read_csv('..\\data\\sentiment_analysis.csv')"
   ]
  },
  {
   "cell_type": "code",
   "execution_count": 5,
   "id": "a935cebf",
   "metadata": {},
   "outputs": [
    {
     "data": {
      "application/vnd.microsoft.datawrangler.viewer.v0+json": {
       "columns": [
        {
         "name": "index",
         "rawType": "int64",
         "type": "integer"
        },
        {
         "name": "id",
         "rawType": "int64",
         "type": "integer"
        },
        {
         "name": "label",
         "rawType": "int64",
         "type": "integer"
        },
        {
         "name": "tweet",
         "rawType": "object",
         "type": "string"
        }
       ],
       "ref": "e4c246bf-0e7e-489a-a09d-7da0c74ea872",
       "rows": [
        [
         "0",
         "1",
         "0",
         "#fingerprint #Pregnancy Test https://goo.gl/h1MfQV #android #apps #beautiful #cute #health #igers #iphoneonly #iphonesia #iphone"
        ],
        [
         "1",
         "2",
         "0",
         "Finally a transparant silicon case ^^ Thanks to my uncle :) #yay #Sony #Xperia #S #sonyexperias… http://instagram.com/p/YGEt5JC6JM/"
        ],
        [
         "2",
         "3",
         "0",
         "We love this! Would you go? #talk #makememories #unplug #relax #iphone #smartphone #wifi #connect... http://fb.me/6N3LsUpCu"
        ],
        [
         "3",
         "4",
         "0",
         "I'm wired I know I'm George I was made that way ;) #iphone #cute #daventry #home http://instagr.am/p/Li_5_ujS4k/"
        ],
        [
         "4",
         "5",
         "1",
         "What amazing service! Apple won't even talk to me about a question I have unless I pay them $19.95 for their stupid support!"
        ]
       ],
       "shape": {
        "columns": 3,
        "rows": 5
       }
      },
      "text/html": [
       "<div>\n",
       "<style scoped>\n",
       "    .dataframe tbody tr th:only-of-type {\n",
       "        vertical-align: middle;\n",
       "    }\n",
       "\n",
       "    .dataframe tbody tr th {\n",
       "        vertical-align: top;\n",
       "    }\n",
       "\n",
       "    .dataframe thead th {\n",
       "        text-align: right;\n",
       "    }\n",
       "</style>\n",
       "<table border=\"1\" class=\"dataframe\">\n",
       "  <thead>\n",
       "    <tr style=\"text-align: right;\">\n",
       "      <th></th>\n",
       "      <th>id</th>\n",
       "      <th>label</th>\n",
       "      <th>tweet</th>\n",
       "    </tr>\n",
       "  </thead>\n",
       "  <tbody>\n",
       "    <tr>\n",
       "      <th>0</th>\n",
       "      <td>1</td>\n",
       "      <td>0</td>\n",
       "      <td>#fingerprint #Pregnancy Test https://goo.gl/h1...</td>\n",
       "    </tr>\n",
       "    <tr>\n",
       "      <th>1</th>\n",
       "      <td>2</td>\n",
       "      <td>0</td>\n",
       "      <td>Finally a transparant silicon case ^^ Thanks t...</td>\n",
       "    </tr>\n",
       "    <tr>\n",
       "      <th>2</th>\n",
       "      <td>3</td>\n",
       "      <td>0</td>\n",
       "      <td>We love this! Would you go? #talk #makememorie...</td>\n",
       "    </tr>\n",
       "    <tr>\n",
       "      <th>3</th>\n",
       "      <td>4</td>\n",
       "      <td>0</td>\n",
       "      <td>I'm wired I know I'm George I was made that wa...</td>\n",
       "    </tr>\n",
       "    <tr>\n",
       "      <th>4</th>\n",
       "      <td>5</td>\n",
       "      <td>1</td>\n",
       "      <td>What amazing service! Apple won't even talk to...</td>\n",
       "    </tr>\n",
       "  </tbody>\n",
       "</table>\n",
       "</div>"
      ],
      "text/plain": [
       "   id  label                                              tweet\n",
       "0   1      0  #fingerprint #Pregnancy Test https://goo.gl/h1...\n",
       "1   2      0  Finally a transparant silicon case ^^ Thanks t...\n",
       "2   3      0  We love this! Would you go? #talk #makememorie...\n",
       "3   4      0  I'm wired I know I'm George I was made that wa...\n",
       "4   5      1  What amazing service! Apple won't even talk to..."
      ]
     },
     "execution_count": 5,
     "metadata": {},
     "output_type": "execute_result"
    }
   ],
   "source": [
    "data.head()"
   ]
  },
  {
   "cell_type": "markdown",
   "id": "699794ba",
   "metadata": {},
   "source": [
    "# Data Preprocessing"
   ]
  },
  {
   "cell_type": "code",
   "execution_count": 6,
   "id": "6f049c74",
   "metadata": {},
   "outputs": [
    {
     "data": {
      "text/plain": [
       "(7920, 3)"
      ]
     },
     "execution_count": 6,
     "metadata": {},
     "output_type": "execute_result"
    }
   ],
   "source": [
    "data.shape # Chack the shape of the dataset"
   ]
  },
  {
   "cell_type": "code",
   "execution_count": 7,
   "id": "25c30c3b",
   "metadata": {},
   "outputs": [
    {
     "data": {
      "text/plain": [
       "np.int64(0)"
      ]
     },
     "execution_count": 7,
     "metadata": {},
     "output_type": "execute_result"
    }
   ],
   "source": [
    "data.duplicated().sum()  # Check for duplicates"
   ]
  },
  {
   "cell_type": "code",
   "execution_count": 8,
   "id": "d768cda2",
   "metadata": {},
   "outputs": [
    {
     "data": {
      "application/vnd.microsoft.datawrangler.viewer.v0+json": {
       "columns": [
        {
         "name": "index",
         "rawType": "object",
         "type": "string"
        },
        {
         "name": "0",
         "rawType": "int64",
         "type": "integer"
        }
       ],
       "ref": "ca249ea4-b434-4121-b9d2-84505e248710",
       "rows": [
        [
         "id",
         "0"
        ],
        [
         "label",
         "0"
        ],
        [
         "tweet",
         "0"
        ]
       ],
       "shape": {
        "columns": 1,
        "rows": 3
       }
      },
      "text/plain": [
       "id       0\n",
       "label    0\n",
       "tweet    0\n",
       "dtype: int64"
      ]
     },
     "execution_count": 8,
     "metadata": {},
     "output_type": "execute_result"
    }
   ],
   "source": [
    "data.isnull().sum() # Check for missing values"
   ]
  },
  {
   "cell_type": "markdown",
   "id": "a1c107c4",
   "metadata": {},
   "source": [
    "# Text Processing"
   ]
  },
  {
   "cell_type": "code",
   "execution_count": 9,
   "id": "15d8aa48",
   "metadata": {},
   "outputs": [],
   "source": [
    "import string\n",
    "import re\n",
    "import string\n",
    "from nltk.corpus import stopwords\n",
    "from nltk.tokenize import word_tokenize"
   ]
  },
  {
   "cell_type": "code",
   "execution_count": 10,
   "id": "2810c87d",
   "metadata": {},
   "outputs": [
    {
     "name": "stderr",
     "output_type": "stream",
     "text": [
      "[nltk_data] Downloading package punkt to\n",
      "[nltk_data]     C:\\Users\\Asus\\AppData\\Roaming\\nltk_data...\n",
      "[nltk_data]   Package punkt is already up-to-date!\n",
      "[nltk_data] Downloading package stopwords to\n",
      "[nltk_data]     C:\\Users\\Asus\\AppData\\Roaming\\nltk_data...\n",
      "[nltk_data]   Package stopwords is already up-to-date!\n"
     ]
    },
    {
     "data": {
      "text/plain": [
       "True"
      ]
     },
     "execution_count": 10,
     "metadata": {},
     "output_type": "execute_result"
    }
   ],
   "source": [
    "import nltk\n",
    "nltk.download('punkt')\n",
    "nltk.download('stopwords')"
   ]
  },
  {
   "cell_type": "code",
   "execution_count": 11,
   "id": "75912483",
   "metadata": {},
   "outputs": [
    {
     "data": {
      "application/vnd.microsoft.datawrangler.viewer.v0+json": {
       "columns": [
        {
         "name": "index",
         "rawType": "int64",
         "type": "integer"
        },
        {
         "name": "tweet",
         "rawType": "object",
         "type": "string"
        }
       ],
       "ref": "2a832bbe-7ad4-4c75-b18e-585542cc4104",
       "rows": [
        [
         "0",
         "#fingerprint #Pregnancy Test https://goo.gl/h1MfQV #android #apps #beautiful #cute #health #igers #iphoneonly #iphonesia #iphone"
        ],
        [
         "1",
         "Finally a transparant silicon case ^^ Thanks to my uncle :) #yay #Sony #Xperia #S #sonyexperias… http://instagram.com/p/YGEt5JC6JM/"
        ],
        [
         "2",
         "We love this! Would you go? #talk #makememories #unplug #relax #iphone #smartphone #wifi #connect... http://fb.me/6N3LsUpCu"
        ],
        [
         "3",
         "I'm wired I know I'm George I was made that way ;) #iphone #cute #daventry #home http://instagr.am/p/Li_5_ujS4k/"
        ],
        [
         "4",
         "What amazing service! Apple won't even talk to me about a question I have unless I pay them $19.95 for their stupid support!"
        ]
       ],
       "shape": {
        "columns": 1,
        "rows": 5
       }
      },
      "text/plain": [
       "0    #fingerprint #Pregnancy Test https://goo.gl/h1...\n",
       "1    Finally a transparant silicon case ^^ Thanks t...\n",
       "2    We love this! Would you go? #talk #makememorie...\n",
       "3    I'm wired I know I'm George I was made that wa...\n",
       "4    What amazing service! Apple won't even talk to...\n",
       "Name: tweet, dtype: object"
      ]
     },
     "execution_count": 11,
     "metadata": {},
     "output_type": "execute_result"
    }
   ],
   "source": [
    "data['tweet'].head(5)"
   ]
  },
  {
   "cell_type": "code",
   "execution_count": 12,
   "id": "e65b22dc",
   "metadata": {},
   "outputs": [],
   "source": [
    "# Convert uppercase to lowercase\n",
    "data['tweet'] = data['tweet'].apply(lambda x: ''.join(x.lower() for x in x.split()))"
   ]
  },
  {
   "cell_type": "code",
   "execution_count": 13,
   "id": "8fed2f4c",
   "metadata": {},
   "outputs": [
    {
     "data": {
      "application/vnd.microsoft.datawrangler.viewer.v0+json": {
       "columns": [
        {
         "name": "index",
         "rawType": "int64",
         "type": "integer"
        },
        {
         "name": "tweet",
         "rawType": "object",
         "type": "string"
        }
       ],
       "ref": "89cbb568-df7f-481e-a04e-3e97b4a53a0d",
       "rows": [
        [
         "0",
         "#fingerprint#pregnancytesthttps://goo.gl/h1mfqv#android#apps#beautiful#cute#health#igers#iphoneonly#iphonesia#iphone"
        ],
        [
         "1",
         "finallyatransparantsiliconcase^^thankstomyuncle:)#yay#sony#xperia#s#sonyexperias…http://instagram.com/p/yget5jc6jm/"
        ],
        [
         "2",
         "welovethis!wouldyougo?#talk#makememories#unplug#relax#iphone#smartphone#wifi#connect...http://fb.me/6n3lsupcu"
        ],
        [
         "3",
         "i'mwirediknowi'mgeorgeiwasmadethatway;)#iphone#cute#daventry#homehttp://instagr.am/p/li_5_ujs4k/"
        ],
        [
         "4",
         "whatamazingservice!applewon'teventalktomeaboutaquestionihaveunlessipaythem$19.95fortheirstupidsupport!"
        ]
       ],
       "shape": {
        "columns": 1,
        "rows": 5
       }
      },
      "text/plain": [
       "0    #fingerprint#pregnancytesthttps://goo.gl/h1mfq...\n",
       "1    finallyatransparantsiliconcase^^thankstomyuncl...\n",
       "2    welovethis!wouldyougo?#talk#makememories#unplu...\n",
       "3    i'mwirediknowi'mgeorgeiwasmadethatway;)#iphone...\n",
       "4    whatamazingservice!applewon'teventalktomeabout...\n",
       "Name: tweet, dtype: object"
      ]
     },
     "execution_count": 13,
     "metadata": {},
     "output_type": "execute_result"
    }
   ],
   "source": [
    "data['tweet'].head(5)"
   ]
  },
  {
   "cell_type": "code",
   "execution_count": 14,
   "id": "3c5d29ac",
   "metadata": {},
   "outputs": [],
   "source": [
    "# Remove links\n",
    "data['tweet'] = data['tweet'].apply(lambda x: ''.join(re.sub(r'https?:\\/\\/.*[\\r\\n]*', '', x, flags=re.MULTILINE) for x in x.split()))"
   ]
  },
  {
   "cell_type": "code",
   "execution_count": 15,
   "id": "54b47048",
   "metadata": {},
   "outputs": [
    {
     "data": {
      "application/vnd.microsoft.datawrangler.viewer.v0+json": {
       "columns": [
        {
         "name": "index",
         "rawType": "int64",
         "type": "integer"
        },
        {
         "name": "tweet",
         "rawType": "object",
         "type": "string"
        }
       ],
       "ref": "779232cc-24b8-4655-9c40-33d36dadc2c9",
       "rows": [
        [
         "0",
         "#fingerprint#pregnancytest"
        ],
        [
         "1",
         "finallyatransparantsiliconcase^^thankstomyuncle:)#yay#sony#xperia#s#sonyexperias…"
        ],
        [
         "2",
         "welovethis!wouldyougo?#talk#makememories#unplug#relax#iphone#smartphone#wifi#connect..."
        ],
        [
         "3",
         "i'mwirediknowi'mgeorgeiwasmadethatway;)#iphone#cute#daventry#home"
        ],
        [
         "4",
         "whatamazingservice!applewon'teventalktomeaboutaquestionihaveunlessipaythem$19.95fortheirstupidsupport!"
        ],
        [
         "5",
         "iphonesoftwareupdatefuckedupmyphonebigtimestupidiphones"
        ],
        [
         "6",
         "happyforus..#instapic#instadaily#us#sony#xperia#xperiaz"
        ],
        [
         "7",
         "newtypecchargercable#uk"
        ],
        [
         "8",
         "bouttogoshoppingagainlisteningtomusic#iphone#justme#music#likeforlike#followforfollow…"
        ],
        [
         "9",
         "photo:#fun#selfie#pool#water#sony#camera#picoftheday#sun#instagood#boy#cute#outdoor..."
        ]
       ],
       "shape": {
        "columns": 1,
        "rows": 10
       }
      },
      "text/plain": [
       "0                           #fingerprint#pregnancytest\n",
       "1    finallyatransparantsiliconcase^^thankstomyuncl...\n",
       "2    welovethis!wouldyougo?#talk#makememories#unplu...\n",
       "3    i'mwirediknowi'mgeorgeiwasmadethatway;)#iphone...\n",
       "4    whatamazingservice!applewon'teventalktomeabout...\n",
       "5    iphonesoftwareupdatefuckedupmyphonebigtimestup...\n",
       "6    happyforus..#instapic#instadaily#us#sony#xperi...\n",
       "7                              newtypecchargercable#uk\n",
       "8    bouttogoshoppingagainlisteningtomusic#iphone#j...\n",
       "9    photo:#fun#selfie#pool#water#sony#camera#picof...\n",
       "Name: tweet, dtype: object"
      ]
     },
     "execution_count": 15,
     "metadata": {},
     "output_type": "execute_result"
    }
   ],
   "source": [
    "data['tweet'].head(10)"
   ]
  },
  {
   "cell_type": "code",
   "execution_count": 16,
   "id": "239ba5a0",
   "metadata": {},
   "outputs": [
    {
     "data": {
      "text/plain": [
       "'!\"#$%&\\'()*+,-./:;<=>?@[\\\\]^_`{|}~'"
      ]
     },
     "execution_count": 16,
     "metadata": {},
     "output_type": "execute_result"
    }
   ],
   "source": [
    "# Remove puncuation\n",
    "import string\n",
    "string.punctuation"
   ]
  },
  {
   "cell_type": "code",
   "execution_count": 17,
   "id": "3b554fa4",
   "metadata": {},
   "outputs": [],
   "source": [
    "import string\n",
    "\n",
    "def remove_punctuation(text):\n",
    "    for punctuation in string.punctuation:\n",
    "        text = text.replace(punctuation, '')\n",
    "    return text\n",
    "data['tweet'] = data['tweet'].apply(remove_punctuation)"
   ]
  },
  {
   "cell_type": "code",
   "execution_count": 18,
   "id": "f72655d7",
   "metadata": {},
   "outputs": [
    {
     "data": {
      "application/vnd.microsoft.datawrangler.viewer.v0+json": {
       "columns": [
        {
         "name": "index",
         "rawType": "int64",
         "type": "integer"
        },
        {
         "name": "tweet",
         "rawType": "object",
         "type": "string"
        }
       ],
       "ref": "5ef7c6d2-e994-4945-910a-50efff12cd77",
       "rows": [
        [
         "0",
         "fingerprintpregnancytest"
        ],
        [
         "1",
         "finallyatransparantsiliconcasethankstomyuncleyaysonyxperiassonyexperias…"
        ],
        [
         "2",
         "welovethiswouldyougotalkmakememoriesunplugrelaxiphonesmartphonewificonnect"
        ],
        [
         "3",
         "imwirediknowimgeorgeiwasmadethatwayiphonecutedaventryhome"
        ],
        [
         "4",
         "whatamazingserviceapplewonteventalktomeaboutaquestionihaveunlessipaythem1995fortheirstupidsupport"
        ],
        [
         "5",
         "iphonesoftwareupdatefuckedupmyphonebigtimestupidiphones"
        ],
        [
         "6",
         "happyforusinstapicinstadailyussonyxperiaxperiaz"
        ],
        [
         "7",
         "newtypecchargercableuk"
        ],
        [
         "8",
         "bouttogoshoppingagainlisteningtomusiciphonejustmemusiclikeforlikefollowforfollow…"
        ],
        [
         "9",
         "photofunselfiepoolwatersonycamerapicofthedaysuninstagoodboycuteoutdoor"
        ]
       ],
       "shape": {
        "columns": 1,
        "rows": 10
       }
      },
      "text/plain": [
       "0                             fingerprintpregnancytest\n",
       "1    finallyatransparantsiliconcasethankstomyuncley...\n",
       "2    welovethiswouldyougotalkmakememoriesunplugrela...\n",
       "3    imwirediknowimgeorgeiwasmadethatwayiphonecuted...\n",
       "4    whatamazingserviceapplewonteventalktomeaboutaq...\n",
       "5    iphonesoftwareupdatefuckedupmyphonebigtimestup...\n",
       "6      happyforusinstapicinstadailyussonyxperiaxperiaz\n",
       "7                               newtypecchargercableuk\n",
       "8    bouttogoshoppingagainlisteningtomusiciphonejus...\n",
       "9    photofunselfiepoolwatersonycamerapicofthedaysu...\n",
       "Name: tweet, dtype: object"
      ]
     },
     "execution_count": 18,
     "metadata": {},
     "output_type": "execute_result"
    }
   ],
   "source": [
    "data['tweet'].head(10)"
   ]
  },
  {
   "cell_type": "code",
   "execution_count": 19,
   "id": "cbfa1b26",
   "metadata": {},
   "outputs": [
    {
     "data": {
      "application/vnd.microsoft.datawrangler.viewer.v0+json": {
       "columns": [
        {
         "name": "index",
         "rawType": "int64",
         "type": "integer"
        },
        {
         "name": "tweet",
         "rawType": "object",
         "type": "string"
        }
       ],
       "ref": "58416d44-1cb9-4a71-938a-5f6c98334d61",
       "rows": [
        [
         "7910",
         "perfectmatchinstagoodapplewatchredinstagramiphonepicofthedaygayfashion…"
        ],
        [
         "7911",
         "iamcompletelyinlovewiththenewiphoneemojisiphoneappleemojs"
        ],
        [
         "7912",
         "tuneinturnondropoutgtdinoneapp"
        ],
        [
         "7913",
         "oksomygalaxycrashedafteronedaynowihavetowaittilmondayformyskyrocketbutusingiphonefornow"
        ],
        [
         "7914",
         "gainfollowersrtthismustfollowmeifollowbackfolloweveryonewhortsgainiphonesougofollow1öq"
        ],
        [
         "7915",
         "liveoutloudlolliveoutloudselfiesmilesonymusicheadphones"
        ],
        [
         "7916",
         "wewouldliketowishyouanamazingdaymakeeveryminutecounttlstodayiphoneaccessoriesnewslifefebruary232017at0…"
        ],
        [
         "7917",
         "helpingmylovely90yearoldneighborwithheripadthismorninghasjustmademerealisethatidontactuallyneedanipad"
        ],
        [
         "7918",
         "finallygotmysmartpocketwifistayconnectedanytimeanywhereipadandsamsungs3gadget"
        ],
        [
         "7919",
         "applebarcelonaapplestorebcnbarcelonatraveliphoneselfieflyfuncabincrew…"
        ]
       ],
       "shape": {
        "columns": 1,
        "rows": 10
       }
      },
      "text/plain": [
       "7910    perfectmatchinstagoodapplewatchredinstagramiph...\n",
       "7911    iamcompletelyinlovewiththenewiphoneemojisiphon...\n",
       "7912                       tuneinturnondropoutgtdinoneapp\n",
       "7913    oksomygalaxycrashedafteronedaynowihavetowaitti...\n",
       "7914    gainfollowersrtthismustfollowmeifollowbackfoll...\n",
       "7915    liveoutloudlolliveoutloudselfiesmilesonymusich...\n",
       "7916    wewouldliketowishyouanamazingdaymakeeveryminut...\n",
       "7917    helpingmylovely90yearoldneighborwithheripadthi...\n",
       "7918    finallygotmysmartpocketwifistayconnectedanytim...\n",
       "7919    applebarcelonaapplestorebcnbarcelonatravelipho...\n",
       "Name: tweet, dtype: object"
      ]
     },
     "execution_count": 19,
     "metadata": {},
     "output_type": "execute_result"
    }
   ],
   "source": [
    "data['tweet'].tail(10)"
   ]
  },
  {
   "cell_type": "code",
   "execution_count": 20,
   "id": "be7acd3b",
   "metadata": {},
   "outputs": [
    {
     "name": "stderr",
     "output_type": "stream",
     "text": [
      "<>:2: SyntaxWarning: invalid escape sequence '\\d'\n",
      "<>:2: SyntaxWarning: invalid escape sequence '\\d'\n",
      "C:\\Users\\Asus\\AppData\\Local\\Temp\\ipykernel_5608\\928419767.py:2: SyntaxWarning: invalid escape sequence '\\d'\n",
      "  data['tweet'] = data['tweet'].str.replace('\\d+', '', regex=True)\n"
     ]
    }
   ],
   "source": [
    "# Remove numbers\n",
    "data['tweet'] = data['tweet'].str.replace('\\d+', '', regex=True)"
   ]
  },
  {
   "cell_type": "code",
   "execution_count": 21,
   "id": "4cf53295",
   "metadata": {},
   "outputs": [
    {
     "data": {
      "application/vnd.microsoft.datawrangler.viewer.v0+json": {
       "columns": [
        {
         "name": "index",
         "rawType": "int64",
         "type": "integer"
        },
        {
         "name": "tweet",
         "rawType": "object",
         "type": "string"
        }
       ],
       "ref": "82366c24-2d3b-41fb-a56e-3f97669b30ef",
       "rows": [
        [
         "7910",
         "perfectmatchinstagoodapplewatchredinstagramiphonepicofthedaygayfashion…"
        ],
        [
         "7911",
         "iamcompletelyinlovewiththenewiphoneemojisiphoneappleemojs"
        ],
        [
         "7912",
         "tuneinturnondropoutgtdinoneapp"
        ],
        [
         "7913",
         "oksomygalaxycrashedafteronedaynowihavetowaittilmondayformyskyrocketbutusingiphonefornow"
        ],
        [
         "7914",
         "gainfollowersrtthismustfollowmeifollowbackfolloweveryonewhortsgainiphonesougofollowöq"
        ],
        [
         "7915",
         "liveoutloudlolliveoutloudselfiesmilesonymusicheadphones"
        ],
        [
         "7916",
         "wewouldliketowishyouanamazingdaymakeeveryminutecounttlstodayiphoneaccessoriesnewslifefebruaryat…"
        ],
        [
         "7917",
         "helpingmylovelyyearoldneighborwithheripadthismorninghasjustmademerealisethatidontactuallyneedanipad"
        ],
        [
         "7918",
         "finallygotmysmartpocketwifistayconnectedanytimeanywhereipadandsamsungsgadget"
        ],
        [
         "7919",
         "applebarcelonaapplestorebcnbarcelonatraveliphoneselfieflyfuncabincrew…"
        ]
       ],
       "shape": {
        "columns": 1,
        "rows": 10
       }
      },
      "text/plain": [
       "7910    perfectmatchinstagoodapplewatchredinstagramiph...\n",
       "7911    iamcompletelyinlovewiththenewiphoneemojisiphon...\n",
       "7912                       tuneinturnondropoutgtdinoneapp\n",
       "7913    oksomygalaxycrashedafteronedaynowihavetowaitti...\n",
       "7914    gainfollowersrtthismustfollowmeifollowbackfoll...\n",
       "7915    liveoutloudlolliveoutloudselfiesmilesonymusich...\n",
       "7916    wewouldliketowishyouanamazingdaymakeeveryminut...\n",
       "7917    helpingmylovelyyearoldneighborwithheripadthism...\n",
       "7918    finallygotmysmartpocketwifistayconnectedanytim...\n",
       "7919    applebarcelonaapplestorebcnbarcelonatravelipho...\n",
       "Name: tweet, dtype: object"
      ]
     },
     "execution_count": 21,
     "metadata": {},
     "output_type": "execute_result"
    }
   ],
   "source": [
    "data['tweet'].tail(10)"
   ]
  },
  {
   "cell_type": "code",
   "execution_count": 22,
   "id": "9eb6c0a0",
   "metadata": {},
   "outputs": [
    {
     "name": "stderr",
     "output_type": "stream",
     "text": [
      "[nltk_data] Downloading package stopwords to ../static/model...\n",
      "[nltk_data]   Package stopwords is already up-to-date!\n"
     ]
    },
    {
     "data": {
      "text/plain": [
       "True"
      ]
     },
     "execution_count": 22,
     "metadata": {},
     "output_type": "execute_result"
    }
   ],
   "source": [
    "# Remove stopwords\n",
    "import nltk\n",
    "nltk.download('stopwords', download_dir='../static/model')"
   ]
  },
  {
   "cell_type": "code",
   "execution_count": 23,
   "id": "f6379fbf",
   "metadata": {},
   "outputs": [],
   "source": [
    "with open('../static/model/corpora/stopwords/english', 'r') as file:\n",
    "    sw = file.read().splitlines()"
   ]
  },
  {
   "cell_type": "code",
   "execution_count": 24,
   "id": "7be2fc0e",
   "metadata": {},
   "outputs": [
    {
     "data": {
      "text/plain": [
       "['a',\n",
       " 'about',\n",
       " 'above',\n",
       " 'after',\n",
       " 'again',\n",
       " 'against',\n",
       " 'ain',\n",
       " 'all',\n",
       " 'am',\n",
       " 'an',\n",
       " 'and',\n",
       " 'any',\n",
       " 'are',\n",
       " 'aren',\n",
       " \"aren't\",\n",
       " 'as',\n",
       " 'at',\n",
       " 'be',\n",
       " 'because',\n",
       " 'been',\n",
       " 'before',\n",
       " 'being',\n",
       " 'below',\n",
       " 'between',\n",
       " 'both',\n",
       " 'but',\n",
       " 'by',\n",
       " 'can',\n",
       " 'couldn',\n",
       " \"couldn't\",\n",
       " 'd',\n",
       " 'did',\n",
       " 'didn',\n",
       " \"didn't\",\n",
       " 'do',\n",
       " 'does',\n",
       " 'doesn',\n",
       " \"doesn't\",\n",
       " 'doing',\n",
       " 'don',\n",
       " \"don't\",\n",
       " 'down',\n",
       " 'during',\n",
       " 'each',\n",
       " 'few',\n",
       " 'for',\n",
       " 'from',\n",
       " 'further',\n",
       " 'had',\n",
       " 'hadn',\n",
       " \"hadn't\",\n",
       " 'has',\n",
       " 'hasn',\n",
       " \"hasn't\",\n",
       " 'have',\n",
       " 'haven',\n",
       " \"haven't\",\n",
       " 'having',\n",
       " 'he',\n",
       " \"he'd\",\n",
       " \"he'll\",\n",
       " 'her',\n",
       " 'here',\n",
       " 'hers',\n",
       " 'herself',\n",
       " \"he's\",\n",
       " 'him',\n",
       " 'himself',\n",
       " 'his',\n",
       " 'how',\n",
       " 'i',\n",
       " \"i'd\",\n",
       " 'if',\n",
       " \"i'll\",\n",
       " \"i'm\",\n",
       " 'in',\n",
       " 'into',\n",
       " 'is',\n",
       " 'isn',\n",
       " \"isn't\",\n",
       " 'it',\n",
       " \"it'd\",\n",
       " \"it'll\",\n",
       " \"it's\",\n",
       " 'its',\n",
       " 'itself',\n",
       " \"i've\",\n",
       " 'just',\n",
       " 'll',\n",
       " 'm',\n",
       " 'ma',\n",
       " 'me',\n",
       " 'mightn',\n",
       " \"mightn't\",\n",
       " 'more',\n",
       " 'most',\n",
       " 'mustn',\n",
       " \"mustn't\",\n",
       " 'my',\n",
       " 'myself',\n",
       " 'needn',\n",
       " \"needn't\",\n",
       " 'no',\n",
       " 'nor',\n",
       " 'not',\n",
       " 'now',\n",
       " 'o',\n",
       " 'of',\n",
       " 'off',\n",
       " 'on',\n",
       " 'once',\n",
       " 'only',\n",
       " 'or',\n",
       " 'other',\n",
       " 'our',\n",
       " 'ours',\n",
       " 'ourselves',\n",
       " 'out',\n",
       " 'over',\n",
       " 'own',\n",
       " 're',\n",
       " 's',\n",
       " 'same',\n",
       " 'shan',\n",
       " \"shan't\",\n",
       " 'she',\n",
       " \"she'd\",\n",
       " \"she'll\",\n",
       " \"she's\",\n",
       " 'should',\n",
       " 'shouldn',\n",
       " \"shouldn't\",\n",
       " \"should've\",\n",
       " 'so',\n",
       " 'some',\n",
       " 'such',\n",
       " 't',\n",
       " 'than',\n",
       " 'that',\n",
       " \"that'll\",\n",
       " 'the',\n",
       " 'their',\n",
       " 'theirs',\n",
       " 'them',\n",
       " 'themselves',\n",
       " 'then',\n",
       " 'there',\n",
       " 'these',\n",
       " 'they',\n",
       " \"they'd\",\n",
       " \"they'll\",\n",
       " \"they're\",\n",
       " \"they've\",\n",
       " 'this',\n",
       " 'those',\n",
       " 'through',\n",
       " 'to',\n",
       " 'too',\n",
       " 'under',\n",
       " 'until',\n",
       " 'up',\n",
       " 've',\n",
       " 'very',\n",
       " 'was',\n",
       " 'wasn',\n",
       " \"wasn't\",\n",
       " 'we',\n",
       " \"we'd\",\n",
       " \"we'll\",\n",
       " \"we're\",\n",
       " 'were',\n",
       " 'weren',\n",
       " \"weren't\",\n",
       " \"we've\",\n",
       " 'what',\n",
       " 'when',\n",
       " 'where',\n",
       " 'which',\n",
       " 'while',\n",
       " 'who',\n",
       " 'whom',\n",
       " 'why',\n",
       " 'will',\n",
       " 'with',\n",
       " 'won',\n",
       " \"won't\",\n",
       " 'wouldn',\n",
       " \"wouldn't\",\n",
       " 'y',\n",
       " 'you',\n",
       " \"you'd\",\n",
       " \"you'll\",\n",
       " 'your',\n",
       " \"you're\",\n",
       " 'yours',\n",
       " 'yourself',\n",
       " 'yourselves',\n",
       " \"you've\"]"
      ]
     },
     "execution_count": 24,
     "metadata": {},
     "output_type": "execute_result"
    }
   ],
   "source": [
    "sw"
   ]
  },
  {
   "cell_type": "code",
   "execution_count": 25,
   "id": "f852896e",
   "metadata": {},
   "outputs": [
    {
     "data": {
      "application/vnd.microsoft.datawrangler.viewer.v0+json": {
       "columns": [
        {
         "name": "index",
         "rawType": "int64",
         "type": "integer"
        },
        {
         "name": "tweet",
         "rawType": "object",
         "type": "string"
        }
       ],
       "ref": "e6d3861b-39bd-42a4-aa00-a8a3c6dbbae4",
       "rows": [
        [
         "0",
         "fingerprintpregnancytest"
        ],
        [
         "1",
         "finallyatransparantsiliconcasethankstomyuncleyaysonyxperiassonyexperias…"
        ],
        [
         "2",
         "welovethiswouldyougotalkmakememoriesunplugrelaxiphonesmartphonewificonnect"
        ],
        [
         "3",
         "imwirediknowimgeorgeiwasmadethatwayiphonecutedaventryhome"
        ],
        [
         "4",
         "whatamazingserviceapplewonteventalktomeaboutaquestionihaveunlessipaythemfortheirstupidsupport"
        ],
        [
         "5",
         "iphonesoftwareupdatefuckedupmyphonebigtimestupidiphones"
        ],
        [
         "6",
         "happyforusinstapicinstadailyussonyxperiaxperiaz"
        ],
        [
         "7",
         "newtypecchargercableuk"
        ],
        [
         "8",
         "bouttogoshoppingagainlisteningtomusiciphonejustmemusiclikeforlikefollowforfollow…"
        ],
        [
         "9",
         "photofunselfiepoolwatersonycamerapicofthedaysuninstagoodboycuteoutdoor"
        ]
       ],
       "shape": {
        "columns": 1,
        "rows": 10
       }
      },
      "text/plain": [
       "0                             fingerprintpregnancytest\n",
       "1    finallyatransparantsiliconcasethankstomyuncley...\n",
       "2    welovethiswouldyougotalkmakememoriesunplugrela...\n",
       "3    imwirediknowimgeorgeiwasmadethatwayiphonecuted...\n",
       "4    whatamazingserviceapplewonteventalktomeaboutaq...\n",
       "5    iphonesoftwareupdatefuckedupmyphonebigtimestup...\n",
       "6      happyforusinstapicinstadailyussonyxperiaxperiaz\n",
       "7                               newtypecchargercableuk\n",
       "8    bouttogoshoppingagainlisteningtomusiciphonejus...\n",
       "9    photofunselfiepoolwatersonycamerapicofthedaysu...\n",
       "Name: tweet, dtype: object"
      ]
     },
     "execution_count": 25,
     "metadata": {},
     "output_type": "execute_result"
    }
   ],
   "source": [
    "data['tweet'] = data['tweet'].apply(lambda x: ''.join(x for x in x.split() if x not in sw))\n",
    "data['tweet'].head(10)"
   ]
  },
  {
   "cell_type": "code",
   "execution_count": 26,
   "id": "07f32b2d",
   "metadata": {},
   "outputs": [
    {
     "data": {
      "application/vnd.microsoft.datawrangler.viewer.v0+json": {
       "columns": [
        {
         "name": "index",
         "rawType": "int64",
         "type": "integer"
        },
        {
         "name": "tweet",
         "rawType": "object",
         "type": "string"
        }
       ],
       "ref": "1eebff99-c58a-469d-828c-707706da1525",
       "rows": [
        [
         "0",
         "fingerprintpregnancytest"
        ],
        [
         "1",
         "finallyatransparantsiliconcasethankstomyuncleyaysonyxperiassonyexperias…"
        ],
        [
         "2",
         "welovethiswouldyougotalkmakememoriesunplugrelaxiphonesmartphonewificonnect"
        ],
        [
         "3",
         "imwirediknowimgeorgeiwasmadethatwayiphonecutedaventryhome"
        ],
        [
         "4",
         "whatamazingserviceapplewonteventalktomeaboutaquestionihaveunlessipaythemfortheirstupidsupport"
        ]
       ],
       "shape": {
        "columns": 1,
        "rows": 5
       }
      },
      "text/plain": [
       "0                             fingerprintpregnancytest\n",
       "1    finallyatransparantsiliconcasethankstomyuncley...\n",
       "2    welovethiswouldyougotalkmakememoriesunplugrela...\n",
       "3    imwirediknowimgeorgeiwasmadethatwayiphonecuted...\n",
       "4    whatamazingserviceapplewonteventalktomeaboutaq...\n",
       "Name: tweet, dtype: object"
      ]
     },
     "execution_count": 26,
     "metadata": {},
     "output_type": "execute_result"
    }
   ],
   "source": [
    "data['tweet'].head()"
   ]
  },
  {
   "cell_type": "code",
   "execution_count": 27,
   "id": "fe6defba",
   "metadata": {},
   "outputs": [],
   "source": [
    "# Stemming\n",
    "from nltk.stem import PorterStemmer\n",
    "ps = PorterStemmer()"
   ]
  },
  {
   "cell_type": "code",
   "execution_count": 29,
   "id": "e53aa3ab",
   "metadata": {},
   "outputs": [
    {
     "data": {
      "application/vnd.microsoft.datawrangler.viewer.v0+json": {
       "columns": [
        {
         "name": "index",
         "rawType": "int64",
         "type": "integer"
        },
        {
         "name": "tweet",
         "rawType": "object",
         "type": "string"
        }
       ],
       "ref": "31260860-43e4-403d-946b-17591ebce5fc",
       "rows": [
        [
         "0",
         "fingerprintpregnancytest"
        ],
        [
         "1",
         "finallyatransparantsiliconcasethankstomyuncleyaysonyxperiassonyexperias…"
        ],
        [
         "2",
         "welovethiswouldyougotalkmakememoriesunplugrelaxiphonesmartphonewificonnect"
        ],
        [
         "3",
         "imwirediknowimgeorgeiwasmadethatwayiphonecutedaventryhom"
        ],
        [
         "4",
         "whatamazingserviceapplewonteventalktomeaboutaquestionihaveunlessipaythemfortheirstupidsupport"
        ]
       ],
       "shape": {
        "columns": 1,
        "rows": 5
       }
      },
      "text/plain": [
       "0                             fingerprintpregnancytest\n",
       "1    finallyatransparantsiliconcasethankstomyuncley...\n",
       "2    welovethiswouldyougotalkmakememoriesunplugrela...\n",
       "3    imwirediknowimgeorgeiwasmadethatwayiphonecuted...\n",
       "4    whatamazingserviceapplewonteventalktomeaboutaq...\n",
       "Name: tweet, dtype: object"
      ]
     },
     "execution_count": 29,
     "metadata": {},
     "output_type": "execute_result"
    }
   ],
   "source": [
    "data['tweet'] = data['tweet'].apply(lambda x: ''.join(ps.stem(x) for x in x.split()))\n",
    "data['tweet'].head()"
   ]
  },
  {
   "cell_type": "code",
   "execution_count": 33,
   "id": "fef534b6",
   "metadata": {},
   "outputs": [
    {
     "data": {
      "application/vnd.microsoft.datawrangler.viewer.v0+json": {
       "columns": [
        {
         "name": "index",
         "rawType": "int64",
         "type": "integer"
        },
        {
         "name": "id",
         "rawType": "int64",
         "type": "integer"
        },
        {
         "name": "label",
         "rawType": "int64",
         "type": "integer"
        },
        {
         "name": "tweet",
         "rawType": "object",
         "type": "string"
        }
       ],
       "ref": "7d4dd56e-7f45-4c72-a4aa-0f6163220d53",
       "rows": [
        [
         "0",
         "1",
         "0",
         "fingerprintpregnancytest"
        ],
        [
         "1",
         "2",
         "0",
         "finallyatransparantsiliconcasethankstomyuncleyaysonyxperiassonyexperias…"
        ],
        [
         "2",
         "3",
         "0",
         "welovethiswouldyougotalkmakememoriesunplugrelaxiphonesmartphonewificonnect"
        ],
        [
         "3",
         "4",
         "0",
         "imwirediknowimgeorgeiwasmadethatwayiphonecutedaventryhom"
        ],
        [
         "4",
         "5",
         "1",
         "whatamazingserviceapplewonteventalktomeaboutaquestionihaveunlessipaythemfortheirstupidsupport"
        ],
        [
         "5",
         "6",
         "1",
         "iphonesoftwareupdatefuckedupmyphonebigtimestupidiphon"
        ],
        [
         "6",
         "7",
         "0",
         "happyforusinstapicinstadailyussonyxperiaxperiaz"
        ],
        [
         "7",
         "8",
         "0",
         "newtypecchargercableuk"
        ],
        [
         "8",
         "9",
         "0",
         "bouttogoshoppingagainlisteningtomusiciphonejustmemusiclikeforlikefollowforfollow…"
        ],
        [
         "9",
         "10",
         "0",
         "photofunselfiepoolwatersonycamerapicofthedaysuninstagoodboycuteoutdoor"
        ],
        [
         "10",
         "11",
         "1",
         "heyapplewhenyoumakeanewipoddontmakeitanewcolororinchesthinnermakeitnotcrasheveryfivefuckinminit"
        ],
        [
         "11",
         "12",
         "1",
         "hanotheavymachinerybutitdoeswhatineedittoapplereallydroppedtheballwiththatdesigndrinkyourhaterad"
        ],
        [
         "12",
         "13",
         "1",
         "contemplatinggivingintotheiphonebandwagonsimplybecausecellcomhasnonewandroidsdepressingidontwantto"
        ],
        [
         "13",
         "14",
         "0",
         "ijustmadeanothercrazypurchaselolmytheoryisworkhardplayhardlolipadappleshop"
        ],
        [
         "14",
         "15",
         "1",
         "shaqlockholmessamlouisethebatteryissopainfulichargeitovernightandbylunchtimebatteryisdeadhateorang"
        ],
        [
         "15",
         "16",
         "0",
         "fromdeepellumtowardsdowntowndallasbigdsaturdayrxmsonysummerurban"
        ],
        [
         "16",
         "17",
         "0",
         "likeandshareifyouwantthisdphonecaseforiphoneiphon"
        ],
        [
         "17",
         "18",
         "0",
         "gocrazyiphonesiaiphoneinstagoodinstagramphotoofthedaytweegram…"
        ],
        [
         "18",
         "19",
         "1",
         "thereasonidonthaveoneiphonesuckappletruthtruthbetoldagreefactrealitycheckblackberrypictwittercomzpggdcazn"
        ],
        [
         "19",
         "20",
         "1",
         "howistheapplestoregunnabeoutofcscreensitsmondayandurthefuckingapplestorefuckingpiss"
        ],
        [
         "20",
         "21",
         "0",
         "applearteasterdearfriendsifyouwouldliketobepublishedonmychanneldesignafaceontheeasterbunnyandemailittomeasapngthumbnailmyemailmutitaedibleartgmailcompictwittercomjhwphfbgt"
        ],
        [
         "21",
         "22",
         "0",
         "excusemewaiterthereseemstobeapieinmysoupwifebakeanapplepieyay"
        ],
        [
         "22",
         "23",
         "1",
         "ivehadthisnewipodforfourdaysandthisofbuttononthebackbrokeiaccidentallyhititonc"
        ],
        [
         "23",
         "24",
         "1",
         "whenyouriphonescreengoescompletelyblackandyoukeepgettingtextsalldaybutyoucantfuckingcheckthemapplethiphon"
        ],
        [
         "24",
         "25",
         "0",
         "itstimefornewwallpapersphonewallpaperswallscreengalaxysamsungapp…"
        ],
        [
         "25",
         "26",
         "0",
         "billionforpatentswherethereispriorartmillionseachpatenttrollsarepartyingnowthankstoappleappl"
        ],
        [
         "26",
         "27",
         "1",
         "myipodisallmessedupandihaventdonenothingtoitmylossappl"
        ],
        [
         "27",
         "28",
         "1",
         "myipodtouchisfrozenontheapplelogowhenitstartsupifiloseallofdemismusicpicsiwillkillsomeonesoangryhateappl"
        ],
        [
         "28",
         "29",
         "0",
         "doloveanewphonecaseflowergreendiamondpearlscutenewiphoneiphonescase…"
        ],
        [
         "29",
         "30",
         "0",
         "mustwatchyoutubesubscribedailyvlogtwitchgamingfunpsxboxsonygamesiosandroid"
        ],
        [
         "30",
         "31",
         "0",
         "thankyousamsunglivelaughlifefoodphilippinesinstagoinstahubinstagram…"
        ],
        [
         "31",
         "32",
         "0",
         "chcannonsueweefriendshipamericanbullydogpiggiesfamilysoutherncharmamericanidolgoalsbestfriendspitbulliphonexonelovecountrymusclenflworldwideamericabigboythislifetmzwildhoggpictwittercommnogp"
        ],
        [
         "32",
         "33",
         "0",
         "instapicbymimmoalfebtakenwithsonyrxdirezioneverticalesunsetskybeautifulfun…pictwittercomcxifijjg"
        ],
        [
         "33",
         "34",
         "0",
         "imsohappysisterboughtmeanewphoneforearlybdaygiftsohappysamsung"
        ],
        [
         "34",
         "35",
         "0",
         "justreceivedthesamsungnotemanythankstocottdsphon"
        ],
        [
         "35",
         "36",
         "0",
         "nswrlisthereanappfortheandroidmarketinthepipelin"
        ],
        [
         "36",
         "37",
         "1",
         "whycantideleteindividualsongsfrommyphoneappleitun"
        ],
        [
         "37",
         "38",
         "1",
         "everybodybefreakingoutaboutiosimherelikeduuudeevenwindowsphonesaremoreadvancedthaniphonescustom"
        ],
        [
         "38",
         "39",
         "1",
         "newiphonesandcthesstandingforsirriiouslybadandthecstandingforcheapsamescreenressamecameratechappl"
        ],
        [
         "39",
         "40",
         "0",
         "nobullinstasizeleggingslightskincurlyhairiphonebellypiercingsmilepotd…"
        ],
        [
         "40",
         "41",
         "0",
         "iftheydin’tcreateyoudon’tletthemdestroyyoucandidphotoiphonexsundaysundayvibessmilealwaysphotoofthedayeyesmeootdfashionblackandwhiteposerattitudelifeisgoodmylookmylifephotoeverydaylookofthedaylatepostmylifepictwittercommmhcqyadb"
        ],
        [
         "41",
         "42",
         "0",
         "filmsetbuildingtimelapsevideophotoofthedaybeautifulproducerlivefashionvideoproductioncutefollowcommercialiphoneappleactoractressmeiphonesiahollywoodlosangelespicofthedaymoviesactingstartupstartupvideosshotoniphonpictwittercomeceiain"
        ],
        [
         "42",
         "43",
         "0",
         "mynewphonecupcakeswallpaperpinkcutesweetsamsungcherri"
        ],
        [
         "43",
         "44",
         "0",
         "eeeeeesexyladiesliveiphoneiphonesiainstagoodphotoofthedaytweegramiphon"
        ],
        [
         "44",
         "45",
         "0",
         "acquistodelweekendiphoneiphoneplusapplegrilmomentitaly…"
        ],
        [
         "45",
         "46",
         "0",
         "majesticweseeitdifferentlyphotographynaturelandscapeforesthiddenclearingviewwoodstreetravelbikersonyaziessphotoinstgramhubpicoftheday"
        ],
        [
         "46",
         "47",
         "1",
         "googleapplesocuttheitunesandgetwiththeprogram"
        ],
        [
         "47",
         "48",
         "0",
         "ahhhhlookwhatigotforchristmasaniphoneapplechristmasgirl"
        ],
        [
         "48",
         "49",
         "0",
         "doyoulovemelikeloveinstacoolphotoofthedayiphoneinstagofoodfollowforfollowlik"
        ],
        [
         "49",
         "50",
         "0",
         "followmeasiplaybitcoinboyfortheiphoneipadipodfreegamefunkansasgeorgia…"
        ]
       ],
       "shape": {
        "columns": 3,
        "rows": 7920
       }
      },
      "text/html": [
       "<div>\n",
       "<style scoped>\n",
       "    .dataframe tbody tr th:only-of-type {\n",
       "        vertical-align: middle;\n",
       "    }\n",
       "\n",
       "    .dataframe tbody tr th {\n",
       "        vertical-align: top;\n",
       "    }\n",
       "\n",
       "    .dataframe thead th {\n",
       "        text-align: right;\n",
       "    }\n",
       "</style>\n",
       "<table border=\"1\" class=\"dataframe\">\n",
       "  <thead>\n",
       "    <tr style=\"text-align: right;\">\n",
       "      <th></th>\n",
       "      <th>id</th>\n",
       "      <th>label</th>\n",
       "      <th>tweet</th>\n",
       "    </tr>\n",
       "  </thead>\n",
       "  <tbody>\n",
       "    <tr>\n",
       "      <th>0</th>\n",
       "      <td>1</td>\n",
       "      <td>0</td>\n",
       "      <td>fingerprintpregnancytest</td>\n",
       "    </tr>\n",
       "    <tr>\n",
       "      <th>1</th>\n",
       "      <td>2</td>\n",
       "      <td>0</td>\n",
       "      <td>finallyatransparantsiliconcasethankstomyuncley...</td>\n",
       "    </tr>\n",
       "    <tr>\n",
       "      <th>2</th>\n",
       "      <td>3</td>\n",
       "      <td>0</td>\n",
       "      <td>welovethiswouldyougotalkmakememoriesunplugrela...</td>\n",
       "    </tr>\n",
       "    <tr>\n",
       "      <th>3</th>\n",
       "      <td>4</td>\n",
       "      <td>0</td>\n",
       "      <td>imwirediknowimgeorgeiwasmadethatwayiphonecuted...</td>\n",
       "    </tr>\n",
       "    <tr>\n",
       "      <th>4</th>\n",
       "      <td>5</td>\n",
       "      <td>1</td>\n",
       "      <td>whatamazingserviceapplewonteventalktomeaboutaq...</td>\n",
       "    </tr>\n",
       "    <tr>\n",
       "      <th>...</th>\n",
       "      <td>...</td>\n",
       "      <td>...</td>\n",
       "      <td>...</td>\n",
       "    </tr>\n",
       "    <tr>\n",
       "      <th>7915</th>\n",
       "      <td>7916</td>\n",
       "      <td>0</td>\n",
       "      <td>liveoutloudlolliveoutloudselfiesmilesonymusich...</td>\n",
       "    </tr>\n",
       "    <tr>\n",
       "      <th>7916</th>\n",
       "      <td>7917</td>\n",
       "      <td>0</td>\n",
       "      <td>wewouldliketowishyouanamazingdaymakeeveryminut...</td>\n",
       "    </tr>\n",
       "    <tr>\n",
       "      <th>7917</th>\n",
       "      <td>7918</td>\n",
       "      <td>0</td>\n",
       "      <td>helpingmylovelyyearoldneighborwithheripadthism...</td>\n",
       "    </tr>\n",
       "    <tr>\n",
       "      <th>7918</th>\n",
       "      <td>7919</td>\n",
       "      <td>0</td>\n",
       "      <td>finallygotmysmartpocketwifistayconnectedanytim...</td>\n",
       "    </tr>\n",
       "    <tr>\n",
       "      <th>7919</th>\n",
       "      <td>7920</td>\n",
       "      <td>0</td>\n",
       "      <td>applebarcelonaapplestorebcnbarcelonatravelipho...</td>\n",
       "    </tr>\n",
       "  </tbody>\n",
       "</table>\n",
       "<p>7920 rows × 3 columns</p>\n",
       "</div>"
      ],
      "text/plain": [
       "        id  label                                              tweet\n",
       "0        1      0                           fingerprintpregnancytest\n",
       "1        2      0  finallyatransparantsiliconcasethankstomyuncley...\n",
       "2        3      0  welovethiswouldyougotalkmakememoriesunplugrela...\n",
       "3        4      0  imwirediknowimgeorgeiwasmadethatwayiphonecuted...\n",
       "4        5      1  whatamazingserviceapplewonteventalktomeaboutaq...\n",
       "...    ...    ...                                                ...\n",
       "7915  7916      0  liveoutloudlolliveoutloudselfiesmilesonymusich...\n",
       "7916  7917      0  wewouldliketowishyouanamazingdaymakeeveryminut...\n",
       "7917  7918      0  helpingmylovelyyearoldneighborwithheripadthism...\n",
       "7918  7919      0  finallygotmysmartpocketwifistayconnectedanytim...\n",
       "7919  7920      0  applebarcelonaapplestorebcnbarcelonatravelipho...\n",
       "\n",
       "[7920 rows x 3 columns]"
      ]
     },
     "execution_count": 33,
     "metadata": {},
     "output_type": "execute_result"
    }
   ],
   "source": [
    "data"
   ]
  }
 ],
 "metadata": {
  "kernelspec": {
   "display_name": "env (3.12.4)",
   "language": "python",
   "name": "python3"
  },
  "language_info": {
   "codemirror_mode": {
    "name": "ipython",
    "version": 3
   },
   "file_extension": ".py",
   "mimetype": "text/x-python",
   "name": "python",
   "nbconvert_exporter": "python",
   "pygments_lexer": "ipython3",
   "version": "3.12.4"
  }
 },
 "nbformat": 4,
 "nbformat_minor": 5
}
