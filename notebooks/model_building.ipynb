{
 "cells": [
  {
   "cell_type": "code",
   "execution_count": 1,
   "id": "a755e5b6",
   "metadata": {},
   "outputs": [],
   "source": [
    "import numpy as np\n",
    "import matplotlib.pyplot as plt\n",
    "import pandas as pd"
   ]
  },
  {
   "cell_type": "code",
   "execution_count": 2,
   "id": "f851dbca",
   "metadata": {},
   "outputs": [
    {
     "name": "stderr",
     "output_type": "stream",
     "text": [
      "<>:1: SyntaxWarning: invalid escape sequence '\\d'\n",
      "<>:1: SyntaxWarning: invalid escape sequence '\\d'\n",
      "C:\\Users\\Asus\\AppData\\Local\\Temp\\ipykernel_5608\\3765686874.py:1: SyntaxWarning: invalid escape sequence '\\d'\n",
      "  data = pd.read_csv('..\\data\\sentiment_analysis.csv')\n"
     ]
    }
   ],
   "source": [
    "data = pd.read_csv('..\\data\\sentiment_analysis.csv')"
   ]
  },
  {
   "cell_type": "code",
   "execution_count": 3,
   "id": "a935cebf",
   "metadata": {},
   "outputs": [
    {
     "data": {
      "application/vnd.microsoft.datawrangler.viewer.v0+json": {
       "columns": [
        {
         "name": "index",
         "rawType": "int64",
         "type": "integer"
        },
        {
         "name": "id",
         "rawType": "int64",
         "type": "integer"
        },
        {
         "name": "label",
         "rawType": "int64",
         "type": "integer"
        },
        {
         "name": "tweet",
         "rawType": "object",
         "type": "string"
        }
       ],
       "ref": "c65dc14e-c2bf-4122-993b-524304c3cee4",
       "rows": [
        [
         "0",
         "1",
         "0",
         "#fingerprint #Pregnancy Test https://goo.gl/h1MfQV #android #apps #beautiful #cute #health #igers #iphoneonly #iphonesia #iphone"
        ],
        [
         "1",
         "2",
         "0",
         "Finally a transparant silicon case ^^ Thanks to my uncle :) #yay #Sony #Xperia #S #sonyexperias… http://instagram.com/p/YGEt5JC6JM/"
        ],
        [
         "2",
         "3",
         "0",
         "We love this! Would you go? #talk #makememories #unplug #relax #iphone #smartphone #wifi #connect... http://fb.me/6N3LsUpCu"
        ],
        [
         "3",
         "4",
         "0",
         "I'm wired I know I'm George I was made that way ;) #iphone #cute #daventry #home http://instagr.am/p/Li_5_ujS4k/"
        ],
        [
         "4",
         "5",
         "1",
         "What amazing service! Apple won't even talk to me about a question I have unless I pay them $19.95 for their stupid support!"
        ]
       ],
       "shape": {
        "columns": 3,
        "rows": 5
       }
      },
      "text/html": [
       "<div>\n",
       "<style scoped>\n",
       "    .dataframe tbody tr th:only-of-type {\n",
       "        vertical-align: middle;\n",
       "    }\n",
       "\n",
       "    .dataframe tbody tr th {\n",
       "        vertical-align: top;\n",
       "    }\n",
       "\n",
       "    .dataframe thead th {\n",
       "        text-align: right;\n",
       "    }\n",
       "</style>\n",
       "<table border=\"1\" class=\"dataframe\">\n",
       "  <thead>\n",
       "    <tr style=\"text-align: right;\">\n",
       "      <th></th>\n",
       "      <th>id</th>\n",
       "      <th>label</th>\n",
       "      <th>tweet</th>\n",
       "    </tr>\n",
       "  </thead>\n",
       "  <tbody>\n",
       "    <tr>\n",
       "      <th>0</th>\n",
       "      <td>1</td>\n",
       "      <td>0</td>\n",
       "      <td>#fingerprint #Pregnancy Test https://goo.gl/h1...</td>\n",
       "    </tr>\n",
       "    <tr>\n",
       "      <th>1</th>\n",
       "      <td>2</td>\n",
       "      <td>0</td>\n",
       "      <td>Finally a transparant silicon case ^^ Thanks t...</td>\n",
       "    </tr>\n",
       "    <tr>\n",
       "      <th>2</th>\n",
       "      <td>3</td>\n",
       "      <td>0</td>\n",
       "      <td>We love this! Would you go? #talk #makememorie...</td>\n",
       "    </tr>\n",
       "    <tr>\n",
       "      <th>3</th>\n",
       "      <td>4</td>\n",
       "      <td>0</td>\n",
       "      <td>I'm wired I know I'm George I was made that wa...</td>\n",
       "    </tr>\n",
       "    <tr>\n",
       "      <th>4</th>\n",
       "      <td>5</td>\n",
       "      <td>1</td>\n",
       "      <td>What amazing service! Apple won't even talk to...</td>\n",
       "    </tr>\n",
       "  </tbody>\n",
       "</table>\n",
       "</div>"
      ],
      "text/plain": [
       "   id  label                                              tweet\n",
       "0   1      0  #fingerprint #Pregnancy Test https://goo.gl/h1...\n",
       "1   2      0  Finally a transparant silicon case ^^ Thanks t...\n",
       "2   3      0  We love this! Would you go? #talk #makememorie...\n",
       "3   4      0  I'm wired I know I'm George I was made that wa...\n",
       "4   5      1  What amazing service! Apple won't even talk to..."
      ]
     },
     "execution_count": 3,
     "metadata": {},
     "output_type": "execute_result"
    }
   ],
   "source": [
    "data.head()"
   ]
  },
  {
   "cell_type": "markdown",
   "id": "699794ba",
   "metadata": {},
   "source": [
    "# Data Preprocessing"
   ]
  },
  {
   "cell_type": "code",
   "execution_count": 4,
   "id": "6f049c74",
   "metadata": {},
   "outputs": [
    {
     "data": {
      "text/plain": [
       "(7920, 3)"
      ]
     },
     "execution_count": 4,
     "metadata": {},
     "output_type": "execute_result"
    }
   ],
   "source": [
    "data.shape # Chack the shape of the dataset"
   ]
  },
  {
   "cell_type": "code",
   "execution_count": 5,
   "id": "25c30c3b",
   "metadata": {},
   "outputs": [
    {
     "data": {
      "text/plain": [
       "np.int64(0)"
      ]
     },
     "execution_count": 5,
     "metadata": {},
     "output_type": "execute_result"
    }
   ],
   "source": [
    "data.duplicated().sum()  # Check for duplicates"
   ]
  },
  {
   "cell_type": "code",
   "execution_count": 6,
   "id": "d768cda2",
   "metadata": {},
   "outputs": [
    {
     "data": {
      "application/vnd.microsoft.datawrangler.viewer.v0+json": {
       "columns": [
        {
         "name": "index",
         "rawType": "object",
         "type": "string"
        },
        {
         "name": "0",
         "rawType": "int64",
         "type": "integer"
        }
       ],
       "ref": "65ecc61e-35e2-46c4-baf0-2c2e5933db08",
       "rows": [
        [
         "id",
         "0"
        ],
        [
         "label",
         "0"
        ],
        [
         "tweet",
         "0"
        ]
       ],
       "shape": {
        "columns": 1,
        "rows": 3
       }
      },
      "text/plain": [
       "id       0\n",
       "label    0\n",
       "tweet    0\n",
       "dtype: int64"
      ]
     },
     "execution_count": 6,
     "metadata": {},
     "output_type": "execute_result"
    }
   ],
   "source": [
    "data.isnull().sum() # Check for missing values"
   ]
  },
  {
   "cell_type": "markdown",
   "id": "a1c107c4",
   "metadata": {},
   "source": [
    "# Text Processing"
   ]
  },
  {
   "cell_type": "code",
   "execution_count": 7,
   "id": "15d8aa48",
   "metadata": {},
   "outputs": [],
   "source": [
    "import string\n",
    "import re\n",
    "import string\n",
    "from nltk.corpus import stopwords\n",
    "from nltk.tokenize import word_tokenize"
   ]
  },
  {
   "cell_type": "code",
   "execution_count": 8,
   "id": "2810c87d",
   "metadata": {},
   "outputs": [
    {
     "name": "stderr",
     "output_type": "stream",
     "text": [
      "[nltk_data] Downloading package punkt to\n",
      "[nltk_data]     C:\\Users\\Asus\\AppData\\Roaming\\nltk_data...\n",
      "[nltk_data]   Package punkt is already up-to-date!\n",
      "[nltk_data] Downloading package stopwords to\n",
      "[nltk_data]     C:\\Users\\Asus\\AppData\\Roaming\\nltk_data...\n",
      "[nltk_data]   Package stopwords is already up-to-date!\n"
     ]
    },
    {
     "data": {
      "text/plain": [
       "True"
      ]
     },
     "execution_count": 8,
     "metadata": {},
     "output_type": "execute_result"
    }
   ],
   "source": [
    "import nltk\n",
    "nltk.download('punkt')\n",
    "nltk.download('stopwords')"
   ]
  },
  {
   "cell_type": "code",
   "execution_count": 9,
   "id": "75912483",
   "metadata": {},
   "outputs": [
    {
     "data": {
      "application/vnd.microsoft.datawrangler.viewer.v0+json": {
       "columns": [
        {
         "name": "index",
         "rawType": "int64",
         "type": "integer"
        },
        {
         "name": "tweet",
         "rawType": "object",
         "type": "string"
        }
       ],
       "ref": "36fa0556-56e7-44aa-a2f7-cce7a19ff344",
       "rows": [
        [
         "0",
         "#fingerprint #Pregnancy Test https://goo.gl/h1MfQV #android #apps #beautiful #cute #health #igers #iphoneonly #iphonesia #iphone"
        ],
        [
         "1",
         "Finally a transparant silicon case ^^ Thanks to my uncle :) #yay #Sony #Xperia #S #sonyexperias… http://instagram.com/p/YGEt5JC6JM/"
        ],
        [
         "2",
         "We love this! Would you go? #talk #makememories #unplug #relax #iphone #smartphone #wifi #connect... http://fb.me/6N3LsUpCu"
        ],
        [
         "3",
         "I'm wired I know I'm George I was made that way ;) #iphone #cute #daventry #home http://instagr.am/p/Li_5_ujS4k/"
        ],
        [
         "4",
         "What amazing service! Apple won't even talk to me about a question I have unless I pay them $19.95 for their stupid support!"
        ]
       ],
       "shape": {
        "columns": 1,
        "rows": 5
       }
      },
      "text/plain": [
       "0    #fingerprint #Pregnancy Test https://goo.gl/h1...\n",
       "1    Finally a transparant silicon case ^^ Thanks t...\n",
       "2    We love this! Would you go? #talk #makememorie...\n",
       "3    I'm wired I know I'm George I was made that wa...\n",
       "4    What amazing service! Apple won't even talk to...\n",
       "Name: tweet, dtype: object"
      ]
     },
     "execution_count": 9,
     "metadata": {},
     "output_type": "execute_result"
    }
   ],
   "source": [
    "data['tweet'].head(5)"
   ]
  },
  {
   "cell_type": "code",
   "execution_count": 10,
   "id": "e65b22dc",
   "metadata": {},
   "outputs": [],
   "source": [
    "# Convert uppercase to lowercase\n",
    "data['tweet'] = data['tweet'].apply(lambda x: ''.join(x.lower() for x in x.split()))"
   ]
  },
  {
   "cell_type": "code",
   "execution_count": 11,
   "id": "8fed2f4c",
   "metadata": {},
   "outputs": [
    {
     "data": {
      "application/vnd.microsoft.datawrangler.viewer.v0+json": {
       "columns": [
        {
         "name": "index",
         "rawType": "int64",
         "type": "integer"
        },
        {
         "name": "tweet",
         "rawType": "object",
         "type": "string"
        }
       ],
       "ref": "9df4a9a4-2144-41c4-8809-6143c69d6efc",
       "rows": [
        [
         "0",
         "#fingerprint#pregnancytesthttps://goo.gl/h1mfqv#android#apps#beautiful#cute#health#igers#iphoneonly#iphonesia#iphone"
        ],
        [
         "1",
         "finallyatransparantsiliconcase^^thankstomyuncle:)#yay#sony#xperia#s#sonyexperias…http://instagram.com/p/yget5jc6jm/"
        ],
        [
         "2",
         "welovethis!wouldyougo?#talk#makememories#unplug#relax#iphone#smartphone#wifi#connect...http://fb.me/6n3lsupcu"
        ],
        [
         "3",
         "i'mwirediknowi'mgeorgeiwasmadethatway;)#iphone#cute#daventry#homehttp://instagr.am/p/li_5_ujs4k/"
        ],
        [
         "4",
         "whatamazingservice!applewon'teventalktomeaboutaquestionihaveunlessipaythem$19.95fortheirstupidsupport!"
        ]
       ],
       "shape": {
        "columns": 1,
        "rows": 5
       }
      },
      "text/plain": [
       "0    #fingerprint#pregnancytesthttps://goo.gl/h1mfq...\n",
       "1    finallyatransparantsiliconcase^^thankstomyuncl...\n",
       "2    welovethis!wouldyougo?#talk#makememories#unplu...\n",
       "3    i'mwirediknowi'mgeorgeiwasmadethatway;)#iphone...\n",
       "4    whatamazingservice!applewon'teventalktomeabout...\n",
       "Name: tweet, dtype: object"
      ]
     },
     "execution_count": 11,
     "metadata": {},
     "output_type": "execute_result"
    }
   ],
   "source": [
    "data['tweet'].head(5)"
   ]
  },
  {
   "cell_type": "code",
   "execution_count": 12,
   "id": "3c5d29ac",
   "metadata": {},
   "outputs": [],
   "source": [
    "# Remove links\n",
    "data['tweet'] = data['tweet'].apply(lambda x: ''.join(re.sub(r'https?:\\/\\/.*[\\r\\n]*', '', x, flags=re.MULTILINE) for x in x.split()))"
   ]
  },
  {
   "cell_type": "code",
   "execution_count": 13,
   "id": "54b47048",
   "metadata": {},
   "outputs": [
    {
     "data": {
      "application/vnd.microsoft.datawrangler.viewer.v0+json": {
       "columns": [
        {
         "name": "index",
         "rawType": "int64",
         "type": "integer"
        },
        {
         "name": "tweet",
         "rawType": "object",
         "type": "string"
        }
       ],
       "ref": "2a9bf15e-5bfc-412e-99fc-0e2547766ecd",
       "rows": [
        [
         "0",
         "#fingerprint#pregnancytest"
        ],
        [
         "1",
         "finallyatransparantsiliconcase^^thankstomyuncle:)#yay#sony#xperia#s#sonyexperias…"
        ],
        [
         "2",
         "welovethis!wouldyougo?#talk#makememories#unplug#relax#iphone#smartphone#wifi#connect..."
        ],
        [
         "3",
         "i'mwirediknowi'mgeorgeiwasmadethatway;)#iphone#cute#daventry#home"
        ],
        [
         "4",
         "whatamazingservice!applewon'teventalktomeaboutaquestionihaveunlessipaythem$19.95fortheirstupidsupport!"
        ],
        [
         "5",
         "iphonesoftwareupdatefuckedupmyphonebigtimestupidiphones"
        ],
        [
         "6",
         "happyforus..#instapic#instadaily#us#sony#xperia#xperiaz"
        ],
        [
         "7",
         "newtypecchargercable#uk"
        ],
        [
         "8",
         "bouttogoshoppingagainlisteningtomusic#iphone#justme#music#likeforlike#followforfollow…"
        ],
        [
         "9",
         "photo:#fun#selfie#pool#water#sony#camera#picoftheday#sun#instagood#boy#cute#outdoor..."
        ]
       ],
       "shape": {
        "columns": 1,
        "rows": 10
       }
      },
      "text/plain": [
       "0                           #fingerprint#pregnancytest\n",
       "1    finallyatransparantsiliconcase^^thankstomyuncl...\n",
       "2    welovethis!wouldyougo?#talk#makememories#unplu...\n",
       "3    i'mwirediknowi'mgeorgeiwasmadethatway;)#iphone...\n",
       "4    whatamazingservice!applewon'teventalktomeabout...\n",
       "5    iphonesoftwareupdatefuckedupmyphonebigtimestup...\n",
       "6    happyforus..#instapic#instadaily#us#sony#xperi...\n",
       "7                              newtypecchargercable#uk\n",
       "8    bouttogoshoppingagainlisteningtomusic#iphone#j...\n",
       "9    photo:#fun#selfie#pool#water#sony#camera#picof...\n",
       "Name: tweet, dtype: object"
      ]
     },
     "execution_count": 13,
     "metadata": {},
     "output_type": "execute_result"
    }
   ],
   "source": [
    "data['tweet'].head(10)"
   ]
  },
  {
   "cell_type": "code",
   "execution_count": 14,
   "id": "239ba5a0",
   "metadata": {},
   "outputs": [
    {
     "data": {
      "text/plain": [
       "'!\"#$%&\\'()*+,-./:;<=>?@[\\\\]^_`{|}~'"
      ]
     },
     "execution_count": 14,
     "metadata": {},
     "output_type": "execute_result"
    }
   ],
   "source": [
    "# Remove puncuation\n",
    "import string\n",
    "string.punctuation"
   ]
  },
  {
   "cell_type": "code",
   "execution_count": 15,
   "id": "3b554fa4",
   "metadata": {},
   "outputs": [],
   "source": [
    "import string\n",
    "\n",
    "def remove_punctuation(text):\n",
    "    for punctuation in string.punctuation:\n",
    "        text = text.replace(punctuation, '')\n",
    "    return text\n",
    "data['tweet'] = data['tweet'].apply(remove_punctuation)"
   ]
  },
  {
   "cell_type": "code",
   "execution_count": 16,
   "id": "f72655d7",
   "metadata": {},
   "outputs": [
    {
     "data": {
      "application/vnd.microsoft.datawrangler.viewer.v0+json": {
       "columns": [
        {
         "name": "index",
         "rawType": "int64",
         "type": "integer"
        },
        {
         "name": "tweet",
         "rawType": "object",
         "type": "string"
        }
       ],
       "ref": "f73b68e5-d77b-4ff1-a716-98482e7f3531",
       "rows": [
        [
         "0",
         "fingerprintpregnancytest"
        ],
        [
         "1",
         "finallyatransparantsiliconcasethankstomyuncleyaysonyxperiassonyexperias…"
        ],
        [
         "2",
         "welovethiswouldyougotalkmakememoriesunplugrelaxiphonesmartphonewificonnect"
        ],
        [
         "3",
         "imwirediknowimgeorgeiwasmadethatwayiphonecutedaventryhome"
        ],
        [
         "4",
         "whatamazingserviceapplewonteventalktomeaboutaquestionihaveunlessipaythem1995fortheirstupidsupport"
        ],
        [
         "5",
         "iphonesoftwareupdatefuckedupmyphonebigtimestupidiphones"
        ],
        [
         "6",
         "happyforusinstapicinstadailyussonyxperiaxperiaz"
        ],
        [
         "7",
         "newtypecchargercableuk"
        ],
        [
         "8",
         "bouttogoshoppingagainlisteningtomusiciphonejustmemusiclikeforlikefollowforfollow…"
        ],
        [
         "9",
         "photofunselfiepoolwatersonycamerapicofthedaysuninstagoodboycuteoutdoor"
        ]
       ],
       "shape": {
        "columns": 1,
        "rows": 10
       }
      },
      "text/plain": [
       "0                             fingerprintpregnancytest\n",
       "1    finallyatransparantsiliconcasethankstomyuncley...\n",
       "2    welovethiswouldyougotalkmakememoriesunplugrela...\n",
       "3    imwirediknowimgeorgeiwasmadethatwayiphonecuted...\n",
       "4    whatamazingserviceapplewonteventalktomeaboutaq...\n",
       "5    iphonesoftwareupdatefuckedupmyphonebigtimestup...\n",
       "6      happyforusinstapicinstadailyussonyxperiaxperiaz\n",
       "7                               newtypecchargercableuk\n",
       "8    bouttogoshoppingagainlisteningtomusiciphonejus...\n",
       "9    photofunselfiepoolwatersonycamerapicofthedaysu...\n",
       "Name: tweet, dtype: object"
      ]
     },
     "execution_count": 16,
     "metadata": {},
     "output_type": "execute_result"
    }
   ],
   "source": [
    "data['tweet'].head(10)"
   ]
  },
  {
   "cell_type": "code",
   "execution_count": 17,
   "id": "cbfa1b26",
   "metadata": {},
   "outputs": [
    {
     "data": {
      "application/vnd.microsoft.datawrangler.viewer.v0+json": {
       "columns": [
        {
         "name": "index",
         "rawType": "int64",
         "type": "integer"
        },
        {
         "name": "tweet",
         "rawType": "object",
         "type": "string"
        }
       ],
       "ref": "34f77bcc-4abf-4be2-94ba-4896bc5f1554",
       "rows": [
        [
         "7910",
         "perfectmatchinstagoodapplewatchredinstagramiphonepicofthedaygayfashion…"
        ],
        [
         "7911",
         "iamcompletelyinlovewiththenewiphoneemojisiphoneappleemojs"
        ],
        [
         "7912",
         "tuneinturnondropoutgtdinoneapp"
        ],
        [
         "7913",
         "oksomygalaxycrashedafteronedaynowihavetowaittilmondayformyskyrocketbutusingiphonefornow"
        ],
        [
         "7914",
         "gainfollowersrtthismustfollowmeifollowbackfolloweveryonewhortsgainiphonesougofollow1öq"
        ],
        [
         "7915",
         "liveoutloudlolliveoutloudselfiesmilesonymusicheadphones"
        ],
        [
         "7916",
         "wewouldliketowishyouanamazingdaymakeeveryminutecounttlstodayiphoneaccessoriesnewslifefebruary232017at0…"
        ],
        [
         "7917",
         "helpingmylovely90yearoldneighborwithheripadthismorninghasjustmademerealisethatidontactuallyneedanipad"
        ],
        [
         "7918",
         "finallygotmysmartpocketwifistayconnectedanytimeanywhereipadandsamsungs3gadget"
        ],
        [
         "7919",
         "applebarcelonaapplestorebcnbarcelonatraveliphoneselfieflyfuncabincrew…"
        ]
       ],
       "shape": {
        "columns": 1,
        "rows": 10
       }
      },
      "text/plain": [
       "7910    perfectmatchinstagoodapplewatchredinstagramiph...\n",
       "7911    iamcompletelyinlovewiththenewiphoneemojisiphon...\n",
       "7912                       tuneinturnondropoutgtdinoneapp\n",
       "7913    oksomygalaxycrashedafteronedaynowihavetowaitti...\n",
       "7914    gainfollowersrtthismustfollowmeifollowbackfoll...\n",
       "7915    liveoutloudlolliveoutloudselfiesmilesonymusich...\n",
       "7916    wewouldliketowishyouanamazingdaymakeeveryminut...\n",
       "7917    helpingmylovely90yearoldneighborwithheripadthi...\n",
       "7918    finallygotmysmartpocketwifistayconnectedanytim...\n",
       "7919    applebarcelonaapplestorebcnbarcelonatravelipho...\n",
       "Name: tweet, dtype: object"
      ]
     },
     "execution_count": 17,
     "metadata": {},
     "output_type": "execute_result"
    }
   ],
   "source": [
    "data['tweet'].tail(10)"
   ]
  },
  {
   "cell_type": "code",
   "execution_count": 18,
   "id": "be7acd3b",
   "metadata": {},
   "outputs": [
    {
     "name": "stderr",
     "output_type": "stream",
     "text": [
      "<>:2: SyntaxWarning: invalid escape sequence '\\d'\n",
      "<>:2: SyntaxWarning: invalid escape sequence '\\d'\n",
      "C:\\Users\\Asus\\AppData\\Local\\Temp\\ipykernel_5608\\928419767.py:2: SyntaxWarning: invalid escape sequence '\\d'\n",
      "  data['tweet'] = data['tweet'].str.replace('\\d+', '', regex=True)\n"
     ]
    }
   ],
   "source": [
    "# Remove numbers\n",
    "data['tweet'] = data['tweet'].str.replace('\\d+', '', regex=True)"
   ]
  },
  {
   "cell_type": "code",
   "execution_count": 19,
   "id": "4cf53295",
   "metadata": {},
   "outputs": [
    {
     "data": {
      "application/vnd.microsoft.datawrangler.viewer.v0+json": {
       "columns": [
        {
         "name": "index",
         "rawType": "int64",
         "type": "integer"
        },
        {
         "name": "tweet",
         "rawType": "object",
         "type": "string"
        }
       ],
       "ref": "83238d91-1a6d-4abf-b2ca-f7da7c7bf50f",
       "rows": [
        [
         "7910",
         "perfectmatchinstagoodapplewatchredinstagramiphonepicofthedaygayfashion…"
        ],
        [
         "7911",
         "iamcompletelyinlovewiththenewiphoneemojisiphoneappleemojs"
        ],
        [
         "7912",
         "tuneinturnondropoutgtdinoneapp"
        ],
        [
         "7913",
         "oksomygalaxycrashedafteronedaynowihavetowaittilmondayformyskyrocketbutusingiphonefornow"
        ],
        [
         "7914",
         "gainfollowersrtthismustfollowmeifollowbackfolloweveryonewhortsgainiphonesougofollowöq"
        ],
        [
         "7915",
         "liveoutloudlolliveoutloudselfiesmilesonymusicheadphones"
        ],
        [
         "7916",
         "wewouldliketowishyouanamazingdaymakeeveryminutecounttlstodayiphoneaccessoriesnewslifefebruaryat…"
        ],
        [
         "7917",
         "helpingmylovelyyearoldneighborwithheripadthismorninghasjustmademerealisethatidontactuallyneedanipad"
        ],
        [
         "7918",
         "finallygotmysmartpocketwifistayconnectedanytimeanywhereipadandsamsungsgadget"
        ],
        [
         "7919",
         "applebarcelonaapplestorebcnbarcelonatraveliphoneselfieflyfuncabincrew…"
        ]
       ],
       "shape": {
        "columns": 1,
        "rows": 10
       }
      },
      "text/plain": [
       "7910    perfectmatchinstagoodapplewatchredinstagramiph...\n",
       "7911    iamcompletelyinlovewiththenewiphoneemojisiphon...\n",
       "7912                       tuneinturnondropoutgtdinoneapp\n",
       "7913    oksomygalaxycrashedafteronedaynowihavetowaitti...\n",
       "7914    gainfollowersrtthismustfollowmeifollowbackfoll...\n",
       "7915    liveoutloudlolliveoutloudselfiesmilesonymusich...\n",
       "7916    wewouldliketowishyouanamazingdaymakeeveryminut...\n",
       "7917    helpingmylovelyyearoldneighborwithheripadthism...\n",
       "7918    finallygotmysmartpocketwifistayconnectedanytim...\n",
       "7919    applebarcelonaapplestorebcnbarcelonatravelipho...\n",
       "Name: tweet, dtype: object"
      ]
     },
     "execution_count": 19,
     "metadata": {},
     "output_type": "execute_result"
    }
   ],
   "source": [
    "data['tweet'].tail(10)"
   ]
  },
  {
   "cell_type": "code",
   "execution_count": 20,
   "id": "9eb6c0a0",
   "metadata": {},
   "outputs": [
    {
     "name": "stderr",
     "output_type": "stream",
     "text": [
      "[nltk_data] Downloading package stopwords to ../static/model...\n",
      "[nltk_data]   Package stopwords is already up-to-date!\n"
     ]
    },
    {
     "data": {
      "text/plain": [
       "True"
      ]
     },
     "execution_count": 20,
     "metadata": {},
     "output_type": "execute_result"
    }
   ],
   "source": [
    "# Remove stopwords\n",
    "import nltk\n",
    "nltk.download('stopwords', download_dir='../static/model')"
   ]
  },
  {
   "cell_type": "code",
   "execution_count": 21,
   "id": "f6379fbf",
   "metadata": {},
   "outputs": [],
   "source": [
    "with open('../static/model/corpora/stopwords/english', 'r') as file:\n",
    "    sw = file.read().splitlines()"
   ]
  },
  {
   "cell_type": "code",
   "execution_count": 22,
   "id": "7be2fc0e",
   "metadata": {},
   "outputs": [
    {
     "data": {
      "text/plain": [
       "['a',\n",
       " 'about',\n",
       " 'above',\n",
       " 'after',\n",
       " 'again',\n",
       " 'against',\n",
       " 'ain',\n",
       " 'all',\n",
       " 'am',\n",
       " 'an',\n",
       " 'and',\n",
       " 'any',\n",
       " 'are',\n",
       " 'aren',\n",
       " \"aren't\",\n",
       " 'as',\n",
       " 'at',\n",
       " 'be',\n",
       " 'because',\n",
       " 'been',\n",
       " 'before',\n",
       " 'being',\n",
       " 'below',\n",
       " 'between',\n",
       " 'both',\n",
       " 'but',\n",
       " 'by',\n",
       " 'can',\n",
       " 'couldn',\n",
       " \"couldn't\",\n",
       " 'd',\n",
       " 'did',\n",
       " 'didn',\n",
       " \"didn't\",\n",
       " 'do',\n",
       " 'does',\n",
       " 'doesn',\n",
       " \"doesn't\",\n",
       " 'doing',\n",
       " 'don',\n",
       " \"don't\",\n",
       " 'down',\n",
       " 'during',\n",
       " 'each',\n",
       " 'few',\n",
       " 'for',\n",
       " 'from',\n",
       " 'further',\n",
       " 'had',\n",
       " 'hadn',\n",
       " \"hadn't\",\n",
       " 'has',\n",
       " 'hasn',\n",
       " \"hasn't\",\n",
       " 'have',\n",
       " 'haven',\n",
       " \"haven't\",\n",
       " 'having',\n",
       " 'he',\n",
       " \"he'd\",\n",
       " \"he'll\",\n",
       " 'her',\n",
       " 'here',\n",
       " 'hers',\n",
       " 'herself',\n",
       " \"he's\",\n",
       " 'him',\n",
       " 'himself',\n",
       " 'his',\n",
       " 'how',\n",
       " 'i',\n",
       " \"i'd\",\n",
       " 'if',\n",
       " \"i'll\",\n",
       " \"i'm\",\n",
       " 'in',\n",
       " 'into',\n",
       " 'is',\n",
       " 'isn',\n",
       " \"isn't\",\n",
       " 'it',\n",
       " \"it'd\",\n",
       " \"it'll\",\n",
       " \"it's\",\n",
       " 'its',\n",
       " 'itself',\n",
       " \"i've\",\n",
       " 'just',\n",
       " 'll',\n",
       " 'm',\n",
       " 'ma',\n",
       " 'me',\n",
       " 'mightn',\n",
       " \"mightn't\",\n",
       " 'more',\n",
       " 'most',\n",
       " 'mustn',\n",
       " \"mustn't\",\n",
       " 'my',\n",
       " 'myself',\n",
       " 'needn',\n",
       " \"needn't\",\n",
       " 'no',\n",
       " 'nor',\n",
       " 'not',\n",
       " 'now',\n",
       " 'o',\n",
       " 'of',\n",
       " 'off',\n",
       " 'on',\n",
       " 'once',\n",
       " 'only',\n",
       " 'or',\n",
       " 'other',\n",
       " 'our',\n",
       " 'ours',\n",
       " 'ourselves',\n",
       " 'out',\n",
       " 'over',\n",
       " 'own',\n",
       " 're',\n",
       " 's',\n",
       " 'same',\n",
       " 'shan',\n",
       " \"shan't\",\n",
       " 'she',\n",
       " \"she'd\",\n",
       " \"she'll\",\n",
       " \"she's\",\n",
       " 'should',\n",
       " 'shouldn',\n",
       " \"shouldn't\",\n",
       " \"should've\",\n",
       " 'so',\n",
       " 'some',\n",
       " 'such',\n",
       " 't',\n",
       " 'than',\n",
       " 'that',\n",
       " \"that'll\",\n",
       " 'the',\n",
       " 'their',\n",
       " 'theirs',\n",
       " 'them',\n",
       " 'themselves',\n",
       " 'then',\n",
       " 'there',\n",
       " 'these',\n",
       " 'they',\n",
       " \"they'd\",\n",
       " \"they'll\",\n",
       " \"they're\",\n",
       " \"they've\",\n",
       " 'this',\n",
       " 'those',\n",
       " 'through',\n",
       " 'to',\n",
       " 'too',\n",
       " 'under',\n",
       " 'until',\n",
       " 'up',\n",
       " 've',\n",
       " 'very',\n",
       " 'was',\n",
       " 'wasn',\n",
       " \"wasn't\",\n",
       " 'we',\n",
       " \"we'd\",\n",
       " \"we'll\",\n",
       " \"we're\",\n",
       " 'were',\n",
       " 'weren',\n",
       " \"weren't\",\n",
       " \"we've\",\n",
       " 'what',\n",
       " 'when',\n",
       " 'where',\n",
       " 'which',\n",
       " 'while',\n",
       " 'who',\n",
       " 'whom',\n",
       " 'why',\n",
       " 'will',\n",
       " 'with',\n",
       " 'won',\n",
       " \"won't\",\n",
       " 'wouldn',\n",
       " \"wouldn't\",\n",
       " 'y',\n",
       " 'you',\n",
       " \"you'd\",\n",
       " \"you'll\",\n",
       " 'your',\n",
       " \"you're\",\n",
       " 'yours',\n",
       " 'yourself',\n",
       " 'yourselves',\n",
       " \"you've\"]"
      ]
     },
     "execution_count": 22,
     "metadata": {},
     "output_type": "execute_result"
    }
   ],
   "source": [
    "sw"
   ]
  },
  {
   "cell_type": "code",
   "execution_count": 23,
   "id": "f852896e",
   "metadata": {},
   "outputs": [
    {
     "data": {
      "application/vnd.microsoft.datawrangler.viewer.v0+json": {
       "columns": [
        {
         "name": "index",
         "rawType": "int64",
         "type": "integer"
        },
        {
         "name": "tweet",
         "rawType": "object",
         "type": "string"
        }
       ],
       "ref": "00e42434-e04b-49f9-ad17-cef563cd0519",
       "rows": [
        [
         "0",
         "fingerprintpregnancytest"
        ],
        [
         "1",
         "finallyatransparantsiliconcasethankstomyuncleyaysonyxperiassonyexperias…"
        ],
        [
         "2",
         "welovethiswouldyougotalkmakememoriesunplugrelaxiphonesmartphonewificonnect"
        ],
        [
         "3",
         "imwirediknowimgeorgeiwasmadethatwayiphonecutedaventryhome"
        ],
        [
         "4",
         "whatamazingserviceapplewonteventalktomeaboutaquestionihaveunlessipaythemfortheirstupidsupport"
        ],
        [
         "5",
         "iphonesoftwareupdatefuckedupmyphonebigtimestupidiphones"
        ],
        [
         "6",
         "happyforusinstapicinstadailyussonyxperiaxperiaz"
        ],
        [
         "7",
         "newtypecchargercableuk"
        ],
        [
         "8",
         "bouttogoshoppingagainlisteningtomusiciphonejustmemusiclikeforlikefollowforfollow…"
        ],
        [
         "9",
         "photofunselfiepoolwatersonycamerapicofthedaysuninstagoodboycuteoutdoor"
        ]
       ],
       "shape": {
        "columns": 1,
        "rows": 10
       }
      },
      "text/plain": [
       "0                             fingerprintpregnancytest\n",
       "1    finallyatransparantsiliconcasethankstomyuncley...\n",
       "2    welovethiswouldyougotalkmakememoriesunplugrela...\n",
       "3    imwirediknowimgeorgeiwasmadethatwayiphonecuted...\n",
       "4    whatamazingserviceapplewonteventalktomeaboutaq...\n",
       "5    iphonesoftwareupdatefuckedupmyphonebigtimestup...\n",
       "6      happyforusinstapicinstadailyussonyxperiaxperiaz\n",
       "7                               newtypecchargercableuk\n",
       "8    bouttogoshoppingagainlisteningtomusiciphonejus...\n",
       "9    photofunselfiepoolwatersonycamerapicofthedaysu...\n",
       "Name: tweet, dtype: object"
      ]
     },
     "execution_count": 23,
     "metadata": {},
     "output_type": "execute_result"
    }
   ],
   "source": [
    "data['tweet'] = data['tweet'].apply(lambda x: ''.join(x for x in x.split() if x not in sw))\n",
    "data['tweet'].head(10)"
   ]
  },
  {
   "cell_type": "code",
   "execution_count": 24,
   "id": "07f32b2d",
   "metadata": {},
   "outputs": [
    {
     "data": {
      "application/vnd.microsoft.datawrangler.viewer.v0+json": {
       "columns": [
        {
         "name": "index",
         "rawType": "int64",
         "type": "integer"
        },
        {
         "name": "tweet",
         "rawType": "object",
         "type": "string"
        }
       ],
       "ref": "4a831f55-84f3-491d-ae10-5ca53f6f23af",
       "rows": [
        [
         "0",
         "fingerprintpregnancytest"
        ],
        [
         "1",
         "finallyatransparantsiliconcasethankstomyuncleyaysonyxperiassonyexperias…"
        ],
        [
         "2",
         "welovethiswouldyougotalkmakememoriesunplugrelaxiphonesmartphonewificonnect"
        ],
        [
         "3",
         "imwirediknowimgeorgeiwasmadethatwayiphonecutedaventryhome"
        ],
        [
         "4",
         "whatamazingserviceapplewonteventalktomeaboutaquestionihaveunlessipaythemfortheirstupidsupport"
        ]
       ],
       "shape": {
        "columns": 1,
        "rows": 5
       }
      },
      "text/plain": [
       "0                             fingerprintpregnancytest\n",
       "1    finallyatransparantsiliconcasethankstomyuncley...\n",
       "2    welovethiswouldyougotalkmakememoriesunplugrela...\n",
       "3    imwirediknowimgeorgeiwasmadethatwayiphonecuted...\n",
       "4    whatamazingserviceapplewonteventalktomeaboutaq...\n",
       "Name: tweet, dtype: object"
      ]
     },
     "execution_count": 24,
     "metadata": {},
     "output_type": "execute_result"
    }
   ],
   "source": [
    "data['tweet'].head()"
   ]
  },
  {
   "cell_type": "code",
   "execution_count": 25,
   "id": "fe6defba",
   "metadata": {},
   "outputs": [],
   "source": [
    "# Stemming\n",
    "from nltk.stem import PorterStemmer\n",
    "ps = PorterStemmer()"
   ]
  },
  {
   "cell_type": "code",
   "execution_count": 26,
   "id": "e53aa3ab",
   "metadata": {},
   "outputs": [
    {
     "data": {
      "application/vnd.microsoft.datawrangler.viewer.v0+json": {
       "columns": [
        {
         "name": "index",
         "rawType": "int64",
         "type": "integer"
        },
        {
         "name": "tweet",
         "rawType": "object",
         "type": "string"
        }
       ],
       "ref": "417ca3b7-71ba-4e7d-b478-c9516b372dd3",
       "rows": [
        [
         "0",
         "fingerprintpregnancytest"
        ],
        [
         "1",
         "finallyatransparantsiliconcasethankstomyuncleyaysonyxperiassonyexperias…"
        ],
        [
         "2",
         "welovethiswouldyougotalkmakememoriesunplugrelaxiphonesmartphonewificonnect"
        ],
        [
         "3",
         "imwirediknowimgeorgeiwasmadethatwayiphonecutedaventryhom"
        ],
        [
         "4",
         "whatamazingserviceapplewonteventalktomeaboutaquestionihaveunlessipaythemfortheirstupidsupport"
        ]
       ],
       "shape": {
        "columns": 1,
        "rows": 5
       }
      },
      "text/plain": [
       "0                             fingerprintpregnancytest\n",
       "1    finallyatransparantsiliconcasethankstomyuncley...\n",
       "2    welovethiswouldyougotalkmakememoriesunplugrela...\n",
       "3    imwirediknowimgeorgeiwasmadethatwayiphonecuted...\n",
       "4    whatamazingserviceapplewonteventalktomeaboutaq...\n",
       "Name: tweet, dtype: object"
      ]
     },
     "execution_count": 26,
     "metadata": {},
     "output_type": "execute_result"
    }
   ],
   "source": [
    "data['tweet'] = data['tweet'].apply(lambda x: ''.join(ps.stem(x) for x in x.split()))\n",
    "data['tweet'].head()"
   ]
  },
  {
   "cell_type": "code",
   "execution_count": 27,
   "id": "fef534b6",
   "metadata": {},
   "outputs": [
    {
     "data": {
      "application/vnd.microsoft.datawrangler.viewer.v0+json": {
       "columns": [
        {
         "name": "index",
         "rawType": "int64",
         "type": "integer"
        },
        {
         "name": "id",
         "rawType": "int64",
         "type": "integer"
        },
        {
         "name": "label",
         "rawType": "int64",
         "type": "integer"
        },
        {
         "name": "tweet",
         "rawType": "object",
         "type": "string"
        }
       ],
       "ref": "0e010fdb-d1f3-44fc-a082-8e37f5f0d5ff",
       "rows": [
        [
         "0",
         "1",
         "0",
         "fingerprintpregnancytest"
        ],
        [
         "1",
         "2",
         "0",
         "finallyatransparantsiliconcasethankstomyuncleyaysonyxperiassonyexperias…"
        ],
        [
         "2",
         "3",
         "0",
         "welovethiswouldyougotalkmakememoriesunplugrelaxiphonesmartphonewificonnect"
        ],
        [
         "3",
         "4",
         "0",
         "imwirediknowimgeorgeiwasmadethatwayiphonecutedaventryhom"
        ],
        [
         "4",
         "5",
         "1",
         "whatamazingserviceapplewonteventalktomeaboutaquestionihaveunlessipaythemfortheirstupidsupport"
        ],
        [
         "5",
         "6",
         "1",
         "iphonesoftwareupdatefuckedupmyphonebigtimestupidiphon"
        ],
        [
         "6",
         "7",
         "0",
         "happyforusinstapicinstadailyussonyxperiaxperiaz"
        ],
        [
         "7",
         "8",
         "0",
         "newtypecchargercableuk"
        ],
        [
         "8",
         "9",
         "0",
         "bouttogoshoppingagainlisteningtomusiciphonejustmemusiclikeforlikefollowforfollow…"
        ],
        [
         "9",
         "10",
         "0",
         "photofunselfiepoolwatersonycamerapicofthedaysuninstagoodboycuteoutdoor"
        ],
        [
         "10",
         "11",
         "1",
         "heyapplewhenyoumakeanewipoddontmakeitanewcolororinchesthinnermakeitnotcrasheveryfivefuckinminit"
        ],
        [
         "11",
         "12",
         "1",
         "hanotheavymachinerybutitdoeswhatineedittoapplereallydroppedtheballwiththatdesigndrinkyourhaterad"
        ],
        [
         "12",
         "13",
         "1",
         "contemplatinggivingintotheiphonebandwagonsimplybecausecellcomhasnonewandroidsdepressingidontwantto"
        ],
        [
         "13",
         "14",
         "0",
         "ijustmadeanothercrazypurchaselolmytheoryisworkhardplayhardlolipadappleshop"
        ],
        [
         "14",
         "15",
         "1",
         "shaqlockholmessamlouisethebatteryissopainfulichargeitovernightandbylunchtimebatteryisdeadhateorang"
        ],
        [
         "15",
         "16",
         "0",
         "fromdeepellumtowardsdowntowndallasbigdsaturdayrxmsonysummerurban"
        ],
        [
         "16",
         "17",
         "0",
         "likeandshareifyouwantthisdphonecaseforiphoneiphon"
        ],
        [
         "17",
         "18",
         "0",
         "gocrazyiphonesiaiphoneinstagoodinstagramphotoofthedaytweegram…"
        ],
        [
         "18",
         "19",
         "1",
         "thereasonidonthaveoneiphonesuckappletruthtruthbetoldagreefactrealitycheckblackberrypictwittercomzpggdcazn"
        ],
        [
         "19",
         "20",
         "1",
         "howistheapplestoregunnabeoutofcscreensitsmondayandurthefuckingapplestorefuckingpiss"
        ],
        [
         "20",
         "21",
         "0",
         "applearteasterdearfriendsifyouwouldliketobepublishedonmychanneldesignafaceontheeasterbunnyandemailittomeasapngthumbnailmyemailmutitaedibleartgmailcompictwittercomjhwphfbgt"
        ],
        [
         "21",
         "22",
         "0",
         "excusemewaiterthereseemstobeapieinmysoupwifebakeanapplepieyay"
        ],
        [
         "22",
         "23",
         "1",
         "ivehadthisnewipodforfourdaysandthisofbuttononthebackbrokeiaccidentallyhititonc"
        ],
        [
         "23",
         "24",
         "1",
         "whenyouriphonescreengoescompletelyblackandyoukeepgettingtextsalldaybutyoucantfuckingcheckthemapplethiphon"
        ],
        [
         "24",
         "25",
         "0",
         "itstimefornewwallpapersphonewallpaperswallscreengalaxysamsungapp…"
        ],
        [
         "25",
         "26",
         "0",
         "billionforpatentswherethereispriorartmillionseachpatenttrollsarepartyingnowthankstoappleappl"
        ],
        [
         "26",
         "27",
         "1",
         "myipodisallmessedupandihaventdonenothingtoitmylossappl"
        ],
        [
         "27",
         "28",
         "1",
         "myipodtouchisfrozenontheapplelogowhenitstartsupifiloseallofdemismusicpicsiwillkillsomeonesoangryhateappl"
        ],
        [
         "28",
         "29",
         "0",
         "doloveanewphonecaseflowergreendiamondpearlscutenewiphoneiphonescase…"
        ],
        [
         "29",
         "30",
         "0",
         "mustwatchyoutubesubscribedailyvlogtwitchgamingfunpsxboxsonygamesiosandroid"
        ],
        [
         "30",
         "31",
         "0",
         "thankyousamsunglivelaughlifefoodphilippinesinstagoinstahubinstagram…"
        ],
        [
         "31",
         "32",
         "0",
         "chcannonsueweefriendshipamericanbullydogpiggiesfamilysoutherncharmamericanidolgoalsbestfriendspitbulliphonexonelovecountrymusclenflworldwideamericabigboythislifetmzwildhoggpictwittercommnogp"
        ],
        [
         "32",
         "33",
         "0",
         "instapicbymimmoalfebtakenwithsonyrxdirezioneverticalesunsetskybeautifulfun…pictwittercomcxifijjg"
        ],
        [
         "33",
         "34",
         "0",
         "imsohappysisterboughtmeanewphoneforearlybdaygiftsohappysamsung"
        ],
        [
         "34",
         "35",
         "0",
         "justreceivedthesamsungnotemanythankstocottdsphon"
        ],
        [
         "35",
         "36",
         "0",
         "nswrlisthereanappfortheandroidmarketinthepipelin"
        ],
        [
         "36",
         "37",
         "1",
         "whycantideleteindividualsongsfrommyphoneappleitun"
        ],
        [
         "37",
         "38",
         "1",
         "everybodybefreakingoutaboutiosimherelikeduuudeevenwindowsphonesaremoreadvancedthaniphonescustom"
        ],
        [
         "38",
         "39",
         "1",
         "newiphonesandcthesstandingforsirriiouslybadandthecstandingforcheapsamescreenressamecameratechappl"
        ],
        [
         "39",
         "40",
         "0",
         "nobullinstasizeleggingslightskincurlyhairiphonebellypiercingsmilepotd…"
        ],
        [
         "40",
         "41",
         "0",
         "iftheydin’tcreateyoudon’tletthemdestroyyoucandidphotoiphonexsundaysundayvibessmilealwaysphotoofthedayeyesmeootdfashionblackandwhiteposerattitudelifeisgoodmylookmylifephotoeverydaylookofthedaylatepostmylifepictwittercommmhcqyadb"
        ],
        [
         "41",
         "42",
         "0",
         "filmsetbuildingtimelapsevideophotoofthedaybeautifulproducerlivefashionvideoproductioncutefollowcommercialiphoneappleactoractressmeiphonesiahollywoodlosangelespicofthedaymoviesactingstartupstartupvideosshotoniphonpictwittercomeceiain"
        ],
        [
         "42",
         "43",
         "0",
         "mynewphonecupcakeswallpaperpinkcutesweetsamsungcherri"
        ],
        [
         "43",
         "44",
         "0",
         "eeeeeesexyladiesliveiphoneiphonesiainstagoodphotoofthedaytweegramiphon"
        ],
        [
         "44",
         "45",
         "0",
         "acquistodelweekendiphoneiphoneplusapplegrilmomentitaly…"
        ],
        [
         "45",
         "46",
         "0",
         "majesticweseeitdifferentlyphotographynaturelandscapeforesthiddenclearingviewwoodstreetravelbikersonyaziessphotoinstgramhubpicoftheday"
        ],
        [
         "46",
         "47",
         "1",
         "googleapplesocuttheitunesandgetwiththeprogram"
        ],
        [
         "47",
         "48",
         "0",
         "ahhhhlookwhatigotforchristmasaniphoneapplechristmasgirl"
        ],
        [
         "48",
         "49",
         "0",
         "doyoulovemelikeloveinstacoolphotoofthedayiphoneinstagofoodfollowforfollowlik"
        ],
        [
         "49",
         "50",
         "0",
         "followmeasiplaybitcoinboyfortheiphoneipadipodfreegamefunkansasgeorgia…"
        ]
       ],
       "shape": {
        "columns": 3,
        "rows": 7920
       }
      },
      "text/html": [
       "<div>\n",
       "<style scoped>\n",
       "    .dataframe tbody tr th:only-of-type {\n",
       "        vertical-align: middle;\n",
       "    }\n",
       "\n",
       "    .dataframe tbody tr th {\n",
       "        vertical-align: top;\n",
       "    }\n",
       "\n",
       "    .dataframe thead th {\n",
       "        text-align: right;\n",
       "    }\n",
       "</style>\n",
       "<table border=\"1\" class=\"dataframe\">\n",
       "  <thead>\n",
       "    <tr style=\"text-align: right;\">\n",
       "      <th></th>\n",
       "      <th>id</th>\n",
       "      <th>label</th>\n",
       "      <th>tweet</th>\n",
       "    </tr>\n",
       "  </thead>\n",
       "  <tbody>\n",
       "    <tr>\n",
       "      <th>0</th>\n",
       "      <td>1</td>\n",
       "      <td>0</td>\n",
       "      <td>fingerprintpregnancytest</td>\n",
       "    </tr>\n",
       "    <tr>\n",
       "      <th>1</th>\n",
       "      <td>2</td>\n",
       "      <td>0</td>\n",
       "      <td>finallyatransparantsiliconcasethankstomyuncley...</td>\n",
       "    </tr>\n",
       "    <tr>\n",
       "      <th>2</th>\n",
       "      <td>3</td>\n",
       "      <td>0</td>\n",
       "      <td>welovethiswouldyougotalkmakememoriesunplugrela...</td>\n",
       "    </tr>\n",
       "    <tr>\n",
       "      <th>3</th>\n",
       "      <td>4</td>\n",
       "      <td>0</td>\n",
       "      <td>imwirediknowimgeorgeiwasmadethatwayiphonecuted...</td>\n",
       "    </tr>\n",
       "    <tr>\n",
       "      <th>4</th>\n",
       "      <td>5</td>\n",
       "      <td>1</td>\n",
       "      <td>whatamazingserviceapplewonteventalktomeaboutaq...</td>\n",
       "    </tr>\n",
       "    <tr>\n",
       "      <th>...</th>\n",
       "      <td>...</td>\n",
       "      <td>...</td>\n",
       "      <td>...</td>\n",
       "    </tr>\n",
       "    <tr>\n",
       "      <th>7915</th>\n",
       "      <td>7916</td>\n",
       "      <td>0</td>\n",
       "      <td>liveoutloudlolliveoutloudselfiesmilesonymusich...</td>\n",
       "    </tr>\n",
       "    <tr>\n",
       "      <th>7916</th>\n",
       "      <td>7917</td>\n",
       "      <td>0</td>\n",
       "      <td>wewouldliketowishyouanamazingdaymakeeveryminut...</td>\n",
       "    </tr>\n",
       "    <tr>\n",
       "      <th>7917</th>\n",
       "      <td>7918</td>\n",
       "      <td>0</td>\n",
       "      <td>helpingmylovelyyearoldneighborwithheripadthism...</td>\n",
       "    </tr>\n",
       "    <tr>\n",
       "      <th>7918</th>\n",
       "      <td>7919</td>\n",
       "      <td>0</td>\n",
       "      <td>finallygotmysmartpocketwifistayconnectedanytim...</td>\n",
       "    </tr>\n",
       "    <tr>\n",
       "      <th>7919</th>\n",
       "      <td>7920</td>\n",
       "      <td>0</td>\n",
       "      <td>applebarcelonaapplestorebcnbarcelonatravelipho...</td>\n",
       "    </tr>\n",
       "  </tbody>\n",
       "</table>\n",
       "<p>7920 rows × 3 columns</p>\n",
       "</div>"
      ],
      "text/plain": [
       "        id  label                                              tweet\n",
       "0        1      0                           fingerprintpregnancytest\n",
       "1        2      0  finallyatransparantsiliconcasethankstomyuncley...\n",
       "2        3      0  welovethiswouldyougotalkmakememoriesunplugrela...\n",
       "3        4      0  imwirediknowimgeorgeiwasmadethatwayiphonecuted...\n",
       "4        5      1  whatamazingserviceapplewonteventalktomeaboutaq...\n",
       "...    ...    ...                                                ...\n",
       "7915  7916      0  liveoutloudlolliveoutloudselfiesmilesonymusich...\n",
       "7916  7917      0  wewouldliketowishyouanamazingdaymakeeveryminut...\n",
       "7917  7918      0  helpingmylovelyyearoldneighborwithheripadthism...\n",
       "7918  7919      0  finallygotmysmartpocketwifistayconnectedanytim...\n",
       "7919  7920      0  applebarcelonaapplestorebcnbarcelonatravelipho...\n",
       "\n",
       "[7920 rows x 3 columns]"
      ]
     },
     "execution_count": 27,
     "metadata": {},
     "output_type": "execute_result"
    }
   ],
   "source": [
    "data"
   ]
  },
  {
   "cell_type": "markdown",
   "id": "d36ab4d2",
   "metadata": {},
   "source": [
    "# Vocabulary Building"
   ]
  },
  {
   "cell_type": "code",
   "execution_count": 39,
   "id": "06add405",
   "metadata": {},
   "outputs": [],
   "source": [
    "from collections import Counter\n",
    "vocab = Counter()"
   ]
  },
  {
   "cell_type": "code",
   "execution_count": 40,
   "id": "539f80a4",
   "metadata": {},
   "outputs": [
    {
     "data": {
      "text/plain": [
       "Counter()"
      ]
     },
     "execution_count": 40,
     "metadata": {},
     "output_type": "execute_result"
    }
   ],
   "source": [
    "vocab"
   ]
  },
  {
   "cell_type": "code",
   "execution_count": 42,
   "id": "1192a975",
   "metadata": {},
   "outputs": [],
   "source": [
    "for sentence in data['tweet']:\n",
    "    vocab.update(sentence.split())"
   ]
  },
  {
   "cell_type": "code",
   "execution_count": 43,
   "id": "b503df22",
   "metadata": {},
   "outputs": [
    {
     "data": {
      "text/plain": [
       "Counter({'followcapetownsuponinstagram': 53,\n",
       "         'pcsexquisitesquishyrandomcharmin': 22,\n",
       "         'theprophetasahusbandiphon': 20,\n",
       "         'wewouldliketowishyouanamazingdaymakeeveryminutecounttlstodayiphoneaccessoriesnewslifemayatam': 11,\n",
       "         'applewillberollingouttheverizoniphoneatvalentinesday': 10,\n",
       "         'whymichellecamehom': 9,\n",
       "         'gainfollowersrtthismustfollowmeifollowbackfolloweveryonewhortsgainiphonesougofollow': 9,\n",
       "         'support': 8,\n",
       "         'reallyrealwphotoboothforiphoneipadd': 7,\n",
       "         'onsalenowbrevityboxedcalendar': 7,\n",
       "         'wewouldliketowishyouanamazingdaymakeeveryminutecounttlstodayiphoneaccessoriesnewslifejulyat…': 6,\n",
       "         'iyouiphoneprotectiveskinschooseyourappleiphonemodelandbuyauniquepieceofartforyouriphoneskinwhilealsoprovidingscratchresist': 6,\n",
       "         'coolgirlsfory': 6,\n",
       "         'wifihakingpassword': 5,\n",
       "         'wewouldliketowishyouanamazingdaymakeeveryminutecounttlstodayiphoneaccessoriesnewslifefebruaryat…': 5,\n",
       "         'beautyshoppingaliusaexpressiphoneiosappcatsgbunlockedgsmglterefinedruggedip': 5,\n",
       "         'likeandshareifyouwantthisfastchargerforiphoneiphonesa': 5,\n",
       "         'wewouldliketowishyouanamazingdaymakeeveryminutecounttlstodayiphoneaccessoriesnewslifeaugustat…': 5,\n",
       "         'newappsforiphoneforthepeoplewhosailinginitali': 5,\n",
       "         'bereallyrealappapprovedforiphoneipaddatingcolleg': 4,\n",
       "         'rtplanetdougcompassioniphonecasesfromzazzlecom': 4,\n",
       "         'wewouldliketowishyouanamazingdaymakeeveryminutecounttlstodayiphoneaccessoriesnewslifeaprilat…': 4,\n",
       "         'wewouldliketowishyouanamazingdaymakeeveryminutecounttlstodayiphoneaccessoriesnewslifeoctoberat…': 4,\n",
       "         'lovepoemwithloveapp': 4,\n",
       "         'wewouldliketowishyouanamazingdaymakeeveryminutecounttlstodayiphoneaccessoriesnewslifejanuaryatam': 4,\n",
       "         'gainfollowersrtthismustfollowmeifollowbackfolloweveryonewhortsgainiphonesougofollowi': 4,\n",
       "         'newreallyrealvphotoboothforiphoneipadd': 4,\n",
       "         'wewouldliketowishyouanamazingdaymakeeveryminutecounttlstodayiphoneaccessoriesnewslifenovemberat…': 4,\n",
       "         'photoquoteofthedayquoteswisdomwordssmilefollowtweetgrammecuteiphonefashion': 3,\n",
       "         'specialappforvalentin': 3,\n",
       "         'wewouldliketowishyouanamazingdaymakeeveryminutecounttlstodayiphoneaccessoriesnewslifejuneat…': 3,\n",
       "         'architecturedesigntagyourfriendsarchitecturedesigndesigncontemporaryarchitectenarchitectarquitecturaiphonemimarmimarlıkarabacarcarsinstaarchitectureconceptarchitekturarchitectureluxuryarchite…': 3,\n",
       "         'planetdougcompassioniphonecasesfromzazzlecom': 3,\n",
       "         'learntomathssumswithibbleobbl': 3,\n",
       "         'wewouldliketowishyouanamazingdaymakeeveryminutecounttlstodayiphoneaccessoriesnewslifenovemberatam': 3,\n",
       "         'wewouldliketowishyouanamazingdaymakeeveryminutecounttlstodayiphoneaccessoriesnewslifejanuaryat…': 3,\n",
       "         'askmeanythingdrandrewanswersliveaskyourquestionsher': 3,\n",
       "         'wewouldliketowishyouanamazingdaymakeeveryminutecounttlstodayiphoneaccessoriesnewslifedecemberat': 3,\n",
       "         'likeandshareifyouwantthisiphonefoodpatterncaseiphon': 3,\n",
       "         'garden—steemit': 3,\n",
       "         'mpcutterfre': 3,\n",
       "         'quoteofthedayquoteswisdomwordssmilefollowtweetgrammecuteiphonefashionmakeup': 3,\n",
       "         'reallyrealnowwphotoboothforiphoneipadd': 3,\n",
       "         'newartprintisin': 3,\n",
       "         'dontbethelastpersontodiscovercharlieputhhisnewalvoicenotesisstreamingeverywherenowlistennow': 3,\n",
       "         'ilikedthisklipgoodnightklipsleeprestfultuesdaybedtimeiphonevlog': 3,\n",
       "         'hackerwifipasswordprank': 3,\n",
       "         'thekapilsharmashowlatestepisodesaturdaysonybirthdaythnov…': 3,\n",
       "         'offcodefindgift': 3,\n",
       "         'beautyshoppingaliusaexpressiphoneiosappneweditionlenovoideacentrehighperformancefl': 3,\n",
       "         'partygettheeroticdrinkrecipeebookforweekendfun': 3,\n",
       "         'wewouldliketowishyouanamazingdaymakeeveryminutecounttlstodayiphoneaccessoriesnewslifeseptemberat…': 3,\n",
       "         'likeandshareifyouwantthisledselfiecaseforsamsungiphon': 3,\n",
       "         'seehowmanyfeaturesyoudidntknowyouriphonehad': 2,\n",
       "         'hackerwifipassword': 2,\n",
       "         'followersthankstoallyallinkstagramiphoneinstagramaddictionwordphoto': 2,\n",
       "         'likeandshareifyouwantthiscaraccessorybagiphonesamsung': 2,\n",
       "         'chicwithatwistteamootdmixandmatchurbanstyleexpressyourselfieworkshoppingsamsunggalaxya': 2,\n",
       "         'heyguyslooknewmotorolamotoextndgengbsimfre': 2,\n",
       "         'thepurposeoflifeistolivealifeofpurposemondaymotiv': 2,\n",
       "         'haventtriedinstagramyetheressomereasonstogiveitawhirl': 2,\n",
       "         'mysmallgarden—steemit': 2,\n",
       "         'photoiphonesiaiphoneinstagoodinstagramphotoofthedaytweegramiphoneonlyig': 2,\n",
       "         'nightdaysplitnightdayeffectscienceiphonevalenciaspainpicofthedayphotoofthedayeven': 2,\n",
       "         'snapdealiusedtoordersoemthineveryalternatedayfromyoubutnowiseeusentadefectivesonytvtomybro': 2,\n",
       "         'topphotoappavailablenow': 2,\n",
       "         'lastdaytovotefordabballthisround': 2,\n",
       "         'justthewindinthetreeshaveanicedayfrenchmothersdaytimelapseshotoniphoneiphonex': 2,\n",
       "         'igoingtomybackiphoneandseeingmorefundshavebeenaddedtomyaccount': 2,\n",
       "         'sonyxperiazunboxingnewphonefreeupgradesonyxperiazsexybeastexcitedgadgetnewtoy': 2,\n",
       "         'audioproverbsappenglishitalianlistenrepeatrecordlistentoyourselfandlearn': 2,\n",
       "         'katewhinesalotidolovemyipodionlyavoideditinaprotestapplesuck': 2,\n",
       "         'sonykilledgtavpublicapologieswontbringbacktheexcidementofunravelingtheplotthankyouverymuch': 2,\n",
       "         'flagphotofram': 2,\n",
       "         'wearehappytoannounceoffonourentirestoreusecouponcodecrosssel': 2,\n",
       "         'bestofferuniversalsmartphonecarairventmountholdercradlecompatiblewithiphonexforgeektechbotsdealsamazonhomeiphoneipadgadgetsgiftsioscarsbikeandroidsamsunggalaxygoogl': 2,\n",
       "         'heyguyslooksamsunggalaxysmidnightblackgb': 2,\n",
       "         'hotdealhightechlightningtousbcablefeetforoffgeektechbotsdealsamazonhomeiphoneipadandroidsamsunggalaxygooglegadgetsgiftsiostechnewspowerpcdev': 2,\n",
       "         'gainfollowersrtthismustfollowmeifollowbackfolloweveryonewhortsgainiphonesougofollow£u': 2,\n",
       "         'iphoneappnowhealthfitnesshtconexsamsunggalaxytabiphonecasecaniphon': 2,\n",
       "         'hackallwifi': 2,\n",
       "         'photoquotesheartworldthinkpinkboysgirlsworldpictofthedayphotogramiphon': 2,\n",
       "         'appleiphonesleathercasesmartappleiphonestyleswagcoolrawagroup…': 2,\n",
       "         'getoffwhenyouorderhardplasticshawwithdiscountcodetwittercheckitout': 2,\n",
       "         'getoffappleitunesgiftcardusdnowblackfridaycybermondayamazondealsiosdevgiftsmoviesgamingdiscountsmusicsongsappsiosiphoneipad': 2,\n",
       "         'soooooowhosaspoiledgirlmmmmmeeeeeimahappygamernowgamerpsexcitedsoni': 2,\n",
       "         'kimkardashianbackofhercauseinacrisi': 2,\n",
       "         'fuckyoupissedfuckbrokeniphoneappleinstagramchockedassholewhitecrack': 2,\n",
       "         'newyearcheerfulfunsmilesweetcouplesmsonymayablackpartynewday…': 2,\n",
       "         'photoquotesinstagoodinstasexyweediphonecutekickssummerlolfreshpicoftheday': 2,\n",
       "         'whyanonymousisntactingagainstappletheyaretryingtototalmonopolizesmartphoneindustryapplesamsungandroid': 2,\n",
       "         'happynewyearcutedcaseiphoneplusiphonexpricefreeshippingcasepeac': 2,\n",
       "         'gainfollowersrtthismustfollowmeifollowbackfolloweveryonewhortsgainiphonesougofollowk': 2,\n",
       "         'moalboaliphoneographyiphoneonlyiphoneographystreetphotographyiphonephotographymobilephotographymobileiphoneapplecolorsbright…': 2,\n",
       "         'winterbowsblingbootscutecoachdressesfashionfollowusgirlshairiphonejeansjacket': 2,\n",
       "         'rtfollowbacgijustinbieberappleipadiphonejuneatpmjuneatpm': 2,\n",
       "         'gainfollowersrtthismustfollowmeifollowbackfolloweveryonewhortsgainiphonesougofollowt': 2,\n",
       "         'hotgirlsfory': 2,\n",
       "         'likeandshareifyouwantthisdiamondcaseforiphoneiphon': 2,\n",
       "         'socutemybrainisgonnaexplod': 2,\n",
       "         'congratulationsdearsiscatherinehongandstanniversarytooneplusliangliangclubsolari': 2,\n",
       "         'gainfollowersrtthismustfollowmeifollowbackfolloweveryonewhortsgainiphonesougofollowa£ä': 2,\n",
       "         'justreceivedmynewiphonexthanky': 2,\n",
       "         'gainfollowersrtthismustfollowmeifollowbackfolloweveryonewhortsgainiphonesougofollowo': 2,\n",
       "         'rt': 2,\n",
       "         'learnhowtoplevelofthehappybasketballgamebyappaltashappybasketballgameisavailableontheappstor': 2,\n",
       "         'newyeargoalsdsctsonyliprearliptrunklipmodshondanewyearyolo…': 2,\n",
       "         'beautyshoppingaliusaexpressiphoneiosappxiaomiredmisdualsimlte–gbfactoryunlock': 2,\n",
       "         'itsagreatdayforhockeyletsgopenguinsbruinsskyappleiphonesigers…': 2,\n",
       "         'lovezipperscreenlock': 2,\n",
       "         'appstoenhanceyourfacebookfanpag': 2,\n",
       "         'heyguyslookhuaweiporschedesignmatedualsimgbgbhk': 2,\n",
       "         'youarehummingwhileyou’rewalkinwhenamicroscopicstonechipstopseverythingithesejoyfulmomentsspentwithmydaughterprouddadhaveanicedayshotoniphoneiphonex': 2,\n",
       "         'newreleaseslimeschool': 2,\n",
       "         'hardplasticshawandmuchmoreatzetasuppliesclickthelink': 2,\n",
       "         'christianpickuplinesiphoneipadiosnatur': 2,\n",
       "         'withxlhslbccktkslovingmyselfpicofthedaymedayselcaselfieiphonehendrizious…': 2,\n",
       "         'pleasesupport': 2,\n",
       "         'abfadofficialthanksforcomingtouscustomercuteiphoneslightlightswowappleyousaidthat': 2,\n",
       "         'gainfollowersrtthismustfollowmeifollowbackfolloweveryonewhortsgainiphonesougofollowa': 2,\n",
       "         'likeandshareifyouwantthistotemphonecaseforiphoneiphon': 2,\n",
       "         'todayatpmpstdatingadvicewdrandrewlivechataboutdatingrelationshipslslaskyourqsher': 2,\n",
       "         'francocovidirectorciakvideoforchiccosonyvideobabyinsonyspot…': 2,\n",
       "         'hackingpasswordwifiprank': 2,\n",
       "         'iwishihadtheserightnowstarwarsbattlefrontpssonydontjudgem': 2,\n",
       "         'friendlybant': 2,\n",
       "         'blackberrymobilephoneunlock': 2,\n",
       "         'drandrewisstillliveaskyourq’sher': 2,\n",
       "         'cakesmashsonyaselpgfcakesmashlumberjackonebabyezrabirthdaysurprisecakesweetyongnuoneewerphotographyprimelenscropsensorpicsoftheday…': 2,\n",
       "         'thefuckingmaccalendarisnowofffuckingcentertoo': 2,\n",
       "         'beempoweredunlockthesecrettoyoursoulmatedownloadtheshoppinglistappforiphon': 2,\n",
       "         'heyguyslookappleiphonexgbsilverunlockedsmartphon': 2,\n",
       "         'incaseyoumisseditiphonecaseforoffiphoneappleiosdealsgadgetsgiftsmenwomentechnewsmusicvideophotoiphon': 2,\n",
       "         'heyguyslookmotorolamotogplusnartlgb': 2,\n",
       "         'heyguyslookiphonestgenerationgagbrareiosatt': 2,\n",
       "         'applicationniceiphon': 2,\n",
       "         'thisisthebookaboutwhichthereisnodoubtiphon': 2,\n",
       "         'hackingwifi': 2,\n",
       "         'heyguyslookappleiphonexgbsilverunlock': 2,\n",
       "         'softgripbatterycaseforiphonepowerplusiiperfectcasefitssnuglydistributorsandinobrand': 2,\n",
       "         'amazingapplov': 2,\n",
       "         'friendsretrievemessag': 2,\n",
       "         'samsung': 2,\n",
       "         'gainfollowersrtthismustfollowmeifollowbackfolloweveryonewhortsgainiphonesougofollowäö': 2,\n",
       "         'jeanszipperscreenlock': 2,\n",
       "         'developmentisunderwayforallyouandroidusersdegreessocialmediasocialmediaapppicofthedayinstadailystylefriendsconnectionsiphoneandroidiosstartupappandroidappsamsunggalaxygooglepixelhtcsonygoogleonepluspictwittercomgpquhlcx': 2,\n",
       "         'kidswhytheplatypusdoesnts': 2,\n",
       "         'gainfollowersrtthismustfollowmeifollowbackfolloweveryonewhortsgainiphonesougofollowg': 2,\n",
       "         'beautyshoppingaliusaexpressiphoneiosapptikedaonepluscasebeautyluxuryleatherwalletfli': 2,\n",
       "         'hotflashdealsappleipadairrefurbforregofffreeshippingendsgeektechbotsdealsamazonhomeiphoneipadandroidsamsunggalaxygooglegadgetsgiftsiostechnewspowerpcdev': 2,\n",
       "         'fearend': 2,\n",
       "         'gainfollowersrtthismustfollowmeifollowbackfolloweveryonewhortsgainiphonesougofollowu': 2,\n",
       "         'onsalenowiphonescasetorrasseriesliquidsiliconeru––mobileaccessori': 2,\n",
       "         'beautyshoppingaliusaexpressiphoneiosappinstantemergencyportablebatterypoweredusbportc': 2,\n",
       "         'architectureiphonesiaiphoneiphoneinstagoodphotoofthedaytweegramvillamorrashop': 2,\n",
       "         'iloveiphoneloveromancegirlsheiphoneappl': 2,\n",
       "         'freshleaves—steemit': 2,\n",
       "         'heyguyslookappleiphonexgbspacegrayunlock': 2,\n",
       "         'dessertisalwaysagreatideatryourapplecrumbletoppedwithicecreameatwithcocofoxandfiddledessertappleicecreamtorontocravingssummersunshine…': 2,\n",
       "         'heyguyslooknokiasapphirearteluxushandyphon': 2,\n",
       "         'theseapplepeoplearefinnagetamouthfulfrommeiphonesuckspissedfucktard': 2,\n",
       "         'iphon': 2,\n",
       "         'partywithhboshcupcakeschaildrenkidsarabfotomyfotosonyأطفالسعادةفرح…': 2,\n",
       "         'whichretarddecidedtousesuchanincrediblyannoyingwhistlingsoundasastandardnotificationsoundsamsung': 2,\n",
       "         '♪': 2,\n",
       "         'androidandiphoneappsmakeyourlifefunfilledifyoumusicwiththesebestappsformus': 2,\n",
       "         'ninjasthenyoullloveninjanaptapforyouriphoneappstoreiosappleipaditouch': 2,\n",
       "         'fingerprintpregnancytest': 1,\n",
       "         'finallyatransparantsiliconcasethankstomyuncleyaysonyxperiassonyexperias…': 1,\n",
       "         'welovethiswouldyougotalkmakememoriesunplugrelaxiphonesmartphonewificonnect': 1,\n",
       "         'imwirediknowimgeorgeiwasmadethatwayiphonecutedaventryhom': 1,\n",
       "         'whatamazingserviceapplewonteventalktomeaboutaquestionihaveunlessipaythemfortheirstupidsupport': 1,\n",
       "         'iphonesoftwareupdatefuckedupmyphonebigtimestupidiphon': 1,\n",
       "         'happyforusinstapicinstadailyussonyxperiaxperiaz': 1,\n",
       "         'newtypecchargercableuk': 1,\n",
       "         'bouttogoshoppingagainlisteningtomusiciphonejustmemusiclikeforlikefollowforfollow…': 1,\n",
       "         'photofunselfiepoolwatersonycamerapicofthedaysuninstagoodboycuteoutdoor': 1,\n",
       "         'heyapplewhenyoumakeanewipoddontmakeitanewcolororinchesthinnermakeitnotcrasheveryfivefuckinminit': 1,\n",
       "         'hanotheavymachinerybutitdoeswhatineedittoapplereallydroppedtheballwiththatdesigndrinkyourhaterad': 1,\n",
       "         'contemplatinggivingintotheiphonebandwagonsimplybecausecellcomhasnonewandroidsdepressingidontwantto': 1,\n",
       "         'ijustmadeanothercrazypurchaselolmytheoryisworkhardplayhardlolipadappleshop': 1,\n",
       "         'shaqlockholmessamlouisethebatteryissopainfulichargeitovernightandbylunchtimebatteryisdeadhateorang': 1,\n",
       "         'fromdeepellumtowardsdowntowndallasbigdsaturdayrxmsonysummerurban': 1,\n",
       "         'likeandshareifyouwantthisdphonecaseforiphoneiphon': 1,\n",
       "         'gocrazyiphonesiaiphoneinstagoodinstagramphotoofthedaytweegram…': 1,\n",
       "         'thereasonidonthaveoneiphonesuckappletruthtruthbetoldagreefactrealitycheckblackberrypictwittercomzpggdcazn': 1,\n",
       "         'howistheapplestoregunnabeoutofcscreensitsmondayandurthefuckingapplestorefuckingpiss': 1,\n",
       "         'applearteasterdearfriendsifyouwouldliketobepublishedonmychanneldesignafaceontheeasterbunnyandemailittomeasapngthumbnailmyemailmutitaedibleartgmailcompictwittercomjhwphfbgt': 1,\n",
       "         'excusemewaiterthereseemstobeapieinmysoupwifebakeanapplepieyay': 1,\n",
       "         'ivehadthisnewipodforfourdaysandthisofbuttononthebackbrokeiaccidentallyhititonc': 1,\n",
       "         'whenyouriphonescreengoescompletelyblackandyoukeepgettingtextsalldaybutyoucantfuckingcheckthemapplethiphon': 1,\n",
       "         'itstimefornewwallpapersphonewallpaperswallscreengalaxysamsungapp…': 1,\n",
       "         'billionforpatentswherethereispriorartmillionseachpatenttrollsarepartyingnowthankstoappleappl': 1,\n",
       "         'myipodisallmessedupandihaventdonenothingtoitmylossappl': 1,\n",
       "         'myipodtouchisfrozenontheapplelogowhenitstartsupifiloseallofdemismusicpicsiwillkillsomeonesoangryhateappl': 1,\n",
       "         'doloveanewphonecaseflowergreendiamondpearlscutenewiphoneiphonescase…': 1,\n",
       "         'mustwatchyoutubesubscribedailyvlogtwitchgamingfunpsxboxsonygamesiosandroid': 1,\n",
       "         'thankyousamsunglivelaughlifefoodphilippinesinstagoinstahubinstagram…': 1,\n",
       "         'chcannonsueweefriendshipamericanbullydogpiggiesfamilysoutherncharmamericanidolgoalsbestfriendspitbulliphonexonelovecountrymusclenflworldwideamericabigboythislifetmzwildhoggpictwittercommnogp': 1,\n",
       "         'instapicbymimmoalfebtakenwithsonyrxdirezioneverticalesunsetskybeautifulfun…pictwittercomcxifijjg': 1,\n",
       "         'imsohappysisterboughtmeanewphoneforearlybdaygiftsohappysamsung': 1,\n",
       "         'justreceivedthesamsungnotemanythankstocottdsphon': 1,\n",
       "         'nswrlisthereanappfortheandroidmarketinthepipelin': 1,\n",
       "         'whycantideleteindividualsongsfrommyphoneappleitun': 1,\n",
       "         'everybodybefreakingoutaboutiosimherelikeduuudeevenwindowsphonesaremoreadvancedthaniphonescustom': 1,\n",
       "         'newiphonesandcthesstandingforsirriiouslybadandthecstandingforcheapsamescreenressamecameratechappl': 1,\n",
       "         'nobullinstasizeleggingslightskincurlyhairiphonebellypiercingsmilepotd…': 1,\n",
       "         'iftheydin’tcreateyoudon’tletthemdestroyyoucandidphotoiphonexsundaysundayvibessmilealwaysphotoofthedayeyesmeootdfashionblackandwhiteposerattitudelifeisgoodmylookmylifephotoeverydaylookofthedaylatepostmylifepictwittercommmhcqyadb': 1,\n",
       "         'filmsetbuildingtimelapsevideophotoofthedaybeautifulproducerlivefashionvideoproductioncutefollowcommercialiphoneappleactoractressmeiphonesiahollywoodlosangelespicofthedaymoviesactingstartupstartupvideosshotoniphonpictwittercomeceiain': 1,\n",
       "         'mynewphonecupcakeswallpaperpinkcutesweetsamsungcherri': 1,\n",
       "         'eeeeeesexyladiesliveiphoneiphonesiainstagoodphotoofthedaytweegramiphon': 1,\n",
       "         'acquistodelweekendiphoneiphoneplusapplegrilmomentitaly…': 1,\n",
       "         'majesticweseeitdifferentlyphotographynaturelandscapeforesthiddenclearingviewwoodstreetravelbikersonyaziessphotoinstgramhubpicoftheday': 1,\n",
       "         'googleapplesocuttheitunesandgetwiththeprogram': 1,\n",
       "         'ahhhhlookwhatigotforchristmasaniphoneapplechristmasgirl': 1,\n",
       "         'doyoulovemelikeloveinstacoolphotoofthedayiphoneinstagofoodfollowforfollowlik': 1,\n",
       "         'followmeasiplaybitcoinboyfortheiphoneipadipodfreegamefunkansasgeorgia…': 1,\n",
       "         'ogochocincowouldmynewtalkingantoineiphoneappcheckitoutnowintheusentappstor': 1,\n",
       "         'allatoncejoypeacereflectrememberskycloudcloudhubskyhubtreegriphone…': 1,\n",
       "         'loveyoubabyboybabyboybabyboymueslihedgehogpethimiphoneiphone…': 1,\n",
       "         'inboxletterstotheeditornewsphotographyfashionhealthfailtechipadiphonefunnylolpictwittercomikrhumovz': 1,\n",
       "         'zsofimonsterthinnerfasteramazingihatedipadandwillbegettingonesoye…': 1,\n",
       "         'jamesdawuteiliketabletsbutpersonallyihavenouseforitsointhatsenseimnotafanbutithinkitsquiteagdproduct': 1,\n",
       "         'whyisblackfridaycalled‘blackfriday’': 1,\n",
       "         'appleareyouseriouslysoafraidofyourprofitgoingintosomeoneelse’spocketthatyoumakeittowhereotherchargers“aren’tsupported”myphoneisatandmyposapplechargerbrokeamonthaftergettingthephonegoodjobappley': 1,\n",
       "         'nothavingaphoneisactuallykillingmeandiamnotpaying£forareplac': 1,\n",
       "         'cantagreemorethatswhyimstillprogrammedinbasicrtsloanlovescudiapplesucksdroid': 1,\n",
       "         'waitwhatdoublecheckwhatyoujustsawalyssamefuncameraiphonehcoolpicturel': 1,\n",
       "         'thecycleoflifeiscompletefrootapplerundogsunbeachsporthealth': 1,\n",
       "         'tysonjthatsabithypocriticaltousethehashtagappleyetbequiveringinanticipationforthearrivalofyournewphon': 1,\n",
       "         'gainfollowersrtthismustfollowmeifollowbackfolloweveryonewhortsgainiphonesougofollowffisi': 1,\n",
       "         'geometryiphoneographyiphoneonlyiphoneographystreetphotographyiphonephotographymobilephotographymobileiphoneapplecolorsbright…': 1,\n",
       "         'iphoneusershavemor': 1,\n",
       "         'photocaniloveyoulessnopinkiphonerandominstamoodphotographyloljk': 1,\n",
       "         'shinebrightlikewineamaliexmariaamazingbeautifulcopenhagencreativecomposerdenmarkfunffhoticonickeepthefaithllmariajensenmusicoriginalpopproducerredrocksoulsingersongwritersonguniversalsonywarnerpictwittercomgbeusyedm': 1,\n",
       "         'tescophoneshopsamsunggalaxymyweddingdvdwhichithoughtidlostday': 1,\n",
       "         'rtmeliiecandyappleipadminisoldesinstamomentplaneteignewbabyorinstas': 1,\n",
       "         'thatfeelingwhenyourbrokenphonesscreenisbeingreplacediphonehappinesspictwittercomygsukec': 1,\n",
       "         'bethelightformywaypleaselamplightphotoofthedayinstagoodlifepekanbaruriauindonesiaphotographystreetphotographysonyasonya…': 1,\n",
       "         'newacquisitioniphonesgoldappleitphonebrusselspotdpicoftheday…': 1,\n",
       "         'ifihaventtextedbackmyphoneresetafterworkagainsorryiphon': 1,\n",
       "         'happysundaysamsungphonesmileinceptionwhiteteachil': 1,\n",
       "         'carcasaclearcoverparasamsunggrandprimefelizdomingosamsunggalaxygfelizlunesfelizsemanaoctoctfelizmartespictwittercomxtldsjwpz': 1,\n",
       "         'applesmightymousecamewithlithiumaasapplesmagicmousecomeswithalkalineaasthemagicmouseismoreappl': 1,\n",
       "         'nyclesbiansfollowsundayfollowbackrtteamfollowbackfollowretweetiphonekeepdoingyath': 1,\n",
       "         'i’mnothappyatallwithsamsunguksamsungi’vehadmytumbledryerformonthsit’sbeenreplacedalreadyandthesameproblemhasoccurredagainiwantthisissueresolvedandwanttobeabletoreturnthisproductbacktosamsungimnotalexandraetonbbcwatchdog': 1,\n",
       "         'lilyaretweetasllsonysonyasthrowbackshootblurynaturepicphotosgirlsmileart…pictwittercombtewbkx': 1,\n",
       "         'cnetcallittheapplephoneandputanabsurdpriceonitandyouhavethenewappledevicetech': 1,\n",
       "         'commonwealthgamesskyenicolsonwinsboxinggoldinmemoryofherdeadbrothers–commonwealthgamesadaptivegalatasarayiherbordersamsungpresidenttrump': 1,\n",
       "         'ohdearnojoyforthenewiphoneanygoodcommentaboutitisjustlipservicewingetalifeappletecshit': 1,\n",
       "         'loveitfinallyenjoyingmygamepstombraiderlaracroftplaystationsamsunggamer…': 1,\n",
       "         'thehungergamesinthesimpsonssimpsonsthehungergamesiphoneinstagramapplealway': 1,\n",
       "         'applecalledandmadesomethingwrongrighttodaymakesmethanky': 1,\n",
       "         'newitemjammieexoxorecommendsiphoneappleearphoneearpodswhitelifestyleamazing…': 1,\n",
       "         'fuckyouappleandyourneverendingbugsitsnotlikeipayedbucksformyphonehowaboutalittlequalityhereanotherangrycustom': 1,\n",
       "         'whatacutegirlfriendhappyoneyearloveyougfbfcardcutesonyxperiazsoppi': 1,\n",
       "         'mybirthdaypresentfrommomapplemacbookpromacbookbirthdaystockholmswedencomput': 1,\n",
       "         'samsungukhavetoapplaudsamsungsheffieldstoreforcustomerservicegreatserviceandqualityrepairalldoneinafewhour': 1,\n",
       "         'justlosteverythingduetothefreakingiphoneupdatethatputitinrecoverymod': 1,\n",
       "         'mashableyourapplehateryousuckbriantongeasytotalkproducesomethingisausacompanykoreansamsungfanlos': 1,\n",
       "         'thanksforworkingonyourserversalldaysonywhatdumbscheduledmaintenancetodaysoni': 1,\n",
       "         'newmodelsbyhilalakearphonesurbanearshandmadehayatinarenkkatiphonesony…': 1,\n",
       "         'photoitunesvicionellyfurtadonelstarplayingnowiphoneonlyiphonedivacd': 1,\n",
       "         'happinessinaboxyeymephonesonyxperiasonyxperiaznewblessed…': 1,\n",
       "         'felizsábadoconcafésaturdaywithcoffeeandpantryiphonex': 1,\n",
       "         'dreamyeffectcreatedstraightfromtheiphoneimpressivespringflowerblossom…': 1,\n",
       "         'finallllllymynoteisherenotesamsunggalaxygalaxynoteawsomebeammanbest…': 1,\n",
       "         'photoofthedayeriepacarsigniloveyoublackandwhitestreetphotographyiphoneeriepa': 1,\n",
       "         'lunchintheparkapplecarrotbananaandmylovelydogstreesautumnleaves…': 1,\n",
       "         'notonmyiphonetheconfessionappwhenwespendmoretimeconfessingourfaithweneedlesstimeconfessingoursinshimtomuch': 1,\n",
       "         'daypsiloveyouiphonephotographybookflickr': 1,\n",
       "         'heyappleijustwanttosayfuckuandurnewupdateittookhourstodownloadandihatethisappleio': 1,\n",
       "         'photosunsetwestcoastiphonetakenwithinstagramathuntingtondogbeach': 1,\n",
       "         'justaddedmyselftoth': 1,\n",
       "         'iphonesareaforlosinphonereceptiongottextsnmissedcallsinthelastmin': 1,\n",
       "         'tmobilethedayhascomethankstojumpicanfinallygetridofmyiphoneandgetmysamsungnoteiabsolutelylovetmobil': 1,\n",
       "         'getatasteoffrankocean’snew…': 1,\n",
       "         'soannoyingwhenyoufinishallthelevelsofwheresmywaterbutyouhavetobuythefullversionappl': 1,\n",
       "         'nothingyouwearismoreimportantthanyoursmilesmilequotesmoodgirlbossbloglifestyleamazingquotewcwwcebestofthedaycuteprettybeautifulsexyfashionbabesamsungwednesdayfunpictwittercomggnuvxbv': 1,\n",
       "         'natepgilbraithsendthemastextsihadtoturnmyimessageoff': 1,\n",
       "         'fantaapplefantaisdelishsundaysundayfundayhealingwithanotso…': 1,\n",
       "         'shewontsleepnootherwaybutonmylapbabygirlpopulariphonesiaiphoneiphonebabygirlio': 1,\n",
       "         'she’ssoloverlytweetrabbitsofinstagrambunniesofinstagramrabbithopbouncecharliehouserabbitbunnyloverabbitsofigshotoniphoneappleiphoneplusphotographyphotographerfamilychuckcharl': 1,\n",
       "         'mynewiphonecasehappyvalentinesdayiphonecaselesslucienswarovskicrystalpink': 1,\n",
       "         'photoveganglutenfreeapplepiedayatsillysally’spopupdin': 1,\n",
       "         'technologyissoadvancedthesedaysbutaftersyncingmyipodionlyhearsecondsofeachmmlpsongfml': 1,\n",
       "         'sweetiphonesweetphoneiphoneapplecandyfuncutebeatifulbeatygoldgoodnicephotofo': 1,\n",
       "         'waitoverfinallyinhandiphonexiphonexiphonespacegraygbapplepictwittercomogogkeopw': 1,\n",
       "         'unpackingsonyxperiazcompactandroidreallyreallynicefirstimpress': 1,\n",
       "         'muoneozprogressbariscarkeylongwillgiveanotherhourifstillcarkeywillcoldbootfearitllbedead': 1,\n",
       "         'whensiridoesntunderstandcommandslolbeautifulfunnynephewallshotsiphoneigerssiri': 1,\n",
       "         'endlessloveinstagraminstagoodinstadailyinstahubinstagoodphotoofthadayiphoneiphon': 1,\n",
       "         'iwillliterallycryifihavelostallmycontactsagain': 1,\n",
       "         'andyvaughanthatlooksgreatiwonderawhenitwillbeavailableinukbhowitcomparestoapplescloud': 1,\n",
       "         '¡alfiiiiinlaptopsonyvaiowhiteblackcaseminniebeautifulinlove…': 1,\n",
       "         'dearblackberryoccasionallythebestfruitfallsfromthetreedontworrythouitwillsoonbethebestfruitagain': 1,\n",
       "         'username：splinkio': 1,\n",
       "         'yosemiteyouareasteephilltoclimbwithmymachavingakernelissueforhourbutnowyouservemeverywellappleupd': 1,\n",
       "         'anotherfuckyoutosonypswiththehealthwarningdisplayuponbootup': 1,\n",
       "         'brbrrylovesheshupyoutoldyatostopkillingmymojop': 1,\n",
       "         'spendlikethreehoursfinallygetallmythingsshiptomynewphoneselfiewithsamsung': 1,\n",
       "         'thisadvertisementfornewsamsunggalaxygearvriswellmadecommercialfeel': 1,\n",
       "         'lostallpicturesandeverythingonmyphonefromthepastyearsodepressedsamsunggalaxyftwloljk': 1,\n",
       "         'checkoutjewishamericansinglesfreepaidmembershipsavail': 1,\n",
       "         'finalcutprotrialdoesntworkwithyosemiteaarrrggghhhhfailagainmakingmylifesodifficultpictwittercomlzszgisb': 1,\n",
       "         'reallyapplejustdeletethehalfdownloadedelcapitanonthefirstmistakeusefuckingtorr': 1,\n",
       "         'hooraymystuffarrivedexcitedcaseandroidsamsunggalaxytodayopennow…': 1,\n",
       "         'ireallyneedanewiphonechargerbothofminespazandshortoutconstantlyanditpissesmeofflikenootherappleiphon': 1,\n",
       "         'myphoneisofficiallybrokenicanhearitgooffbutthescreendoesntworkthekeyboardisokaythoughsamsung': 1,\n",
       "         'deepeshalwaysndtvgadgetsifihaveenoughmoneytheniwillchallengeusjuryfortheirdecisionwithsimpleansofmineappl': 1,\n",
       "         'goldenstatewarriorsphotoofthedaymeinstadailylikeiphonefollowcolorfulstyle…': 1,\n",
       "         'reinstallingitunesforthethtimethisweekbecauseitrefusestosyncmyphon': 1,\n",
       "         'sleptwithmynewiphonelastnightiminloveiphoneatlast': 1,\n",
       "         'fatherandsonsamsunglivelaughlifeinstagoinstahubinstamoodinstagood…': 1,\n",
       "         'happybdayjjbdayjjcrazyfriendiphonepartylblllikealllikeback…': 1,\n",
       "         'picofthedayquoteswisdomwordssmilefolloworthomecuteiphonefashionmakeupbrac': 1,\n",
       "         'wanttolovematchwithyouriphonebuylovematch': 1,\n",
       "         'niceonevalentinesdayplaystationasiaadpsfebruaryplaystationsonygamerscollege…': 1,\n",
       "         'portraitmemyselfandishotwithsonyasonyalphasonycamerasonysonymmmmdofbokehmarketmarkthemdschwarzblacknwhiteblackandwhitegreysmile…': 1,\n",
       "         'extrazoomtovideo': 1,\n",
       "         'myphonejustdeletedeverysingleoneofmycontactsrandomappl': 1,\n",
       "         'ilovemynewbabyipodmusicappleitunesgold': 1,\n",
       "         'amitheonlyonestevejobstyrannicalreignofappleisoverfuckingcultist': 1,\n",
       "         'upgradedsto\\uf8ffiphoneappleiphoneiphoneinstadailyinstagramersinstalike…': 1,\n",
       "         'helpdeliverhappinesstochildren': 1,\n",
       "         'theressomethingwrongifyouchargeyourphoneatleastthreetimesadaygetbetterbatteri': 1,\n",
       "         'mynewsamsunggalaxytabislikearealbætabletsmil': 1,\n",
       "         'santahasvisitedmywifeearlierthisyeartoseeheriphoneonlyiphonesweden…': 1,\n",
       "         'hiworldoldphotofollowmelikelikesgooddogsolodivertimentosamsung…': 1,\n",
       "         'marquesgrayswagswaggerskydogcatiphonenewfollowmeeditsickpaintminnesotagopherspictwittercomildhlxwg': 1,\n",
       "         'geniusbarcansuckmytubesaftermysurgeryforthisbullshitapplemaybeagoodproductbuttheircustomercarebatteri': 1,\n",
       "         'iamhappypssonyplaystationgtafundesignwhitedualshockinstadaycool…': 1,\n",
       "         'holyshitbirdsjustwatchedlastnightscolbertreportthatapplepresentationfortheiwatchwascreepyasidkwhatno': 1,\n",
       "         'bookgoodnightrelaxcoolperfectbookiphonepreguntaleaaliciathisinstaphoto': 1,\n",
       "         'photoaprosperousnewyeartoeveryonewelcomenewyearartdrawingsketchsamsung': 1,\n",
       "         'justonemoreblogvideogirlamazingfashionootdbeautifulsamsungswagvideoofthedaypictwittercomplnunhi': 1,\n",
       "         'newiphoneosonthegfuckingsucksiwanttothrowmyphoneagainstthewallhowdoesthesmsappcrashappleiphon': 1,\n",
       "         'babyletmyloveadornyoumiguelfanartdealersamsunghospitalbraidssmile…': 1,\n",
       "         'photosignpeacesignjunephotoadayphotoadayjunebodyiphonelikeittakenwith': 1,\n",
       "         'iwouldjustdeletallmyphotosandvidsfromthisconcertmylifesajok': 1,\n",
       "         'nobauermletsgetyouhookedupfastwaniphoneuwillfallinipromis': 1,\n",
       "         'whydoesittakemealleveningtoupdatetwoappledevicesihateyouitunesandihateyouappleandroidinthenextroundappl': 1,\n",
       "         'auditoofferappleandandroidsmartphoneintegrationfrom': 1,\n",
       "         'justrantobuyaniphonechargerinthemiddleofthenighttheseiphonechargerstheyiphoneappl': 1,\n",
       "         'ihaventusedanappleproductinoverayearsomeholehasaccessedmyoldaccountandicantfindwaytodisputecharg': 1,\n",
       "         'photopicofthedayquoteswisdomwordssmilefollowtweetgrammecuteiphonefashion': 1,\n",
       "         'newyorkbabynewyorkamazingcitythebigapplesumm': 1,\n",
       "         'chasingpavementsastoryaboutfriendshipfamilymusiclifedestinyandsoulmatesforkindlenookiphoneipadipod': 1,\n",
       "         'irishazadadoyoulovephotographygofollowphotograpytrickhertweetsawesomesunsetphotographyiphonehtt': 1,\n",
       "         'appleyousuckeverytimeyouupdateyourosyouerasemyprivateinfoanddisabletheappsipurchaseandlikethat’snotacustomerfriendlyapproachtimetogotoandroiddisappoint': 1,\n",
       "         'goodnightdubaisweetdreamslifehopejoydubaiuaeiphoneinstagram': 1,\n",
       "         'birthdaypresentcameinadvancethankyousomuchappleipadminiiphoneslucki': 1,\n",
       "         'saturdayeveryonelookinourshopforgreatdealsondvdsblurayvdeogamespssonyplayst': 1,\n",
       "         'turkeyphotographyphototravelnaturephotoslandscapephotoofthedaycamerasonypicfotopassionbehappypictwittercommjjnomhpi': 1,\n",
       "         'amigosfriendsiphonesiaiphoneinstagoodinstagramphotoofthedaytweegram…': 1,\n",
       "         'thingsthatmakemereadingijustmypinkereaderfromsonyanduseitnearly…': 1,\n",
       "         'edmismylifehardwellamorappleaviciiacedemyacademiabbbogotamacmusic…': 1,\n",
       "         'itsbeenayearandmyshuffleonmysamsunggalaxyfamilyisfinallydoingarealshuffleitslikeawholenewplaylist': 1,\n",
       "         'thankusomuch\\ue022\\ue327godchristianiphoneinstagramiphonesiapraythankspopularpage\\ue32e': 1,\n",
       "         'woohoofinallyigetmynxfinallycameranxsamsungexcitedniceblackpeacetha': 1,\n",
       "         'familyfamilyfriendsbeautyfuncutiesiphoneiphoneisaforeveryounghookahbaronyx…': 1,\n",
       "         'happymysamsunggalaxynotegotupdatedwithandroidkitkatversionthankstosamsungmobil': 1,\n",
       "         'rtsleekdealshotdealhightechlightningtousbcablefeetforoffgeektechbotsdealsamazonhomeiphoneipadandroidsamsunggalaxygooglegadgetsgiftsiostechnewspowerpcdev…pictwittercomykfpffix': 1,\n",
       "         'inloooveamazingbeautifulcopenhagencreativecomposerdenmarkfunffhoticonickeepthefaithllmariajensenmusicoriginalpopproducerredrocksoulsingersongwritersonguniversalsonywarnerworldpictwittercomjrdwetxbjo': 1,\n",
       "         'toobadsprintdoesntcarryanylumiadevicesbutatleastiwasabletopickupasamsungativsneowindowsphon': 1,\n",
       "         'myipadsnewhomeipadleopardprintneonipadappl': 1,\n",
       "         'myiphoneappsicanlistentodrivetimehiphopfromnycwhilstpeelingpotatoesinmykitchen': 1,\n",
       "         'dissatisfiedappleiphonesplusnotforrunnersithasissueswithfilterincamerasweatthroughincasearmband': 1,\n",
       "         'helovesthefuckouttamekingponderimessageiphonetextgayhesa': 1,\n",
       "         'sheisasreadyasiamtodothischromebooksamsunghellokittydiamondshinereadi': 1,\n",
       "         'beachgrouptextbeachoceancellphonefriendstrioiphonecosmosquitokarebear': 1,\n",
       "         'atlastihavemyapplewatchmmspaceblackstainlesssteelexcitedoverthemoondidalittleweepictwittercomzznjfjw': 1,\n",
       "         'ilnyhugfollowlikeiphonetattoochristmasbeautifulnewyork': 1,\n",
       "         'slickmindyxidtotallyfucksiriherknowledgeexcitesmesirifuckinsiri': 1,\n",
       "         'lolilovemyiphonerttoapplewhofuckeduptheiphoneuknowwhatuabouttogetohyespowviakadaf': 1,\n",
       "         'photomynewmacbookairisinstalledandreadytoperformapplepepsimaxddbtakenwith': 1,\n",
       "         'throwyourworriesbefitandfabmarjdiarysamsungfitfaboloussmilestayhealthy…': 1,\n",
       "         'samsunggalaxysplusdualsimgfdgbrambblack': 1,\n",
       "         'newphoneyespleasebeenwithoutaphoneisdeathtakingholdsonysorrysamsung': 1,\n",
       "         'speedwifigg': 1,\n",
       "         '€samsunggearsetatcommeneuvesamsunggearsprixhappyoccasioncash…': 1,\n",
       "         'applenwsmyiphonebutwhywouldyoutradeacomputerforjustasmartphonegalaxynoteissexi': 1,\n",
       "         'maco': 1,\n",
       "         'whywhenisendacalendareventinvitetoaexchangeusertheusercantacceptiticloudvsexchangeappleiphon': 1,\n",
       "         'ilikeiphoneonlybecauseigettoplaygamesloliloveangrybirdsiphonegam': 1,\n",
       "         'myphonekeepsfreezingwheneverigotoendacalliphon': 1,\n",
       "         'eversinceiupdatedmyphoneitsbeenfuckingupappleiphoneproblemsappleofficl': 1,\n",
       "         'ivebeentryingforhourstosyncmyipodigiveup': 1,\n",
       "         'conversationswithmysisteriwouldntswaphersistertextimessageiphonechat…': 1,\n",
       "         'smallandblue—steemit': 1,\n",
       "         'photoohyeahcaligurlprettycutegorgeousbeautyigiphoneignationinstahub': 1,\n",
       "         'justboughtsomethingkahaponwalkmansonyxemprewithorangeheadsethaha': 1,\n",
       "         'shadesofmoonlightmedresspartyalcoholnightheelsiphonelegsstrip': 1,\n",
       "         'iamactuallyabouttocrythaticouldntscreenshotthatsnapchatbecausemylockbuttonisbrokenappl': 1,\n",
       "         'myeggspeakerdspeakereggawesomemusicipodappleschoolchillingsrelax…': 1,\n",
       "         'mychristmaswishisthesameaslastyearforallmyotherwishestocometrueofcoursefamefriendschocolatefoodiphon': 1,\n",
       "         'isweariftheiphoneupdatejusterasedeverythingonmyphoneimgunnaflipshit': 1,\n",
       "         'yesitunestakeyourtimeandnotputmysongsonmyipodwishishadagalaxi': 1,\n",
       "         'rosemoonjusttryingtohelpiphonemajorityusahelpador': 1,\n",
       "         'gettingemailswithpictureslikethismakemylifeiphoneinstagramnofiltercutechristmaspopular': 1,\n",
       "         'imyiphoneswallpapersomuchitsfullofconstellationatthemilkwayannabelleshermainewantmetobump': 1,\n",
       "         'thisdrinkisamazingfruitsapplecherrypurpletastydrinksungarden': 1,\n",
       "         'blockycar': 1,\n",
       "         'cantunlocksamsunggalaxyacecauseitsaboutasgoodasablackberryalthoughimanagedtounlockthatsamsungvodafon': 1,\n",
       "         'lookwhatmommygotmepigersipadapplemomgiftsinstahubinstadailyblessedfo': 1,\n",
       "         'ifapplecouldmakeitunesanditunesradioabitmoreitwouldbefabulousdisappoint': 1,\n",
       "         'finallyiphonewillbedominatedbyiphonesappleiosandroidiphonexmarketchinesesmartphon': 1,\n",
       "         'myapplehaterantiphonedoesnotsynchwithoutlookorentouragedarthjobsstrikesagainsaynotoappleclosedsystem': 1,\n",
       "         'goodmorningeveryonejamnikeiphoneapplesgoodmorningselfiecoffe': 1,\n",
       "         'rtgenevievermrzpicturesbysmileykiddtennistodaytennisbabolatpinkiphoneblackgoldgreenrhttp': 1,\n",
       "         'photoappleipadiphoneimacibrasamsunggalaxyinstragraminstramodesmilinginth': 1,\n",
       "         'senzalovewithoutnasimibeachcompleannobirthdayhbapplesuniphone…': 1,\n",
       "         'dearapplethankyouforsellingmeadollarlaptopthatbeoutofdateinyearsandwillnotbeabletorundiablop': 1,\n",
       "         'soconvenientthatmyiphonestoppedworkingcompletelylessthanmonthsaftermywarrantyendedmadappl': 1,\n",
       "         'parisandiiphonephotochroniclesviolenceandhoror': 1,\n",
       "         'bybobinsontwittertehranphotographyaffliatemarketingiraniphonerubyobamaosamasaddamiraqgoogleadwordsd': 1,\n",
       "         'happynewyearnewyearreveillonhappynewyearnewyearsyearsnouvelleanneenouvelleannéeinstagraminstagramwebwebmasterwebdesignelodiewebdesignapplemacmacbookmacbookpropictwittercommzcxkjuwqf': 1,\n",
       "         'thatsundaywhenimtrannacramallmyworksundaymacsmacbooksamsungsmomworklif': 1,\n",
       "         'hiapplethanksforthegigforwithretardedfuckuprecycleandthefreeappleiphoneheadphonesnahforioswhatev': 1,\n",
       "         'lmprodeventspresentsstageismyhomeshowpopmusiciansrockhardrocksoundlivesbamfestfestivalitalytorinoturinguitarpracticegigeventsmusicguitarmetalstratocasterappleiphonesocialmediaclubsneaklifebandrtwebzineffpictwittercompmivqqvdxi': 1,\n",
       "         'learnthismysmokesmokepaintingiphoneartlifegreen': 1,\n",
       "         'indulgenowswimtomorrowallamericanseasonalcrispappleblueberrylemoncaramelthseeyouatthebeachwereclosedmonday': 1,\n",
       "         'gunslug': 1,\n",
       "         'toodeliciousmorningfridaysmoothienutribullettastyappleorangebananahoneyby…pictwittercomwautkfgi': 1,\n",
       "         'youdonthavetowaittolongforanotherapplefailtocomealongoranitardtoappear': 1,\n",
       "         'reflectiphonesiaiphoneinstagoodinstagramphotoofthedaytweegramiphoneonlyfarfaraway': 1,\n",
       "         'hitomynewphonecoverebaybluetowersamsung': 1,\n",
       "         'alternativepowerfixforapplecinemadisplaypricelessjusttakearandomvoltpowerconnectorfinishsoeasypictwittercomycugwjopq': 1,\n",
       "         'newphoneiphoneiphonenewphoneminesilverwhiteexcit': 1,\n",
       "         'thanksoneplusdeoneplusforstillprovidingupdatesformyoneplusiamnowonandroidoneverhadthatexperiencewithothermobilesoneplu': 1,\n",
       "         'theiphonedoesntseemtohaveaconfederateflagemojiinitslittleflagsectionthishastochangesouthernmenga': 1,\n",
       "         'photothenewadditiontoourfamilyinstapiclifesamsungsaprilspringcali': 1,\n",
       "         'fuckingapplemanijustwannausemwifiandyouretellingmeihavetobeortousewifiappl': 1,\n",
       "         'takealookatsamsungscooliseeyourdreamsin': 1,\n",
       "         'hourusageandphonesdownthanksiphoneappl': 1,\n",
       "         'tabletsusinggooglesandroidsystemaccountedforofthemarketwhileapplesiosachievedandroidalltheway': 1,\n",
       "         'downgradedmyphonebutbackupsarentcompatiblebetweenversionsallthatretainedwasmyphonebookgoingtoupgradeagain': 1,\n",
       "         'andspellcheckifimistypedquickesthowcanquackiestbeanalternativejusthowoftendopeopleusethatword': 1,\n",
       "         'dudethisisthethusbchordthatsbrokeninthepastmonth': 1,\n",
       "         'oneofmynewestmodelsiphoneiphoneographytumblrtweegraminstagramaddictlifethingsilov': 1,\n",
       "         'newsamsunggalaxyadvancecaseigetitfrommybestfriendmadeliefthankyou…': 1,\n",
       "         'yeythanksdadxperiasonyzxperiazgiftgraduationgift': 1,\n",
       "         'anyoneelsehavingtroublewithiphoneupdateitstakingagestorunthenewcamerastuff': 1,\n",
       "         'gainfollowersrtthismustfollowmeifollowbackfolloweveryonewhortsgainiphonesougofollowåfä': 1,\n",
       "         'welcometomyworldiphoneiphoneiphoneapplelifecni': 1,\n",
       "         'whycantaniphoneblocknumberswhichcalleverydayreppietcwaspossibleonanoldnokia': 1,\n",
       "         'heyappleofficlalwhydowescheduleapptsifyallneverhonorthemandareneverontimefrustratedtheirempsareemp': 1,\n",
       "         'uninstallsamsungkiestogetandroidfiletransferworkingonmacosnootheroptionsworkedform': 1,\n",
       "         'gainfollowersrtthismustfollowmeifollowbackfolloweveryonewhortsgainiphonesougofollowrfj': 1,\n",
       "         'photoyeabrofifaalldaydopeiphoneinstagoodinstagrampsitpicofthedayinstaphoto': 1,\n",
       "         'finallywegetsomethingfromappletheamericansdontget': 1,\n",
       "         'fibsrhymeswithsibsnibsjibsbibsribsdibsstarttodaywith': 1,\n",
       "         'oneplusfinallyfixedsofastsoefficientthxoneplu': 1,\n",
       "         'thoughtitwouldbefuntojailbreakmyipodnowimsittinghererestoringittofactorysettingsapplejailbreak': 1,\n",
       "         'lovemyfuckingipadrednosemusicevideoblackfridaywalmartappleipadmini': 1,\n",
       "         'whydopeoplewithiphoneshavetokeepshowingmewhattheydo': 1,\n",
       "         'photomeanwhileintwitter…samsunggalaxypocketsamsungcheerdanceblessed’instafun': 1,\n",
       "         'samsungmobileushonoredmeforusinginmyfirsteverstockofminestockpileimthankyousamsungstockmarketstocksstockportstocktonscholarsinvestingintoapplestockpilesamsungpositivevibesstocksmarketinvestorinvestmentsi': 1,\n",
       "         'happymothersdaymommothersdayiphoneigdailyinstagoodiphoneonlymebestoftheday…': 1,\n",
       "         'rtlorimorenoimmarriedbuthereyougodrtsharonhayeshealthydatingtheresanappforthat': 1,\n",
       "         'whycantiphoneshavetheoptiontochangethefontlikewhatifiwantacutegirlyonebutnothatsnotanoptionsorryugh': 1,\n",
       "         'usinglovinginstagramupgradeintroducesapowerfulnewfeatur': 1,\n",
       "         'appleiphonexappleiphonextechjunkietechiphoneupgradeyoubeautybeaut…': 1,\n",
       "         'onlyreasonidgetaniphoneisbcofallthesupercoolcasesoutthereespeciallytheoneswithabottleopenerontheback': 1,\n",
       "         'solidgoldretrochristmasvideo': 1,\n",
       "         'yesfinallygotthenougatupdateonmysamsungsedgeandwokeuptomybatteryusingonlywhileisleptcomparedto': 1,\n",
       "         'unboxingmynewsmartphoneoponeplusoneplusamazonexcitedwalafeelingpictwittercomcschjerex': 1,\n",
       "         'newvideoyoutubesubscribedailyvlogstwitchgamingtwitchpsxboxsonygamesdestinyd': 1,\n",
       "         'hatehowmyphonehasanipodinitittakesthebatterydownsomuchiphon': 1,\n",
       "         'newoneyeybabypinkpinkotterboxsamsungsphonephonecasecutenew': 1,\n",
       "         'underwatersummersummertimepoolcountryhousecountrysidexperiazsonym': 1,\n",
       "         'imtryingitiaminstagramiphoneiphoneiphoneographyimissyoulongdistancesad': 1,\n",
       "         'firstyellow—steemit': 1,\n",
       "         'begoodtoyourwomanourshemightdothisiphonesmashphoneunlockingmotorolaindiaukcanadakenyasmartphonemotorolawikomobileeuropefrancerelationshipgoals…': 1,\n",
       "         'anyoneknowwhymyipodwontturnonitriedchargingitandnothinghateappl': 1,\n",
       "         'munchhhhhhchocolateinstagoodiphoneonlyiphonedairymilkcadburyoreotastygirl': 1,\n",
       "         'telluswhatyouaboutsupacamxtheamazingnewlivecameraeffectsapponiphon': 1,\n",
       "         'newcellphonecasesamsunggalaxyscutecaserilakkumabearnewphonesup': 1,\n",
       "         'headphonessonyredheadphonesmusicigerspiuraccrealplazapiura': 1,\n",
       "         'photothehealthyballoonsurvivorshahaagooglergooglemmigooglecolorfulmotorolafun': 1,\n",
       "         'justgettothenewipadsnoonecaresaboutmapsontheirmac': 1,\n",
       "         'finallymyoneplustarrivedsoexcitedthanksoneplusoneplusbrandnewcellphon': 1,\n",
       "         'weisawesomefriendshipbestotherhalfiphoneimessagebifftext': 1,\n",
       "         'howdoesgetanyonetohelpattheapplestoreeveryonesbusynosayshellonoprocedureonhowtowaittobehelp': 1,\n",
       "         'myphonewaspluggedinallnightlonganddidntevenchargewhattheannoy': 1,\n",
       "         'sincemyiphonedidntcomewiththeseiwentoutgotmyselfsomeearpodsithem…': 1,\n",
       "         'coogebeachhafizhinstamoodlikelikesamsungcamerainstaphonecoogebeach…': 1,\n",
       "         '“drshwetapuriappleworkingoniphonerunningonioswhywasntiphoneflopshowenoughfornoreasonp”heyfan': 1,\n",
       "         'lolnickeditrtiamnickdsaysitallhateappleandroidpicofthedayphotoofthedayinstainstagram': 1,\n",
       "         'mybabyfinallygotherenewphonegalaxysamsungsmartphoneandroidgalaxystmobil': 1,\n",
       "         'wrapsfishormexicanmercatometropolitanolondonfoodieslondondiningoutmarketindoorsinstafaveigdailyinstagoodphotoofthedayvscophotographylondoniphon': 1,\n",
       "         'myiphonebeenbuggingforlikedaysfinallybackontrackthoughabouttostartcatchinguponallmytweetssoonmuchlov': 1,\n",
       "         'highlightsoftheweekneuessmartphon': 1,\n",
       "         'cristianacarpefollowsundayfollowbackrtteamfollowbackfollowretweetiphonekeepdoingyath': 1,\n",
       "         'ihavetochangemyfingerideveryfkingdayifiwantthatfeaturerecentlythatsitimofficiallythebrandnotthefruit': 1,\n",
       "         'furballdogrescuedogcutenessoverloadphotoofthedayinstagoodpicofthedayonpicssony…': 1,\n",
       "         'ihateapplemytwitterappdoesntworkanymorebcsmyipodistoooldforthenewupdatesappl': 1,\n",
       "         'justwenttotheapplestoreandgotthebackofmyiphonereplac': 1,\n",
       "         'summertimesonyaiifamilyphotoofthedaycutecapturefollowmebeautifulmeprilagaphotographypicofthedayinstadailysonysonyalphaallshotsfilmphotosfashionfullframegirlartpictwittercombasejzfct': 1,\n",
       "         'thefutureofcellwatchesawesomesamsungandroidphoneswatchesfollowmecuteme…': 1,\n",
       "         'bondingtimewithrakimwithsexychellyorangecafeapplemiglightfriend': 1,\n",
       "         'ifinallygotamacbookdfinallyapplemacmacbookcomputerfirsttimeexcitedlaptopbylulipeacepictwittercombadhyuad': 1,\n",
       "         'inlitetallyoneweekiwillowntheiphonesfucky': 1,\n",
       "         'imyiphoneanallsexygirlsohmannhabichlangeweilenerd': 1,\n",
       "         'redeempromocodeiosiphonegamesplayingfreetodaynowartindiegameunitydartpuzzlefun': 1,\n",
       "         'ilovecatscatscutecoollikethisphotoinstaphotoinstalikeiphoneiphonisiajj…': 1,\n",
       "         'summerinburgundysundayafternoonsmilepicoftheafternoonigsony…': 1,\n",
       "         'appleissofuckingstupidihavetopayplustaxtogethelpwithmyphoneonthetelephoneappl': 1,\n",
       "         'funnystoryaboutpickingappleslaughterlaughsmileapplesaucesummerappleharvest': 1,\n",
       "         'thetimehascomebridesistersonyproudfamilyindonesiajakartagrandasia…': 1,\n",
       "         'itlookslikeandrewmccabeisgoingtoprisonthejointthebighouseanappleforacigarettetheyardthepokeybigbobbasmansiongetreadyforsomehardtimedouchebagvaselinelipstickfuckedintheprisonbitchlockandrewmccabeuploserass': 1,\n",
       "         'phonefreakedandnowihavenopicturesoranyofmynot': 1,\n",
       "         'gainfollowersrtthismustfollowmeifollowbackfolloweveryonewhortsgainiphonesougofollowhrhp': 1,\n",
       "         'iphonepricereductionwithtouchidgnfccontactlesspay': 1,\n",
       "         'soexcitedforthislittlearrivaltodaysamsunguksamsunggearfitfreebiehealthstartpictwittercomisygcelm': 1,\n",
       "         'iphoneanditunespissingmeoffmightaswelljustrestoremywholephoneandstartoverrighthateiphoneshateapplefthi': 1,\n",
       "         'happyfridayhereisthestickerapppreviewaspromisedenjoy——“brightboost”appstorestickersiosimessageiphoneipadfamilyfriendsgifpictwittercomyzttdswpv': 1,\n",
       "         'andfinallytheiphoneshattersmonthbeforemycontractisupwehadagoodrun': 1,\n",
       "         'furrtreenycnyvscocamvscosonysonyalphaariiimmmanhattannike…': 1,\n",
       "         'roastporkmostdefinatelywithapplesaucesteamedveggiesandmashareonthemenuthiseveningscrummywithadoublessohandasfarasimconcernedbeingacheesefreakthatsauceaswellonmyveggiessunday': 1,\n",
       "         'whoareyouwaitingforwaityoucuteafternooniphonepicfortodaydogchiwawa…': 1,\n",
       "         'bradboxbergernearingreturntoraysnewsphotographyfashionhealthfailtechipadiphonefunnyl…pictwittercomnehcbqwp': 1,\n",
       "         'prettyamazingfeelinghavingaphonethatdoesn’tneedachargealldayiphonexiphonesuckedappletheshit': 1,\n",
       "         'howgoodisthisfreefruitatwoolieswoolworthsbananaappleorangefresh…': 1,\n",
       "         'andapplebringsoutmorethingsiwantofcoursemagickeyboard': 1,\n",
       "         'happinessmakeyoubetterpersonkissgirlpicsamsungmyselfphotooftheday': 1,\n",
       "         'cuteheartscustomipadandiphonecaseforthevalentinesday': 1,\n",
       "         'arefreshingfreshsaladisallittakestoenjoyamealappleiossmartphone…': 1,\n",
       "         'withmyiphoneplus“theiphonexisauserexperiencenightmare”': 1,\n",
       "         'inmylibrarypaulavogelnewsphotographyfashionhealthfailtechipadiphonefunnylolpictwittercomykfbchc': 1,\n",
       "         'sayhellotomynewcamerathesonyfsvideoproductionfilmmakingsonyfsbt': 1,\n",
       "         'behappyfitstylefridaymoneysamsungwelsösterreichlifestyleherbst…': 1,\n",
       "         'moschinoiphonecasemynewbabyinspiredinlovefancyfashionluxuryboylikeboys…': 1,\n",
       "         'blackoutingwednesdaybedontthinkbadgambatehnotesamsungasianyanslovelyhom': 1,\n",
       "         'iphoneiphoneappleavtweepsavtweetuphotfollowfriendssumm': 1,\n",
       "         'gainfollowersrtthismustfollowmeifollowbackfolloweveryonewhortsgainiphonesougofollowfffl': 1,\n",
       "         'wearelovingcakedayinbrightongotsomepropperlushchocolatebeetrootcakeapplecakechocolateandraspberrycheesecakeplussomebuttershortbreadbiscuitstogowiththecoffeeifyouf': 1,\n",
       "         'newtvinbedroomsohappysamsungsmarttvnew': 1,\n",
       "         'iabsolutelylovesonymusiccamirecommendsonymusiccamviolaphotobyclementino…': 1,\n",
       "         'dontgetwhyiphonesarepopulartheyrepureshiteandroidisbyfarthebestsmartphon': 1,\n",
       "         'ihateiphoneswhyisitimpossibleforthemtousegorltetheworstcantd': 1,\n",
       "         'hateappleupdatedidntworkcausingmycomputertorestoremyipodfml': 1,\n",
       "         'scrollsthroughtwitterandfacebookforlikeminsandphonegoesfromtoseriouslyiphoneiphonebatterysuck': 1,\n",
       "         'icamehometomymaccasebeingatthefrontdoorwinningapplepinkmattefrost': 1,\n",
       "         'justinstalledicloudonmycomputerandithaswipedallmyoutlookcontactsandcalend': 1,\n",
       "         'comingsoonhumanhuesapparelhumanitygoodvibesapparelfitnessfashionigersstreetwearskatesurfiphonesportstgifpictwittercomoifgdpxr': 1,\n",
       "         'seriouslymigrationassistantisnotseamlessfmlfirstworldproblemsappleepicfail': 1,\n",
       "         'gainfollowersrtthismustfollowmeifollowbackfolloweveryonewhortsgainiphonesougofollowznjq': 1,\n",
       "         'whydoesthewordfuckstillturntoduckinmyiphoneiswearhowdoyounotfuckingknowbetterpottymouth': 1,\n",
       "         'sunflowersmakemenatureflowersunfloweryellowsummersevastopolsamsungnxmini': 1,\n",
       "         'razrdnewestrenomotorolarazrrazrdfelicidadsmileemocioninstap': 1,\n",
       "         'theiphonesistotallyamazingiphoneiosappleamazingphonetechmusiciphoneplusgoldmobil': 1,\n",
       "         '“drshwetapuriappleworkingoniphonerunningonioswhywasntiphoneflopshowenoughfornoreasonp”eh': 1,\n",
       "         'iloveyoubfffriendmebraziliancutefashionmylifetweegramiphoneinstaloversphoto': 1,\n",
       "         'warningdonotpokethesleepinggi': 1,\n",
       "         'newlockscreenandhomescreenhehelockscreenhomescreeniphoneiphoneeveryminutelifepictwittercomgqvkynoax': 1,\n",
       "         'greatmorepointlessappsidontevenwanttakingupmorestoragespacethatidontevenhavethanksappl': 1,\n",
       "         'drinkingcoffeereadingfrom': 1,\n",
       "         'awwthankyousomuchmsharlemnowplayingwakeupnextyoubysavvysossajustdownloadeditanduploadedtomyiphon': 1,\n",
       "         'applenwsappleyourshittyiosmadeeveryonesphonesuckass': 1,\n",
       "         'goodtohavemytabbackafterweekssamsungtablet': 1,\n",
       "         'hateapplejustwastedhoursofmylifepayingtogetanewbatteryformyiphonethatwasriggedtodrainbatterylifebyapplethxtimetoswitchtoandroidiphon': 1,\n",
       "         'newhoesjesamsunggalaxyslllvistaprintaffiewhitelv': 1,\n",
       "         '༺☾➊☽༻retweet༺☾➋☽༻followallwhort༺☾➌☽༻followback༺☾➍☽༻gainwithmertnow༺☾➎☽༻iphonesougofollowffä': 1,\n",
       "         'itsmenickiiorangepictureofthedaysamsungsamsunggalaxysgalaxysblondehaare…': 1,\n",
       "         'isweartogodimgoingtothrowmyphoneunderafuckingbusiitdoesntstoplaggingeverytwofuckingsecondsiosappl': 1,\n",
       "         'applemessedupwhentheymadethenewchargerforiphonebuttheyreallymessedupusingitagainontheiphoneappl': 1,\n",
       "         'ohhibabynewphonefinallysamsunggalaxysexcitedabouttimeyaaybaby…': 1,\n",
       "         'josalmonwithahammerandashotgunandloadsofgreenpainttosplashonthepretentiousstoresdonotfallfortheirli': 1,\n",
       "         'havingtouseaiphonewhilemyhtcukonegoesforitsthrepairhopefullyitsastraightforwardreplacementthistim': 1,\n",
       "         'funnythingwhydoesntwindowssueappleforcopyingthemnoworareappletheonlyonesallowedteamwindowsteamandroid': 1,\n",
       "         'hateappletheyaretryingmetogetthenewerversionnowaylnothingworkswithm': 1,\n",
       "         'iknowimgoingtolovemygalaxysstokedsamsungbyeiphon': 1,\n",
       "         'yeahfinallyihavesamsunggalaxysmesamsungswhit': 1,\n",
       "         'allmypicturesonmyphoneidunnoithoughtitlookedcoolpicturesmemoriesiphon': 1,\n",
       "         'hookedmyipodupwheredafuckdidallmymusicgo': 1,\n",
       "         'leftocentregaycarboysslsandpetcapitalteachergusfacereduxheythatshowitypeonmyiphon': 1,\n",
       "         'atworkingheheheamericainstagoodselfiemacapplecoffeevidaduraverynice…': 1,\n",
       "         'youtubesubscribedailyvlogstwitchgamingfunpsxboxsonygamesbungiedestinydestinyign': 1,\n",
       "         'followmeasiplayjhawkfortheiphoneipadipodfreegamefunkansasgeorgia': 1,\n",
       "         'applefamilyfrommygardenhappydaysdayapplegardenlyflowerskitchen': 1,\n",
       "         'upgradingmyimacwithlionmademesmilebutnowimr': 1,\n",
       "         'stevejobstogodworldwouldvebeenaddictedtotechnologyanywaysitriedtogivethemabetterversionbutstev': 1,\n",
       "         'newcaseilurvthatnewcaseiphoneselfiesummerinstgramhotwait…': 1,\n",
       "         'newphonesetupatlastandcouldalsoexplainmyabsencethiseveninglolniceshinyiphonextogetusedtolargerscreenbutsmallerphonecomparedtomyiphoneiphonexapplepictwittercomdhbnpgf': 1,\n",
       "         'macosxiosbetaitunesbetafeelsofreshnupdateddallsetforlionallsetiositunesappl': 1,\n",
       "         'formacosxonemomentmywalletisnothereillcomebackinaminutewwdcappleosx': 1,\n",
       "         'fuckihateituneswhatagarbageprogramwhenusingwindowscrashesanddoesntfindmydevicesappl': 1,\n",
       "         'liverizkyffrzkyffholidayforestdreamerlightroomadobesonyjakartaindonesiainstadayphotoshootphotographyinstagoodmefollowmephotooftheday…': 1,\n",
       "         'moleculesrhymeswithcoolspoolstoolsmulesjulespulesdontsmiss': 1,\n",
       "         'happyvalentinesdayczarinagizellesamsungsheartsdaycouplephonesredfavorit': 1,\n",
       "         'chicagonow': 1,\n",
       "         'kierannisbetdontthinksohahathestaffweresorudetoosomyletterisalengthyonerantoverbtwsorryhahahaha': 1,\n",
       "         'ⓒcheckoutmynewflappybirdhighscoreflappybirdhighscoreiphonesiasamsunggalaxysbirdgamepictwittercomvkvhmkfi': 1,\n",
       "         'hadtogobacktomyfavoritesamsunggalaxi': 1,\n",
       "         'myworkingdaywillreallybeveryverylongapplepictwittercomynkbsxbf': 1,\n",
       "         'happybirthdaypapssamsunglivelaughlifebirthdayinstagoinstahubinstagram…': 1,\n",
       "         'nooneupdatethenewitunesthereabugiupdateditanditwontletmeevergetonitunesonmycomput': 1,\n",
       "         'bondingwithpaupaubananabondingcamstiredfunbbiphonecasegreenhil': 1,\n",
       "         'apparentlypainfulmorehourstogosotheysayiosapplestaytunedpictwittercomrgjiklywh': 1,\n",
       "         'sunsetoneminuteagozeelanddezeekustbuienradarsamsungsunsetstormhouromroepzeelandrtpictwittercomarocmqb': 1,\n",
       "         'heyguyslookmotorolamotogsplusgbgblunargrey': 1,\n",
       "         'sayhellotothenewphonesamsunggalaxysedgehypenewawesomesmartphon': 1,\n",
       "         'andnowihaveappletvamazingspendmoneyenjoylifeappletv': 1,\n",
       "         'ringsofkerrygetthesamsunggalaxysitlastsforagesandiuseitconstantli': 1,\n",
       "         'theappleofficlalgeniusesaskedmeiseverythingbackeduponitisaidnohesaidwellthatsashameripoff': 1,\n",
       "         'meetsonysnewestemployeesonynewjobsmileselectronicsdopesonystor': 1,\n",
       "         'howtopronouncegenericmexican↺rt': 1,\n",
       "         'isbeatsamistakeforapple►': 1,\n",
       "         'mybirthdaygiftfrommyauntimsososohappymybirthdaygiftsonycameralov': 1,\n",
       "         'yeahsoishouldhaveiossoonthenbadbadnotgoodapplepictwittercomzfxqovl': 1,\n",
       "         'earlychristmasgiftfrommysweethusbandgalaxysgalaxyphonesamsung': 1,\n",
       "         'hahainstapickmrpocketsonyschollfreecllaskanesmafollowlikementionfollback': 1,\n",
       "         'problemswithsamsunggalaxyandfroyowelllagfixisforyoud': 1,\n",
       "         'ifuinghateitunesitscrewedmydisplaydriverwhenitupdateditselffail': 1,\n",
       "         'headshopnewgamecomingsoonnewsgaminggamedevgamesvideogamesappsiphoneandroidindiedeviosandroidunitypictwittercomjmntbj': 1,\n",
       "         'secondtimethisweekiwanttogetridofmyiponeappl': 1,\n",
       "         'finallyamilaneseloopwatchapplewatchtechgadgetfashionbraceletme…': 1,\n",
       "         'akaforrealdoeworkoutortraingeefilmworkzgreeneyedentcinematographyphotographyiphonexzeissmoviesmotivationaldocumentariesmensstylefinalcutproj…': 1,\n",
       "         'bmariefollowsundayfollowbackrtteamfollowbackfollowretweetiphonekeepdoingyath': 1,\n",
       "         'makeupshownycnycmakeupinstagramiphoneiphoneograpgyiphonesiapicoftheday': 1,\n",
       "         'anyonewhoupdatedtoiosknowsthepainihavebeenthroughforthepasthourkillingmyself': 1,\n",
       "         'tanchecktanspringaprilfuckyoudopesickappleshirtlessskinnyworkoutiphonesinstalo': 1,\n",
       "         'gainfollowersrtthismustfollowmeifollowbackfolloweveryonewhortsgainiphonesougofollowfflk': 1,\n",
       "         'onelovephotgraphysonyxperiazselfiemylovesunnyparadisedayoffcute…': 1,\n",
       "         'photoofthedaysunnikonappleiphonephototrytogoprofollowm': 1,\n",
       "         'whyareyoudeletingallmyemailsyouuselessnewphonehateiphon': 1,\n",
       "         'myboyfriendnewsonginstasizeiphonelolhereitisitunesfloridachrisbrownhim…': 1,\n",
       "         'samsungengineeringbuildingphotooftheweekweekendspringdayweekenddaywalkingdaysamsungen': 1,\n",
       "         'rtcookjkcookjk未熟な料理食材の全てに感謝cookingjkjapanゆっこ飯applepieアップルパイリンゴffsweet': 1,\n",
       "         'shoppingdaymestarbuckscoffeelikelikeniceinstagoodarubainstagoodiphone…': 1,\n",
       "         'setupalmostdonenewtvsamsungblackmass': 1,\n",
       "         'themainreasonwhyihateappleistheiosbullshitsoooooannoyingatinconvenienttimesmyipadthinksitwillexplodeoneveryupd': 1,\n",
       "         'howdoyoucatchupwithyourfamilysoutherngirlproblemsfamilycousiniphone…': 1,\n",
       "         'evenifitwasjustapictureofanappleappleredfruityumheathyhashtagsuggghhjustannoysmelol': 1,\n",
       "         'newcaseshanogramcasemartyarchscasesnameiphonexnamefashioncasefashion': 1,\n",
       "         'iphoneisjustlikethesbutthinnerandhasabetterbatterylif': 1,\n",
       "         'youappleyouapplesucksappleapplehateuusucksplaylistfreeannoyingslapictwittercompvrkmwgzcf': 1,\n",
       "         'ishouldbegettingmygalaxythisweekyipeeeeandroidalldayeverydayhateiphon': 1,\n",
       "         'byebyesamsungitstimeforsonyxperiacwhitethankstomypocketmoneyeonatpunekushpatelkprrrishabhrathod': 1,\n",
       "         'androidtakingaonappleandrightlysoiphoneismacsar': 1,\n",
       "         'hardatworkdoingawordsearchapplebeesdinnerkidsiphoneinstamoodfuninstafun': 1,\n",
       "         'amazonprimedayeverythingyouneedtoknow': 1,\n",
       "         'justlostallmynumbersandphotosofmyphoneappl': 1,\n",
       "         'fuckyouapplefornotconnectingmetoituneskeepupwiththisbulltotrytogetmetobuyiphoneandiwillgetridofy': 1,\n",
       "         'inlovewiththisbathroomsohohouseberlinsonysuitehelloxperiaz…': 1,\n",
       "         'creativestorecheersorderedthebluetoothbundlelookingforwardtogettingitcr': 1,\n",
       "         'holycrapthemoreilookatthenewiphonethesexieritlooksappleiphon': 1,\n",
       "         'iphoneandsamsungsssandsphonebyeverlunastor': 1,\n",
       "         'weareallonehumanfamilypakistanhumanrightsindiauniphon': 1,\n",
       "         'periwinklebluewoodenbirdfeedergardeninggiftsscottishgiftsbirdsappl': 1,\n",
       "         'freetablettodaywinningsundayfundaysamsungtechnologytabletnewtoyawesom': 1,\n",
       "         'camehometoanewinchflatscreentvdreamhusbandsamsungberlintv': 1,\n",
       "         'mayraloveepactaughtmewewouldtobeyournewwirelessproviderfortheiphoneheresalinkfory': 1,\n",
       "         'imahappygirlgalaxysteamgalaxyteamandroidsamsungyayyawesomethebest': 1,\n",
       "         'backinservicegayboygayguyenamoradogaymannewphonenotesamsunggalaxymihous': 1,\n",
       "         'manappleanditunesbeonsomeseriousdontdownloadformedafuckiswrongwithy': 1,\n",
       "         'phototheincredibleteighlorkearneyprettycutegorgeousbeautyigiphoneignationinstahub': 1,\n",
       "         'imustgooutsomejobdonespreadhappinessinordertorevealffquotetwinagoyajapantwciphonehaitisupport': 1,\n",
       "         'yeeeenewphonecoverarrivedphoneiphonecoverboxermarcjacobsdogblackwhit': 1,\n",
       "         'xperseguersthxwilltrynowindoubtihaveanrsnapshotbackupbuthopethatitwillkeepmydata': 1,\n",
       "         'honestlyiveprobablyspentatleastfixingmyfuckingiphonescreenshatemyself': 1,\n",
       "         'jumpforjoychihuahuadogpuppyjoyrunsonyportraitanimalpictwittercomszkogwar': 1,\n",
       "         'smilesmilegirlvacationbokehsonyacolorvscolisboawarmsunsunny…': 1,\n",
       "         'bacterialrhymeswithrealserialcerealappli': 1,\n",
       "         'dragonballxenoverseonsal': 1,\n",
       "         'thatwasyaaammmmrussianbbqшашлыкbbqnaturefunendlesssummersamsungnxmini': 1,\n",
       "         'photoshowingwhereloveisatmyfavoritegrammersurompwitdemurompwitmeiphon': 1,\n",
       "         'firstpicturesonmysamsungnotebookgirlsamsungnotebookbirthdayjuneinstaframe…': 1,\n",
       "         'christmasglitteraztecdesign': 1,\n",
       "         'ivespentoverhourstryingtofixmybrokenphonetodayitsstillbrokenhateverizon': 1,\n",
       "         'ilovephotography\\ue329photographynikonnikonistasiphoneiphonefunnytimburtonstainboytoydol': 1,\n",
       "         'timetopaintthisbadboypaintbeanbootsryobidewaltnamasteyogayogapantsyogaposeskingkregjiguposeclarksvilleiphoneclarksvilletnyotoolcokepepsifamilyfrostvictoryvictoriassecretrustrusticwoodcarvingpictwittercomiaelrvqnxg': 1,\n",
       "         'amirightshoutoutsindianmalayalifuntbttbstaggingphotographyiphoneusers…': 1,\n",
       "         'lessthanhoursleftwithmyiphonecountdowncantwaitbyebyeappl': 1,\n",
       "         'falloutgotyisbucksonsteamtodayandihavenomeansofplayingitwhycruelworld': 1,\n",
       "         'appleofficlalthanksforhelpingfixmywhatsappandotherappissueeasilyyesterdaygreatappleiphon': 1,\n",
       "         'applesupportiscrapitsnousecallingthemalltheytoldmewaspaytomaybegethelphateapplesmh': 1,\n",
       "         'cuddledupontheflooronthissnowdaytvdrwhorelaxedsonyappletvth': 1,\n",
       "         'usingappleproductsattimesislikewatchinganuglygirlformforaguyontopfonenumb': 1,\n",
       "         'havetogototheapplestoreforthefourthtimeonwednesdaygettingold': 1,\n",
       "         'mybestfriendkennylutzalydianolovevenicecaliforniaiphoneiphonesiaiphoneographycalifo': 1,\n",
       "         'repostingalexxlucerophotoofthedaymeinstamoodcuteiphonesiafashiontbtigerspicofthedayfoodinstadailyiphonepictwittercomdtaxttip': 1,\n",
       "         'gainfollowersrtthismustfollowmeifollowbackfolloweveryonewhortsgainiphonesougofollowffzx': 1,\n",
       "         'upgradedtoasamsungmobilegalaxyslteyesterdaychuffedawesomephonesamsunggalaxi': 1,\n",
       "         'armanishadessamsungsmyalcoholilovepurplepinknonsensebwahahapictwittercomcbwrhkc': 1,\n",
       "         'ohthanksappleyouwipedmyphonesaidthateverythingwillbenormalafteribackeditupandeverythingisgonetwat': 1,\n",
       "         'koncnojepriselmojsiiinazajsservisahappychilddandimbackonsocialmediapphonesamsungsiiionlineagain': 1,\n",
       "         'icanjusttellmyphoneisgoingtocrashiwanttounjailbreakitbutoffuckingcourseitwontletmejustmyluck': 1,\n",
       "         'whatatbftoourtriptovisitthecountytouristtraveltravelbloggertravelphotographypicofthedayphotographyphotoofthedayiphonexskysummerhot…': 1,\n",
       "         'superslowmosamsungsplussamsungsplustraveltravelledtravellingslomosuperslowmofuntweeterindiaindiaindianpictwittercommmjsmf': 1,\n",
       "         'shatterproofmyimgoingtopunchsomeoneinthefacepieceofappleiphonenotw': 1,\n",
       "         'yeappmyphonehasanicecameraigotsomeskillstoo��opooneplussocalrainal': 1,\n",
       "         'appleandituneswtfburnedcdsonxandxanditscuttingoffburnedanotheronewithneroonxnoproblematal': 1,\n",
       "         'wowsuperpumpedigotanewipodbutcantputanythingonitcuzmymacbooksaysicantdownloadthenewitunesapplewtf': 1,\n",
       "         'applemapsdarkknightparodymoviehd': 1,\n",
       "         'aliciamamohowdidyoumanagethatidroppedmineaweekagoandbrokethetopglbittheytoldmetheycantfixittho': 1,\n",
       "         'fuckinghateapplelikethanksfordeletingallmyshit': 1,\n",
       "         'lessonhowtodownloadfontsfreeoniostodesignphoto': 1,\n",
       "         'izziorbitfortheiphonedeliverstopnotchphotographi': 1,\n",
       "         'anawesomephabletnoteduosnotenotesamsung': 1,\n",
       "         'photoicouldjustlingerfordaysandmeltwithyouwordsinstagramtwitteriphonenight': 1,\n",
       "         'samsungchiefmobiledjkohmytradeinphonewaslostaftersavingayearfromdrowningandyourcrapcompanywillnothelpwithmytradeinvalueforanewphonesamsungsamsungdontcaredontcarewftscrewyoupictwittercomyapgybhon': 1,\n",
       "         'thenewappleappontheiphonekeepscrashingandsometimesrestartingdevicewhentryingtoplayamixyourupdatesucksappl': 1,\n",
       "         'wellittooktimetoarrivebutiamverymuchinlovewithmynewipadthankyoumrjobstechnologyappl': 1,\n",
       "         'littlerobinhatchedovereastermondayusingasonyrxiiisonynatgeotravelnatgeomemphisbotanicpictwittercomiopclziban': 1,\n",
       "         'lovereallydoesmakeyoudosillyth': 1,\n",
       "         'englishportugueseaudioproverbsappjustreleasedlistenrecordlearnlanguageswisdom': 1,\n",
       "         'mynewbabypsgaymermicromaniadestinypswhitesonyplaystationgaminggam': 1,\n",
       "         'whenyouhavetheiphonexandalifeproofcaseyoucantakebombshowerselfiesselfiegayinstagaygaymanscruffpridenofilterjoypeace…': 1,\n",
       "         'igotpocketfullofhappinesstocapture♪exciteditwhitenewcamerasonynexrl…': 1,\n",
       "         'ithinkimgonnadeletesomepicfrommyphone\\U000fe331\\U000fe190\\U000fe354piciphonefullpicsinstadailyinstagoodsumm': 1,\n",
       "         'designedbyappleincaliforniaiphonexappleiphoneappleaddictbeautiful…': 1,\n",
       "         'thereisascaryconnectionbetweenaguyandhisiphoneladiesyoumightneedtoinsertversusgettingurnuvaringhookbait': 1,\n",
       "         'marketingukthnxforyouremailtodayanychanceofanandroidversionwouldmakemereconsiderendingmysubscriptionpleas': 1,\n",
       "         'finallymanagedtogetanewbatteryformyphonefeelslikeanupgradesamsunggalaxi': 1,\n",
       "         'teresagiudiceheadsbacktocourt…': 1,\n",
       "         'finallypartoftheiphonegangiphoneciphonetooexcitedpinkmylittlebabyfollow': 1,\n",
       "         'sonyfromthebottomofmyheartiwouldliketosaytoyousonymobilenewswhereismyupd': 1,\n",
       "         'firstpresentfrommyfirstlovedatingpenguinsnecklacejewelrymineshinyigigersiphonepho': 1,\n",
       "         'lookatwhatigottodaydyingsamsungsphon': 1,\n",
       "         'hateapplemusicwhetheridownloadmusicimportmusicoritsacompilationwhenisaymyalbumsiwanttoseethemal': 1,\n",
       "         'scottiwatasowhatyouresayingispeopleshouldmicrowavetheiripadsbecauseitotallyagre': 1,\n",
       "         'eggcrush': 1,\n",
       "         'justacoupleofpicturesitookphotographyitsamsunggalaxykzoompictwittercomdxvnzoy': 1,\n",
       "         'applebeesflowhourmadedollarsntipsgottaeatgoodimstarvinganicesteakkomingup': 1,\n",
       "         'repostinglexzaroniswalkthroughthedoorandontheothersideyou’llfindmagicexplorelandscapephotographerbeautifuloutdoorsgetoutandexploreslowingitdownludapixphotographybeautifulenglandapplemacmacbookprohashtagnofilterigersnikkorpictwittercomyetsust': 1,\n",
       "         'theremusthavestorycameranikonsonypicofthedayfreetim': 1,\n",
       "         'unravelinganothermysterywiredappleheadphonesgrassrootsgrassrootskavahous': 1,\n",
       "         'ilovehavingasonyflatscreensonyaudiounitandasonypsandhavingtousedifferentremotesatanygivenmo': 1,\n",
       "         'iwishtobeshoutoutsindianmalayalifuntbttbstaggingphotographyiphone…': 1,\n",
       "         'despisethisiphoneapparentlynotenoughroomforiossodeletedloadsastuffstillnotenoughappl': 1,\n",
       "         'gainfollowersrtthismustfollowmeifollowbackfolloweveryonewhortsgainiphonesougofollowf€k': 1,\n",
       "         'repostfrombowdaprbowsoverbrosyallperfectionbowsbowloveriphonebowdaprwant…': 1,\n",
       "         'ithoseanalogmeasuringapparatuslikethisoldbarometerhaveanicedayfrenchmothersdayshotoniphoneiphonex': 1,\n",
       "         'happyborndaytous☆birthdaysiblingbrotherappleiphone…': 1,\n",
       "         'jobsearchremixedonjuneth': 1,\n",
       "         'myfavsfamilylifefamilytimeinstainstamoodiphonesnapshotmomentpicofthedayb': 1,\n",
       "         'guessworksfrankwilliamsrubweekdaysselfiefriendsfoesfridayiphonespawnrsartpurposenaturehumanitypianomusicfriendspictwittercomakuzijr': 1,\n",
       "         'photolunchtimedietfruitswatermellonapplemelonyumyuminstadeliciousinstasexysexi': 1,\n",
       "         'iwantthenewipadandthenewiphonesbutwaitwheresthemoneyappl': 1,\n",
       "         'shinynewapplestoreabouttoopeninkingstonuponthamesappleshinygadget': 1,\n",
       "         'ontheroadontheroadnewskirtflowersflowerpowermirrorpicnewphonesamsung…': 1,\n",
       "         'itdidntworkproperlyanymoresoigotalittlebitangryapplepictwittercomgzvhkgf': 1,\n",
       "         'freddiewithtomukgeneralpicturegoodgodnicedayfamilytodayrainsonysonynexnv': 1,\n",
       "         'oneplusoneisbeastofaphonefinallyboughtonenowjustcantgetmyhandsoffitenjoyingmyselfthankyouoneplusinlov': 1,\n",
       "         'photomyscreenprotectorhellokittybowsuperkawaiicuteahhhhhhhiphonemirrorp': 1,\n",
       "         'planeisidontknowwhathappenedhavetoreinstallallappsohanditdoesntacceptmywifipasswordanymoresoagainappl': 1,\n",
       "         'thankyouchristmaspresentsamsunggalaxynotebrunchminenewtoyigersifouratef': 1,\n",
       "         'rtamplicatetliphonepeopleagreemoreoniphonepag': 1,\n",
       "         'ijustboughtatabletthatwasntanipadyeahgetmeandmylackofbrainwashingcontroversi': 1,\n",
       "         'shesofficiallfollowsundayfollowbackrtteamfollowbackfollowretweetiphonekeepdoingyath': 1,\n",
       "         'eventsonyyearsdressedupsonytvcongratulationsforcompletingterrificyears…': 1,\n",
       "         'newyeartoallmyfollowerswithtechnicalapplenewsnflforextraidingbinaryiphoneipadpictwittercomwctqerxmg': 1,\n",
       "         'soimyphonethoughtitscutetoputitselfintorecoverymodelividiphoneproblem': 1,\n",
       "         'mybowbunifinallylearnedhowtodoitprettycutehighbunsweetiphonefashion': 1,\n",
       "         'justgotthisphonenoteventwoweeksagoandthechargercablealreadydoesntwork': 1,\n",
       "         'pinkandglittervisitusabluewatershoppingcentreiphoneprettysparklepinkapplepictwittercomkqjyojnqn': 1,\n",
       "         'gotmynewappleiphonetodayappleiphoneiphonegoldfanboythril': 1,\n",
       "         'mynewlittlebabymacbookmacbookproretinaappleluxuryproudladygaga…': 1,\n",
       "         'asurprisecddeliveryfromchrismusotodayhappydayspharrellgirlnewmusicsonycd…': 1,\n",
       "         'heysiriouslysusanthanksforthefollowidanvoicemailmessageformyiphon': 1,\n",
       "         'whydidntyougetiphoneahahahahajksomeoneishegotssamsunggalaxyphone…': 1,\n",
       "         'outingsvocationnewyeartripthailandkhaokoailcesonyvscosnapspeed…': 1,\n",
       "         'anothercustomerthankstomaratavisionforspeedydeliverysonykprojectorsetforcinemanightspictwittercommeymjeqs': 1,\n",
       "         'merrychristmastomednewcamerasamsungnxcameravideoschristmasfinally…': 1,\n",
       "         'flowersspringflowersspringnaturanaturenatureloversexplorefffunmeiphonesiaiphonecu…': 1,\n",
       "         'everytimetheysayweregettingnewemojisigetmyhopesupappl': 1,\n",
       "         'paidforcollegethroughthestockmarketthankyouappleaaplforcrossingthemark': 1,\n",
       "         'mccabeantsomepeoplewouldcallthisafuckyouhashtagyourfirsttweetapplepicturesinsta': 1,\n",
       "         'hphpbizanswershpnewshplabspleasemakemoresmartphoneswweboshadpalmdiednowhaveandroidsstinkybad': 1,\n",
       "         'samsung’snextphabletmighthavethebestdisplayeverseenonaphon': 1,\n",
       "         'makeworkprettyitwontfeellikeworkilovemyjobhappinessmacapplempls…': 1,\n",
       "         'newyeargetfreeminutestocallcountriesandroidiphonesamsunghtclgpromocodetwfre': 1,\n",
       "         'iphoneksakuwkuwaitqqatarusuaeusaiphoneapplesalesfssalefunfollow…': 1,\n",
       "         'ifyoubarelyhaveanygamesoutatallwhyevenreleaseonlinemultiplayersonymultiplayeronlinepsplaystationpsn': 1,\n",
       "         'checkoutmynewbabyinstagrammextagramgiftcamerasamsungbuenfinr': 1,\n",
       "         'mynewphonenewphonesonyxperiazblackswaginstapicinstashotnovi…': 1,\n",
       "         'appstorelovingmyipadexceptforfactitwontplayvideosfromthesitesivisititwontplayadobeflashmajorappl': 1,\n",
       "         '•phoneupdateiphoneplus•iphoneplusiphoneiphoneapplephonemobiletreatupgradeprettyamazingtagsforlikeslikelikelikeforlikefollowmefollowinstagoodpicofthedayphotographyphotoofthedayphotobestofthedaycutepictwittercomdcxrxazi': 1,\n",
       "         'doodlingfromashadowonthewallsamsunggalaxynotedogsmil': 1,\n",
       "         'fuckinghellitsgoingtocost£torepairthetwocrackedcornersoftheipadridicul': 1,\n",
       "         'finallyupdatedtoversionsomethingjustbecauseapplemademebydestroyingmyphoneappl': 1,\n",
       "         'expandingmyapplycollectionslowlyfinallygotmyapplytvappleappletvsummerpictwittercomxxlzywpi': 1,\n",
       "         'stuckwithaphoneididntevenknowhadbeenmadeforaboutaweekbadtim': 1,\n",
       "         'thismeansiloveloveandimfromhumboldtcountynativeamericanpicofthedayiphon': 1,\n",
       "         'memyselfimumbailifewalkinstaloveigersmenmeindiasoiiiphonemyselffacesilhouet…pictwittercomdnoenbcc': 1,\n",
       "         'whoeversaidiphoneswerethebestintheworldwerewrongminewontevenletmereceivecallsortextsiphon': 1,\n",
       "         'echoboxwithyouforlifeearphonesheadphonesmusicbluetoothinstagoodlikelikewirelessspeakersapplepicofthedayfollowforfollowsoundfollowmelikeforlikeiphonefollowfollowheadphonetechearphonebluetoothspeakerrepostpictwittercomsvuzmt': 1,\n",
       "         'bluesblowduganruledoutoforigininewsphotographyfashionhealthfailtechipadiphonefunny…pictwittercomjbckxcauh': 1,\n",
       "         'mylatestimpulsebuyhowbeautifulpstoypresentgameconsolesonywhite…': 1,\n",
       "         'myphoneishadbeenchargingforhoursandisonlyonanditwasonhouragoappl': 1,\n",
       "         'whatthefuckappleproductssuckipodinstagraminstadailywhattodo': 1,\n",
       "         'fallbeautifuldeliciousapplecrispyhealthystrongfoodfoodartyum…': 1,\n",
       "         'itsnotcmingfullihadtocropitlovethissceneintheiphoneiosiwatchiphone…': 1,\n",
       "         'photopreachwalefeelfoodforthoughtfeelingsinstagramigiphonelivelaughtruth': 1,\n",
       "         'mesontodayishateappledayanandmahindraisalsocomplainingaboutappleproduct': 1,\n",
       "         'forgetyourtroublesandshareafaceemojiibbleobbleimessagestickersappl': 1,\n",
       "         'happynewphonedaytomelookingforwardtotryingoutthecameraatpastavalthisweekend': 1,\n",
       "         'atlastwatchdogsubisoftplaystationpssonymidnightgaminggamervideogam': 1,\n",
       "         'enjoyacupofhappinessinstadrinkphotoofthedaysamsungsamsunggalaxytabtabp…': 1,\n",
       "         'newphonememethakyousomuchdadmypicminenowmyphonesamsungsamsunggalaxy…': 1,\n",
       "         'thanksalotapplemakingmyiphoneauselessnonresponsivecrapiosfail': 1,\n",
       "         'stupidiphonefragilewhoreihateyouapplewhycantthebackbetitaniumagainorwhateverthefuckitwasiphon': 1,\n",
       "         'appleiphoneloveriphonesiphonesgooglepicofthedaytechfreakgadgetsdel': 1,\n",
       "         'appleyourappleidloginsucksremoveyourfuckingbrokensecurityquestionssystemnowwhomadethiscrapapplesecurityfail': 1,\n",
       "         'gottalovehowapplemakespremiumelectronicsyettheheadphonesandchargerformyiphonearebrokenapplegoandroid': 1,\n",
       "         'myyearoldmothersimultaneouslyshatesmyiphoneshereferstoitasmyblackberryipod': 1,\n",
       "         'mybeautifulprincessdaughterinherhawaiianpresentcuteigiphon': 1,\n",
       "         'butappleithoughbigphoneswereunus': 1,\n",
       "         'goiponiphoneigersmedreamwantsigersasiaigersphigerspinasfollowfollower…': 1,\n",
       "         'comeheretomamamynewbabygiftgalaxysamsungwhitenewsweetvalentineigers…': 1,\n",
       "         'doyathinkmynewiphonecoverisblingyenoughlolitiphonefibourkecoustommade…': 1,\n",
       "         'asmileinmyroomshowmeyourhappinesssmileroomαsonylightartbeautiful…': 1,\n",
       "         'anythingyouputyourmindtoyoucanbecomeoraccomplishitfactsmiamikingeazzytechnologyfitappleapplestoremiamibeachlitsmilethankfulmotivation…': 1,\n",
       "         'photoofthedayinstagramiphonenailscreativityspiritualripbrojoynailsbynettiehookedm': 1,\n",
       "         'ithinkshestryingfigureoutwhatssospecialaboutsocialnetworksbabyiphone…': 1,\n",
       "         'myfriendisupsessedwithapplegoldiphoneappl': 1,\n",
       "         'ilovehowmywashingmachineplaysacoollittlesongatthecompletionofthecyclethankssamsungmondaymorn': 1,\n",
       "         'ipodsapeiceifanyonewannasellorgivemeanewoneshitti': 1,\n",
       "         'mygirllovesapplesbeautifulautumnappletreenaturestücklegarden…': 1,\n",
       "         'likeuniqueiphonecasesthenfollowmyotherinstagrampagecutecasesiphonecut': 1,\n",
       "         'lovemysamsungsdroppeditdownthetoilettodayandcanconfirmitreallyiswaterresistantworkslikeadreamstil': 1,\n",
       "         'prettiestgirlontheblockselfiegamestrongselfieiphonexsmileblondeprettynewphonewhosdisfreshheartsit': 1,\n",
       "         'merrychristmasoneofthefewtimesifeelitnecessaryformetobeinfrontofthecameraratherthanbehinditchristmassonyamirrorlessgeeksfamilyfamilytimefamilyfirstmyfamilyfamilydaymyfamilyfamilylove…': 1,\n",
       "         'graciasappletrillionpositivitymotivationalawesomepositivevibesappleiphoneipadmacwinninglif': 1,\n",
       "         'sheeshimsotypopronetodayithinkineedanewcellphonemykeysarebeingfuckysamsungbebett': 1,\n",
       "         'yeahbitchhelloyeahmyhatbonnetitbedroomiphonetuesdaynighttiredbabytigerf': 1,\n",
       "         'itactuallyashamethatappledoesnotemployavastamountofpeoplewithknowledgeofotherlanguag': 1,\n",
       "         'mydayisbrighterbecauseivegotasurprisefromhusbandsamsunggalaxynotepink': 1,\n",
       "         'bestideatheycouldcomeupwithfbapplepayforeggfreezingspermdonor': 1,\n",
       "         'omgihateapplemyiphoneisgettingonmylastnerveicantwaittogetmynewphonesamsunggalaxyiphoneprob': 1,\n",
       "         'joebidendonaldtrumpwouldlead…': 1,\n",
       "         'applenowisaplaguetotechnologypatheticpatenttrollswhojustknowhowtoresizetheirdevicesandfilllawsuitsappl': 1,\n",
       "         'acolleaguehasboughthisfirstcellphonesinceitsanappledeviceandheissoootobeupdatedtoevolutionismoreimportantthaninnovationoldnewswhoneedsinnov': 1,\n",
       "         'ilikelockspinstahubinstagoodiphonelocksfffslc': 1,\n",
       "         '“mzkelzinstagramiphonethanksneekztaylor': 1,\n",
       "         'appleceotimcookdontworkformoneyyouwillneverb': 1,\n",
       "         'gainfollowersrtthismustfollowmeifollowbackfolloweveryonewhortsgainiphonesougofollowcäc': 1,\n",
       "         'nbaplayerbrycedejeanjones…': 1,\n",
       "         'ihateapplealltheirproductsandeverythingtheystandforyallarefuckingtrashgarbageformakingmedeleteallmymus': 1,\n",
       "         'firstpicwithmynewcellphonemeboyguyhappinesxperiaslandroidsonyigers…': 1,\n",
       "         'youknowappleproductssuckwhenofpeopleinthestoresandtryingtogettheirstufffixedawfulapplesuck': 1,\n",
       "         'gotmynewphonetodaythiscallsforaselfienewphonesamsunggalaxyswhite…': 1,\n",
       "         'howthefuckdoyoufixaniphoneplusthatdoesphantomtouchingandyouhavetobendwhenthescreenstopsrespondingappl': 1,\n",
       "         'menmybridesmaidwhiteweddingiphoneinstagrambridebridesmaidmemoriesmemoryforevero': 1,\n",
       "         'qahiifulikeiphoneiloveithelpforsel': 1,\n",
       "         'freefantainstagraminstamoodpicofthedayinstagramhubcutebeautifulsweetiphonesiaiphon': 1,\n",
       "         'hellobabycometopapanewphonesamsungnoteguerrerohouseofmovi': 1,\n",
       "         'bowbridgecentralparknycnynycnewyorknewyorkcitymanhattanwestsidenycphotographernycphotographyigersinstagoodinstalikebeautifulinstagramhubexploreexploretocreateiphonesiaiphoneonlyiphone…': 1,\n",
       "         'chilldaysittingatthehouseplayingthinkyoumeiphoneitunesthisgam': 1,\n",
       "         'updatedmyitunesandlostallofmyplaylistsandsongratingsyetanotherreasonto': 1,\n",
       "         'iwassatisfiedwithmyiphonesuntiltheiphonecameoutalwaysomethingbiggerandbett': 1,\n",
       "         '“mutibabetonightohyouknowjustanotherdayatworkfilmingpharrellsonymusicvideo': 1,\n",
       "         'isitbadthatialmostfeellikeicanbreatheeasieraftericalibratemymonitorapplelaptop': 1,\n",
       "         'newyearwithsamdanielspaperartistsamsunggalaxynoteintelenetthfloorpantri': 1,\n",
       "         'followbackinstantfollowifollowbacksingsadfunapplefriendsholidayfollowmeiwillfollowbacky': 1,\n",
       "         'gainfollowersrtthismustfollowmeifollowbackfolloweveryonewhortsgainiphonesougofollowx': 1,\n",
       "         'pissesrhymeswithtwashissesmisseskissesclick': 1,\n",
       "         'newdigsnewdisplaynewleaseonlifeappleasosthunderboltballerstatusgetaroundit': 1,\n",
       "         'gainfollowersrtthismustfollowmeifollowbackfolloweveryonewhortsgainiphonesougofollowvg': 1,\n",
       "         'waitingmotorolacaptureinstagramwindowslumialumialovesummerwait': 1,\n",
       "         'timcooksapplethanniversaryappl': 1,\n",
       "         'pureinnocenceasonyadorableadorablecutefunfamilyforeverphotogenic…': 1,\n",
       "         'stevejobsdiedwithregretbecausehislifedidntflashbackbeforedeathscumbagappleboycottappl': 1,\n",
       "         'excusememrmilestoneivealreadydeletedalotofappsyourestilltellingmetheresnotenoughspaceyetmotorola': 1,\n",
       "         'changedstylingpicofthedayootdhairredbrownlllflapplebandel': 1,\n",
       "         'canoeridegermanybeilngriesaltmühltalfamilycanoenaturesamsungphsamsungsportwat': 1,\n",
       "         'whydoesmyitunesthinkitsacceptabletobeaatthistimeitsnotappleprick': 1,\n",
       "         'thebelovedsistergirliphonebeautytreeleavesjjinstamoodimstagramprettymodelbeautif': 1,\n",
       "         'idliketosendabigsuckittoapplecausemyupdateonlytookminitappl': 1,\n",
       "         'happyfamilyatbnswiediasetianifuntimebnsholidaysamsunggalaxi': 1,\n",
       "         'soiupdatemyphoneandtheyoutubeappgetsdelet': 1,\n",
       "         'skrillexyoursongsarelikefoodmanskrillexscarymonstersiphon': 1,\n",
       "         'myphonesbeenonchargeallnightandimonalreadyiphon': 1,\n",
       "         'finallynewdressformybabythankssamsunggalaxyscasingcolourfulnewinstagramin': 1,\n",
       "         'iosgamestoplaywithyourspouse••••tobondwithmyhusbandweplaygamestogetheronourphonesreadaboutwhatgamesirecommendontheblogappsiphonejumanjigamesboardgameshusbandwifemarriagelaughblogbloggerontheblogarticleideaspictwittercomvgysezup': 1,\n",
       "         'ifyoutakeoffhalfadayjusttoplaywithyouriphoneyouareapretentiousassholeassholeiphoneapplesuck': 1,\n",
       "         'peoplethanksforholdingthendoorformeohwaituranappleemployeethat’swhyusuckthank': 1,\n",
       "         'mephonephonesamsungpicofthedaydelightedgalaxycrewsinstasweetiliketohashtag': 1,\n",
       "         'dayeatingmorehappymoreiphonexanaloglondongoaloflifeeatingpizza…': 1,\n",
       "         'gainfollowersrtthismustfollowmeifollowbackfolloweveryonewhortsgainiphonesougofollowffädg': 1,\n",
       "         'thankyoubutidontneedyourgoodfornothingphonewelovesamsung': 1,\n",
       "         'fuckyouphonestopglitchingandletmereceivemymessagesiphonebutstilllovey': 1,\n",
       "         'iwannaswingfromachandelieramazingbeautifulcopenhagencreativecomposerdenmarkfunffhoticonickeepthefaithllmariajensenmusicoriginalpopproducerredrocksoulsingersongwritersonguniversalsonywarnerworldpictwittercomoflakrzzg': 1,\n",
       "         'afterspendingfulldaystryingtorecoverphotosfrommyipoddropboxhasbecomemysavioricouldhugyoumuchlov': 1,\n",
       "         'iwillpostsomemoregoodies——‘tomorrowofcourseataffordablepricesatallplatformsitwouldmakeyouriphoneswannaknowmorejustwaittilltomorrowandyouwillloveitiphoneiphoneiphoneiphonexiphon': 1,\n",
       "         'iwouldliketogiveabigoldfuckyoutoappleduetothefactmyipadandiphonewillnotconnect': 1,\n",
       "         'ihaveaniphonebutithinkthatappleareabsolutebastardstheydontcareaboutexistingcustomerslatesttheirupdatesslowdownolderiphonesexcusetopreservethebatteryrealitytoforceyoutobuyanewphoneihateapplesomuchworsethanmicrosoft': 1,\n",
       "         'samsungmobileyoucouldnthavejustaddedemojisyouhadtochangeexistingonessamsunggalaxyjustfuckyouphon': 1,\n",
       "         'applepleasefortheloveofgodstopspammingmetosetupapplepayidon’thaveacompatiblefuckingcardcaniturnthisspamoffappl': 1,\n",
       "         'iphoneappleiphoneiphoneiphoneiphoneplusapplewatchapplewatch…': 1,\n",
       "         'photomemakeupmyselflikelikeforlikeprettypicofthedayootdigdailyigersiphon': 1,\n",
       "         'hateappleapplewillearnbillionbecausetheiphonestartswithapitifulamountofstorag': 1,\n",
       "         'iphoneisslowlybrakingscreenscrackedandnowwontcharg': 1,\n",
       "         'makemehappypssonyplaystationuntildawngameconsoleblackblakk': 1,\n",
       "         'shotoniphonexiphoneappleiphonexwonderfulselfieportraitmode…': 1,\n",
       "         'invisibleholerightandheinventedtheieverythingtooprovinghesanassfuck': 1,\n",
       "         'capturedmomentsepdurdledoorisstunningiphonephotographyyoutubersmallyoutub': 1,\n",
       "         'ipneappleyesconfidentialityyourvoiceyourchoiceyoudowhatyouwantjustdontletappleittothemiddleman': 1,\n",
       "         'inthemeantimeimtweetingoffthiscrappadimeanipad': 1,\n",
       "         'blackfridayfollowcreativebananablackfridaybannerdailyartphotoofthedayinstagoodartartistartofthedayofferblackandwhitemeiphonexdisenograficoartisticinspirationdesigncreativepicofthedaygraphicdesignpictwittercomfzkgxna': 1,\n",
       "         'attdebutsnewonlinecustomerexperi': 1,\n",
       "         'februarydayoclockiphoneappshomescreenoclockultrasoundwallpaperher…': 1,\n",
       "         'thatsucksmyearphonesarejustmonthsoldandnowthi': 1,\n",
       "         'sheloveshimhorsesummernaturephotogirllifephotoigersiphonepictwittercomidrhvyxcbi': 1,\n",
       "         'siblingsisterfungirlsselfieselcafrontcamsamsungkillthetimepotd': 1,\n",
       "         'stupiddroidyunoshowupinmymusicplayerandiswindowsmediasharemotorola': 1,\n",
       "         'ifuhaveusedacreditcardontheplaystationnetworkhackershavestolenmillioncardnumbershowaboutabigforsoni': 1,\n",
       "         'jillholmesdepartsvhaswest…': 1,\n",
       "         'lukechicagoportraitvscovscocamiphoneiphoneonlyphotographyinstagoodinstagram': 1,\n",
       "         'willnowhavetomakeappointmentforunhelpfulyearoldwithjobtitlegeniustopatronisemeandnotfoxitit': 1,\n",
       "         'ilikeapichangesthatthrowanexceptionwhenitwasworkinginthepreviousversioncalayerlayerusescoreimagefiltersmad': 1,\n",
       "         'iphonebymidmyphonewillbeoutofdateinlessthanayearsometimesiappl': 1,\n",
       "         'peacesmilehappyofficematessmilesonyphotographyphotosvscomday…': 1,\n",
       "         'trackoftheday‘ultravioletlightmyway’newsphotographyfashionhealthfailtechipadiphone…pictwittercomffoctgu': 1,\n",
       "         'welcomebackintomylifeivemissedyoudearlyiphon': 1,\n",
       "         'thisisonlythetruthtagsforlikesinstagoodtweegramphotoofthedayiphonedjblassscrib': 1,\n",
       "         'hatewhenmyphonestartstonotmakeanysensegurrriphoneiman': 1,\n",
       "         'imsogladapplefinallydecidedtocomeoutwiththewhiteiphoneafterigotminerealcoolappl': 1,\n",
       "         'whypeoplearespeculatingthat…': 1,\n",
       "         'wellhellotherenewradiosonyipodmusicloudbcrutchfieldpandorayay': 1,\n",
       "         'goodmorningsunbikescooterblueskyspringworknewdayiphonescreenfisheyeeffect…': 1,\n",
       "         'ican’twaituntilapplegoesbankruptshittycustomerserviceworstdevicesmilliondollarcompanyandihavetopayforhelp…': 1,\n",
       "         'samsungnewsroomnewlifewithandroidnougatandsamsunggalaxysperfektbatterielifeexperiencenoproblempictwittercomhxpierjm': 1,\n",
       "         'rtjasonmowryrtdealspluswinanapplemacbookairjustretweetthisandfollowdealsplustowin': 1,\n",
       "         'photooutifgolikemegirlyjeansvanssweatherjacketdenimiphonefollow': 1,\n",
       "         'samsungusapplearepreparingtoreleaseafoldablephonemotorolaushasfiledapattenforaselfrepairingscreenfunctionappleinfluencersamsunggalaxytechphotoofthedaymoneysamsungsavegadgetstryittechnologymotorolain': 1,\n",
       "         'dancepartnersfrankwilliamsrubweekdaysselfiefriendsfoesfridayiphonespawnrsartpurposenaturehumanitypianomusicfriendspictwittercomvtqukxluq': 1,\n",
       "         'conlosmenoresbullybrothersbulldogsdogshaggysonyallprofitsleepmod': 1,\n",
       "         'gonnahavetobuymythchargerformyiphonehaventevenhadayeariphonechargersareshit': 1,\n",
       "         'waitedtoolonggraphicdesigngraphicdesignartartworkmahoiphoneapple…': 1,\n",
       "         '€samsunggalaxysedgegbnoirsamsungsedgeoccasionsmartphoneprixhappy…': 1,\n",
       "         'thereasonvinylissopopulartodayisbecauseyoudontneedanitdepttoplayanalhatewindow': 1,\n",
       "         'ohyeahsamsunggalaxynoteisinthahousemobilesamsunggsmphotoofthedayvodafon': 1,\n",
       "         'itcoststoswapmyphoneoutfortheexactsamephoneicurrentlyhavejusttofixthefrontcamera': 1,\n",
       "         'wineandagoodbookinstagoodiphonesiaphotoofthedayinstamoodigersmecuteiphonehom': 1,\n",
       "         'newbabysamsunggalaxysnewphonesickphonesmartphoneinstahubinstapic…': 1,\n",
       "         'bringcolortomyskiesnatureeveskiesdawnsunsetphonephotographysamsungvscocamwindnaturephotographysunsetpicsnaturelovermoodpositivevibesphotoshopnaturephotonicsnaturephotonetphonephotographphonephotopropictwittercomglzwpr': 1,\n",
       "         'getoffwhenyouorderkidstshirtwithdiscountcodetwittercheckitout': 1,\n",
       "         'ughcantuploadanypicturesoranythingbecausemycomputersjustdecidingtocrapoutonmeappl': 1,\n",
       "         'boughtsamsunggalaxygrandformymomonherbdaybirthdayinadvanceduos…': 1,\n",
       "         'andistilldonthaveosanditsbeennearlyhourspeopleimstillonblockoneofbackupffsappl': 1,\n",
       "         'justbrokemysecondipodthisyearnothappyaboutthiswhydonttheymakescreensthatdontcrack': 1,\n",
       "         'okletsgosonyzpaixaodecristorechdvequipedeltaeitaaovivopacatubagravação…': 1,\n",
       "         'tryingtoremembermyactivationlockpasswordandemailisaappl': 1,\n",
       "         'cozhappyissosimplejustyouandofcoursethesuncouplesuninstadailysamsung…': 1,\n",
       "         'shouldbeagreathourdrivewithoutmyipodappl': 1,\n",
       "         'theiphonetwitterupdatefeelswaybettertouseandfastertoo': 1,\n",
       "         'conversionphototovideofre': 1,\n",
       "         'gainfollowersrtthismustfollowmeifollowbackfolloweveryonewhortsgainiphonesougofollownyv': 1,\n",
       "         'waitingfortheiphoneiphoneiphoneleaksrichiphoneplusappleapplestorestevejobsseptembersamsungiphoneplu': 1,\n",
       "         'newsleepingbagforthepadpresentmarcjacobsipadapplebeautinstaaddictinstafashio': 1,\n",
       "         'bighopetoallahpraylifehopesamsunginstagramfacebooktwitterphotogridnotcri': 1,\n",
       "         'applehassavedmyitunesaccounttheguysfromapplescustomerssupportaregreatthankyoubharatfromappledappleawesom': 1,\n",
       "         'mypreggysisterbusywithhernewnoteandroidsamsunggalaxyexcitedteach': 1,\n",
       "         'thankspapitasfritasforhelpingmemakecoolcustompinsartnycsony…': 1,\n",
       "         'okletstrythisagainhopefullywithoutlosingitinaweekloliphonepictwittercomblqrjukan': 1,\n",
       "         'geniusofshoutoutsindianmalayalifuntbttbstaggingphotographyiphone…': 1,\n",
       "         'beststarttothedaysausagesausagesandwichyumtastyappleporkandapple…': 1,\n",
       "         'fisherpricelaughlearnlearningapplebabytoy': 1,\n",
       "         'andonadaywheniactuallywantedittotakephotosofourdaytrippissedoff': 1,\n",
       "         'thisisthethirdtimetodaythativehadtochargemyphoneiphon': 1,\n",
       "         'itwantithaveitdownloadthefreeiphoneapptodayandspreadyourstyleitwantithaveitfblogg': 1,\n",
       "         'picssaidthiswouldbeappreciatedheremuzzleflashcavitationbulletgottathatiphoneslomocoolfunnyperfectpictwittercomhhnzggylb': 1,\n",
       "         'goodbirthdaypurchasehappywithitapplewatchspacegrayapplewatchsportsportappl': 1,\n",
       "         'birthdayronniebirthdaymoneyvodkaballoonlynxwirelesschargersamsungspoilt': 1,\n",
       "         'takinganextracreditsurveyaboutmyphoneliterallygivingappletheworstreviewseveroowhydoihaveaniphon': 1,\n",
       "         'nextracetourdumarocfonziehisbronzidifonzilimitlessgoodvibescyclistcyclistliferidenevergiveupinstagoodinstagramerphotoofthedayseasoniphonexpicofthedaysmileinstalikeigersmancoollifestylecasablancapictwittercomqowmcoj': 1,\n",
       "         'helloyousamsunggalaxysborderlessphonenewnice…': 1,\n",
       "         'theapplemailprogramisnowstartingtothiscouldbethebeginningoftheendforappl': 1,\n",
       "         'mbappleupdatecurrentlyinitsthminuteandseemstohavedetroyedmypc': 1,\n",
       "         'sofarimlovingthemagicmousemouseapplemac': 1,\n",
       "         'hellolovelynewphoneiphoneiphonesappleyayitgoldgb': 1,\n",
       "         'ourrafflewinnerofsamsunggalaxysisticketnobeaboutiquestarsbluenewyear': 1,\n",
       "         'campaignsamsungsamsungcampaignworkphotojobmodelsmilenildosalvatori…': 1,\n",
       "         'fatrollscellulitekim…': 1,\n",
       "         'colorsplashiphoneifoundoutmyheartwasvirtuallyslidinginmyhandartmeegodesignermonday': 1,\n",
       "         'latepostbutmyiphonefinallycameinyesterdayiwentwiththeplusiphonegcublessed…': 1,\n",
       "         'canyouunlockthislevelzenblockcomingsoonrelaxiphonesummersunmobilegamechillmusicandroidweekendveganpictwittercomaftayddv': 1,\n",
       "         'canufindmy\\ue32cinstagramiphoneographyiphonesiaiphonewebstagraminstagocoffeestarbucksirini': 1,\n",
       "         'myblackfridaywasasuccessblackfridaysmartvsamsunginthanksgivingtrue…': 1,\n",
       "         'jdholicwellseeingasyouhaveaniphoneyouclearlylessthanmesoaisacceptableo': 1,\n",
       "         'gotthatsubgoalunbelievablethankyoueveryoneforthesupport': 1,\n",
       "         'ofofofıcecreamcreamchocolateapplebananaspineapplestrawberryfruitsalad': 1,\n",
       "         'thestuffdreamsaremadefromnerdsiphoneclothesiphonefashionjuicycouturechristianlouboutin': 1,\n",
       "         'doappleiphoneinearheadphonesactuallyfittheearsofanyhumanbeingdesigningforalien': 1,\n",
       "         'birthdaytomegirlsamsungtvpresetsthanksmomgratefulsurpris': 1,\n",
       "         'thanksapplefortellingmetorestoremyiphoneyouforgottotellmethatitwilltakehour': 1,\n",
       "         'youonlyliveoncepicofthedayiphonebeardinktattooyolorockworkon…': 1,\n",
       "         'oppomobileindiawhyyouguyzdontprovidecolourosupdateorandroidupdatenovalueformoney': 1,\n",
       "         'willbetheyearapplecomesoutwithanapplewatchforlefthandedpeopleapplewatchapplewatchnewyear': 1,\n",
       "         'onceagainmapsappgetsuscompletelylostthatguydeservedtobefiredneedanappthatactuallyworksiphon': 1,\n",
       "         'appleissofuckingstupidsomethingthatshouldbeasimpletaskicantevendofuckyouapplemacbookproappleneedsmoarpc': 1,\n",
       "         'whenyourhomebuttonrandomlygetsstuckandyouhavetogentlypressittoopenyourscreeniphon': 1,\n",
       "         'watchtygasquirmawayfromross…': 1,\n",
       "         'justpreorderedandpayedinfullmyplaystationplaystationpsnextgensoni': 1,\n",
       "         'peoplearesoannoyingaboutthenewiphoneitsjustaphoneallphonesdothesamethingjustbecauseitsappleitsimport': 1,\n",
       "         'newdisplaypictureiphoneographyiphoneinstagramiphonesiaphotographyphotoofthedaybeautifuli': 1,\n",
       "         'applechargersaretheworstiveboughtteniphonechargersthisyeartwomeltedyouaretheworst': 1,\n",
       "         ...})"
      ]
     },
     "execution_count": 43,
     "metadata": {},
     "output_type": "execute_result"
    }
   ],
   "source": [
    "vocab"
   ]
  },
  {
   "cell_type": "code",
   "execution_count": 44,
   "id": "a4b8b189",
   "metadata": {},
   "outputs": [
    {
     "data": {
      "text/plain": [
       "7511"
      ]
     },
     "execution_count": 44,
     "metadata": {},
     "output_type": "execute_result"
    }
   ],
   "source": [
    "len(vocab)"
   ]
  },
  {
   "cell_type": "code",
   "execution_count": 45,
   "id": "ef0b6406",
   "metadata": {},
   "outputs": [
    {
     "data": {
      "text/plain": [
       "(7920, 3)"
      ]
     },
     "execution_count": 45,
     "metadata": {},
     "output_type": "execute_result"
    }
   ],
   "source": [
    "data.shape"
   ]
  }
 ],
 "metadata": {
  "kernelspec": {
   "display_name": "env (3.12.4)",
   "language": "python",
   "name": "python3"
  },
  "language_info": {
   "codemirror_mode": {
    "name": "ipython",
    "version": 3
   },
   "file_extension": ".py",
   "mimetype": "text/x-python",
   "name": "python",
   "nbconvert_exporter": "python",
   "pygments_lexer": "ipython3",
   "version": "3.12.4"
  }
 },
 "nbformat": 4,
 "nbformat_minor": 5
}
