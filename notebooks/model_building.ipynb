{
 "cells": [
  {
   "cell_type": "code",
   "execution_count": 2,
   "id": "a755e5b6",
   "metadata": {},
   "outputs": [],
   "source": [
    "import numpy as np\n",
    "import matplotlib.pyplot as plt\n",
    "import pandas as pd"
   ]
  },
  {
   "cell_type": "code",
   "execution_count": 3,
   "id": "f851dbca",
   "metadata": {},
   "outputs": [
    {
     "name": "stderr",
     "output_type": "stream",
     "text": [
      "<>:1: SyntaxWarning: invalid escape sequence '\\d'\n",
      "<>:1: SyntaxWarning: invalid escape sequence '\\d'\n",
      "C:\\Users\\Asus\\AppData\\Local\\Temp\\ipykernel_23496\\3765686874.py:1: SyntaxWarning: invalid escape sequence '\\d'\n",
      "  data = pd.read_csv('..\\data\\sentiment_analysis.csv')\n"
     ]
    }
   ],
   "source": [
    "data = pd.read_csv('..\\data\\sentiment_analysis.csv')"
   ]
  },
  {
   "cell_type": "code",
   "execution_count": 4,
   "id": "a935cebf",
   "metadata": {},
   "outputs": [
    {
     "data": {
      "application/vnd.microsoft.datawrangler.viewer.v0+json": {
       "columns": [
        {
         "name": "index",
         "rawType": "int64",
         "type": "integer"
        },
        {
         "name": "id",
         "rawType": "int64",
         "type": "integer"
        },
        {
         "name": "label",
         "rawType": "int64",
         "type": "integer"
        },
        {
         "name": "tweet",
         "rawType": "object",
         "type": "string"
        }
       ],
       "ref": "73e5ede9-4ea0-412f-b7f2-1e80fca90a00",
       "rows": [
        [
         "0",
         "1",
         "0",
         "#fingerprint #Pregnancy Test https://goo.gl/h1MfQV #android #apps #beautiful #cute #health #igers #iphoneonly #iphonesia #iphone"
        ],
        [
         "1",
         "2",
         "0",
         "Finally a transparant silicon case ^^ Thanks to my uncle :) #yay #Sony #Xperia #S #sonyexperias… http://instagram.com/p/YGEt5JC6JM/"
        ],
        [
         "2",
         "3",
         "0",
         "We love this! Would you go? #talk #makememories #unplug #relax #iphone #smartphone #wifi #connect... http://fb.me/6N3LsUpCu"
        ],
        [
         "3",
         "4",
         "0",
         "I'm wired I know I'm George I was made that way ;) #iphone #cute #daventry #home http://instagr.am/p/Li_5_ujS4k/"
        ],
        [
         "4",
         "5",
         "1",
         "What amazing service! Apple won't even talk to me about a question I have unless I pay them $19.95 for their stupid support!"
        ]
       ],
       "shape": {
        "columns": 3,
        "rows": 5
       }
      },
      "text/html": [
       "<div>\n",
       "<style scoped>\n",
       "    .dataframe tbody tr th:only-of-type {\n",
       "        vertical-align: middle;\n",
       "    }\n",
       "\n",
       "    .dataframe tbody tr th {\n",
       "        vertical-align: top;\n",
       "    }\n",
       "\n",
       "    .dataframe thead th {\n",
       "        text-align: right;\n",
       "    }\n",
       "</style>\n",
       "<table border=\"1\" class=\"dataframe\">\n",
       "  <thead>\n",
       "    <tr style=\"text-align: right;\">\n",
       "      <th></th>\n",
       "      <th>id</th>\n",
       "      <th>label</th>\n",
       "      <th>tweet</th>\n",
       "    </tr>\n",
       "  </thead>\n",
       "  <tbody>\n",
       "    <tr>\n",
       "      <th>0</th>\n",
       "      <td>1</td>\n",
       "      <td>0</td>\n",
       "      <td>#fingerprint #Pregnancy Test https://goo.gl/h1...</td>\n",
       "    </tr>\n",
       "    <tr>\n",
       "      <th>1</th>\n",
       "      <td>2</td>\n",
       "      <td>0</td>\n",
       "      <td>Finally a transparant silicon case ^^ Thanks t...</td>\n",
       "    </tr>\n",
       "    <tr>\n",
       "      <th>2</th>\n",
       "      <td>3</td>\n",
       "      <td>0</td>\n",
       "      <td>We love this! Would you go? #talk #makememorie...</td>\n",
       "    </tr>\n",
       "    <tr>\n",
       "      <th>3</th>\n",
       "      <td>4</td>\n",
       "      <td>0</td>\n",
       "      <td>I'm wired I know I'm George I was made that wa...</td>\n",
       "    </tr>\n",
       "    <tr>\n",
       "      <th>4</th>\n",
       "      <td>5</td>\n",
       "      <td>1</td>\n",
       "      <td>What amazing service! Apple won't even talk to...</td>\n",
       "    </tr>\n",
       "  </tbody>\n",
       "</table>\n",
       "</div>"
      ],
      "text/plain": [
       "   id  label                                              tweet\n",
       "0   1      0  #fingerprint #Pregnancy Test https://goo.gl/h1...\n",
       "1   2      0  Finally a transparant silicon case ^^ Thanks t...\n",
       "2   3      0  We love this! Would you go? #talk #makememorie...\n",
       "3   4      0  I'm wired I know I'm George I was made that wa...\n",
       "4   5      1  What amazing service! Apple won't even talk to..."
      ]
     },
     "execution_count": 4,
     "metadata": {},
     "output_type": "execute_result"
    }
   ],
   "source": [
    "data.head()"
   ]
  },
  {
   "cell_type": "markdown",
   "id": "699794ba",
   "metadata": {},
   "source": [
    "# Data Preprocessing"
   ]
  },
  {
   "cell_type": "code",
   "execution_count": 5,
   "id": "6f049c74",
   "metadata": {},
   "outputs": [
    {
     "data": {
      "text/plain": [
       "(7920, 3)"
      ]
     },
     "execution_count": 5,
     "metadata": {},
     "output_type": "execute_result"
    }
   ],
   "source": [
    "data.shape # Chack the shape of the dataset"
   ]
  },
  {
   "cell_type": "code",
   "execution_count": 6,
   "id": "25c30c3b",
   "metadata": {},
   "outputs": [
    {
     "data": {
      "text/plain": [
       "np.int64(0)"
      ]
     },
     "execution_count": 6,
     "metadata": {},
     "output_type": "execute_result"
    }
   ],
   "source": [
    "data.duplicated().sum()  # Check for duplicates"
   ]
  },
  {
   "cell_type": "code",
   "execution_count": 7,
   "id": "d768cda2",
   "metadata": {},
   "outputs": [
    {
     "data": {
      "application/vnd.microsoft.datawrangler.viewer.v0+json": {
       "columns": [
        {
         "name": "index",
         "rawType": "object",
         "type": "string"
        },
        {
         "name": "0",
         "rawType": "int64",
         "type": "integer"
        }
       ],
       "ref": "23584c05-7c17-44b3-9401-b2a8ee12e0b9",
       "rows": [
        [
         "id",
         "0"
        ],
        [
         "label",
         "0"
        ],
        [
         "tweet",
         "0"
        ]
       ],
       "shape": {
        "columns": 1,
        "rows": 3
       }
      },
      "text/plain": [
       "id       0\n",
       "label    0\n",
       "tweet    0\n",
       "dtype: int64"
      ]
     },
     "execution_count": 7,
     "metadata": {},
     "output_type": "execute_result"
    }
   ],
   "source": [
    "data.isnull().sum() # Check for missing values"
   ]
  },
  {
   "cell_type": "markdown",
   "id": "a1c107c4",
   "metadata": {},
   "source": [
    "# Text Processing"
   ]
  },
  {
   "cell_type": "code",
   "execution_count": 8,
   "id": "15d8aa48",
   "metadata": {},
   "outputs": [],
   "source": [
    "import string\n",
    "import re\n",
    "import string\n",
    "from nltk.corpus import stopwords\n",
    "from nltk.tokenize import word_tokenize"
   ]
  },
  {
   "cell_type": "code",
   "execution_count": 9,
   "id": "2810c87d",
   "metadata": {},
   "outputs": [
    {
     "name": "stderr",
     "output_type": "stream",
     "text": [
      "[nltk_data] Downloading package punkt to\n",
      "[nltk_data]     C:\\Users\\Asus\\AppData\\Roaming\\nltk_data...\n",
      "[nltk_data]   Package punkt is already up-to-date!\n",
      "[nltk_data] Downloading package stopwords to\n",
      "[nltk_data]     C:\\Users\\Asus\\AppData\\Roaming\\nltk_data...\n",
      "[nltk_data]   Package stopwords is already up-to-date!\n"
     ]
    },
    {
     "data": {
      "text/plain": [
       "True"
      ]
     },
     "execution_count": 9,
     "metadata": {},
     "output_type": "execute_result"
    }
   ],
   "source": [
    "import nltk\n",
    "nltk.download('punkt')\n",
    "nltk.download('stopwords')"
   ]
  },
  {
   "cell_type": "code",
   "execution_count": 10,
   "id": "75912483",
   "metadata": {},
   "outputs": [
    {
     "data": {
      "application/vnd.microsoft.datawrangler.viewer.v0+json": {
       "columns": [
        {
         "name": "index",
         "rawType": "int64",
         "type": "integer"
        },
        {
         "name": "tweet",
         "rawType": "object",
         "type": "string"
        }
       ],
       "ref": "de5eafa2-168e-4c0c-9a1a-768122ff0557",
       "rows": [
        [
         "0",
         "#fingerprint #Pregnancy Test https://goo.gl/h1MfQV #android #apps #beautiful #cute #health #igers #iphoneonly #iphonesia #iphone"
        ],
        [
         "1",
         "Finally a transparant silicon case ^^ Thanks to my uncle :) #yay #Sony #Xperia #S #sonyexperias… http://instagram.com/p/YGEt5JC6JM/"
        ],
        [
         "2",
         "We love this! Would you go? #talk #makememories #unplug #relax #iphone #smartphone #wifi #connect... http://fb.me/6N3LsUpCu"
        ],
        [
         "3",
         "I'm wired I know I'm George I was made that way ;) #iphone #cute #daventry #home http://instagr.am/p/Li_5_ujS4k/"
        ],
        [
         "4",
         "What amazing service! Apple won't even talk to me about a question I have unless I pay them $19.95 for their stupid support!"
        ]
       ],
       "shape": {
        "columns": 1,
        "rows": 5
       }
      },
      "text/plain": [
       "0    #fingerprint #Pregnancy Test https://goo.gl/h1...\n",
       "1    Finally a transparant silicon case ^^ Thanks t...\n",
       "2    We love this! Would you go? #talk #makememorie...\n",
       "3    I'm wired I know I'm George I was made that wa...\n",
       "4    What amazing service! Apple won't even talk to...\n",
       "Name: tweet, dtype: object"
      ]
     },
     "execution_count": 10,
     "metadata": {},
     "output_type": "execute_result"
    }
   ],
   "source": [
    "data['tweet'].head(5)"
   ]
  },
  {
   "cell_type": "code",
   "execution_count": 11,
   "id": "e65b22dc",
   "metadata": {},
   "outputs": [],
   "source": [
    "# Convert uppercase to lowercase\n",
    "data['tweet'] = data['tweet'].apply(lambda x: ''.join(x.lower() for x in x.split()))"
   ]
  },
  {
   "cell_type": "code",
   "execution_count": 12,
   "id": "8fed2f4c",
   "metadata": {},
   "outputs": [
    {
     "data": {
      "application/vnd.microsoft.datawrangler.viewer.v0+json": {
       "columns": [
        {
         "name": "index",
         "rawType": "int64",
         "type": "integer"
        },
        {
         "name": "tweet",
         "rawType": "object",
         "type": "string"
        }
       ],
       "ref": "02b9c568-48b5-4751-aa3a-25343fcb58d0",
       "rows": [
        [
         "0",
         "#fingerprint#pregnancytesthttps://goo.gl/h1mfqv#android#apps#beautiful#cute#health#igers#iphoneonly#iphonesia#iphone"
        ],
        [
         "1",
         "finallyatransparantsiliconcase^^thankstomyuncle:)#yay#sony#xperia#s#sonyexperias…http://instagram.com/p/yget5jc6jm/"
        ],
        [
         "2",
         "welovethis!wouldyougo?#talk#makememories#unplug#relax#iphone#smartphone#wifi#connect...http://fb.me/6n3lsupcu"
        ],
        [
         "3",
         "i'mwirediknowi'mgeorgeiwasmadethatway;)#iphone#cute#daventry#homehttp://instagr.am/p/li_5_ujs4k/"
        ],
        [
         "4",
         "whatamazingservice!applewon'teventalktomeaboutaquestionihaveunlessipaythem$19.95fortheirstupidsupport!"
        ]
       ],
       "shape": {
        "columns": 1,
        "rows": 5
       }
      },
      "text/plain": [
       "0    #fingerprint#pregnancytesthttps://goo.gl/h1mfq...\n",
       "1    finallyatransparantsiliconcase^^thankstomyuncl...\n",
       "2    welovethis!wouldyougo?#talk#makememories#unplu...\n",
       "3    i'mwirediknowi'mgeorgeiwasmadethatway;)#iphone...\n",
       "4    whatamazingservice!applewon'teventalktomeabout...\n",
       "Name: tweet, dtype: object"
      ]
     },
     "execution_count": 12,
     "metadata": {},
     "output_type": "execute_result"
    }
   ],
   "source": [
    "data['tweet'].head(5)"
   ]
  },
  {
   "cell_type": "code",
   "execution_count": 13,
   "id": "3c5d29ac",
   "metadata": {},
   "outputs": [],
   "source": [
    "# Remove links\n",
    "data['tweet'] = data['tweet'].apply(lambda x: ''.join(re.sub(r'https?:\\/\\/.*[\\r\\n]*', '', x, flags=re.MULTILINE) for x in x.split()))"
   ]
  },
  {
   "cell_type": "code",
   "execution_count": 14,
   "id": "54b47048",
   "metadata": {},
   "outputs": [
    {
     "data": {
      "application/vnd.microsoft.datawrangler.viewer.v0+json": {
       "columns": [
        {
         "name": "index",
         "rawType": "int64",
         "type": "integer"
        },
        {
         "name": "tweet",
         "rawType": "object",
         "type": "string"
        }
       ],
       "ref": "fd866478-58f2-440c-98ba-c32792acdbca",
       "rows": [
        [
         "0",
         "#fingerprint#pregnancytest"
        ],
        [
         "1",
         "finallyatransparantsiliconcase^^thankstomyuncle:)#yay#sony#xperia#s#sonyexperias…"
        ],
        [
         "2",
         "welovethis!wouldyougo?#talk#makememories#unplug#relax#iphone#smartphone#wifi#connect..."
        ],
        [
         "3",
         "i'mwirediknowi'mgeorgeiwasmadethatway;)#iphone#cute#daventry#home"
        ],
        [
         "4",
         "whatamazingservice!applewon'teventalktomeaboutaquestionihaveunlessipaythem$19.95fortheirstupidsupport!"
        ],
        [
         "5",
         "iphonesoftwareupdatefuckedupmyphonebigtimestupidiphones"
        ],
        [
         "6",
         "happyforus..#instapic#instadaily#us#sony#xperia#xperiaz"
        ],
        [
         "7",
         "newtypecchargercable#uk"
        ],
        [
         "8",
         "bouttogoshoppingagainlisteningtomusic#iphone#justme#music#likeforlike#followforfollow…"
        ],
        [
         "9",
         "photo:#fun#selfie#pool#water#sony#camera#picoftheday#sun#instagood#boy#cute#outdoor..."
        ]
       ],
       "shape": {
        "columns": 1,
        "rows": 10
       }
      },
      "text/plain": [
       "0                           #fingerprint#pregnancytest\n",
       "1    finallyatransparantsiliconcase^^thankstomyuncl...\n",
       "2    welovethis!wouldyougo?#talk#makememories#unplu...\n",
       "3    i'mwirediknowi'mgeorgeiwasmadethatway;)#iphone...\n",
       "4    whatamazingservice!applewon'teventalktomeabout...\n",
       "5    iphonesoftwareupdatefuckedupmyphonebigtimestup...\n",
       "6    happyforus..#instapic#instadaily#us#sony#xperi...\n",
       "7                              newtypecchargercable#uk\n",
       "8    bouttogoshoppingagainlisteningtomusic#iphone#j...\n",
       "9    photo:#fun#selfie#pool#water#sony#camera#picof...\n",
       "Name: tweet, dtype: object"
      ]
     },
     "execution_count": 14,
     "metadata": {},
     "output_type": "execute_result"
    }
   ],
   "source": [
    "data['tweet'].head(10)"
   ]
  },
  {
   "cell_type": "code",
   "execution_count": 21,
   "id": "239ba5a0",
   "metadata": {},
   "outputs": [
    {
     "data": {
      "text/plain": [
       "'!\"#$%&\\'()*+,-./:;<=>?@[\\\\]^_`{|}~'"
      ]
     },
     "execution_count": 21,
     "metadata": {},
     "output_type": "execute_result"
    }
   ],
   "source": [
    "# Remove puncuation\n",
    "import string\n",
    "string.punctuation"
   ]
  },
  {
   "cell_type": "code",
   "execution_count": null,
   "id": "3b554fa4",
   "metadata": {},
   "outputs": [],
   "source": [
    "import string\n",
    "\n",
    "def remove_punctuation(text):\n",
    "    for punctuation in string.punctuation:\n",
    "        text = text.replace(punctuation, '')\n",
    "    return text\n",
    "data['tweet'] = data['tweet'].apply(remove_punctuation)"
   ]
  },
  {
   "cell_type": "code",
   "execution_count": 31,
   "id": "f72655d7",
   "metadata": {},
   "outputs": [
    {
     "data": {
      "application/vnd.microsoft.datawrangler.viewer.v0+json": {
       "columns": [
        {
         "name": "index",
         "rawType": "int64",
         "type": "integer"
        },
        {
         "name": "tweet",
         "rawType": "object",
         "type": "string"
        }
       ],
       "ref": "87549fa6-7d01-429a-a829-c67d330d9efd",
       "rows": [
        [
         "0",
         "fingerprintpregnancytest"
        ],
        [
         "1",
         "finallyatransparantsiliconcasethankstomyuncleyaysonyxperiassonyexperias…"
        ],
        [
         "2",
         "welovethiswouldyougotalkmakememoriesunplugrelaxiphonesmartphonewificonnect"
        ],
        [
         "3",
         "imwirediknowimgeorgeiwasmadethatwayiphonecutedaventryhome"
        ],
        [
         "4",
         "whatamazingserviceapplewonteventalktomeaboutaquestionihaveunlessipaythem1995fortheirstupidsupport"
        ],
        [
         "5",
         "iphonesoftwareupdatefuckedupmyphonebigtimestupidiphones"
        ],
        [
         "6",
         "happyforusinstapicinstadailyussonyxperiaxperiaz"
        ],
        [
         "7",
         "newtypecchargercableuk"
        ],
        [
         "8",
         "bouttogoshoppingagainlisteningtomusiciphonejustmemusiclikeforlikefollowforfollow…"
        ],
        [
         "9",
         "photofunselfiepoolwatersonycamerapicofthedaysuninstagoodboycuteoutdoor"
        ]
       ],
       "shape": {
        "columns": 1,
        "rows": 10
       }
      },
      "text/plain": [
       "0                             fingerprintpregnancytest\n",
       "1    finallyatransparantsiliconcasethankstomyuncley...\n",
       "2    welovethiswouldyougotalkmakememoriesunplugrela...\n",
       "3    imwirediknowimgeorgeiwasmadethatwayiphonecuted...\n",
       "4    whatamazingserviceapplewonteventalktomeaboutaq...\n",
       "5    iphonesoftwareupdatefuckedupmyphonebigtimestup...\n",
       "6      happyforusinstapicinstadailyussonyxperiaxperiaz\n",
       "7                               newtypecchargercableuk\n",
       "8    bouttogoshoppingagainlisteningtomusiciphonejus...\n",
       "9    photofunselfiepoolwatersonycamerapicofthedaysu...\n",
       "Name: tweet, dtype: object"
      ]
     },
     "execution_count": 31,
     "metadata": {},
     "output_type": "execute_result"
    }
   ],
   "source": [
    "data['tweet'].head(10)"
   ]
  },
  {
   "cell_type": "code",
   "execution_count": null,
   "id": "be7acd3b",
   "metadata": {},
   "outputs": [],
   "source": []
  }
 ],
 "metadata": {
  "kernelspec": {
   "display_name": "env (3.12.4)",
   "language": "python",
   "name": "python3"
  },
  "language_info": {
   "codemirror_mode": {
    "name": "ipython",
    "version": 3
   },
   "file_extension": ".py",
   "mimetype": "text/x-python",
   "name": "python",
   "nbconvert_exporter": "python",
   "pygments_lexer": "ipython3",
   "version": "3.12.4"
  }
 },
 "nbformat": 4,
 "nbformat_minor": 5
}
