{
 "cells": [
  {
   "cell_type": "code",
   "execution_count": 1,
   "id": "a755e5b6",
   "metadata": {},
   "outputs": [],
   "source": [
    "import numpy as np\n",
    "import matplotlib.pyplot as plt\n",
    "import pandas as pd"
   ]
  },
  {
   "cell_type": "code",
   "execution_count": 2,
   "id": "f851dbca",
   "metadata": {},
   "outputs": [
    {
     "name": "stderr",
     "output_type": "stream",
     "text": [
      "<>:1: SyntaxWarning: invalid escape sequence '\\d'\n",
      "<>:1: SyntaxWarning: invalid escape sequence '\\d'\n",
      "C:\\Users\\Asus\\AppData\\Local\\Temp\\ipykernel_15140\\3765686874.py:1: SyntaxWarning: invalid escape sequence '\\d'\n",
      "  data = pd.read_csv('..\\data\\sentiment_analysis.csv')\n"
     ]
    }
   ],
   "source": [
    "data = pd.read_csv('..\\data\\sentiment_analysis.csv')"
   ]
  },
  {
   "cell_type": "code",
   "execution_count": 3,
   "id": "a935cebf",
   "metadata": {},
   "outputs": [
    {
     "data": {
      "application/vnd.microsoft.datawrangler.viewer.v0+json": {
       "columns": [
        {
         "name": "index",
         "rawType": "int64",
         "type": "integer"
        },
        {
         "name": "id",
         "rawType": "int64",
         "type": "integer"
        },
        {
         "name": "label",
         "rawType": "int64",
         "type": "integer"
        },
        {
         "name": "tweet",
         "rawType": "object",
         "type": "string"
        }
       ],
       "ref": "76382ce4-c0e9-4274-b4cd-7ae291ef0320",
       "rows": [
        [
         "0",
         "1",
         "0",
         "#fingerprint #Pregnancy Test https://goo.gl/h1MfQV #android #apps #beautiful #cute #health #igers #iphoneonly #iphonesia #iphone"
        ],
        [
         "1",
         "2",
         "0",
         "Finally a transparant silicon case ^^ Thanks to my uncle :) #yay #Sony #Xperia #S #sonyexperias… http://instagram.com/p/YGEt5JC6JM/"
        ],
        [
         "2",
         "3",
         "0",
         "We love this! Would you go? #talk #makememories #unplug #relax #iphone #smartphone #wifi #connect... http://fb.me/6N3LsUpCu"
        ],
        [
         "3",
         "4",
         "0",
         "I'm wired I know I'm George I was made that way ;) #iphone #cute #daventry #home http://instagr.am/p/Li_5_ujS4k/"
        ],
        [
         "4",
         "5",
         "1",
         "What amazing service! Apple won't even talk to me about a question I have unless I pay them $19.95 for their stupid support!"
        ]
       ],
       "shape": {
        "columns": 3,
        "rows": 5
       }
      },
      "text/html": [
       "<div>\n",
       "<style scoped>\n",
       "    .dataframe tbody tr th:only-of-type {\n",
       "        vertical-align: middle;\n",
       "    }\n",
       "\n",
       "    .dataframe tbody tr th {\n",
       "        vertical-align: top;\n",
       "    }\n",
       "\n",
       "    .dataframe thead th {\n",
       "        text-align: right;\n",
       "    }\n",
       "</style>\n",
       "<table border=\"1\" class=\"dataframe\">\n",
       "  <thead>\n",
       "    <tr style=\"text-align: right;\">\n",
       "      <th></th>\n",
       "      <th>id</th>\n",
       "      <th>label</th>\n",
       "      <th>tweet</th>\n",
       "    </tr>\n",
       "  </thead>\n",
       "  <tbody>\n",
       "    <tr>\n",
       "      <th>0</th>\n",
       "      <td>1</td>\n",
       "      <td>0</td>\n",
       "      <td>#fingerprint #Pregnancy Test https://goo.gl/h1...</td>\n",
       "    </tr>\n",
       "    <tr>\n",
       "      <th>1</th>\n",
       "      <td>2</td>\n",
       "      <td>0</td>\n",
       "      <td>Finally a transparant silicon case ^^ Thanks t...</td>\n",
       "    </tr>\n",
       "    <tr>\n",
       "      <th>2</th>\n",
       "      <td>3</td>\n",
       "      <td>0</td>\n",
       "      <td>We love this! Would you go? #talk #makememorie...</td>\n",
       "    </tr>\n",
       "    <tr>\n",
       "      <th>3</th>\n",
       "      <td>4</td>\n",
       "      <td>0</td>\n",
       "      <td>I'm wired I know I'm George I was made that wa...</td>\n",
       "    </tr>\n",
       "    <tr>\n",
       "      <th>4</th>\n",
       "      <td>5</td>\n",
       "      <td>1</td>\n",
       "      <td>What amazing service! Apple won't even talk to...</td>\n",
       "    </tr>\n",
       "  </tbody>\n",
       "</table>\n",
       "</div>"
      ],
      "text/plain": [
       "   id  label                                              tweet\n",
       "0   1      0  #fingerprint #Pregnancy Test https://goo.gl/h1...\n",
       "1   2      0  Finally a transparant silicon case ^^ Thanks t...\n",
       "2   3      0  We love this! Would you go? #talk #makememorie...\n",
       "3   4      0  I'm wired I know I'm George I was made that wa...\n",
       "4   5      1  What amazing service! Apple won't even talk to..."
      ]
     },
     "execution_count": 3,
     "metadata": {},
     "output_type": "execute_result"
    }
   ],
   "source": [
    "data.head()"
   ]
  },
  {
   "cell_type": "markdown",
   "id": "699794ba",
   "metadata": {},
   "source": [
    "# Data Preprocessing"
   ]
  },
  {
   "cell_type": "code",
   "execution_count": 4,
   "id": "6f049c74",
   "metadata": {},
   "outputs": [
    {
     "data": {
      "text/plain": [
       "(7920, 3)"
      ]
     },
     "execution_count": 4,
     "metadata": {},
     "output_type": "execute_result"
    }
   ],
   "source": [
    "data.shape # Chack the shape of the dataset"
   ]
  },
  {
   "cell_type": "code",
   "execution_count": 5,
   "id": "25c30c3b",
   "metadata": {},
   "outputs": [
    {
     "data": {
      "text/plain": [
       "np.int64(0)"
      ]
     },
     "execution_count": 5,
     "metadata": {},
     "output_type": "execute_result"
    }
   ],
   "source": [
    "data.duplicated().sum()  # Check for duplicates"
   ]
  },
  {
   "cell_type": "code",
   "execution_count": 6,
   "id": "d768cda2",
   "metadata": {},
   "outputs": [
    {
     "data": {
      "application/vnd.microsoft.datawrangler.viewer.v0+json": {
       "columns": [
        {
         "name": "index",
         "rawType": "object",
         "type": "string"
        },
        {
         "name": "0",
         "rawType": "int64",
         "type": "integer"
        }
       ],
       "ref": "328f0199-e2e3-43ac-8d57-30a32bd848c7",
       "rows": [
        [
         "id",
         "0"
        ],
        [
         "label",
         "0"
        ],
        [
         "tweet",
         "0"
        ]
       ],
       "shape": {
        "columns": 1,
        "rows": 3
       }
      },
      "text/plain": [
       "id       0\n",
       "label    0\n",
       "tweet    0\n",
       "dtype: int64"
      ]
     },
     "execution_count": 6,
     "metadata": {},
     "output_type": "execute_result"
    }
   ],
   "source": [
    "data.isnull().sum() # Check for missing values"
   ]
  },
  {
   "cell_type": "markdown",
   "id": "a1c107c4",
   "metadata": {},
   "source": [
    "# Text Processing"
   ]
  },
  {
   "cell_type": "code",
   "execution_count": 7,
   "id": "15d8aa48",
   "metadata": {},
   "outputs": [],
   "source": [
    "import string\n",
    "import re\n",
    "import string\n",
    "from nltk.corpus import stopwords\n",
    "from nltk.tokenize import word_tokenize"
   ]
  },
  {
   "cell_type": "code",
   "execution_count": 8,
   "id": "2810c87d",
   "metadata": {},
   "outputs": [
    {
     "name": "stderr",
     "output_type": "stream",
     "text": [
      "[nltk_data] Downloading package punkt to\n",
      "[nltk_data]     C:\\Users\\Asus\\AppData\\Roaming\\nltk_data...\n",
      "[nltk_data]   Package punkt is already up-to-date!\n",
      "[nltk_data] Downloading package stopwords to\n",
      "[nltk_data]     C:\\Users\\Asus\\AppData\\Roaming\\nltk_data...\n",
      "[nltk_data]   Package stopwords is already up-to-date!\n"
     ]
    },
    {
     "data": {
      "text/plain": [
       "True"
      ]
     },
     "execution_count": 8,
     "metadata": {},
     "output_type": "execute_result"
    }
   ],
   "source": [
    "import nltk\n",
    "nltk.download('punkt')\n",
    "nltk.download('stopwords')"
   ]
  },
  {
   "cell_type": "code",
   "execution_count": 9,
   "id": "75912483",
   "metadata": {},
   "outputs": [
    {
     "data": {
      "application/vnd.microsoft.datawrangler.viewer.v0+json": {
       "columns": [
        {
         "name": "index",
         "rawType": "int64",
         "type": "integer"
        },
        {
         "name": "tweet",
         "rawType": "object",
         "type": "string"
        }
       ],
       "ref": "d18e0aae-7c86-4c72-b33d-e46eeb7b05ca",
       "rows": [
        [
         "0",
         "#fingerprint #Pregnancy Test https://goo.gl/h1MfQV #android #apps #beautiful #cute #health #igers #iphoneonly #iphonesia #iphone"
        ],
        [
         "1",
         "Finally a transparant silicon case ^^ Thanks to my uncle :) #yay #Sony #Xperia #S #sonyexperias… http://instagram.com/p/YGEt5JC6JM/"
        ],
        [
         "2",
         "We love this! Would you go? #talk #makememories #unplug #relax #iphone #smartphone #wifi #connect... http://fb.me/6N3LsUpCu"
        ],
        [
         "3",
         "I'm wired I know I'm George I was made that way ;) #iphone #cute #daventry #home http://instagr.am/p/Li_5_ujS4k/"
        ],
        [
         "4",
         "What amazing service! Apple won't even talk to me about a question I have unless I pay them $19.95 for their stupid support!"
        ]
       ],
       "shape": {
        "columns": 1,
        "rows": 5
       }
      },
      "text/plain": [
       "0    #fingerprint #Pregnancy Test https://goo.gl/h1...\n",
       "1    Finally a transparant silicon case ^^ Thanks t...\n",
       "2    We love this! Would you go? #talk #makememorie...\n",
       "3    I'm wired I know I'm George I was made that wa...\n",
       "4    What amazing service! Apple won't even talk to...\n",
       "Name: tweet, dtype: object"
      ]
     },
     "execution_count": 9,
     "metadata": {},
     "output_type": "execute_result"
    }
   ],
   "source": [
    "data['tweet'].head(5)"
   ]
  },
  {
   "cell_type": "code",
   "execution_count": 10,
   "id": "e65b22dc",
   "metadata": {},
   "outputs": [],
   "source": [
    "# Convert uppercase to lowercase\n",
    "data['tweet'] = data['tweet'].apply(lambda x: \" \".join(x.lower() for x in x.split()))"
   ]
  },
  {
   "cell_type": "code",
   "execution_count": 11,
   "id": "8fed2f4c",
   "metadata": {},
   "outputs": [
    {
     "data": {
      "application/vnd.microsoft.datawrangler.viewer.v0+json": {
       "columns": [
        {
         "name": "index",
         "rawType": "int64",
         "type": "integer"
        },
        {
         "name": "tweet",
         "rawType": "object",
         "type": "string"
        }
       ],
       "ref": "b071919e-8dcd-4d60-a2f4-3f7c936c6055",
       "rows": [
        [
         "0",
         "#fingerprint #pregnancy test https://goo.gl/h1mfqv #android #apps #beautiful #cute #health #igers #iphoneonly #iphonesia #iphone"
        ],
        [
         "1",
         "finally a transparant silicon case ^^ thanks to my uncle :) #yay #sony #xperia #s #sonyexperias… http://instagram.com/p/yget5jc6jm/"
        ],
        [
         "2",
         "we love this! would you go? #talk #makememories #unplug #relax #iphone #smartphone #wifi #connect... http://fb.me/6n3lsupcu"
        ],
        [
         "3",
         "i'm wired i know i'm george i was made that way ;) #iphone #cute #daventry #home http://instagr.am/p/li_5_ujs4k/"
        ],
        [
         "4",
         "what amazing service! apple won't even talk to me about a question i have unless i pay them $19.95 for their stupid support!"
        ]
       ],
       "shape": {
        "columns": 1,
        "rows": 5
       }
      },
      "text/plain": [
       "0    #fingerprint #pregnancy test https://goo.gl/h1...\n",
       "1    finally a transparant silicon case ^^ thanks t...\n",
       "2    we love this! would you go? #talk #makememorie...\n",
       "3    i'm wired i know i'm george i was made that wa...\n",
       "4    what amazing service! apple won't even talk to...\n",
       "Name: tweet, dtype: object"
      ]
     },
     "execution_count": 11,
     "metadata": {},
     "output_type": "execute_result"
    }
   ],
   "source": [
    "data['tweet'].head(5)"
   ]
  },
  {
   "cell_type": "code",
   "execution_count": 12,
   "id": "3c5d29ac",
   "metadata": {},
   "outputs": [],
   "source": [
    "# Remove links\n",
    "data['tweet'] = data['tweet'].apply(lambda x: \" \".join(re.sub(r'https?:\\/\\/.*[\\r\\n]*', '', x, flags=re.MULTILINE) for x in x.split()))"
   ]
  },
  {
   "cell_type": "code",
   "execution_count": 13,
   "id": "54b47048",
   "metadata": {},
   "outputs": [
    {
     "data": {
      "application/vnd.microsoft.datawrangler.viewer.v0+json": {
       "columns": [
        {
         "name": "index",
         "rawType": "int64",
         "type": "integer"
        },
        {
         "name": "tweet",
         "rawType": "object",
         "type": "string"
        }
       ],
       "ref": "baccdd2d-cde1-4a02-a0ff-162bd2d6a95f",
       "rows": [
        [
         "0",
         "#fingerprint #pregnancy test  #android #apps #beautiful #cute #health #igers #iphoneonly #iphonesia #iphone"
        ],
        [
         "1",
         "finally a transparant silicon case ^^ thanks to my uncle :) #yay #sony #xperia #s #sonyexperias… "
        ],
        [
         "2",
         "we love this! would you go? #talk #makememories #unplug #relax #iphone #smartphone #wifi #connect... "
        ],
        [
         "3",
         "i'm wired i know i'm george i was made that way ;) #iphone #cute #daventry #home "
        ],
        [
         "4",
         "what amazing service! apple won't even talk to me about a question i have unless i pay them $19.95 for their stupid support!"
        ],
        [
         "5",
         "iphone software update fucked up my phone big time stupid iphones"
        ],
        [
         "6",
         "happy for us .. #instapic #instadaily #us #sony #xperia #xperiaz "
        ],
        [
         "7",
         "new type c charger cable #uk  … #bay #amazon #etsy new year #rob cross #toby young #evemun #mcmafia #taylor #spectre 2018 #newyear #starting 2018 #recipes #technology #samsunggalaxys9 #iphonex pic.twitter.com/pjiwq59wtc"
        ],
        [
         "8",
         "bout to go shopping again listening to music #iphone #justme #music #likeforlike #followforfollow… "
        ],
        [
         "9",
         "photo: #fun #selfie #pool #water #sony #camera #picoftheday #sun #instagood #boy #cute #outdoor... "
        ]
       ],
       "shape": {
        "columns": 1,
        "rows": 10
       }
      },
      "text/plain": [
       "0    #fingerprint #pregnancy test  #android #apps #...\n",
       "1    finally a transparant silicon case ^^ thanks t...\n",
       "2    we love this! would you go? #talk #makememorie...\n",
       "3    i'm wired i know i'm george i was made that wa...\n",
       "4    what amazing service! apple won't even talk to...\n",
       "5    iphone software update fucked up my phone big ...\n",
       "6    happy for us .. #instapic #instadaily #us #son...\n",
       "7    new type c charger cable #uk  … #bay #amazon #...\n",
       "8    bout to go shopping again listening to music #...\n",
       "9    photo: #fun #selfie #pool #water #sony #camera...\n",
       "Name: tweet, dtype: object"
      ]
     },
     "execution_count": 13,
     "metadata": {},
     "output_type": "execute_result"
    }
   ],
   "source": [
    "data['tweet'].head(10)"
   ]
  },
  {
   "cell_type": "code",
   "execution_count": 14,
   "id": "239ba5a0",
   "metadata": {},
   "outputs": [
    {
     "data": {
      "text/plain": [
       "'!\"#$%&\\'()*+,-./:;<=>?@[\\\\]^_`{|}~'"
      ]
     },
     "execution_count": 14,
     "metadata": {},
     "output_type": "execute_result"
    }
   ],
   "source": [
    "# Remove puncuation\n",
    "import string\n",
    "string.punctuation"
   ]
  },
  {
   "cell_type": "code",
   "execution_count": 15,
   "id": "3b554fa4",
   "metadata": {},
   "outputs": [],
   "source": [
    "import string\n",
    "\n",
    "def remove_punctuation(text):\n",
    "    for punctuation in string.punctuation:\n",
    "        text = text.replace(punctuation, '')\n",
    "    return text\n",
    "data['tweet'] = data['tweet'].apply(remove_punctuation)"
   ]
  },
  {
   "cell_type": "code",
   "execution_count": 16,
   "id": "f72655d7",
   "metadata": {},
   "outputs": [
    {
     "data": {
      "application/vnd.microsoft.datawrangler.viewer.v0+json": {
       "columns": [
        {
         "name": "index",
         "rawType": "int64",
         "type": "integer"
        },
        {
         "name": "tweet",
         "rawType": "object",
         "type": "string"
        }
       ],
       "ref": "c0192250-7ede-4e7b-aa09-61801ff568e9",
       "rows": [
        [
         "0",
         "fingerprint pregnancy test  android apps beautiful cute health igers iphoneonly iphonesia iphone"
        ],
        [
         "1",
         "finally a transparant silicon case  thanks to my uncle  yay sony xperia s sonyexperias… "
        ],
        [
         "2",
         "we love this would you go talk makememories unplug relax iphone smartphone wifi connect "
        ],
        [
         "3",
         "im wired i know im george i was made that way  iphone cute daventry home "
        ],
        [
         "4",
         "what amazing service apple wont even talk to me about a question i have unless i pay them 1995 for their stupid support"
        ],
        [
         "5",
         "iphone software update fucked up my phone big time stupid iphones"
        ],
        [
         "6",
         "happy for us  instapic instadaily us sony xperia xperiaz "
        ],
        [
         "7",
         "new type c charger cable uk  … bay amazon etsy new year rob cross toby young evemun mcmafia taylor spectre 2018 newyear starting 2018 recipes technology samsunggalaxys9 iphonex pictwittercompjiwq59wtc"
        ],
        [
         "8",
         "bout to go shopping again listening to music iphone justme music likeforlike followforfollow… "
        ],
        [
         "9",
         "photo fun selfie pool water sony camera picoftheday sun instagood boy cute outdoor "
        ]
       ],
       "shape": {
        "columns": 1,
        "rows": 10
       }
      },
      "text/plain": [
       "0    fingerprint pregnancy test  android apps beaut...\n",
       "1    finally a transparant silicon case  thanks to ...\n",
       "2    we love this would you go talk makememories un...\n",
       "3    im wired i know im george i was made that way ...\n",
       "4    what amazing service apple wont even talk to m...\n",
       "5    iphone software update fucked up my phone big ...\n",
       "6    happy for us  instapic instadaily us sony xper...\n",
       "7    new type c charger cable uk  … bay amazon etsy...\n",
       "8    bout to go shopping again listening to music i...\n",
       "9    photo fun selfie pool water sony camera picoft...\n",
       "Name: tweet, dtype: object"
      ]
     },
     "execution_count": 16,
     "metadata": {},
     "output_type": "execute_result"
    }
   ],
   "source": [
    "data['tweet'].head(10)"
   ]
  },
  {
   "cell_type": "code",
   "execution_count": 17,
   "id": "cbfa1b26",
   "metadata": {},
   "outputs": [
    {
     "data": {
      "application/vnd.microsoft.datawrangler.viewer.v0+json": {
       "columns": [
        {
         "name": "index",
         "rawType": "int64",
         "type": "integer"
        },
        {
         "name": "tweet",
         "rawType": "object",
         "type": "string"
        }
       ],
       "ref": "b17cffcd-6164-43fd-961c-7f29b3cf5931",
       "rows": [
        [
         "7910",
         "perfect match instagood applewatch red instagram iphone picoftheday gay fashion… "
        ],
        [
         "7911",
         "i am completely in love with the new iphone emojis iphone apple emojs"
        ],
        [
         "7912",
         "tune in turn on drop out  gtd in one app  mobile mind meditate opensit iphone"
        ],
        [
         "7913",
         "ok so my galaxy crashed after one day now i have to wait til monday for my skyrocket but using iphone for now"
        ],
        [
         "7914",
         "gain followers rt this must follow me i follow back follow everyone who rts gain iphone sougofollow 1öq"
        ],
        [
         "7915",
         "live out loud lol liveoutloud selfie smile sony music headphones "
        ],
        [
         "7916",
         "we would like to wish you an amazing day make every minute count tls today iphone accessories news life february 23 2017 at 0…"
        ],
        [
         "7917",
         "helping my lovely 90 year old neighbor with her ipad this morning has just made me realise that i dont actually need an i pad"
        ],
        [
         "7918",
         "finally got my smart pocket wifi stay connected anytimeanywhere ipad and samsung s3 gadget  "
        ],
        [
         "7919",
         "apple barcelona apple store bcn barcelona travel iphone selfie fly fun cabincrew… "
        ]
       ],
       "shape": {
        "columns": 1,
        "rows": 10
       }
      },
      "text/plain": [
       "7910    perfect match instagood applewatch red instagr...\n",
       "7911    i am completely in love with the new iphone em...\n",
       "7912    tune in turn on drop out  gtd in one app  mobi...\n",
       "7913    ok so my galaxy crashed after one day now i ha...\n",
       "7914    gain followers rt this must follow me i follow...\n",
       "7915    live out loud lol liveoutloud selfie smile son...\n",
       "7916    we would like to wish you an amazing day make ...\n",
       "7917    helping my lovely 90 year old neighbor with he...\n",
       "7918    finally got my smart pocket wifi stay connecte...\n",
       "7919    apple barcelona apple store bcn barcelona trav...\n",
       "Name: tweet, dtype: object"
      ]
     },
     "execution_count": 17,
     "metadata": {},
     "output_type": "execute_result"
    }
   ],
   "source": [
    "data['tweet'].tail(10)"
   ]
  },
  {
   "cell_type": "code",
   "execution_count": 18,
   "id": "be7acd3b",
   "metadata": {},
   "outputs": [
    {
     "name": "stderr",
     "output_type": "stream",
     "text": [
      "<>:2: SyntaxWarning: invalid escape sequence '\\d'\n",
      "<>:2: SyntaxWarning: invalid escape sequence '\\d'\n",
      "C:\\Users\\Asus\\AppData\\Local\\Temp\\ipykernel_15140\\2701124351.py:2: SyntaxWarning: invalid escape sequence '\\d'\n",
      "  data['tweet'] = data['tweet'].str.replace('\\d+', \" \", regex=True)\n"
     ]
    }
   ],
   "source": [
    "# Remove numbers\n",
    "data['tweet'] = data['tweet'].str.replace('\\d+', \" \", regex=True)"
   ]
  },
  {
   "cell_type": "code",
   "execution_count": 19,
   "id": "4cf53295",
   "metadata": {},
   "outputs": [
    {
     "data": {
      "application/vnd.microsoft.datawrangler.viewer.v0+json": {
       "columns": [
        {
         "name": "index",
         "rawType": "int64",
         "type": "integer"
        },
        {
         "name": "tweet",
         "rawType": "object",
         "type": "string"
        }
       ],
       "ref": "4756535f-6684-4fe4-92f8-e39b3716fc14",
       "rows": [
        [
         "7910",
         "perfect match instagood applewatch red instagram iphone picoftheday gay fashion… "
        ],
        [
         "7911",
         "i am completely in love with the new iphone emojis iphone apple emojs"
        ],
        [
         "7912",
         "tune in turn on drop out  gtd in one app  mobile mind meditate opensit iphone"
        ],
        [
         "7913",
         "ok so my galaxy crashed after one day now i have to wait til monday for my skyrocket but using iphone for now"
        ],
        [
         "7914",
         "gain followers rt this must follow me i follow back follow everyone who rts gain iphone sougofollow  öq"
        ],
        [
         "7915",
         "live out loud lol liveoutloud selfie smile sony music headphones "
        ],
        [
         "7916",
         "we would like to wish you an amazing day make every minute count tls today iphone accessories news life february     at  …"
        ],
        [
         "7917",
         "helping my lovely   year old neighbor with her ipad this morning has just made me realise that i dont actually need an i pad"
        ],
        [
         "7918",
         "finally got my smart pocket wifi stay connected anytimeanywhere ipad and samsung s  gadget  "
        ],
        [
         "7919",
         "apple barcelona apple store bcn barcelona travel iphone selfie fly fun cabincrew… "
        ]
       ],
       "shape": {
        "columns": 1,
        "rows": 10
       }
      },
      "text/plain": [
       "7910    perfect match instagood applewatch red instagr...\n",
       "7911    i am completely in love with the new iphone em...\n",
       "7912    tune in turn on drop out  gtd in one app  mobi...\n",
       "7913    ok so my galaxy crashed after one day now i ha...\n",
       "7914    gain followers rt this must follow me i follow...\n",
       "7915    live out loud lol liveoutloud selfie smile son...\n",
       "7916    we would like to wish you an amazing day make ...\n",
       "7917    helping my lovely   year old neighbor with her...\n",
       "7918    finally got my smart pocket wifi stay connecte...\n",
       "7919    apple barcelona apple store bcn barcelona trav...\n",
       "Name: tweet, dtype: object"
      ]
     },
     "execution_count": 19,
     "metadata": {},
     "output_type": "execute_result"
    }
   ],
   "source": [
    "data['tweet'].tail(10)"
   ]
  },
  {
   "cell_type": "code",
   "execution_count": 20,
   "id": "9eb6c0a0",
   "metadata": {},
   "outputs": [
    {
     "name": "stderr",
     "output_type": "stream",
     "text": [
      "[nltk_data] Downloading package stopwords to ../static/model...\n",
      "[nltk_data]   Package stopwords is already up-to-date!\n"
     ]
    },
    {
     "data": {
      "text/plain": [
       "True"
      ]
     },
     "execution_count": 20,
     "metadata": {},
     "output_type": "execute_result"
    }
   ],
   "source": [
    "# Remove stopwords\n",
    "import nltk\n",
    "nltk.download('stopwords', download_dir='../static/model')"
   ]
  },
  {
   "cell_type": "code",
   "execution_count": 21,
   "id": "f6379fbf",
   "metadata": {},
   "outputs": [],
   "source": [
    "with open('../static/model/corpora/stopwords/english', 'r') as file:\n",
    "    sw = file.read().splitlines()"
   ]
  },
  {
   "cell_type": "code",
   "execution_count": 22,
   "id": "7be2fc0e",
   "metadata": {},
   "outputs": [
    {
     "data": {
      "text/plain": [
       "['a',\n",
       " 'about',\n",
       " 'above',\n",
       " 'after',\n",
       " 'again',\n",
       " 'against',\n",
       " 'ain',\n",
       " 'all',\n",
       " 'am',\n",
       " 'an',\n",
       " 'and',\n",
       " 'any',\n",
       " 'are',\n",
       " 'aren',\n",
       " \"aren't\",\n",
       " 'as',\n",
       " 'at',\n",
       " 'be',\n",
       " 'because',\n",
       " 'been',\n",
       " 'before',\n",
       " 'being',\n",
       " 'below',\n",
       " 'between',\n",
       " 'both',\n",
       " 'but',\n",
       " 'by',\n",
       " 'can',\n",
       " 'couldn',\n",
       " \"couldn't\",\n",
       " 'd',\n",
       " 'did',\n",
       " 'didn',\n",
       " \"didn't\",\n",
       " 'do',\n",
       " 'does',\n",
       " 'doesn',\n",
       " \"doesn't\",\n",
       " 'doing',\n",
       " 'don',\n",
       " \"don't\",\n",
       " 'down',\n",
       " 'during',\n",
       " 'each',\n",
       " 'few',\n",
       " 'for',\n",
       " 'from',\n",
       " 'further',\n",
       " 'had',\n",
       " 'hadn',\n",
       " \"hadn't\",\n",
       " 'has',\n",
       " 'hasn',\n",
       " \"hasn't\",\n",
       " 'have',\n",
       " 'haven',\n",
       " \"haven't\",\n",
       " 'having',\n",
       " 'he',\n",
       " \"he'd\",\n",
       " \"he'll\",\n",
       " 'her',\n",
       " 'here',\n",
       " 'hers',\n",
       " 'herself',\n",
       " \"he's\",\n",
       " 'him',\n",
       " 'himself',\n",
       " 'his',\n",
       " 'how',\n",
       " 'i',\n",
       " \"i'd\",\n",
       " 'if',\n",
       " \"i'll\",\n",
       " \"i'm\",\n",
       " 'in',\n",
       " 'into',\n",
       " 'is',\n",
       " 'isn',\n",
       " \"isn't\",\n",
       " 'it',\n",
       " \"it'd\",\n",
       " \"it'll\",\n",
       " \"it's\",\n",
       " 'its',\n",
       " 'itself',\n",
       " \"i've\",\n",
       " 'just',\n",
       " 'll',\n",
       " 'm',\n",
       " 'ma',\n",
       " 'me',\n",
       " 'mightn',\n",
       " \"mightn't\",\n",
       " 'more',\n",
       " 'most',\n",
       " 'mustn',\n",
       " \"mustn't\",\n",
       " 'my',\n",
       " 'myself',\n",
       " 'needn',\n",
       " \"needn't\",\n",
       " 'no',\n",
       " 'nor',\n",
       " 'not',\n",
       " 'now',\n",
       " 'o',\n",
       " 'of',\n",
       " 'off',\n",
       " 'on',\n",
       " 'once',\n",
       " 'only',\n",
       " 'or',\n",
       " 'other',\n",
       " 'our',\n",
       " 'ours',\n",
       " 'ourselves',\n",
       " 'out',\n",
       " 'over',\n",
       " 'own',\n",
       " 're',\n",
       " 's',\n",
       " 'same',\n",
       " 'shan',\n",
       " \"shan't\",\n",
       " 'she',\n",
       " \"she'd\",\n",
       " \"she'll\",\n",
       " \"she's\",\n",
       " 'should',\n",
       " 'shouldn',\n",
       " \"shouldn't\",\n",
       " \"should've\",\n",
       " 'so',\n",
       " 'some',\n",
       " 'such',\n",
       " 't',\n",
       " 'than',\n",
       " 'that',\n",
       " \"that'll\",\n",
       " 'the',\n",
       " 'their',\n",
       " 'theirs',\n",
       " 'them',\n",
       " 'themselves',\n",
       " 'then',\n",
       " 'there',\n",
       " 'these',\n",
       " 'they',\n",
       " \"they'd\",\n",
       " \"they'll\",\n",
       " \"they're\",\n",
       " \"they've\",\n",
       " 'this',\n",
       " 'those',\n",
       " 'through',\n",
       " 'to',\n",
       " 'too',\n",
       " 'under',\n",
       " 'until',\n",
       " 'up',\n",
       " 've',\n",
       " 'very',\n",
       " 'was',\n",
       " 'wasn',\n",
       " \"wasn't\",\n",
       " 'we',\n",
       " \"we'd\",\n",
       " \"we'll\",\n",
       " \"we're\",\n",
       " 'were',\n",
       " 'weren',\n",
       " \"weren't\",\n",
       " \"we've\",\n",
       " 'what',\n",
       " 'when',\n",
       " 'where',\n",
       " 'which',\n",
       " 'while',\n",
       " 'who',\n",
       " 'whom',\n",
       " 'why',\n",
       " 'will',\n",
       " 'with',\n",
       " 'won',\n",
       " \"won't\",\n",
       " 'wouldn',\n",
       " \"wouldn't\",\n",
       " 'y',\n",
       " 'you',\n",
       " \"you'd\",\n",
       " \"you'll\",\n",
       " 'your',\n",
       " \"you're\",\n",
       " 'yours',\n",
       " 'yourself',\n",
       " 'yourselves',\n",
       " \"you've\"]"
      ]
     },
     "execution_count": 22,
     "metadata": {},
     "output_type": "execute_result"
    }
   ],
   "source": [
    "sw"
   ]
  },
  {
   "cell_type": "code",
   "execution_count": 23,
   "id": "f852896e",
   "metadata": {},
   "outputs": [],
   "source": [
    "data['tweet'] = data['tweet'].apply(lambda x: \" \".join(x for x in x.split() if x not in sw))"
   ]
  },
  {
   "cell_type": "code",
   "execution_count": 24,
   "id": "07f32b2d",
   "metadata": {},
   "outputs": [
    {
     "data": {
      "application/vnd.microsoft.datawrangler.viewer.v0+json": {
       "columns": [
        {
         "name": "index",
         "rawType": "int64",
         "type": "integer"
        },
        {
         "name": "tweet",
         "rawType": "object",
         "type": "string"
        }
       ],
       "ref": "7b92c695-96d4-4f0c-ac8e-4d9a4a8d5ba8",
       "rows": [
        [
         "0",
         "fingerprint pregnancy test android apps beautiful cute health igers iphoneonly iphonesia iphone"
        ],
        [
         "1",
         "finally transparant silicon case thanks uncle yay sony xperia sonyexperias…"
        ],
        [
         "2",
         "love would go talk makememories unplug relax iphone smartphone wifi connect"
        ],
        [
         "3",
         "im wired know im george made way iphone cute daventry home"
        ],
        [
         "4",
         "amazing service apple wont even talk question unless pay stupid support"
        ]
       ],
       "shape": {
        "columns": 1,
        "rows": 5
       }
      },
      "text/plain": [
       "0    fingerprint pregnancy test android apps beauti...\n",
       "1    finally transparant silicon case thanks uncle ...\n",
       "2    love would go talk makememories unplug relax i...\n",
       "3    im wired know im george made way iphone cute d...\n",
       "4    amazing service apple wont even talk question ...\n",
       "Name: tweet, dtype: object"
      ]
     },
     "execution_count": 24,
     "metadata": {},
     "output_type": "execute_result"
    }
   ],
   "source": [
    "data['tweet'].head()"
   ]
  },
  {
   "cell_type": "code",
   "execution_count": 25,
   "id": "fe6defba",
   "metadata": {},
   "outputs": [],
   "source": [
    "# Stemming\n",
    "from nltk.stem import PorterStemmer\n",
    "ps = PorterStemmer()"
   ]
  },
  {
   "cell_type": "code",
   "execution_count": 26,
   "id": "e53aa3ab",
   "metadata": {},
   "outputs": [],
   "source": [
    "data['tweet'] = data['tweet'].apply(lambda x: \" \".join(ps.stem(x) for x in x.split()))"
   ]
  },
  {
   "cell_type": "code",
   "execution_count": 27,
   "id": "35cf7732",
   "metadata": {},
   "outputs": [
    {
     "data": {
      "application/vnd.microsoft.datawrangler.viewer.v0+json": {
       "columns": [
        {
         "name": "index",
         "rawType": "int64",
         "type": "integer"
        },
        {
         "name": "tweet",
         "rawType": "object",
         "type": "string"
        }
       ],
       "ref": "80a798d0-8d57-489c-9900-42445d18d5b5",
       "rows": [
        [
         "0",
         "fingerprint pregnanc test android app beauti cute health iger iphoneonli iphonesia iphon"
        ],
        [
         "1",
         "final transpar silicon case thank uncl yay soni xperia sonyexperias…"
        ],
        [
         "2",
         "love would go talk makememori unplug relax iphon smartphon wifi connect"
        ],
        [
         "3",
         "im wire know im georg made way iphon cute daventri home"
        ],
        [
         "4",
         "amaz servic appl wont even talk question unless pay stupid support"
        ]
       ],
       "shape": {
        "columns": 1,
        "rows": 5
       }
      },
      "text/plain": [
       "0    fingerprint pregnanc test android app beauti c...\n",
       "1    final transpar silicon case thank uncl yay son...\n",
       "2    love would go talk makememori unplug relax iph...\n",
       "3    im wire know im georg made way iphon cute dave...\n",
       "4    amaz servic appl wont even talk question unles...\n",
       "Name: tweet, dtype: object"
      ]
     },
     "execution_count": 27,
     "metadata": {},
     "output_type": "execute_result"
    }
   ],
   "source": [
    "data['tweet'].head()"
   ]
  },
  {
   "cell_type": "code",
   "execution_count": 28,
   "id": "fef534b6",
   "metadata": {},
   "outputs": [
    {
     "data": {
      "application/vnd.microsoft.datawrangler.viewer.v0+json": {
       "columns": [
        {
         "name": "index",
         "rawType": "int64",
         "type": "integer"
        },
        {
         "name": "id",
         "rawType": "int64",
         "type": "integer"
        },
        {
         "name": "label",
         "rawType": "int64",
         "type": "integer"
        },
        {
         "name": "tweet",
         "rawType": "object",
         "type": "string"
        }
       ],
       "ref": "963d09f0-f79d-426c-979d-3841e8b0bd69",
       "rows": [
        [
         "0",
         "1",
         "0",
         "fingerprint pregnanc test android app beauti cute health iger iphoneonli iphonesia iphon"
        ],
        [
         "1",
         "2",
         "0",
         "final transpar silicon case thank uncl yay soni xperia sonyexperias…"
        ],
        [
         "2",
         "3",
         "0",
         "love would go talk makememori unplug relax iphon smartphon wifi connect"
        ],
        [
         "3",
         "4",
         "0",
         "im wire know im georg made way iphon cute daventri home"
        ],
        [
         "4",
         "5",
         "1",
         "amaz servic appl wont even talk question unless pay stupid support"
        ],
        [
         "5",
         "6",
         "1",
         "iphon softwar updat fuck phone big time stupid iphon"
        ],
        [
         "6",
         "7",
         "0",
         "happi us instap instadaili us soni xperia xperiaz"
        ],
        [
         "7",
         "8",
         "0",
         "new type c charger cabl uk … bay amazon etsi new year rob cross tobi young evemun mcmafia taylor spectr newyear start recip technolog samsunggalaxi iphonex pictwittercompjiwq wtc"
        ],
        [
         "8",
         "9",
         "0",
         "bout go shop listen music iphon justm music likeforlik followforfollow…"
        ],
        [
         "9",
         "10",
         "0",
         "photo fun selfi pool water soni camera picoftheday sun instagood boy cute outdoor"
        ],
        [
         "10",
         "11",
         "1",
         "hey appl make new ipod dont make new color inch thinner make crash everi five fuckin minit"
        ],
        [
         "11",
         "12",
         "1",
         "ha heavi machineri need appl realli drop ball design drinkyourhaterad"
        ],
        [
         "12",
         "13",
         "1",
         "contempl give iphon bandwagon simpli cellcom new android depress idontwantto"
        ],
        [
         "13",
         "14",
         "0",
         "made anoth crazi purchas lol theori work hard play hard lol ipad appl shop"
        ],
        [
         "14",
         "15",
         "1",
         "shaqlockholm samlouis batteri pain charg overnight lunchtim batteri dead hateorang"
        ],
        [
         "15",
         "16",
         "0",
         "deepellum toward downtown dalla bigd saturday rx soni summer urban"
        ],
        [
         "16",
         "17",
         "0",
         "like share want phone case iphon iphon …pictwittercomgfkn yec j"
        ],
        [
         "17",
         "18",
         "0",
         "go crazi iphonesia iphon instagood instagram photooftheday tweegram …"
        ],
        [
         "18",
         "19",
         "1",
         "reason dont one iphon suck appl truth truthbetold agre fact realitycheck blackberrypictwittercomzpggd cazn"
        ],
        [
         "19",
         "20",
         "1",
         "appl store gunna c screen monday ur fuck appl store fuckingpiss"
        ],
        [
         "20",
         "21",
         "0",
         "appl art easter dear friend would like publish channel design face easter bunni email png thumbnail email mutitaedibleartgmailcompictwittercom jhwphfbgt"
        ],
        [
         "21",
         "22",
         "0",
         "excus waiter seem pie soup wife bake appl pie yay"
        ],
        [
         "22",
         "23",
         "1",
         "ive new ipod four day button back broke accident hit"
        ],
        [
         "23",
         "24",
         "1",
         "iphon screen goe complet black keep get text day cant fuck check appl thiphon"
        ],
        [
         "24",
         "25",
         "0",
         "time new wallpap phone wallpap wall screen galaxi samsung app …"
        ],
        [
         "25",
         "26",
         "0",
         "billion patent prior art million patent troll parti thank appl appl"
        ],
        [
         "26",
         "27",
         "1",
         "ipod mess havent done noth myloss appl"
        ],
        [
         "27",
         "28",
         "1",
         "ipod touch frozen appl logo start lose demi music pic kill someon soangri hateappl"
        ],
        [
         "28",
         "29",
         "0",
         "love new phone case flower green diamond pearl cute new iphon iphon case…"
        ],
        [
         "29",
         "30",
         "0",
         "must watch youtub subscrib daili vlog twitch game fun ps xbox soni game io android"
        ],
        [
         "30",
         "31",
         "0",
         "thank samsung live laugh life food philippin instago instahub instagram…"
        ],
        [
         "31",
         "32",
         "0",
         "ch cannon suewe friendship americanbulli dog piggi famili southerncharm americanidol goal bestfriend pitbul iphonex onelov countri muscl nfl worldwid america bigboy thislif tmz wild hoggpictwittercom mn ogpi c"
        ],
        [
         "32",
         "33",
         "0",
         "instap mimmoal feb taken soni rx direzionevertical sunset sky beauti fun …pictwittercomcxifijj g"
        ],
        [
         "33",
         "34",
         "0",
         "im happi sister bought new phone earli bday gift happi samsung"
        ],
        [
         "34",
         "35",
         "0",
         "receiv samsung note mani thank cottd phone"
        ],
        [
         "35",
         "36",
         "0",
         "nswrl app android market pipelin"
        ],
        [
         "36",
         "37",
         "1",
         "cant delet individu song phone appl itun"
        ],
        [
         "37",
         "38",
         "1",
         "everybodi freak io im like duuud even window phone advanc iphon custom"
        ],
        [
         "38",
         "39",
         "1",
         "new iphon c stand sirriious bad c stand cheap screen re camera tech appl"
        ],
        [
         "39",
         "40",
         "0",
         "bull instas leg lightskin curlyhair iphon bellypierc smile potd…"
        ],
        [
         "40",
         "41",
         "0",
         "din’t creat don’t let destroy candid photo iphonex sunday sundayvib smile alway photooftheday eye ootd fashion blackandwhit poser attitud lifeisgood mylook mylif photoeveryday lookoftheday latepost mylifepictwittercommmhcqyad b"
        ],
        [
         "41",
         "42",
         "0",
         "film set build timelaps video photooftheday beauti produc live fashion videoproduct cute follow commerci iphon appl actor actress iphonesia hollywood losangel picoftheday movi act startup startupvideo shotoniphonpictwittercom eceiain"
        ],
        [
         "42",
         "43",
         "0",
         "new phone cupcak wallpap pink cute sweet samsung cherri"
        ],
        [
         "43",
         "44",
         "0",
         "eeeeee sexi ladi live iphon iphonesia instagood photooftheday tweegram iphon"
        ],
        [
         "44",
         "45",
         "0",
         "acquisto del week end iphon iphon plu appl gril moment italy…"
        ],
        [
         "45",
         "46",
         "0",
         "majest see differ photographi natur landscap forest hidden clear view wood tree travel biker soni ziess photo instgramhub picoftheday …"
        ],
        [
         "46",
         "47",
         "1",
         "googl appl cut itun get program"
        ],
        [
         "47",
         "48",
         "0",
         "ahhhh look got christma iphon appl christma girl"
        ],
        [
         "48",
         "49",
         "0",
         "love like love instacool photooftheday iphon instago food followforfollow like"
        ],
        [
         "49",
         "50",
         "0",
         "follow play bitcoinboy iphon ipad ipod free game fun kansa georgia …"
        ]
       ],
       "shape": {
        "columns": 3,
        "rows": 7920
       }
      },
      "text/html": [
       "<div>\n",
       "<style scoped>\n",
       "    .dataframe tbody tr th:only-of-type {\n",
       "        vertical-align: middle;\n",
       "    }\n",
       "\n",
       "    .dataframe tbody tr th {\n",
       "        vertical-align: top;\n",
       "    }\n",
       "\n",
       "    .dataframe thead th {\n",
       "        text-align: right;\n",
       "    }\n",
       "</style>\n",
       "<table border=\"1\" class=\"dataframe\">\n",
       "  <thead>\n",
       "    <tr style=\"text-align: right;\">\n",
       "      <th></th>\n",
       "      <th>id</th>\n",
       "      <th>label</th>\n",
       "      <th>tweet</th>\n",
       "    </tr>\n",
       "  </thead>\n",
       "  <tbody>\n",
       "    <tr>\n",
       "      <th>0</th>\n",
       "      <td>1</td>\n",
       "      <td>0</td>\n",
       "      <td>fingerprint pregnanc test android app beauti c...</td>\n",
       "    </tr>\n",
       "    <tr>\n",
       "      <th>1</th>\n",
       "      <td>2</td>\n",
       "      <td>0</td>\n",
       "      <td>final transpar silicon case thank uncl yay son...</td>\n",
       "    </tr>\n",
       "    <tr>\n",
       "      <th>2</th>\n",
       "      <td>3</td>\n",
       "      <td>0</td>\n",
       "      <td>love would go talk makememori unplug relax iph...</td>\n",
       "    </tr>\n",
       "    <tr>\n",
       "      <th>3</th>\n",
       "      <td>4</td>\n",
       "      <td>0</td>\n",
       "      <td>im wire know im georg made way iphon cute dave...</td>\n",
       "    </tr>\n",
       "    <tr>\n",
       "      <th>4</th>\n",
       "      <td>5</td>\n",
       "      <td>1</td>\n",
       "      <td>amaz servic appl wont even talk question unles...</td>\n",
       "    </tr>\n",
       "    <tr>\n",
       "      <th>...</th>\n",
       "      <td>...</td>\n",
       "      <td>...</td>\n",
       "      <td>...</td>\n",
       "    </tr>\n",
       "    <tr>\n",
       "      <th>7915</th>\n",
       "      <td>7916</td>\n",
       "      <td>0</td>\n",
       "      <td>live loud lol liveoutloud selfi smile soni mus...</td>\n",
       "    </tr>\n",
       "    <tr>\n",
       "      <th>7916</th>\n",
       "      <td>7917</td>\n",
       "      <td>0</td>\n",
       "      <td>would like wish amaz day make everi minut coun...</td>\n",
       "    </tr>\n",
       "    <tr>\n",
       "      <th>7917</th>\n",
       "      <td>7918</td>\n",
       "      <td>0</td>\n",
       "      <td>help love year old neighbor ipad morn made rea...</td>\n",
       "    </tr>\n",
       "    <tr>\n",
       "      <th>7918</th>\n",
       "      <td>7919</td>\n",
       "      <td>0</td>\n",
       "      <td>final got smart pocket wifi stay connect anyti...</td>\n",
       "    </tr>\n",
       "    <tr>\n",
       "      <th>7919</th>\n",
       "      <td>7920</td>\n",
       "      <td>0</td>\n",
       "      <td>appl barcelona appl store bcn barcelona travel...</td>\n",
       "    </tr>\n",
       "  </tbody>\n",
       "</table>\n",
       "<p>7920 rows × 3 columns</p>\n",
       "</div>"
      ],
      "text/plain": [
       "        id  label                                              tweet\n",
       "0        1      0  fingerprint pregnanc test android app beauti c...\n",
       "1        2      0  final transpar silicon case thank uncl yay son...\n",
       "2        3      0  love would go talk makememori unplug relax iph...\n",
       "3        4      0  im wire know im georg made way iphon cute dave...\n",
       "4        5      1  amaz servic appl wont even talk question unles...\n",
       "...    ...    ...                                                ...\n",
       "7915  7916      0  live loud lol liveoutloud selfi smile soni mus...\n",
       "7916  7917      0  would like wish amaz day make everi minut coun...\n",
       "7917  7918      0  help love year old neighbor ipad morn made rea...\n",
       "7918  7919      0  final got smart pocket wifi stay connect anyti...\n",
       "7919  7920      0  appl barcelona appl store bcn barcelona travel...\n",
       "\n",
       "[7920 rows x 3 columns]"
      ]
     },
     "execution_count": 28,
     "metadata": {},
     "output_type": "execute_result"
    }
   ],
   "source": [
    "data"
   ]
  },
  {
   "cell_type": "markdown",
   "id": "d36ab4d2",
   "metadata": {},
   "source": [
    "# Vocabulary Building"
   ]
  },
  {
   "cell_type": "code",
   "execution_count": 29,
   "id": "06add405",
   "metadata": {},
   "outputs": [],
   "source": [
    "from collections import Counter\n",
    "vocab = Counter()"
   ]
  },
  {
   "cell_type": "code",
   "execution_count": 30,
   "id": "539f80a4",
   "metadata": {},
   "outputs": [
    {
     "data": {
      "text/plain": [
       "Counter()"
      ]
     },
     "execution_count": 30,
     "metadata": {},
     "output_type": "execute_result"
    }
   ],
   "source": [
    "vocab"
   ]
  },
  {
   "cell_type": "code",
   "execution_count": 31,
   "id": "1192a975",
   "metadata": {},
   "outputs": [],
   "source": [
    "for sentence in data['tweet']:\n",
    "    vocab.update(sentence.split())"
   ]
  },
  {
   "cell_type": "code",
   "execution_count": 32,
   "id": "b503df22",
   "metadata": {},
   "outputs": [
    {
     "data": {
      "text/plain": [
       "Counter({'iphon': 4169,\n",
       "         'appl': 2876,\n",
       "         'samsung': 1398,\n",
       "         'new': 1137,\n",
       "         'phone': 1015,\n",
       "         'follow': 922,\n",
       "         'soni': 821,\n",
       "         '…': 779,\n",
       "         'like': 548,\n",
       "         'ipad': 537,\n",
       "         'rt': 527,\n",
       "         'love': 499,\n",
       "         'day': 428,\n",
       "         'life': 421,\n",
       "         'android': 416,\n",
       "         'app': 416,\n",
       "         'io': 398,\n",
       "         'photo': 394,\n",
       "         'get': 383,\n",
       "         'galaxi': 368,\n",
       "         'instagram': 359,\n",
       "         'case': 352,\n",
       "         'beauti': 322,\n",
       "         'cute': 322,\n",
       "         'gain': 311,\n",
       "         'today': 309,\n",
       "         'work': 306,\n",
       "         'im': 296,\n",
       "         'back': 294,\n",
       "         'fuck': 293,\n",
       "         'happi': 293,\n",
       "         'photographi': 292,\n",
       "         'game': 283,\n",
       "         'got': 280,\n",
       "         'fun': 278,\n",
       "         'news': 265,\n",
       "         'music': 264,\n",
       "         'thank': 263,\n",
       "         'time': 248,\n",
       "         'make': 247,\n",
       "         'updat': 236,\n",
       "         'smile': 231,\n",
       "         'instagood': 226,\n",
       "         'funni': 223,\n",
       "         'one': 221,\n",
       "         'girl': 220,\n",
       "         'lol': 215,\n",
       "         'fashion': 215,\n",
       "         'itun': 212,\n",
       "         'ipod': 211,\n",
       "         'go': 209,\n",
       "         'tech': 206,\n",
       "         'birthday': 206,\n",
       "         'ps': 204,\n",
       "         'iphonex': 199,\n",
       "         'final': 192,\n",
       "         'photooftheday': 191,\n",
       "         'friend': 191,\n",
       "         'everyon': 189,\n",
       "         'cant': 181,\n",
       "         'good': 180,\n",
       "         'amaz': 179,\n",
       "         'use': 174,\n",
       "         'look': 171,\n",
       "         'note': 169,\n",
       "         'fail': 169,\n",
       "         'dont': 168,\n",
       "         'must': 168,\n",
       "         'want': 165,\n",
       "         'sougofollow': 165,\n",
       "         'selfi': 164,\n",
       "         'mac': 164,\n",
       "         'gift': 163,\n",
       "         'sale': 157,\n",
       "         'hate': 156,\n",
       "         'free': 149,\n",
       "         'babi': 148,\n",
       "         'would': 146,\n",
       "         'iger': 143,\n",
       "         'home': 143,\n",
       "         'year': 142,\n",
       "         'camera': 140,\n",
       "         'famili': 139,\n",
       "         'need': 138,\n",
       "         'iphonesia': 137,\n",
       "         'best': 136,\n",
       "         'smartphon': 135,\n",
       "         'suck': 134,\n",
       "         'cool': 134,\n",
       "         'u': 134,\n",
       "         'art': 132,\n",
       "         'iphoneonli': 129,\n",
       "         'charger': 129,\n",
       "         'everi': 127,\n",
       "         'color': 125,\n",
       "         'live': 125,\n",
       "         'christma': 124,\n",
       "         'buy': 124,\n",
       "         'tri': 122,\n",
       "         'health': 121,\n",
       "         'summer': 121,\n",
       "         'picoftheday': 117,\n",
       "         'product': 117,\n",
       "         'shop': 116,\n",
       "         'white': 116,\n",
       "         'thing': 116,\n",
       "         'hour': 113,\n",
       "         'still': 112,\n",
       "         'mobil': 111,\n",
       "         'minut': 111,\n",
       "         'much': 109,\n",
       "         'say': 109,\n",
       "         'even': 108,\n",
       "         'plu': 108,\n",
       "         'natur': 107,\n",
       "         'night': 107,\n",
       "         'awesom': 107,\n",
       "         'know': 106,\n",
       "         'window': 106,\n",
       "         'come': 105,\n",
       "         'macbook': 105,\n",
       "         'money': 103,\n",
       "         'screen': 102,\n",
       "         'laptop': 102,\n",
       "         'download': 101,\n",
       "         'ever': 101,\n",
       "         'great': 98,\n",
       "         'excit': 98,\n",
       "         'wish': 97,\n",
       "         'sexi': 94,\n",
       "         'wait': 94,\n",
       "         'take': 94,\n",
       "         'x': 94,\n",
       "         'motorola': 94,\n",
       "         'delet': 93,\n",
       "         'style': 93,\n",
       "         'accessori': 93,\n",
       "         'store': 91,\n",
       "         'black': 90,\n",
       "         'instamood': 90,\n",
       "         'retweet': 90,\n",
       "         'comput': 89,\n",
       "         'last': 89,\n",
       "         'followm': 89,\n",
       "         'technolog': 88,\n",
       "         'wont': 87,\n",
       "         'twitter': 87,\n",
       "         'nice': 87,\n",
       "         'pink': 86,\n",
       "         'keep': 85,\n",
       "         'sweet': 85,\n",
       "         'peopl': 85,\n",
       "         'realli': 83,\n",
       "         'ive': 83,\n",
       "         'pictur': 83,\n",
       "         'ff': 83,\n",
       "         'guy': 83,\n",
       "         'pictwittercom': 82,\n",
       "         'morn': 82,\n",
       "         'charg': 81,\n",
       "         'watch': 81,\n",
       "         'video': 81,\n",
       "         'travel': 81,\n",
       "         'never': 81,\n",
       "         'first': 81,\n",
       "         'fix': 81,\n",
       "         'us': 80,\n",
       "         'batteri': 80,\n",
       "         'think': 80,\n",
       "         'right': 80,\n",
       "         'old': 80,\n",
       "         'iphone…': 79,\n",
       "         'via': 79,\n",
       "         'g': 78,\n",
       "         'custom': 78,\n",
       "         'boy': 77,\n",
       "         'play': 77,\n",
       "         'playstat': 77,\n",
       "         'give': 76,\n",
       "         'googl': 76,\n",
       "         'job': 75,\n",
       "         'fuckyou': 75,\n",
       "         'everyth': 75,\n",
       "         'kid': 75,\n",
       "         'hey': 73,\n",
       "         'let': 73,\n",
       "         'tv': 73,\n",
       "         'toy': 73,\n",
       "         'made': 72,\n",
       "         'pic': 72,\n",
       "         'pretti': 72,\n",
       "         'well': 72,\n",
       "         'upgrad': 72,\n",
       "         'anoth': 71,\n",
       "         'dog': 71,\n",
       "         'f': 71,\n",
       "         'feel': 71,\n",
       "         'cover': 71,\n",
       "         'design': 70,\n",
       "         'week': 70,\n",
       "         'see': 70,\n",
       "         'red': 70,\n",
       "         'blue': 70,\n",
       "         'yay': 69,\n",
       "         'doesnt': 69,\n",
       "         'count': 69,\n",
       "         'nokia': 69,\n",
       "         'stupid': 68,\n",
       "         'start': 68,\n",
       "         'text': 68,\n",
       "         'present': 68,\n",
       "         'world': 68,\n",
       "         'offer': 68,\n",
       "         'gadget': 68,\n",
       "         'sun': 67,\n",
       "         'instadaili': 66,\n",
       "         'check': 66,\n",
       "         'quot': 65,\n",
       "         'gb': 65,\n",
       "         'headphon': 65,\n",
       "         'big': 64,\n",
       "         'food': 64,\n",
       "         'date': 64,\n",
       "         'deal': 64,\n",
       "         'alway': 63,\n",
       "         'appstor': 63,\n",
       "         'friday': 63,\n",
       "         'youtub': 62,\n",
       "         'book': 62,\n",
       "         'cat': 62,\n",
       "         'tl': 62,\n",
       "         'rhyme': 62,\n",
       "         'amazon': 61,\n",
       "         'sunset': 61,\n",
       "         'tablet': 61,\n",
       "         'pc': 61,\n",
       "         'xperia': 60,\n",
       "         'song': 60,\n",
       "         'ig': 60,\n",
       "         'laugh': 59,\n",
       "         'p': 59,\n",
       "         'blackberri': 58,\n",
       "         'capetown': 58,\n",
       "         'hello': 58,\n",
       "         'bought': 57,\n",
       "         'sunday': 57,\n",
       "         'l': 57,\n",
       "         'imag': 57,\n",
       "         'k': 57,\n",
       "         'sky': 56,\n",
       "         'holiday': 56,\n",
       "         'lost': 56,\n",
       "         'sinc': 56,\n",
       "         'wow': 56,\n",
       "         'top': 56,\n",
       "         'better': 56,\n",
       "         'instap': 55,\n",
       "         'flower': 55,\n",
       "         'month': 55,\n",
       "         'hot': 55,\n",
       "         'surf': 55,\n",
       "         'share': 54,\n",
       "         'followback': 54,\n",
       "         'oh': 54,\n",
       "         'gamer': 54,\n",
       "         'facebook': 54,\n",
       "         'way': 53,\n",
       "         'green': 53,\n",
       "         'put': 53,\n",
       "         'capetownsup': 53,\n",
       "         'sup': 53,\n",
       "         'mine': 53,\n",
       "         'w': 53,\n",
       "         'phonecas': 53,\n",
       "         'newyear': 52,\n",
       "         'iphoneographi': 52,\n",
       "         'gold': 52,\n",
       "         'valentin': 52,\n",
       "         'miss': 52,\n",
       "         'ye': 52,\n",
       "         'heart': 52,\n",
       "         'weekend': 52,\n",
       "         'wifi': 51,\n",
       "         'servic': 51,\n",
       "         'c': 51,\n",
       "         'face': 51,\n",
       "         'th': 51,\n",
       "         'help': 51,\n",
       "         'tweegram': 50,\n",
       "         'twitch': 50,\n",
       "         'moment': 50,\n",
       "         'call': 50,\n",
       "         'beach': 50,\n",
       "         'macbookpro': 50,\n",
       "         'find': 50,\n",
       "         'god': 50,\n",
       "         'hard': 49,\n",
       "         'hateappl': 49,\n",
       "         'b': 49,\n",
       "         'pro': 49,\n",
       "         'chang': 49,\n",
       "         'dear': 48,\n",
       "         'parti': 48,\n",
       "         'pleas': 48,\n",
       "         'ya': 48,\n",
       "         'problem': 48,\n",
       "         'pay': 47,\n",
       "         'support': 47,\n",
       "         'arriv': 47,\n",
       "         'enjoy': 47,\n",
       "         'didnt': 47,\n",
       "         'yeah': 47,\n",
       "         'user': 46,\n",
       "         'littl': 46,\n",
       "         'stop': 46,\n",
       "         'show': 46,\n",
       "         'restor': 46,\n",
       "         'listen': 45,\n",
       "         'that': 45,\n",
       "         'run': 45,\n",
       "         'word': 45,\n",
       "         'siri': 45,\n",
       "         'power': 45,\n",
       "         'man': 45,\n",
       "         'came': 44,\n",
       "         'swag': 44,\n",
       "         'welcom': 44,\n",
       "         'two': 44,\n",
       "         'could': 44,\n",
       "         'r': 44,\n",
       "         'oneplu': 44,\n",
       "         'newphon': 44,\n",
       "         'messag': 44,\n",
       "         'att': 44,\n",
       "         'light': 43,\n",
       "         'win': 43,\n",
       "         'blog': 43,\n",
       "         'turn': 43,\n",
       "         'tweet': 43,\n",
       "         'may': 43,\n",
       "         'fit': 43,\n",
       "         'lock': 43,\n",
       "         'order': 43,\n",
       "         'microsoft': 43,\n",
       "         'busi': 42,\n",
       "         'id': 42,\n",
       "         'devic': 42,\n",
       "         'usa': 42,\n",
       "         'car': 42,\n",
       "         'took': 42,\n",
       "         'avail': 42,\n",
       "         'sonyphoto': 42,\n",
       "         'switch': 42,\n",
       "         'gonna': 42,\n",
       "         'hair': 42,\n",
       "         'relax': 41,\n",
       "         'crazi': 41,\n",
       "         'reason': 41,\n",
       "         'random': 41,\n",
       "         'alreadi': 41,\n",
       "         'z': 41,\n",
       "         'nofilt': 41,\n",
       "         'insta': 41,\n",
       "         'vsco': 41,\n",
       "         'discount': 41,\n",
       "         '•': 41,\n",
       "         'cabl': 40,\n",
       "         'saturday': 40,\n",
       "         'joy': 40,\n",
       "         'model': 40,\n",
       "         'piss': 40,\n",
       "         'hope': 40,\n",
       "         'serious': 39,\n",
       "         'replac': 39,\n",
       "         'tab': 39,\n",
       "         'readi': 39,\n",
       "         'bestpric': 39,\n",
       "         'bless': 39,\n",
       "         'tell': 39,\n",
       "         'coupl': 39,\n",
       "         'die': 39,\n",
       "         'samsunggalaxi': 38,\n",
       "         'done': 38,\n",
       "         'movi': 38,\n",
       "         'broken': 38,\n",
       "         'compani': 38,\n",
       "         'annoy': 38,\n",
       "         'photograph': 38,\n",
       "         'haha': 38,\n",
       "         'tbt': 38,\n",
       "         'crash': 37,\n",
       "         'bad': 37,\n",
       "         'coffe': 37,\n",
       "         'imessag': 37,\n",
       "         'contact': 37,\n",
       "         'shit': 37,\n",
       "         'trip': 37,\n",
       "         'piec': 37,\n",
       "         'monday': 36,\n",
       "         'peac': 36,\n",
       "         'yet': 36,\n",
       "         'mom': 36,\n",
       "         'n': 36,\n",
       "         'sync': 36,\n",
       "         'enough': 36,\n",
       "         'gay': 36,\n",
       "         '—': 36,\n",
       "         'e': 36,\n",
       "         'break': 36,\n",
       "         'hous': 36,\n",
       "         'noth': 35,\n",
       "         'tree': 35,\n",
       "         'stuff': 35,\n",
       "         'ago': 35,\n",
       "         'mini': 35,\n",
       "         'drop': 34,\n",
       "         'complet': 34,\n",
       "         'taken': 34,\n",
       "         'earli': 34,\n",
       "         'mani': 34,\n",
       "         'fan': 34,\n",
       "         'actual': 34,\n",
       "         'sleep': 34,\n",
       "         'long': 34,\n",
       "         'soon': 34,\n",
       "         'password': 34,\n",
       "         'next': 34,\n",
       "         'verizon': 34,\n",
       "         'anyon': 34,\n",
       "         'number': 34,\n",
       "         'fresh': 34,\n",
       "         'code': 34,\n",
       "         'decid': 34,\n",
       "         'sister': 33,\n",
       "         'spring': 33,\n",
       "         'send': 33,\n",
       "         'real': 33,\n",
       "         'unlock': 33,\n",
       "         'emoji': 33,\n",
       "         'care': 33,\n",
       "         'favorit': 33,\n",
       "         'happen': 33,\n",
       "         'someon': 32,\n",
       "         'instago': 32,\n",
       "         'chill': 32,\n",
       "         'teamfollowback': 32,\n",
       "         'someth': 32,\n",
       "         'featur': 32,\n",
       "         'galaxynot': 32,\n",
       "         'geek': 32,\n",
       "         'colleg': 32,\n",
       "         'sad': 32,\n",
       "         'iphonecas': 32,\n",
       "         'worst': 32,\n",
       "         'market': 31,\n",
       "         'set': 31,\n",
       "         'end': 31,\n",
       "         'singl': 31,\n",
       "         'portrait': 31,\n",
       "         'husband': 31,\n",
       "         'fast': 31,\n",
       "         'steemit': 31,\n",
       "         'london': 31,\n",
       "         'sony…': 31,\n",
       "         'anyth': 31,\n",
       "         'water': 30,\n",
       "         'email': 30,\n",
       "         'cloud': 30,\n",
       "         'followsunday': 30,\n",
       "         'perfect': 30,\n",
       "         'nyc': 30,\n",
       "         'learn': 30,\n",
       "         'healthi': 30,\n",
       "         'gratitud': 30,\n",
       "         'v': 30,\n",
       "         'decor': 30,\n",
       "         'steve': 30,\n",
       "         'ill': 30,\n",
       "         'releas': 30,\n",
       "         'brand': 30,\n",
       "         'softwar': 29,\n",
       "         'button': 29,\n",
       "         'broke': 29,\n",
       "         'xbox': 29,\n",
       "         'school': 29,\n",
       "         'ad': 29,\n",
       "         'wonder': 29,\n",
       "         'fruit': 29,\n",
       "         'kindl': 29,\n",
       "         'air': 29,\n",
       "         'sonylen': 29,\n",
       "         'sonyphotographi': 29,\n",
       "         'sound': 29,\n",
       "         'edg': 29,\n",
       "         'kiss': 29,\n",
       "         'beat': 29,\n",
       "         'anim': 29,\n",
       "         'ok': 29,\n",
       "         'pop': 28,\n",
       "         'wed': 28,\n",
       "         'os': 28,\n",
       "         'drink': 28,\n",
       "         'tomorrow': 28,\n",
       "         'dad': 28,\n",
       "         'puppi': 28,\n",
       "         'gone': 28,\n",
       "         'thailand': 28,\n",
       "         'sure': 28,\n",
       "         'talk': 27,\n",
       "         'connect': 27,\n",
       "         'j': 27,\n",
       "         'bestfriend': 27,\n",
       "         '£': 27,\n",
       "         'sonya': 27,\n",
       "         'card': 27,\n",
       "         'version': 27,\n",
       "         'popular': 27,\n",
       "         'stori': 27,\n",
       "         'dream': 27,\n",
       "         'cellphon': 27,\n",
       "         'florida': 27,\n",
       "         'lg': 27,\n",
       "         'without': 27,\n",
       "         'crap': 27,\n",
       "         'андроид': 27,\n",
       "         'map': 27,\n",
       "         'inspir': 27,\n",
       "         'cake': 27,\n",
       "         'instalov': 27,\n",
       "         'also': 27,\n",
       "         'said': 27,\n",
       "         'flash': 27,\n",
       "         'crack': 27,\n",
       "         'relationship': 27,\n",
       "         'uk': 26,\n",
       "         'pet': 26,\n",
       "         'brother': 26,\n",
       "         'daughter': 26,\n",
       "         'read': 26,\n",
       "         'smart': 26,\n",
       "         'imac': 26,\n",
       "         'itali': 26,\n",
       "         'away': 26,\n",
       "         'ebay': 26,\n",
       "         'igdaili': 26,\n",
       "         'ugh': 26,\n",
       "         'instalik': 26,\n",
       "         'ask': 26,\n",
       "         'ilc': 26,\n",
       "         'pm': 26,\n",
       "         'eye': 25,\n",
       "         'film': 25,\n",
       "         'less': 25,\n",
       "         'memori': 25,\n",
       "         'gear': 25,\n",
       "         'whole': 25,\n",
       "         'garden': 25,\n",
       "         'super': 25,\n",
       "         'luxuri': 25,\n",
       "         'vocat': 25,\n",
       "         'khaoko': 25,\n",
       "         'htc': 25,\n",
       "         'psn': 25,\n",
       "         'post': 25,\n",
       "         'isnt': 25,\n",
       "         'purchas': 24,\n",
       "         'pie': 24,\n",
       "         'wallpap': 24,\n",
       "         'instahub': 24,\n",
       "         'differ': 24,\n",
       "         'newyork': 24,\n",
       "         'sport': 24,\n",
       "         'shoot': 24,\n",
       "         '–': 24,\n",
       "         'lifestyl': 24,\n",
       "         'hand': 24,\n",
       "         'instagood…': 24,\n",
       "         'jj': 24,\n",
       "         'there': 24,\n",
       "         'citi': 24,\n",
       "         'instal': 24,\n",
       "         'unitedst': 24,\n",
       "         'guitarplay': 24,\n",
       "         'mother': 24,\n",
       "         'india': 24,\n",
       "         'japan': 24,\n",
       "         'yesterday': 24,\n",
       "         'rain': 24,\n",
       "         'applewatch': 24,\n",
       "         'save': 24,\n",
       "         'idea': 24,\n",
       "         'leav': 24,\n",
       "         'mirror': 24,\n",
       "         'line': 24,\n",
       "         'entrepreneur': 24,\n",
       "         'xperiaz': 23,\n",
       "         'inch': 23,\n",
       "         'kill': 23,\n",
       "         'blackandwhit': 23,\n",
       "         'instacool': 23,\n",
       "         'h': 23,\n",
       "         'rock': 23,\n",
       "         'price': 23,\n",
       "         'full': 23,\n",
       "         'bestoftheday': 23,\n",
       "         'shotoniphon': 23,\n",
       "         'though': 23,\n",
       "         'makeup': 23,\n",
       "         'addict': 23,\n",
       "         'samsung…': 23,\n",
       "         'edit': 23,\n",
       "         'total': 23,\n",
       "         'photofe': 23,\n",
       "         'reallyr': 23,\n",
       "         'ador': 23,\n",
       "         'danc': 23,\n",
       "         'woman': 23,\n",
       "         'charm': 23,\n",
       "         'tshirt': 23,\n",
       "         'wtf': 23,\n",
       "         'snapspeed…': 23,\n",
       "         'lot': 23,\n",
       "         'click': 23,\n",
       "         'fact': 22,\n",
       "         'ur': 22,\n",
       "         'goe': 22,\n",
       "         'receiv': 22,\n",
       "         'person': 22,\n",
       "         'keyboard': 22,\n",
       "         'usb': 22,\n",
       "         'icloud': 22,\n",
       "         'small': 22,\n",
       "         'orang': 22,\n",
       "         'true': 22,\n",
       "         'jun': 22,\n",
       "         'caus': 22,\n",
       "         'nike': 22,\n",
       "         'went': 22,\n",
       "         'proud': 22,\n",
       "         'exquisit': 22,\n",
       "         'squishi': 22,\n",
       "         'strap': 22,\n",
       "         'human': 22,\n",
       "         'ly': 22,\n",
       "         'q': 22,\n",
       "         'tonight': 22,\n",
       "         'facetim': 22,\n",
       "         'lose': 21,\n",
       "         'ootd': 21,\n",
       "         'bit': 21,\n",
       "         'thought': 21,\n",
       "         'repair': 21,\n",
       "         'liter': 21,\n",
       "         'tattoo': 21,\n",
       "         'chocol': 21,\n",
       "         'might': 21,\n",
       "         'bring': 21,\n",
       "         'boyfriend': 21,\n",
       "         'almost': 21,\n",
       "         'tag': 21,\n",
       "         'repost': 21,\n",
       "         'dj': 21,\n",
       "         'tuesday': 21,\n",
       "         'forev': 21,\n",
       "         'togeth': 21,\n",
       "         'street': 21,\n",
       "         'likeforlik': 20,\n",
       "         'dead': 20,\n",
       "         'truth': 20,\n",
       "         'ipadmini': 20,\n",
       "         'magic': 20,\n",
       "         'bug': 20,\n",
       "         'tmobil': 20,\n",
       "         'ship': 20,\n",
       "         'open': 20,\n",
       "         'mm': 20,\n",
       "         'prophet': 20,\n",
       "         'sick': 20,\n",
       "         'account': 20,\n",
       "         'drive': 20,\n",
       "         'len': 20,\n",
       "         'feed': 20,\n",
       "         'your': 20,\n",
       "         'els': 20,\n",
       "         'load': 20,\n",
       "         'link': 20,\n",
       "         'videogam': 20,\n",
       "         'data': 20,\n",
       "         'redbubbl': 20,\n",
       "         'what': 20,\n",
       "         'slow': 20,\n",
       "         'eat': 20,\n",
       "         'thankyou': 20,\n",
       "         'latest': 20,\n",
       "         'consol': 20,\n",
       "         'believ': 20,\n",
       "         'canon': 20,\n",
       "         'xma': 20,\n",
       "         'bore': 20,\n",
       "         'daddi': 20,\n",
       "         'type': 19,\n",
       "         'mess': 19,\n",
       "         'havent': 19,\n",
       "         'touch': 19,\n",
       "         'freak': 19,\n",
       "         'hashtag': 19,\n",
       "         'creativ': 19,\n",
       "         'it’': 19,\n",
       "         'wrong': 19,\n",
       "         'poem': 19,\n",
       "         'min': 19,\n",
       "         'second': 19,\n",
       "         'fall': 19,\n",
       "         'past': 19,\n",
       "         'half': 19,\n",
       "         'simpl': 19,\n",
       "         'visit': 19,\n",
       "         'goodnight': 19,\n",
       "         'pick': 19,\n",
       "         'april': 19,\n",
       "         'futur': 19,\n",
       "         'shitti': 19,\n",
       "         'mean': 19,\n",
       "         'room': 19,\n",
       "         'men': 19,\n",
       "         'skin': 19,\n",
       "         'artist': 19,\n",
       "         'winter': 19,\n",
       "         'foodporn': 19,\n",
       "         'guess': 19,\n",
       "         'yummi': 19,\n",
       "         'photobooth': 19,\n",
       "         'patent': 18,\n",
       "         'cut': 18,\n",
       "         'indonesia': 18,\n",
       "         'sorri': 18,\n",
       "         'issu': 18,\n",
       "         'box': 18,\n",
       "         'fml': 18,\n",
       "         'offici': 18,\n",
       "         'sonyalpha': 18,\n",
       "         'high': 18,\n",
       "         'sprint': 18,\n",
       "         'calendar': 18,\n",
       "         'team': 18,\n",
       "         'rose': 18,\n",
       "         'roll': 18,\n",
       "         'experi': 18,\n",
       "         'al': 18,\n",
       "         'hd': 18,\n",
       "         'uniqu': 18,\n",
       "         'mind': 18,\n",
       "         'miami': 18,\n",
       "         'glad': 18,\n",
       "         'sea': 18,\n",
       "         'stay': 18,\n",
       "         'trend': 18,\n",
       "         'gs': 18,\n",
       "         'soror': 18,\n",
       "         'move': 18,\n",
       "         'wall': 17,\n",
       "         'daili': 17,\n",
       "         'vlog': 17,\n",
       "         'stand': 17,\n",
       "         'blackfriday': 17,\n",
       "         'reset': 17,\n",
       "         'special': 17,\n",
       "         'mood': 17,\n",
       "         'vaio': 17,\n",
       "         'throw': 17,\n",
       "         'passion': 17,\n",
       "         'space': 17,\n",
       "         'hold': 17,\n",
       "         'freez': 17,\n",
       "         'mad': 17,\n",
       "         'purpos': 17,\n",
       "         'delici': 17,\n",
       "         'far': 17,\n",
       "         'june': 17,\n",
       "         'canada': 17,\n",
       "         'sent': 17,\n",
       "         'captur': 17,\n",
       "         'march': 17,\n",
       "         'lte': 17,\n",
       "         'wipe': 17,\n",
       "         'wast': 17,\n",
       "         'zeeland': 17,\n",
       "         'nikon': 17,\n",
       "         'applesuck': 17,\n",
       "         'king': 17,\n",
       "         'trump': 17,\n",
       "         'california': 17,\n",
       "         'surpris': 17,\n",
       "         'protect': 17,\n",
       "         'novemb': 17,\n",
       "         'adventur': 17,\n",
       "         'digit': 17,\n",
       "         'internet': 17,\n",
       "         'stream': 17,\n",
       "         'develop': 17,\n",
       "         'outdoor': 16,\n",
       "         'creat': 16,\n",
       "         'landscap': 16,\n",
       "         'bright': 16,\n",
       "         'origin': 16,\n",
       "         'soul': 16,\n",
       "         'abl': 16,\n",
       "         'earphon': 16,\n",
       "         'banana': 16,\n",
       "         'spend': 16,\n",
       "         'stevejob': 16,\n",
       "         'least': 16,\n",
       "         'draw': 16,\n",
       "         'ny': 16,\n",
       "         'angri': 16,\n",
       "         'bird': 16,\n",
       "         'gorgeou': 16,\n",
       "         'dress': 16,\n",
       "         'manag': 16,\n",
       "         'wanna': 16,\n",
       "         'europ': 16,\n",
       "         'fish': 16,\n",
       "         'hateiphon': 16,\n",
       "         'inlov': 16,\n",
       "         'storag': 16,\n",
       "         'blond': 16,\n",
       "         'meet': 16,\n",
       "         'motiv': 16,\n",
       "         'sunni': 16,\n",
       "         'left': 16,\n",
       "         'walk': 16,\n",
       "         'onlin': 16,\n",
       "         'fb': 16,\n",
       "         'colour': 16,\n",
       "         'hack': 16,\n",
       "         'snow': 16,\n",
       "         'join': 16,\n",
       "         'question': 15,\n",
       "         'seem': 15,\n",
       "         'goal': 15,\n",
       "         'produc': 15,\n",
       "         'program': 15,\n",
       "         'droid': 15,\n",
       "         'univers': 15,\n",
       "         'yum': 15,\n",
       "         'shot': 15,\n",
       "         'children': 15,\n",
       "         'uae': 15,\n",
       "         'purpl': 15,\n",
       "         'mommi': 15,\n",
       "         'sell': 15,\n",
       "         'pari': 15,\n",
       "         'silver': 15,\n",
       "         'provid': 15,\n",
       "         'track': 15,\n",
       "         'photoshoot': 15,\n",
       "         'newtoy': 15,\n",
       "         'gener': 15,\n",
       "         'screw': 15,\n",
       "         'cook': 15,\n",
       "         'bye': 15,\n",
       "         'wireless': 15,\n",
       "         'part': 15,\n",
       "         'gotta': 15,\n",
       "         'explor': 15,\n",
       "         'rs': 15,\n",
       "         'launch': 15,\n",
       "         'found': 15,\n",
       "         'longer': 15,\n",
       "         'celebr': 15,\n",
       "         'gave': 15,\n",
       "         'plan': 15,\n",
       "         'breakfast': 15,\n",
       "         'vintag': 15,\n",
       "         'later': 15,\n",
       "         'januari': 15,\n",
       "         'apple…': 15,\n",
       "         'xd': 15,\n",
       "         'wife': 14,\n",
       "         'subscrib': 14,\n",
       "         'america': 14,\n",
       "         'bday': 14,\n",
       "         'bull': 14,\n",
       "         'ladi': 14,\n",
       "         'iphonephotographi': 14,\n",
       "         'singer': 14,\n",
       "         'i’m': 14,\n",
       "         'qualiti': 14,\n",
       "         'mode': 14,\n",
       "         'park': 14,\n",
       "         'rid': 14,\n",
       "         'level': 14,\n",
       "         'babe': 14,\n",
       "         'cold': 14,\n",
       "         'cri': 14,\n",
       "         'display': 14,\n",
       "         'okay': 14,\n",
       "         'valentinesday': 14,\n",
       "         'februari': 14,\n",
       "         'zoom': 14,\n",
       "         'hi': 14,\n",
       "         'instaphoto': 14,\n",
       "         'middl': 14,\n",
       "         'info': 14,\n",
       "         'playlist': 14,\n",
       "         'bot': 14,\n",
       "         'event': 14,\n",
       "         'wouldnt': 14,\n",
       "         'speaker': 14,\n",
       "         'answer': 14,\n",
       "         'block': 14,\n",
       "         'finger': 14,\n",
       "         'anymor': 14,\n",
       "         'cell': 14,\n",
       "         'sticker': 14,\n",
       "         'vscocam': 14,\n",
       "         'librari': 14,\n",
       "         'da': 14,\n",
       "         'tire': 14,\n",
       "         'electron': 14,\n",
       "         'useless': 14,\n",
       "         'starbuck': 14,\n",
       "         'dinner': 14,\n",
       "         'spent': 14,\n",
       "         'vacat': 14,\n",
       "         'social': 14,\n",
       "         'tip': 14,\n",
       "         'merri': 14,\n",
       "         'collect': 14,\n",
       "         'stuck': 14,\n",
       "         'blow': 14,\n",
       "         'blogger': 14,\n",
       "         'choos': 14,\n",
       "         'network': 14,\n",
       "         'innov': 14,\n",
       "         'asshol': 14,\n",
       "         'offic': 14,\n",
       "         'self': 14,\n",
       "         'current': 14,\n",
       "         'ink': 14,\n",
       "         'co': 14,\n",
       "         'aliusaexpress': 14,\n",
       "         'mi': 14,\n",
       "         'bed': 14,\n",
       "         'goodby': 14,\n",
       "         'shoppinglist': 14,\n",
       "         'dessert': 14,\n",
       "         'led': 14,\n",
       "         'agre': 13,\n",
       "         'million': 13,\n",
       "         'view': 13,\n",
       "         'cd': 13,\n",
       "         'nowplay': 13,\n",
       "         'sign': 13,\n",
       "         'educ': 13,\n",
       "         'bar': 13,\n",
       "         'key': 13,\n",
       "         'told': 13,\n",
       "         'three': 13,\n",
       "         'close': 13,\n",
       "         'system': 13,\n",
       "         'goodmorn': 13,\n",
       "         'smoke': 13,\n",
       "         'bro': 13,\n",
       "         'thx': 13,\n",
       "         'jailbreak': 13,\n",
       "         'stock': 13,\n",
       "         'bc': 13,\n",
       "         'applestor': 13,\n",
       "         'wasnt': 13,\n",
       "         'appletv': 13,\n",
       "         'architectur': 13,\n",
       "         'bluetooth': 13,\n",
       "         'yo': 13,\n",
       "         'samsungmobil': 13,\n",
       "         'piano': 13,\n",
       "         'treat': 13,\n",
       "         'tagsforlik': 13,\n",
       "         'planet': 13,\n",
       "         'secur': 13,\n",
       "         'becom': 13,\n",
       "         'nail': 13,\n",
       "         'bitch': 13,\n",
       "         'sing': 13,\n",
       "         'till': 13,\n",
       "         'wors': 13,\n",
       "         'review': 13,\n",
       "         'mail': 13,\n",
       "         'webstagram': 13,\n",
       "         'ear': 13,\n",
       "         'forgot': 13,\n",
       "         'fire': 13,\n",
       "         'spoil': 13,\n",
       "         'huge': 13,\n",
       "         'obsess': 13,\n",
       "         'weather': 13,\n",
       "         'yr': 13,\n",
       "         'place': 13,\n",
       "         'applesupport': 13,\n",
       "         'kind': 13,\n",
       "         ...})"
      ]
     },
     "execution_count": 32,
     "metadata": {},
     "output_type": "execute_result"
    }
   ],
   "source": [
    "vocab"
   ]
  },
  {
   "cell_type": "code",
   "execution_count": 33,
   "id": "a4b8b189",
   "metadata": {},
   "outputs": [
    {
     "data": {
      "text/plain": [
       "16441"
      ]
     },
     "execution_count": 33,
     "metadata": {},
     "output_type": "execute_result"
    }
   ],
   "source": [
    "len(vocab)"
   ]
  },
  {
   "cell_type": "code",
   "execution_count": 34,
   "id": "ef0b6406",
   "metadata": {},
   "outputs": [
    {
     "data": {
      "text/plain": [
       "(7920, 3)"
      ]
     },
     "execution_count": 34,
     "metadata": {},
     "output_type": "execute_result"
    }
   ],
   "source": [
    "data.shape"
   ]
  },
  {
   "cell_type": "code",
   "execution_count": 35,
   "id": "686ea110",
   "metadata": {},
   "outputs": [],
   "source": [
    "tokens = [key for key in vocab if vocab[key] > 10]"
   ]
  },
  {
   "cell_type": "code",
   "execution_count": 36,
   "id": "36ad2d6e",
   "metadata": {},
   "outputs": [
    {
     "data": {
      "text/plain": [
       "1154"
      ]
     },
     "execution_count": 36,
     "metadata": {},
     "output_type": "execute_result"
    }
   ],
   "source": [
    "len(tokens)"
   ]
  },
  {
   "cell_type": "code",
   "execution_count": 37,
   "id": "f16c69be",
   "metadata": {},
   "outputs": [],
   "source": [
    "# Build the Vocabulary\n",
    " \n",
    "def save_vocabulary(lines, filename):\n",
    "    data = '\\n'.join(lines)\n",
    "    file = open(filename, 'w', encoding=\"utf-8\")\n",
    "    file.write(data)\n",
    "    file.close()\n",
    "save_vocabulary(tokens, '../static/model/corpora/vocabulary.txt')"
   ]
  },
  {
   "cell_type": "markdown",
   "id": "d87236ee",
   "metadata": {},
   "source": [
    "## Divide the Dataset"
   ]
  },
  {
   "cell_type": "code",
   "execution_count": 38,
   "id": "eb78ffbf",
   "metadata": {},
   "outputs": [
    {
     "data": {
      "application/vnd.microsoft.datawrangler.viewer.v0+json": {
       "columns": [
        {
         "name": "index",
         "rawType": "int64",
         "type": "integer"
        },
        {
         "name": "id",
         "rawType": "int64",
         "type": "integer"
        },
        {
         "name": "label",
         "rawType": "int64",
         "type": "integer"
        },
        {
         "name": "tweet",
         "rawType": "object",
         "type": "string"
        }
       ],
       "ref": "96342048-59c8-439f-af54-01a79bb0202e",
       "rows": [
        [
         "0",
         "1",
         "0",
         "fingerprint pregnanc test android app beauti cute health iger iphoneonli iphonesia iphon"
        ],
        [
         "1",
         "2",
         "0",
         "final transpar silicon case thank uncl yay soni xperia sonyexperias…"
        ],
        [
         "2",
         "3",
         "0",
         "love would go talk makememori unplug relax iphon smartphon wifi connect"
        ],
        [
         "3",
         "4",
         "0",
         "im wire know im georg made way iphon cute daventri home"
        ],
        [
         "4",
         "5",
         "1",
         "amaz servic appl wont even talk question unless pay stupid support"
        ],
        [
         "5",
         "6",
         "1",
         "iphon softwar updat fuck phone big time stupid iphon"
        ],
        [
         "6",
         "7",
         "0",
         "happi us instap instadaili us soni xperia xperiaz"
        ],
        [
         "7",
         "8",
         "0",
         "new type c charger cabl uk … bay amazon etsi new year rob cross tobi young evemun mcmafia taylor spectr newyear start recip technolog samsunggalaxi iphonex pictwittercompjiwq wtc"
        ],
        [
         "8",
         "9",
         "0",
         "bout go shop listen music iphon justm music likeforlik followforfollow…"
        ],
        [
         "9",
         "10",
         "0",
         "photo fun selfi pool water soni camera picoftheday sun instagood boy cute outdoor"
        ],
        [
         "10",
         "11",
         "1",
         "hey appl make new ipod dont make new color inch thinner make crash everi five fuckin minit"
        ],
        [
         "11",
         "12",
         "1",
         "ha heavi machineri need appl realli drop ball design drinkyourhaterad"
        ],
        [
         "12",
         "13",
         "1",
         "contempl give iphon bandwagon simpli cellcom new android depress idontwantto"
        ],
        [
         "13",
         "14",
         "0",
         "made anoth crazi purchas lol theori work hard play hard lol ipad appl shop"
        ],
        [
         "14",
         "15",
         "1",
         "shaqlockholm samlouis batteri pain charg overnight lunchtim batteri dead hateorang"
        ],
        [
         "15",
         "16",
         "0",
         "deepellum toward downtown dalla bigd saturday rx soni summer urban"
        ],
        [
         "16",
         "17",
         "0",
         "like share want phone case iphon iphon …pictwittercomgfkn yec j"
        ],
        [
         "17",
         "18",
         "0",
         "go crazi iphonesia iphon instagood instagram photooftheday tweegram …"
        ],
        [
         "18",
         "19",
         "1",
         "reason dont one iphon suck appl truth truthbetold agre fact realitycheck blackberrypictwittercomzpggd cazn"
        ],
        [
         "19",
         "20",
         "1",
         "appl store gunna c screen monday ur fuck appl store fuckingpiss"
        ],
        [
         "20",
         "21",
         "0",
         "appl art easter dear friend would like publish channel design face easter bunni email png thumbnail email mutitaedibleartgmailcompictwittercom jhwphfbgt"
        ],
        [
         "21",
         "22",
         "0",
         "excus waiter seem pie soup wife bake appl pie yay"
        ],
        [
         "22",
         "23",
         "1",
         "ive new ipod four day button back broke accident hit"
        ],
        [
         "23",
         "24",
         "1",
         "iphon screen goe complet black keep get text day cant fuck check appl thiphon"
        ],
        [
         "24",
         "25",
         "0",
         "time new wallpap phone wallpap wall screen galaxi samsung app …"
        ],
        [
         "25",
         "26",
         "0",
         "billion patent prior art million patent troll parti thank appl appl"
        ],
        [
         "26",
         "27",
         "1",
         "ipod mess havent done noth myloss appl"
        ],
        [
         "27",
         "28",
         "1",
         "ipod touch frozen appl logo start lose demi music pic kill someon soangri hateappl"
        ],
        [
         "28",
         "29",
         "0",
         "love new phone case flower green diamond pearl cute new iphon iphon case…"
        ],
        [
         "29",
         "30",
         "0",
         "must watch youtub subscrib daili vlog twitch game fun ps xbox soni game io android"
        ],
        [
         "30",
         "31",
         "0",
         "thank samsung live laugh life food philippin instago instahub instagram…"
        ],
        [
         "31",
         "32",
         "0",
         "ch cannon suewe friendship americanbulli dog piggi famili southerncharm americanidol goal bestfriend pitbul iphonex onelov countri muscl nfl worldwid america bigboy thislif tmz wild hoggpictwittercom mn ogpi c"
        ],
        [
         "32",
         "33",
         "0",
         "instap mimmoal feb taken soni rx direzionevertical sunset sky beauti fun …pictwittercomcxifijj g"
        ],
        [
         "33",
         "34",
         "0",
         "im happi sister bought new phone earli bday gift happi samsung"
        ],
        [
         "34",
         "35",
         "0",
         "receiv samsung note mani thank cottd phone"
        ],
        [
         "35",
         "36",
         "0",
         "nswrl app android market pipelin"
        ],
        [
         "36",
         "37",
         "1",
         "cant delet individu song phone appl itun"
        ],
        [
         "37",
         "38",
         "1",
         "everybodi freak io im like duuud even window phone advanc iphon custom"
        ],
        [
         "38",
         "39",
         "1",
         "new iphon c stand sirriious bad c stand cheap screen re camera tech appl"
        ],
        [
         "39",
         "40",
         "0",
         "bull instas leg lightskin curlyhair iphon bellypierc smile potd…"
        ],
        [
         "40",
         "41",
         "0",
         "din’t creat don’t let destroy candid photo iphonex sunday sundayvib smile alway photooftheday eye ootd fashion blackandwhit poser attitud lifeisgood mylook mylif photoeveryday lookoftheday latepost mylifepictwittercommmhcqyad b"
        ],
        [
         "41",
         "42",
         "0",
         "film set build timelaps video photooftheday beauti produc live fashion videoproduct cute follow commerci iphon appl actor actress iphonesia hollywood losangel picoftheday movi act startup startupvideo shotoniphonpictwittercom eceiain"
        ],
        [
         "42",
         "43",
         "0",
         "new phone cupcak wallpap pink cute sweet samsung cherri"
        ],
        [
         "43",
         "44",
         "0",
         "eeeeee sexi ladi live iphon iphonesia instagood photooftheday tweegram iphon"
        ],
        [
         "44",
         "45",
         "0",
         "acquisto del week end iphon iphon plu appl gril moment italy…"
        ],
        [
         "45",
         "46",
         "0",
         "majest see differ photographi natur landscap forest hidden clear view wood tree travel biker soni ziess photo instgramhub picoftheday …"
        ],
        [
         "46",
         "47",
         "1",
         "googl appl cut itun get program"
        ],
        [
         "47",
         "48",
         "0",
         "ahhhh look got christma iphon appl christma girl"
        ],
        [
         "48",
         "49",
         "0",
         "love like love instacool photooftheday iphon instago food followforfollow like"
        ],
        [
         "49",
         "50",
         "0",
         "follow play bitcoinboy iphon ipad ipod free game fun kansa georgia …"
        ]
       ],
       "shape": {
        "columns": 3,
        "rows": 7920
       }
      },
      "text/html": [
       "<div>\n",
       "<style scoped>\n",
       "    .dataframe tbody tr th:only-of-type {\n",
       "        vertical-align: middle;\n",
       "    }\n",
       "\n",
       "    .dataframe tbody tr th {\n",
       "        vertical-align: top;\n",
       "    }\n",
       "\n",
       "    .dataframe thead th {\n",
       "        text-align: right;\n",
       "    }\n",
       "</style>\n",
       "<table border=\"1\" class=\"dataframe\">\n",
       "  <thead>\n",
       "    <tr style=\"text-align: right;\">\n",
       "      <th></th>\n",
       "      <th>id</th>\n",
       "      <th>label</th>\n",
       "      <th>tweet</th>\n",
       "    </tr>\n",
       "  </thead>\n",
       "  <tbody>\n",
       "    <tr>\n",
       "      <th>0</th>\n",
       "      <td>1</td>\n",
       "      <td>0</td>\n",
       "      <td>fingerprint pregnanc test android app beauti c...</td>\n",
       "    </tr>\n",
       "    <tr>\n",
       "      <th>1</th>\n",
       "      <td>2</td>\n",
       "      <td>0</td>\n",
       "      <td>final transpar silicon case thank uncl yay son...</td>\n",
       "    </tr>\n",
       "    <tr>\n",
       "      <th>2</th>\n",
       "      <td>3</td>\n",
       "      <td>0</td>\n",
       "      <td>love would go talk makememori unplug relax iph...</td>\n",
       "    </tr>\n",
       "    <tr>\n",
       "      <th>3</th>\n",
       "      <td>4</td>\n",
       "      <td>0</td>\n",
       "      <td>im wire know im georg made way iphon cute dave...</td>\n",
       "    </tr>\n",
       "    <tr>\n",
       "      <th>4</th>\n",
       "      <td>5</td>\n",
       "      <td>1</td>\n",
       "      <td>amaz servic appl wont even talk question unles...</td>\n",
       "    </tr>\n",
       "    <tr>\n",
       "      <th>...</th>\n",
       "      <td>...</td>\n",
       "      <td>...</td>\n",
       "      <td>...</td>\n",
       "    </tr>\n",
       "    <tr>\n",
       "      <th>7915</th>\n",
       "      <td>7916</td>\n",
       "      <td>0</td>\n",
       "      <td>live loud lol liveoutloud selfi smile soni mus...</td>\n",
       "    </tr>\n",
       "    <tr>\n",
       "      <th>7916</th>\n",
       "      <td>7917</td>\n",
       "      <td>0</td>\n",
       "      <td>would like wish amaz day make everi minut coun...</td>\n",
       "    </tr>\n",
       "    <tr>\n",
       "      <th>7917</th>\n",
       "      <td>7918</td>\n",
       "      <td>0</td>\n",
       "      <td>help love year old neighbor ipad morn made rea...</td>\n",
       "    </tr>\n",
       "    <tr>\n",
       "      <th>7918</th>\n",
       "      <td>7919</td>\n",
       "      <td>0</td>\n",
       "      <td>final got smart pocket wifi stay connect anyti...</td>\n",
       "    </tr>\n",
       "    <tr>\n",
       "      <th>7919</th>\n",
       "      <td>7920</td>\n",
       "      <td>0</td>\n",
       "      <td>appl barcelona appl store bcn barcelona travel...</td>\n",
       "    </tr>\n",
       "  </tbody>\n",
       "</table>\n",
       "<p>7920 rows × 3 columns</p>\n",
       "</div>"
      ],
      "text/plain": [
       "        id  label                                              tweet\n",
       "0        1      0  fingerprint pregnanc test android app beauti c...\n",
       "1        2      0  final transpar silicon case thank uncl yay son...\n",
       "2        3      0  love would go talk makememori unplug relax iph...\n",
       "3        4      0  im wire know im georg made way iphon cute dave...\n",
       "4        5      1  amaz servic appl wont even talk question unles...\n",
       "...    ...    ...                                                ...\n",
       "7915  7916      0  live loud lol liveoutloud selfi smile soni mus...\n",
       "7916  7917      0  would like wish amaz day make everi minut coun...\n",
       "7917  7918      0  help love year old neighbor ipad morn made rea...\n",
       "7918  7919      0  final got smart pocket wifi stay connect anyti...\n",
       "7919  7920      0  appl barcelona appl store bcn barcelona travel...\n",
       "\n",
       "[7920 rows x 3 columns]"
      ]
     },
     "execution_count": 38,
     "metadata": {},
     "output_type": "execute_result"
    }
   ],
   "source": [
    "data"
   ]
  },
  {
   "cell_type": "code",
   "execution_count": 39,
   "id": "e03a4c01",
   "metadata": {},
   "outputs": [],
   "source": [
    "x = data['tweet']\n",
    "y = data['label']"
   ]
  },
  {
   "cell_type": "code",
   "execution_count": 40,
   "id": "e3833331",
   "metadata": {},
   "outputs": [
    {
     "data": {
      "application/vnd.microsoft.datawrangler.viewer.v0+json": {
       "columns": [
        {
         "name": "index",
         "rawType": "int64",
         "type": "integer"
        },
        {
         "name": "tweet",
         "rawType": "object",
         "type": "string"
        }
       ],
       "ref": "0483c5db-2b19-438e-853e-7b99e8759d92",
       "rows": [
        [
         "0",
         "fingerprint pregnanc test android app beauti cute health iger iphoneonli iphonesia iphon"
        ],
        [
         "1",
         "final transpar silicon case thank uncl yay soni xperia sonyexperias…"
        ],
        [
         "2",
         "love would go talk makememori unplug relax iphon smartphon wifi connect"
        ],
        [
         "3",
         "im wire know im georg made way iphon cute daventri home"
        ],
        [
         "4",
         "amaz servic appl wont even talk question unless pay stupid support"
        ],
        [
         "5",
         "iphon softwar updat fuck phone big time stupid iphon"
        ],
        [
         "6",
         "happi us instap instadaili us soni xperia xperiaz"
        ],
        [
         "7",
         "new type c charger cabl uk … bay amazon etsi new year rob cross tobi young evemun mcmafia taylor spectr newyear start recip technolog samsunggalaxi iphonex pictwittercompjiwq wtc"
        ],
        [
         "8",
         "bout go shop listen music iphon justm music likeforlik followforfollow…"
        ],
        [
         "9",
         "photo fun selfi pool water soni camera picoftheday sun instagood boy cute outdoor"
        ],
        [
         "10",
         "hey appl make new ipod dont make new color inch thinner make crash everi five fuckin minit"
        ],
        [
         "11",
         "ha heavi machineri need appl realli drop ball design drinkyourhaterad"
        ],
        [
         "12",
         "contempl give iphon bandwagon simpli cellcom new android depress idontwantto"
        ],
        [
         "13",
         "made anoth crazi purchas lol theori work hard play hard lol ipad appl shop"
        ],
        [
         "14",
         "shaqlockholm samlouis batteri pain charg overnight lunchtim batteri dead hateorang"
        ],
        [
         "15",
         "deepellum toward downtown dalla bigd saturday rx soni summer urban"
        ],
        [
         "16",
         "like share want phone case iphon iphon …pictwittercomgfkn yec j"
        ],
        [
         "17",
         "go crazi iphonesia iphon instagood instagram photooftheday tweegram …"
        ],
        [
         "18",
         "reason dont one iphon suck appl truth truthbetold agre fact realitycheck blackberrypictwittercomzpggd cazn"
        ],
        [
         "19",
         "appl store gunna c screen monday ur fuck appl store fuckingpiss"
        ],
        [
         "20",
         "appl art easter dear friend would like publish channel design face easter bunni email png thumbnail email mutitaedibleartgmailcompictwittercom jhwphfbgt"
        ],
        [
         "21",
         "excus waiter seem pie soup wife bake appl pie yay"
        ],
        [
         "22",
         "ive new ipod four day button back broke accident hit"
        ],
        [
         "23",
         "iphon screen goe complet black keep get text day cant fuck check appl thiphon"
        ],
        [
         "24",
         "time new wallpap phone wallpap wall screen galaxi samsung app …"
        ],
        [
         "25",
         "billion patent prior art million patent troll parti thank appl appl"
        ],
        [
         "26",
         "ipod mess havent done noth myloss appl"
        ],
        [
         "27",
         "ipod touch frozen appl logo start lose demi music pic kill someon soangri hateappl"
        ],
        [
         "28",
         "love new phone case flower green diamond pearl cute new iphon iphon case…"
        ],
        [
         "29",
         "must watch youtub subscrib daili vlog twitch game fun ps xbox soni game io android"
        ],
        [
         "30",
         "thank samsung live laugh life food philippin instago instahub instagram…"
        ],
        [
         "31",
         "ch cannon suewe friendship americanbulli dog piggi famili southerncharm americanidol goal bestfriend pitbul iphonex onelov countri muscl nfl worldwid america bigboy thislif tmz wild hoggpictwittercom mn ogpi c"
        ],
        [
         "32",
         "instap mimmoal feb taken soni rx direzionevertical sunset sky beauti fun …pictwittercomcxifijj g"
        ],
        [
         "33",
         "im happi sister bought new phone earli bday gift happi samsung"
        ],
        [
         "34",
         "receiv samsung note mani thank cottd phone"
        ],
        [
         "35",
         "nswrl app android market pipelin"
        ],
        [
         "36",
         "cant delet individu song phone appl itun"
        ],
        [
         "37",
         "everybodi freak io im like duuud even window phone advanc iphon custom"
        ],
        [
         "38",
         "new iphon c stand sirriious bad c stand cheap screen re camera tech appl"
        ],
        [
         "39",
         "bull instas leg lightskin curlyhair iphon bellypierc smile potd…"
        ],
        [
         "40",
         "din’t creat don’t let destroy candid photo iphonex sunday sundayvib smile alway photooftheday eye ootd fashion blackandwhit poser attitud lifeisgood mylook mylif photoeveryday lookoftheday latepost mylifepictwittercommmhcqyad b"
        ],
        [
         "41",
         "film set build timelaps video photooftheday beauti produc live fashion videoproduct cute follow commerci iphon appl actor actress iphonesia hollywood losangel picoftheday movi act startup startupvideo shotoniphonpictwittercom eceiain"
        ],
        [
         "42",
         "new phone cupcak wallpap pink cute sweet samsung cherri"
        ],
        [
         "43",
         "eeeeee sexi ladi live iphon iphonesia instagood photooftheday tweegram iphon"
        ],
        [
         "44",
         "acquisto del week end iphon iphon plu appl gril moment italy…"
        ],
        [
         "45",
         "majest see differ photographi natur landscap forest hidden clear view wood tree travel biker soni ziess photo instgramhub picoftheday …"
        ],
        [
         "46",
         "googl appl cut itun get program"
        ],
        [
         "47",
         "ahhhh look got christma iphon appl christma girl"
        ],
        [
         "48",
         "love like love instacool photooftheday iphon instago food followforfollow like"
        ],
        [
         "49",
         "follow play bitcoinboy iphon ipad ipod free game fun kansa georgia …"
        ]
       ],
       "shape": {
        "columns": 1,
        "rows": 7920
       }
      },
      "text/plain": [
       "0       fingerprint pregnanc test android app beauti c...\n",
       "1       final transpar silicon case thank uncl yay son...\n",
       "2       love would go talk makememori unplug relax iph...\n",
       "3       im wire know im georg made way iphon cute dave...\n",
       "4       amaz servic appl wont even talk question unles...\n",
       "                              ...                        \n",
       "7915    live loud lol liveoutloud selfi smile soni mus...\n",
       "7916    would like wish amaz day make everi minut coun...\n",
       "7917    help love year old neighbor ipad morn made rea...\n",
       "7918    final got smart pocket wifi stay connect anyti...\n",
       "7919    appl barcelona appl store bcn barcelona travel...\n",
       "Name: tweet, Length: 7920, dtype: object"
      ]
     },
     "execution_count": 40,
     "metadata": {},
     "output_type": "execute_result"
    }
   ],
   "source": [
    "x"
   ]
  },
  {
   "cell_type": "code",
   "execution_count": 41,
   "id": "20e13a0f",
   "metadata": {},
   "outputs": [
    {
     "data": {
      "application/vnd.microsoft.datawrangler.viewer.v0+json": {
       "columns": [
        {
         "name": "index",
         "rawType": "int64",
         "type": "integer"
        },
        {
         "name": "label",
         "rawType": "int64",
         "type": "integer"
        }
       ],
       "ref": "dbaba2b5-fd02-4763-aac9-f046f60eb8c8",
       "rows": [
        [
         "0",
         "0"
        ],
        [
         "1",
         "0"
        ],
        [
         "2",
         "0"
        ],
        [
         "3",
         "0"
        ],
        [
         "4",
         "1"
        ],
        [
         "5",
         "1"
        ],
        [
         "6",
         "0"
        ],
        [
         "7",
         "0"
        ],
        [
         "8",
         "0"
        ],
        [
         "9",
         "0"
        ],
        [
         "10",
         "1"
        ],
        [
         "11",
         "1"
        ],
        [
         "12",
         "1"
        ],
        [
         "13",
         "0"
        ],
        [
         "14",
         "1"
        ],
        [
         "15",
         "0"
        ],
        [
         "16",
         "0"
        ],
        [
         "17",
         "0"
        ],
        [
         "18",
         "1"
        ],
        [
         "19",
         "1"
        ],
        [
         "20",
         "0"
        ],
        [
         "21",
         "0"
        ],
        [
         "22",
         "1"
        ],
        [
         "23",
         "1"
        ],
        [
         "24",
         "0"
        ],
        [
         "25",
         "0"
        ],
        [
         "26",
         "1"
        ],
        [
         "27",
         "1"
        ],
        [
         "28",
         "0"
        ],
        [
         "29",
         "0"
        ],
        [
         "30",
         "0"
        ],
        [
         "31",
         "0"
        ],
        [
         "32",
         "0"
        ],
        [
         "33",
         "0"
        ],
        [
         "34",
         "0"
        ],
        [
         "35",
         "0"
        ],
        [
         "36",
         "1"
        ],
        [
         "37",
         "1"
        ],
        [
         "38",
         "1"
        ],
        [
         "39",
         "0"
        ],
        [
         "40",
         "0"
        ],
        [
         "41",
         "0"
        ],
        [
         "42",
         "0"
        ],
        [
         "43",
         "0"
        ],
        [
         "44",
         "0"
        ],
        [
         "45",
         "0"
        ],
        [
         "46",
         "1"
        ],
        [
         "47",
         "0"
        ],
        [
         "48",
         "0"
        ],
        [
         "49",
         "0"
        ]
       ],
       "shape": {
        "columns": 1,
        "rows": 7920
       }
      },
      "text/plain": [
       "0       0\n",
       "1       0\n",
       "2       0\n",
       "3       0\n",
       "4       1\n",
       "       ..\n",
       "7915    0\n",
       "7916    0\n",
       "7917    0\n",
       "7918    0\n",
       "7919    0\n",
       "Name: label, Length: 7920, dtype: int64"
      ]
     },
     "execution_count": 41,
     "metadata": {},
     "output_type": "execute_result"
    }
   ],
   "source": [
    "y"
   ]
  },
  {
   "cell_type": "code",
   "execution_count": 42,
   "id": "edafef1c",
   "metadata": {},
   "outputs": [],
   "source": [
    "from sklearn.model_selection import train_test_split\n",
    "x_train, x_test, y_train, y_test = train_test_split(x,y, test_size=0.2)"
   ]
  },
  {
   "cell_type": "code",
   "execution_count": 43,
   "id": "f146887b",
   "metadata": {},
   "outputs": [
    {
     "data": {
      "text/plain": [
       "(6336,)"
      ]
     },
     "execution_count": 43,
     "metadata": {},
     "output_type": "execute_result"
    }
   ],
   "source": [
    "x_train.shape"
   ]
  },
  {
   "cell_type": "code",
   "execution_count": 44,
   "id": "2108b19d",
   "metadata": {},
   "outputs": [
    {
     "data": {
      "text/plain": [
       "(1584,)"
      ]
     },
     "execution_count": 44,
     "metadata": {},
     "output_type": "execute_result"
    }
   ],
   "source": [
    "x_test.shape"
   ]
  },
  {
   "cell_type": "code",
   "execution_count": 45,
   "id": "53c95c86",
   "metadata": {},
   "outputs": [
    {
     "data": {
      "text/plain": [
       "(6336,)"
      ]
     },
     "execution_count": 45,
     "metadata": {},
     "output_type": "execute_result"
    }
   ],
   "source": [
    "y_train.shape"
   ]
  },
  {
   "cell_type": "code",
   "execution_count": 46,
   "id": "60538dda",
   "metadata": {},
   "outputs": [
    {
     "data": {
      "text/plain": [
       "(1584,)"
      ]
     },
     "execution_count": 46,
     "metadata": {},
     "output_type": "execute_result"
    }
   ],
   "source": [
    "y_test.shape"
   ]
  },
  {
   "cell_type": "code",
   "execution_count": 47,
   "id": "6eae2cde",
   "metadata": {},
   "outputs": [
    {
     "data": {
      "application/vnd.microsoft.datawrangler.viewer.v0+json": {
       "columns": [
        {
         "name": "index",
         "rawType": "int64",
         "type": "integer"
        },
        {
         "name": "tweet",
         "rawType": "object",
         "type": "string"
        }
       ],
       "ref": "01f8e578-19b4-487e-a1d2-88567cabae45",
       "rows": [
        [
         "20",
         "appl art easter dear friend would like publish channel design face easter bunni email png thumbnail email mutitaedibleartgmailcompictwittercom jhwphfbgt"
        ],
        [
         "7376",
         "blaz blue extend soul sacrific ps member decemb santa earli year us tt hail soni psvita"
        ],
        [
         "4971",
         "never frustrat appl icloud ruinedmynight technologysuck"
        ],
        [
         "1493",
         "im tri cute samsung galaxi sunglass girl single…"
        ],
        [
         "5883",
         "budget bareminimum budget… news photographi fashion health fail tech ipad iphon funni lol"
        ],
        [
         "1428",
         "caption haha inshot sister best eye edit samsung camera fool …"
        ],
        [
         "1043",
         "pc exquisit squishi random charm iphon strap toy decor free shop style sale today giveawaypictwittercomw eju kejk"
        ],
        [
         "6430",
         "trend topic earth day earthday appl health con susan boyl att apprentic oprah ipod iphon"
        ],
        [
         "2314",
         "who feel metal inlay classic wood case silverandgold weng iphon iphonecas pictwittercom x fppkkf"
        ],
        [
         "4331",
         "portrait portrait nofilt instap iger newpost iphonex enjoy face smile bestday color instamood instagood instafollow bibrav bibrav aconcagua follow follow instagram wait pictwittercomlj rs cruq"
        ],
        [
         "3907",
         "ill throw fuckyou samsung phone even bigger iphon cantfitinmypocket"
        ],
        [
         "5372",
         "learn gonna babi babi pregger daddi android droid samsung wise"
        ],
        [
         "6040",
         "chat fuck finder real someon total come window explor maco"
        ],
        [
         "4950",
         "josh duggar offer televised… news photographi fashion health fail tech ipad iphon funni lol"
        ],
        [
         "3975",
         "know day gonna hectic todo app look like time get rest big day todo busi minim iphonex todoistpictwittercomq jvmv"
        ],
        [
         "3431",
         "authent awar woman journey heroin bebrav strongwomen woman timesup spreadlov weekend saturday joy actress model dream girl quot motiv inspir summer la buenosdia italian iphonex spring style fitpictwittercomzewu tti w"
        ],
        [
         "6381",
         "crown plaza brusela fotodeldia instap pic like picoftheday photooftheday iphone…"
        ],
        [
         "3192",
         "hair extens think hair selfi brunett justawoman iphon"
        ],
        [
         "7699",
         "bigger ripoff duo appl microsoft upgrad offic u upgrad osxmaverick bull ahol"
        ],
        [
         "3467",
         "follow happi aperitif show sky soni style tee top tatshirtiamo menswear…"
        ],
        [
         "3857",
         "thirsti gotta see iphonesia iphon instagood instagram photooftheday tweegram ipho"
        ],
        [
         "1758",
         "nephew birthday dinner bj he loce crappi new ipad mini forc buy"
        ],
        [
         "4565",
         "samsung galaxi tab realli amaz girlfriend c samsung tablet girl"
        ],
        [
         "3902",
         "payback battl sandbox … андроид android game news io appl iphon"
        ],
        [
         "2868",
         "happi new year merri christma phone case iphon plu se price free ship casepeac buy phonecas iphonecas smartphonecas iphon appl iphon merrychristmassnowman newyearpictwittercomlambwd db"
        ],
        [
         "7751",
         "nacho libr kid  cute instagram ig iphon funni kid halloween costum"
        ],
        [
         "3224",
         "three new case got befre bird britishflag cuti three case iphon"
        ],
        [
         "6642",
         "sit appl store wait phone restor take minut restor nowifiathom sandyprob"
        ],
        [
         "661",
         "appstor love ipad except fact wont play video site visit wont play adob flash major appl"
        ],
        [
         "757",
         "steve job die regret life didnt flash back death scumbagappl boycottappl"
        ],
        [
         "1206",
         "bob marley redempt song fender music upris bobmarley live life passion play guitar iphon"
        ],
        [
         "6663",
         "pari night pari breda night soni camera nl haithamsadon eiffeltow francepictwittercomclq u qb"
        ],
        [
         "6947",
         "sunset one minut ago europ zeeland samsung sunset brouwersdam pictwittercomvk aivshrj via havenlust"
        ],
        [
         "2752",
         "appl store dad surpris didnt burst flame upon entri also wanna smash everyth appl"
        ],
        [
         "1029",
         "one fave high line walk nyc highlin travel iphon keepup…"
        ],
        [
         "4614",
         "unlock phone voic samsung app mobil smartphon smarthom tech trend gadget bixbi voiceassist ai iot futur googl android note tv nice ok googl googlehom alexa …pictwittercommvd pwarpz"
        ],
        [
         "6426",
         "among test time man ladi ask iphon jaihoon"
        ],
        [
         "3791",
         "love song latenight laborday smile music iphon sad confus upallnight…"
        ],
        [
         "1660",
         "gain follow rt must follow follow back follow everyon rt gain iphon sougofollow a£ ä"
        ],
        [
         "5043",
         "cameronport delet much io fix annoy appl notreal noreal io bug"
        ],
        [
         "5066",
         "duck life pond baffin walk water natur sunset photographi samsung edg"
        ],
        [
         "2523",
         "four appl charger one mother fucker work needanewphon worstev"
        ],
        [
         "4000",
         "happi founder day holiday iphon smile shade glass gh ghana chill"
        ],
        [
         "1932",
         "samsunguk yousuck worst custom servic experi ever sale servic non exist honor cl samsuck samsung"
        ],
        [
         "6871",
         "cant simpli put avi file ipad im go watch phone go smash ipad useless appl"
        ],
        [
         "2589",
         "um appl doesnt take minut process photo fuck kid"
        ],
        [
         "1433",
         "first new phone sinc quit like thu farand realli love droid phone motorola"
        ],
        [
         "2174",
         "rt le happi birthday steve job stevejob appl mac job steve birthday"
        ],
        [
         "1833",
         "hour mani inuninstal ipod window synnnnnnch hurcul appl microsoft"
        ],
        [
         "2518",
         "boom it’ chuck time everyon tweet twitter rabbitsofinstagram bunniesofinstagram rabbit hop bounc charli houserabbit bunnylov rabbitsofig shotoniphon appl iphon plu photographi photograph famili easter … pictwittercomfv cncqmqh"
        ]
       ],
       "shape": {
        "columns": 1,
        "rows": 6336
       }
      },
      "text/plain": [
       "20      appl art easter dear friend would like publish...\n",
       "7376    blaz blue extend soul sacrific ps member decem...\n",
       "4971    never frustrat appl icloud ruinedmynight techn...\n",
       "1493     im tri cute samsung galaxi sunglass girl single…\n",
       "5883    budget bareminimum budget… news photographi fa...\n",
       "                              ...                        \n",
       "1003    thank deliveri today pre order paid beat broth...\n",
       "2816    ever get lone video imabellyk took phone didnt...\n",
       "143     hooray stuff arriv excit case android samsung ...\n",
       "3988    window rape comput work wont boot microsoft sw...\n",
       "4350    special app valentin photographi daughter rt p...\n",
       "Name: tweet, Length: 6336, dtype: object"
      ]
     },
     "execution_count": 47,
     "metadata": {},
     "output_type": "execute_result"
    }
   ],
   "source": [
    "x_train"
   ]
  },
  {
   "cell_type": "code",
   "execution_count": 48,
   "id": "1b9bba02",
   "metadata": {},
   "outputs": [
    {
     "data": {
      "application/vnd.microsoft.datawrangler.viewer.v0+json": {
       "columns": [
        {
         "name": "index",
         "rawType": "int64",
         "type": "integer"
        },
        {
         "name": "label",
         "rawType": "int64",
         "type": "integer"
        }
       ],
       "ref": "145c9330-f77d-4887-a696-52f1eba2d9cf",
       "rows": [
        [
         "20",
         "0"
        ],
        [
         "7376",
         "0"
        ],
        [
         "4971",
         "1"
        ],
        [
         "1493",
         "0"
        ],
        [
         "5883",
         "0"
        ],
        [
         "1428",
         "0"
        ],
        [
         "1043",
         "0"
        ],
        [
         "6430",
         "0"
        ],
        [
         "2314",
         "0"
        ],
        [
         "4331",
         "0"
        ],
        [
         "3907",
         "1"
        ],
        [
         "5372",
         "0"
        ],
        [
         "6040",
         "1"
        ],
        [
         "4950",
         "0"
        ],
        [
         "3975",
         "0"
        ],
        [
         "3431",
         "0"
        ],
        [
         "6381",
         "0"
        ],
        [
         "3192",
         "0"
        ],
        [
         "7699",
         "0"
        ],
        [
         "3467",
         "0"
        ],
        [
         "3857",
         "0"
        ],
        [
         "1758",
         "1"
        ],
        [
         "4565",
         "0"
        ],
        [
         "3902",
         "0"
        ],
        [
         "2868",
         "0"
        ],
        [
         "7751",
         "0"
        ],
        [
         "3224",
         "0"
        ],
        [
         "6642",
         "1"
        ],
        [
         "661",
         "0"
        ],
        [
         "757",
         "1"
        ],
        [
         "1206",
         "0"
        ],
        [
         "6663",
         "0"
        ],
        [
         "6947",
         "0"
        ],
        [
         "2752",
         "1"
        ],
        [
         "1029",
         "0"
        ],
        [
         "4614",
         "0"
        ],
        [
         "6426",
         "0"
        ],
        [
         "3791",
         "0"
        ],
        [
         "1660",
         "0"
        ],
        [
         "5043",
         "1"
        ],
        [
         "5066",
         "0"
        ],
        [
         "2523",
         "1"
        ],
        [
         "4000",
         "0"
        ],
        [
         "1932",
         "1"
        ],
        [
         "6871",
         "1"
        ],
        [
         "2589",
         "1"
        ],
        [
         "1433",
         "0"
        ],
        [
         "2174",
         "0"
        ],
        [
         "1833",
         "0"
        ],
        [
         "2518",
         "0"
        ]
       ],
       "shape": {
        "columns": 1,
        "rows": 6336
       }
      },
      "text/plain": [
       "20      0\n",
       "7376    0\n",
       "4971    1\n",
       "1493    0\n",
       "5883    0\n",
       "       ..\n",
       "1003    0\n",
       "2816    1\n",
       "143     0\n",
       "3988    1\n",
       "4350    0\n",
       "Name: label, Length: 6336, dtype: int64"
      ]
     },
     "execution_count": 48,
     "metadata": {},
     "output_type": "execute_result"
    }
   ],
   "source": [
    "y_train"
   ]
  },
  {
   "cell_type": "markdown",
   "id": "d3d8c819",
   "metadata": {},
   "source": [
    "## Vectorization"
   ]
  },
  {
   "cell_type": "code",
   "execution_count": 49,
   "id": "f84b16f6",
   "metadata": {},
   "outputs": [],
   "source": [
    "def vectorizer(ds, vocabulary):\n",
    "    vectorized_list = []\n",
    "\n",
    "    for sentence in ds:\n",
    "        sentence_list = np.zeros(len(vocabulary))\n",
    "\n",
    "        for i in range(len(vocabulary)):\n",
    "            if vocabulary[i] in sentence.split():\n",
    "                sentence_list[i] = 1\n",
    "        vectorized_list.append(sentence_list)\n",
    "    vectorized_list_new = np.asarray(vectorized_list, dtype=np.float32)\n",
    "    \n",
    "    return vectorized_list_new"
   ]
  },
  {
   "cell_type": "code",
   "execution_count": 50,
   "id": "3421f296",
   "metadata": {},
   "outputs": [],
   "source": [
    "vectorized_x_train = vectorizer(x_train, tokens)"
   ]
  },
  {
   "cell_type": "code",
   "execution_count": 51,
   "id": "6e168263",
   "metadata": {},
   "outputs": [
    {
     "data": {
      "text/plain": [
       "array([[0., 0., 0., ..., 0., 0., 0.],\n",
       "       [0., 0., 0., ..., 0., 0., 0.],\n",
       "       [0., 0., 0., ..., 0., 0., 0.],\n",
       "       ...,\n",
       "       [0., 1., 0., ..., 0., 0., 0.],\n",
       "       [0., 0., 0., ..., 0., 0., 0.],\n",
       "       [0., 0., 1., ..., 0., 0., 0.]], shape=(6336, 1154), dtype=float32)"
      ]
     },
     "execution_count": 51,
     "metadata": {},
     "output_type": "execute_result"
    }
   ],
   "source": [
    "vectorized_x_train"
   ]
  },
  {
   "cell_type": "code",
   "execution_count": 52,
   "id": "2b88201c",
   "metadata": {},
   "outputs": [
    {
     "name": "stdout",
     "output_type": "stream",
     "text": [
      "0.0\n",
      "0.0\n",
      "0.0\n",
      "0.0\n",
      "0.0\n",
      "0.0\n",
      "0.0\n",
      "0.0\n",
      "0.0\n",
      "0.0\n",
      "0.0\n",
      "0.0\n",
      "0.0\n",
      "0.0\n",
      "0.0\n",
      "0.0\n",
      "0.0\n",
      "1.0\n",
      "0.0\n",
      "0.0\n",
      "0.0\n",
      "0.0\n",
      "0.0\n",
      "0.0\n",
      "0.0\n",
      "0.0\n",
      "0.0\n",
      "0.0\n",
      "0.0\n",
      "0.0\n",
      "0.0\n",
      "1.0\n",
      "0.0\n",
      "0.0\n",
      "0.0\n",
      "0.0\n",
      "0.0\n",
      "0.0\n",
      "0.0\n",
      "0.0\n",
      "0.0\n",
      "0.0\n",
      "0.0\n",
      "0.0\n",
      "0.0\n",
      "0.0\n",
      "0.0\n",
      "0.0\n",
      "0.0\n",
      "0.0\n",
      "0.0\n",
      "0.0\n",
      "0.0\n",
      "0.0\n",
      "0.0\n",
      "0.0\n",
      "0.0\n",
      "0.0\n",
      "0.0\n",
      "0.0\n",
      "0.0\n",
      "0.0\n",
      "0.0\n",
      "0.0\n",
      "0.0\n",
      "0.0\n",
      "0.0\n",
      "0.0\n",
      "0.0\n",
      "0.0\n",
      "0.0\n",
      "0.0\n",
      "0.0\n",
      "0.0\n",
      "0.0\n",
      "0.0\n",
      "0.0\n",
      "0.0\n",
      "0.0\n",
      "0.0\n",
      "0.0\n",
      "0.0\n",
      "0.0\n",
      "0.0\n",
      "0.0\n",
      "0.0\n",
      "0.0\n",
      "0.0\n",
      "0.0\n",
      "1.0\n",
      "0.0\n",
      "0.0\n",
      "0.0\n",
      "0.0\n",
      "0.0\n",
      "0.0\n",
      "0.0\n",
      "0.0\n",
      "0.0\n",
      "0.0\n",
      "0.0\n",
      "0.0\n",
      "0.0\n",
      "0.0\n",
      "0.0\n",
      "1.0\n",
      "0.0\n",
      "0.0\n",
      "0.0\n",
      "0.0\n",
      "0.0\n",
      "0.0\n",
      "0.0\n",
      "0.0\n",
      "0.0\n",
      "0.0\n",
      "0.0\n",
      "0.0\n",
      "0.0\n",
      "0.0\n",
      "0.0\n",
      "0.0\n",
      "1.0\n",
      "1.0\n",
      "1.0\n",
      "1.0\n",
      "1.0\n",
      "1.0\n",
      "0.0\n",
      "0.0\n",
      "0.0\n",
      "0.0\n",
      "0.0\n",
      "0.0\n",
      "0.0\n",
      "0.0\n",
      "0.0\n",
      "0.0\n",
      "0.0\n",
      "0.0\n",
      "0.0\n",
      "0.0\n",
      "0.0\n",
      "0.0\n",
      "0.0\n",
      "0.0\n",
      "0.0\n",
      "0.0\n",
      "0.0\n",
      "0.0\n",
      "0.0\n",
      "0.0\n",
      "0.0\n",
      "0.0\n",
      "0.0\n",
      "0.0\n",
      "0.0\n",
      "0.0\n",
      "0.0\n",
      "0.0\n",
      "0.0\n",
      "0.0\n",
      "0.0\n",
      "0.0\n",
      "0.0\n",
      "0.0\n",
      "0.0\n",
      "0.0\n",
      "0.0\n",
      "0.0\n",
      "0.0\n",
      "0.0\n",
      "0.0\n",
      "0.0\n",
      "0.0\n",
      "0.0\n",
      "0.0\n",
      "0.0\n",
      "0.0\n",
      "0.0\n",
      "0.0\n",
      "0.0\n",
      "0.0\n",
      "0.0\n",
      "0.0\n",
      "0.0\n",
      "0.0\n",
      "0.0\n",
      "0.0\n",
      "0.0\n",
      "0.0\n",
      "0.0\n",
      "0.0\n",
      "0.0\n",
      "0.0\n",
      "0.0\n",
      "0.0\n",
      "0.0\n",
      "0.0\n",
      "0.0\n",
      "0.0\n",
      "0.0\n",
      "0.0\n",
      "0.0\n",
      "0.0\n",
      "0.0\n",
      "0.0\n",
      "0.0\n",
      "0.0\n",
      "0.0\n",
      "0.0\n",
      "0.0\n",
      "0.0\n",
      "0.0\n",
      "0.0\n",
      "0.0\n",
      "0.0\n",
      "0.0\n",
      "0.0\n",
      "0.0\n",
      "0.0\n",
      "0.0\n",
      "0.0\n",
      "0.0\n",
      "0.0\n",
      "0.0\n",
      "0.0\n",
      "0.0\n",
      "0.0\n",
      "0.0\n",
      "0.0\n",
      "0.0\n",
      "0.0\n",
      "0.0\n",
      "0.0\n",
      "0.0\n",
      "0.0\n",
      "0.0\n",
      "0.0\n",
      "0.0\n",
      "0.0\n",
      "0.0\n",
      "0.0\n",
      "0.0\n",
      "0.0\n",
      "0.0\n",
      "0.0\n",
      "0.0\n",
      "0.0\n",
      "0.0\n",
      "0.0\n",
      "0.0\n",
      "0.0\n",
      "0.0\n",
      "0.0\n",
      "0.0\n",
      "0.0\n",
      "0.0\n",
      "0.0\n",
      "0.0\n",
      "0.0\n",
      "0.0\n",
      "0.0\n",
      "0.0\n",
      "0.0\n",
      "0.0\n",
      "0.0\n",
      "0.0\n",
      "0.0\n",
      "0.0\n",
      "0.0\n",
      "0.0\n",
      "0.0\n",
      "0.0\n",
      "0.0\n",
      "0.0\n",
      "0.0\n",
      "0.0\n",
      "0.0\n",
      "0.0\n",
      "0.0\n",
      "0.0\n",
      "0.0\n",
      "0.0\n",
      "0.0\n",
      "0.0\n",
      "0.0\n",
      "0.0\n",
      "0.0\n",
      "0.0\n",
      "0.0\n",
      "0.0\n",
      "0.0\n",
      "0.0\n",
      "0.0\n",
      "0.0\n",
      "0.0\n",
      "0.0\n",
      "0.0\n",
      "0.0\n",
      "0.0\n",
      "0.0\n",
      "0.0\n",
      "0.0\n",
      "0.0\n",
      "0.0\n",
      "0.0\n",
      "0.0\n",
      "0.0\n",
      "0.0\n",
      "0.0\n",
      "0.0\n",
      "0.0\n",
      "0.0\n",
      "0.0\n",
      "0.0\n",
      "0.0\n",
      "0.0\n",
      "0.0\n",
      "0.0\n",
      "0.0\n",
      "0.0\n",
      "0.0\n",
      "0.0\n",
      "0.0\n",
      "0.0\n",
      "0.0\n",
      "0.0\n",
      "0.0\n",
      "0.0\n",
      "0.0\n",
      "0.0\n",
      "0.0\n",
      "0.0\n",
      "0.0\n",
      "0.0\n",
      "0.0\n",
      "0.0\n",
      "0.0\n",
      "0.0\n",
      "0.0\n",
      "0.0\n",
      "0.0\n",
      "0.0\n",
      "0.0\n",
      "0.0\n",
      "0.0\n",
      "0.0\n",
      "0.0\n",
      "0.0\n",
      "0.0\n",
      "0.0\n",
      "0.0\n",
      "0.0\n",
      "0.0\n",
      "0.0\n",
      "0.0\n",
      "0.0\n",
      "0.0\n",
      "0.0\n",
      "0.0\n",
      "0.0\n",
      "0.0\n",
      "0.0\n",
      "0.0\n",
      "0.0\n",
      "0.0\n",
      "0.0\n",
      "0.0\n",
      "0.0\n",
      "0.0\n",
      "0.0\n",
      "0.0\n",
      "0.0\n",
      "0.0\n",
      "0.0\n",
      "0.0\n",
      "0.0\n",
      "0.0\n",
      "0.0\n",
      "0.0\n",
      "0.0\n",
      "0.0\n",
      "0.0\n",
      "0.0\n",
      "0.0\n",
      "0.0\n",
      "0.0\n",
      "0.0\n",
      "0.0\n",
      "0.0\n",
      "0.0\n",
      "0.0\n",
      "0.0\n",
      "0.0\n",
      "0.0\n",
      "0.0\n",
      "0.0\n",
      "0.0\n",
      "0.0\n",
      "0.0\n",
      "0.0\n",
      "0.0\n",
      "0.0\n",
      "0.0\n",
      "0.0\n",
      "0.0\n",
      "0.0\n",
      "0.0\n",
      "0.0\n",
      "0.0\n",
      "0.0\n",
      "0.0\n",
      "0.0\n",
      "0.0\n",
      "0.0\n",
      "0.0\n",
      "0.0\n",
      "0.0\n",
      "0.0\n",
      "0.0\n",
      "0.0\n",
      "0.0\n",
      "0.0\n",
      "0.0\n",
      "0.0\n",
      "0.0\n",
      "0.0\n",
      "0.0\n",
      "0.0\n",
      "0.0\n",
      "0.0\n",
      "0.0\n",
      "0.0\n",
      "0.0\n",
      "0.0\n",
      "0.0\n",
      "0.0\n",
      "0.0\n",
      "0.0\n",
      "0.0\n",
      "0.0\n",
      "0.0\n",
      "0.0\n",
      "0.0\n",
      "0.0\n",
      "0.0\n",
      "0.0\n",
      "0.0\n",
      "0.0\n",
      "0.0\n",
      "0.0\n",
      "0.0\n",
      "0.0\n",
      "0.0\n",
      "0.0\n",
      "0.0\n",
      "0.0\n",
      "0.0\n",
      "0.0\n",
      "0.0\n",
      "0.0\n",
      "0.0\n",
      "0.0\n",
      "0.0\n",
      "0.0\n",
      "0.0\n",
      "0.0\n",
      "0.0\n",
      "0.0\n",
      "0.0\n",
      "0.0\n",
      "0.0\n",
      "0.0\n",
      "0.0\n",
      "0.0\n",
      "0.0\n",
      "0.0\n",
      "0.0\n",
      "0.0\n",
      "0.0\n",
      "0.0\n",
      "0.0\n",
      "0.0\n",
      "0.0\n",
      "0.0\n",
      "0.0\n",
      "0.0\n",
      "0.0\n",
      "0.0\n",
      "0.0\n",
      "0.0\n",
      "0.0\n",
      "0.0\n",
      "0.0\n",
      "0.0\n",
      "0.0\n",
      "0.0\n",
      "0.0\n",
      "0.0\n",
      "0.0\n",
      "0.0\n",
      "0.0\n",
      "0.0\n",
      "0.0\n",
      "0.0\n",
      "0.0\n",
      "0.0\n",
      "0.0\n",
      "0.0\n",
      "0.0\n",
      "0.0\n",
      "0.0\n",
      "0.0\n",
      "0.0\n",
      "0.0\n",
      "0.0\n",
      "0.0\n",
      "0.0\n",
      "0.0\n",
      "0.0\n",
      "0.0\n",
      "0.0\n",
      "0.0\n",
      "0.0\n",
      "0.0\n",
      "0.0\n",
      "0.0\n",
      "0.0\n",
      "0.0\n",
      "0.0\n",
      "0.0\n",
      "0.0\n",
      "0.0\n",
      "0.0\n",
      "0.0\n",
      "0.0\n",
      "0.0\n",
      "0.0\n",
      "0.0\n",
      "0.0\n",
      "0.0\n",
      "0.0\n",
      "0.0\n",
      "0.0\n",
      "0.0\n",
      "0.0\n",
      "0.0\n",
      "0.0\n",
      "0.0\n",
      "0.0\n",
      "0.0\n",
      "0.0\n",
      "0.0\n",
      "0.0\n",
      "0.0\n",
      "0.0\n",
      "0.0\n",
      "0.0\n",
      "0.0\n",
      "0.0\n",
      "0.0\n",
      "0.0\n",
      "0.0\n",
      "0.0\n",
      "0.0\n",
      "0.0\n",
      "0.0\n",
      "0.0\n",
      "0.0\n",
      "0.0\n",
      "0.0\n",
      "0.0\n",
      "0.0\n",
      "0.0\n",
      "0.0\n",
      "0.0\n",
      "0.0\n",
      "0.0\n",
      "0.0\n",
      "0.0\n",
      "0.0\n",
      "0.0\n",
      "0.0\n",
      "0.0\n",
      "0.0\n",
      "0.0\n",
      "0.0\n",
      "0.0\n",
      "0.0\n",
      "0.0\n",
      "0.0\n",
      "0.0\n",
      "0.0\n",
      "0.0\n",
      "0.0\n",
      "0.0\n",
      "0.0\n",
      "0.0\n",
      "0.0\n",
      "0.0\n",
      "0.0\n",
      "0.0\n",
      "0.0\n",
      "0.0\n",
      "0.0\n",
      "0.0\n",
      "0.0\n",
      "0.0\n",
      "0.0\n",
      "0.0\n",
      "0.0\n",
      "0.0\n",
      "0.0\n",
      "0.0\n",
      "0.0\n",
      "0.0\n",
      "0.0\n",
      "0.0\n",
      "0.0\n",
      "0.0\n",
      "0.0\n",
      "0.0\n",
      "0.0\n",
      "0.0\n",
      "0.0\n",
      "0.0\n",
      "0.0\n",
      "0.0\n",
      "0.0\n",
      "0.0\n",
      "0.0\n",
      "0.0\n",
      "0.0\n",
      "0.0\n",
      "0.0\n",
      "0.0\n",
      "0.0\n",
      "0.0\n",
      "0.0\n",
      "0.0\n",
      "0.0\n",
      "0.0\n",
      "0.0\n",
      "0.0\n",
      "0.0\n",
      "0.0\n",
      "0.0\n",
      "0.0\n",
      "0.0\n",
      "0.0\n",
      "0.0\n",
      "0.0\n",
      "0.0\n",
      "0.0\n",
      "0.0\n",
      "0.0\n",
      "0.0\n",
      "0.0\n",
      "0.0\n",
      "0.0\n",
      "0.0\n",
      "0.0\n",
      "0.0\n",
      "0.0\n",
      "0.0\n",
      "0.0\n",
      "0.0\n",
      "0.0\n",
      "0.0\n",
      "0.0\n",
      "0.0\n",
      "0.0\n",
      "0.0\n",
      "0.0\n",
      "0.0\n",
      "0.0\n",
      "0.0\n",
      "0.0\n",
      "0.0\n",
      "0.0\n",
      "0.0\n",
      "0.0\n",
      "0.0\n",
      "0.0\n",
      "0.0\n",
      "0.0\n",
      "0.0\n",
      "0.0\n",
      "0.0\n",
      "0.0\n",
      "0.0\n",
      "0.0\n",
      "0.0\n",
      "0.0\n",
      "0.0\n",
      "0.0\n",
      "0.0\n",
      "0.0\n",
      "0.0\n",
      "0.0\n",
      "0.0\n",
      "0.0\n",
      "0.0\n",
      "0.0\n",
      "0.0\n",
      "0.0\n",
      "0.0\n",
      "0.0\n",
      "0.0\n",
      "0.0\n",
      "0.0\n",
      "0.0\n",
      "0.0\n",
      "0.0\n",
      "0.0\n",
      "0.0\n",
      "0.0\n",
      "0.0\n",
      "0.0\n",
      "0.0\n",
      "0.0\n",
      "0.0\n",
      "0.0\n",
      "0.0\n",
      "0.0\n",
      "0.0\n",
      "0.0\n",
      "0.0\n",
      "0.0\n",
      "0.0\n",
      "0.0\n",
      "0.0\n",
      "0.0\n",
      "0.0\n",
      "0.0\n",
      "0.0\n",
      "0.0\n",
      "0.0\n",
      "0.0\n",
      "0.0\n",
      "0.0\n",
      "0.0\n",
      "0.0\n",
      "0.0\n",
      "0.0\n",
      "0.0\n",
      "0.0\n",
      "0.0\n",
      "0.0\n",
      "0.0\n",
      "0.0\n",
      "0.0\n",
      "0.0\n",
      "0.0\n",
      "0.0\n",
      "0.0\n",
      "0.0\n",
      "0.0\n",
      "0.0\n",
      "0.0\n",
      "0.0\n",
      "0.0\n",
      "0.0\n",
      "0.0\n",
      "0.0\n",
      "0.0\n",
      "0.0\n",
      "0.0\n",
      "0.0\n",
      "0.0\n",
      "0.0\n",
      "0.0\n",
      "0.0\n",
      "0.0\n",
      "0.0\n",
      "0.0\n",
      "0.0\n",
      "0.0\n",
      "0.0\n",
      "0.0\n",
      "0.0\n",
      "0.0\n",
      "0.0\n",
      "0.0\n",
      "0.0\n",
      "0.0\n",
      "0.0\n",
      "0.0\n",
      "0.0\n",
      "0.0\n",
      "0.0\n",
      "0.0\n",
      "0.0\n",
      "0.0\n",
      "0.0\n",
      "0.0\n",
      "0.0\n",
      "0.0\n",
      "0.0\n",
      "0.0\n",
      "0.0\n",
      "0.0\n",
      "0.0\n",
      "0.0\n",
      "0.0\n",
      "0.0\n",
      "0.0\n",
      "0.0\n",
      "0.0\n",
      "0.0\n",
      "0.0\n",
      "0.0\n",
      "0.0\n",
      "0.0\n",
      "0.0\n",
      "0.0\n",
      "0.0\n",
      "0.0\n",
      "0.0\n",
      "0.0\n",
      "0.0\n",
      "0.0\n",
      "0.0\n",
      "0.0\n",
      "0.0\n",
      "0.0\n",
      "0.0\n",
      "0.0\n",
      "0.0\n",
      "0.0\n",
      "0.0\n",
      "0.0\n",
      "0.0\n",
      "0.0\n",
      "0.0\n",
      "0.0\n",
      "0.0\n",
      "0.0\n",
      "0.0\n",
      "0.0\n",
      "0.0\n",
      "0.0\n",
      "0.0\n",
      "0.0\n",
      "0.0\n",
      "0.0\n",
      "0.0\n",
      "0.0\n",
      "0.0\n",
      "0.0\n",
      "0.0\n",
      "0.0\n",
      "0.0\n",
      "0.0\n",
      "0.0\n",
      "0.0\n",
      "0.0\n",
      "0.0\n",
      "0.0\n",
      "0.0\n",
      "0.0\n",
      "0.0\n",
      "0.0\n",
      "0.0\n",
      "0.0\n",
      "0.0\n",
      "0.0\n",
      "0.0\n",
      "0.0\n",
      "0.0\n",
      "0.0\n",
      "0.0\n",
      "0.0\n",
      "0.0\n",
      "0.0\n",
      "0.0\n",
      "0.0\n",
      "0.0\n",
      "0.0\n",
      "0.0\n",
      "0.0\n",
      "0.0\n",
      "0.0\n",
      "0.0\n",
      "0.0\n",
      "0.0\n",
      "0.0\n",
      "0.0\n",
      "0.0\n",
      "0.0\n",
      "0.0\n",
      "0.0\n",
      "0.0\n",
      "0.0\n",
      "0.0\n",
      "0.0\n",
      "0.0\n",
      "0.0\n",
      "0.0\n",
      "0.0\n",
      "0.0\n",
      "0.0\n",
      "0.0\n",
      "0.0\n",
      "0.0\n",
      "0.0\n",
      "0.0\n",
      "0.0\n",
      "0.0\n",
      "0.0\n",
      "0.0\n",
      "0.0\n",
      "0.0\n",
      "0.0\n",
      "0.0\n",
      "0.0\n",
      "0.0\n",
      "0.0\n",
      "0.0\n",
      "0.0\n",
      "0.0\n",
      "0.0\n",
      "0.0\n",
      "0.0\n",
      "0.0\n",
      "0.0\n",
      "0.0\n",
      "0.0\n",
      "0.0\n",
      "0.0\n",
      "0.0\n",
      "0.0\n",
      "0.0\n",
      "0.0\n",
      "0.0\n",
      "0.0\n",
      "0.0\n",
      "0.0\n",
      "0.0\n",
      "0.0\n",
      "0.0\n",
      "0.0\n",
      "0.0\n",
      "0.0\n",
      "0.0\n",
      "0.0\n",
      "0.0\n",
      "0.0\n",
      "0.0\n",
      "0.0\n",
      "0.0\n",
      "0.0\n",
      "0.0\n",
      "0.0\n",
      "0.0\n",
      "0.0\n",
      "0.0\n",
      "0.0\n",
      "0.0\n",
      "0.0\n",
      "0.0\n",
      "0.0\n",
      "0.0\n",
      "0.0\n",
      "0.0\n",
      "0.0\n",
      "0.0\n",
      "0.0\n",
      "0.0\n",
      "0.0\n",
      "0.0\n",
      "0.0\n",
      "0.0\n",
      "0.0\n",
      "0.0\n",
      "0.0\n",
      "0.0\n",
      "0.0\n",
      "0.0\n",
      "0.0\n",
      "0.0\n",
      "0.0\n",
      "0.0\n",
      "0.0\n",
      "0.0\n",
      "0.0\n",
      "0.0\n",
      "0.0\n",
      "0.0\n",
      "0.0\n",
      "0.0\n",
      "0.0\n",
      "0.0\n",
      "0.0\n",
      "0.0\n",
      "0.0\n",
      "0.0\n",
      "0.0\n",
      "0.0\n",
      "0.0\n",
      "0.0\n",
      "0.0\n",
      "0.0\n",
      "0.0\n",
      "0.0\n",
      "0.0\n",
      "0.0\n",
      "0.0\n",
      "0.0\n",
      "0.0\n",
      "0.0\n",
      "0.0\n",
      "0.0\n",
      "0.0\n",
      "0.0\n",
      "0.0\n",
      "0.0\n",
      "0.0\n",
      "0.0\n",
      "0.0\n",
      "0.0\n",
      "0.0\n",
      "0.0\n",
      "0.0\n",
      "0.0\n",
      "0.0\n",
      "0.0\n",
      "0.0\n",
      "0.0\n",
      "0.0\n",
      "0.0\n",
      "0.0\n",
      "0.0\n",
      "0.0\n",
      "0.0\n",
      "0.0\n",
      "0.0\n",
      "0.0\n",
      "0.0\n",
      "0.0\n",
      "0.0\n",
      "0.0\n",
      "0.0\n",
      "0.0\n",
      "0.0\n",
      "0.0\n",
      "0.0\n",
      "0.0\n",
      "0.0\n",
      "0.0\n",
      "0.0\n",
      "0.0\n",
      "0.0\n",
      "0.0\n",
      "0.0\n",
      "0.0\n",
      "0.0\n",
      "0.0\n",
      "0.0\n",
      "0.0\n",
      "0.0\n",
      "0.0\n",
      "0.0\n",
      "0.0\n",
      "0.0\n",
      "0.0\n",
      "0.0\n",
      "0.0\n",
      "0.0\n",
      "0.0\n",
      "0.0\n",
      "0.0\n",
      "0.0\n",
      "0.0\n",
      "0.0\n",
      "0.0\n",
      "0.0\n",
      "0.0\n",
      "0.0\n",
      "0.0\n",
      "0.0\n",
      "0.0\n",
      "0.0\n",
      "0.0\n",
      "0.0\n",
      "0.0\n",
      "0.0\n",
      "0.0\n",
      "0.0\n",
      "0.0\n",
      "0.0\n",
      "0.0\n",
      "0.0\n",
      "0.0\n",
      "0.0\n",
      "0.0\n",
      "0.0\n",
      "0.0\n",
      "0.0\n",
      "0.0\n",
      "0.0\n",
      "0.0\n",
      "0.0\n",
      "0.0\n",
      "0.0\n",
      "0.0\n",
      "0.0\n",
      "0.0\n",
      "0.0\n",
      "0.0\n",
      "0.0\n",
      "0.0\n",
      "0.0\n",
      "0.0\n",
      "0.0\n",
      "0.0\n",
      "0.0\n",
      "0.0\n",
      "0.0\n",
      "0.0\n",
      "0.0\n",
      "0.0\n",
      "0.0\n",
      "0.0\n",
      "0.0\n",
      "0.0\n",
      "0.0\n",
      "0.0\n",
      "0.0\n",
      "0.0\n",
      "0.0\n",
      "0.0\n",
      "0.0\n",
      "0.0\n",
      "0.0\n",
      "0.0\n",
      "0.0\n",
      "0.0\n",
      "0.0\n",
      "0.0\n",
      "0.0\n",
      "0.0\n",
      "0.0\n",
      "0.0\n",
      "0.0\n",
      "0.0\n",
      "0.0\n",
      "0.0\n",
      "0.0\n",
      "0.0\n",
      "0.0\n",
      "0.0\n",
      "0.0\n"
     ]
    }
   ],
   "source": [
    "for i in vectorized_x_train[0]:\n",
    "    print(i)"
   ]
  },
  {
   "cell_type": "code",
   "execution_count": 53,
   "id": "37b0179a",
   "metadata": {},
   "outputs": [],
   "source": [
    "vectorized_x_train = vectorizer(x_train, tokens)"
   ]
  },
  {
   "cell_type": "code",
   "execution_count": 57,
   "id": "872cf31e",
   "metadata": {},
   "outputs": [],
   "source": [
    "vectorized_x_test = vectorizer(x_test, tokens)"
   ]
  },
  {
   "cell_type": "code",
   "execution_count": 59,
   "id": "44bb4466",
   "metadata": {},
   "outputs": [
    {
     "data": {
      "text/plain": [
       "array([[0., 0., 0., ..., 0., 0., 0.],\n",
       "       [0., 0., 0., ..., 0., 0., 0.],\n",
       "       [0., 0., 0., ..., 0., 0., 0.],\n",
       "       ...,\n",
       "       [0., 1., 0., ..., 0., 0., 0.],\n",
       "       [0., 0., 0., ..., 0., 0., 0.],\n",
       "       [0., 0., 1., ..., 0., 0., 0.]], shape=(6336, 1154), dtype=float32)"
      ]
     },
     "execution_count": 59,
     "metadata": {},
     "output_type": "execute_result"
    }
   ],
   "source": [
    "vectorized_x_train"
   ]
  },
  {
   "cell_type": "code",
   "execution_count": 60,
   "id": "11a78ac3",
   "metadata": {},
   "outputs": [
    {
     "data": {
      "application/vnd.microsoft.datawrangler.viewer.v0+json": {
       "columns": [
        {
         "name": "index",
         "rawType": "int64",
         "type": "integer"
        },
        {
         "name": "label",
         "rawType": "int64",
         "type": "integer"
        }
       ],
       "ref": "8f645105-7131-4d1b-84c2-835f3316846d",
       "rows": [
        [
         "20",
         "0"
        ],
        [
         "7376",
         "0"
        ],
        [
         "4971",
         "1"
        ],
        [
         "1493",
         "0"
        ],
        [
         "5883",
         "0"
        ],
        [
         "1428",
         "0"
        ],
        [
         "1043",
         "0"
        ],
        [
         "6430",
         "0"
        ],
        [
         "2314",
         "0"
        ],
        [
         "4331",
         "0"
        ],
        [
         "3907",
         "1"
        ],
        [
         "5372",
         "0"
        ],
        [
         "6040",
         "1"
        ],
        [
         "4950",
         "0"
        ],
        [
         "3975",
         "0"
        ],
        [
         "3431",
         "0"
        ],
        [
         "6381",
         "0"
        ],
        [
         "3192",
         "0"
        ],
        [
         "7699",
         "0"
        ],
        [
         "3467",
         "0"
        ],
        [
         "3857",
         "0"
        ],
        [
         "1758",
         "1"
        ],
        [
         "4565",
         "0"
        ],
        [
         "3902",
         "0"
        ],
        [
         "2868",
         "0"
        ],
        [
         "7751",
         "0"
        ],
        [
         "3224",
         "0"
        ],
        [
         "6642",
         "1"
        ],
        [
         "661",
         "0"
        ],
        [
         "757",
         "1"
        ],
        [
         "1206",
         "0"
        ],
        [
         "6663",
         "0"
        ],
        [
         "6947",
         "0"
        ],
        [
         "2752",
         "1"
        ],
        [
         "1029",
         "0"
        ],
        [
         "4614",
         "0"
        ],
        [
         "6426",
         "0"
        ],
        [
         "3791",
         "0"
        ],
        [
         "1660",
         "0"
        ],
        [
         "5043",
         "1"
        ],
        [
         "5066",
         "0"
        ],
        [
         "2523",
         "1"
        ],
        [
         "4000",
         "0"
        ],
        [
         "1932",
         "1"
        ],
        [
         "6871",
         "1"
        ],
        [
         "2589",
         "1"
        ],
        [
         "1433",
         "0"
        ],
        [
         "2174",
         "0"
        ],
        [
         "1833",
         "0"
        ],
        [
         "2518",
         "0"
        ]
       ],
       "shape": {
        "columns": 1,
        "rows": 6336
       }
      },
      "text/plain": [
       "20      0\n",
       "7376    0\n",
       "4971    1\n",
       "1493    0\n",
       "5883    0\n",
       "       ..\n",
       "1003    0\n",
       "2816    1\n",
       "143     0\n",
       "3988    1\n",
       "4350    0\n",
       "Name: label, Length: 6336, dtype: int64"
      ]
     },
     "execution_count": 60,
     "metadata": {},
     "output_type": "execute_result"
    }
   ],
   "source": [
    "y_train"
   ]
  },
  {
   "cell_type": "code",
   "execution_count": 61,
   "id": "f50636f7",
   "metadata": {},
   "outputs": [
    {
     "data": {
      "text/plain": [
       "array([[0., 1., 0., ..., 0., 0., 0.],\n",
       "       [0., 0., 0., ..., 0., 0., 0.],\n",
       "       [0., 1., 0., ..., 0., 0., 0.],\n",
       "       ...,\n",
       "       [0., 0., 0., ..., 0., 0., 0.],\n",
       "       [0., 0., 0., ..., 0., 0., 0.],\n",
       "       [0., 0., 0., ..., 0., 0., 0.]], shape=(1584, 1154), dtype=float32)"
      ]
     },
     "execution_count": 61,
     "metadata": {},
     "output_type": "execute_result"
    }
   ],
   "source": [
    "vectorized_x_test"
   ]
  },
  {
   "cell_type": "code",
   "execution_count": 62,
   "id": "b83fd05e",
   "metadata": {},
   "outputs": [
    {
     "data": {
      "application/vnd.microsoft.datawrangler.viewer.v0+json": {
       "columns": [
        {
         "name": "index",
         "rawType": "int64",
         "type": "integer"
        },
        {
         "name": "label",
         "rawType": "int64",
         "type": "integer"
        }
       ],
       "ref": "beb3b74d-65b6-4068-857b-fe4a81bbd082",
       "rows": [
        [
         "181",
         "1"
        ],
        [
         "7748",
         "1"
        ],
        [
         "6563",
         "0"
        ],
        [
         "3064",
         "1"
        ],
        [
         "4696",
         "0"
        ],
        [
         "1892",
         "0"
        ],
        [
         "1220",
         "1"
        ],
        [
         "4503",
         "1"
        ],
        [
         "6898",
         "0"
        ],
        [
         "2638",
         "1"
        ],
        [
         "4480",
         "0"
        ],
        [
         "4356",
         "0"
        ],
        [
         "5897",
         "0"
        ],
        [
         "6656",
         "0"
        ],
        [
         "3353",
         "1"
        ],
        [
         "455",
         "0"
        ],
        [
         "6047",
         "0"
        ],
        [
         "5590",
         "0"
        ],
        [
         "5700",
         "0"
        ],
        [
         "580",
         "0"
        ],
        [
         "944",
         "0"
        ],
        [
         "6168",
         "1"
        ],
        [
         "7829",
         "0"
        ],
        [
         "6901",
         "1"
        ],
        [
         "6681",
         "0"
        ],
        [
         "3580",
         "1"
        ],
        [
         "6498",
         "0"
        ],
        [
         "1040",
         "0"
        ],
        [
         "4708",
         "0"
        ],
        [
         "2770",
         "0"
        ],
        [
         "4272",
         "0"
        ],
        [
         "7617",
         "0"
        ],
        [
         "913",
         "0"
        ],
        [
         "1722",
         "0"
        ],
        [
         "4270",
         "0"
        ],
        [
         "7798",
         "0"
        ],
        [
         "6895",
         "1"
        ],
        [
         "3795",
         "1"
        ],
        [
         "5885",
         "1"
        ],
        [
         "450",
         "1"
        ],
        [
         "3370",
         "1"
        ],
        [
         "2332",
         "0"
        ],
        [
         "3360",
         "1"
        ],
        [
         "5592",
         "0"
        ],
        [
         "2780",
         "1"
        ],
        [
         "6754",
         "0"
        ],
        [
         "2516",
         "0"
        ],
        [
         "6935",
         "0"
        ],
        [
         "4566",
         "0"
        ],
        [
         "5847",
         "0"
        ]
       ],
       "shape": {
        "columns": 1,
        "rows": 1584
       }
      },
      "text/plain": [
       "181     1\n",
       "7748    1\n",
       "6563    0\n",
       "3064    1\n",
       "4696    0\n",
       "       ..\n",
       "5374    0\n",
       "3065    1\n",
       "1982    0\n",
       "5941    0\n",
       "7888    0\n",
       "Name: label, Length: 1584, dtype: int64"
      ]
     },
     "execution_count": 62,
     "metadata": {},
     "output_type": "execute_result"
    }
   ],
   "source": [
    "y_test"
   ]
  },
  {
   "cell_type": "markdown",
   "id": "7445b8eb",
   "metadata": {},
   "source": [
    "## Handle Imbalanced Dataset"
   ]
  },
  {
   "cell_type": "code",
   "execution_count": 63,
   "id": "535c7742",
   "metadata": {},
   "outputs": [
    {
     "data": {
      "application/vnd.microsoft.datawrangler.viewer.v0+json": {
       "columns": [
        {
         "name": "label",
         "rawType": "int64",
         "type": "integer"
        },
        {
         "name": "count",
         "rawType": "int64",
         "type": "integer"
        }
       ],
       "ref": "5a1e1055-c45f-4955-9efb-01634a2e02ff",
       "rows": [
        [
         "0",
         "4719"
        ],
        [
         "1",
         "1617"
        ]
       ],
       "shape": {
        "columns": 1,
        "rows": 2
       }
      },
      "text/plain": [
       "label\n",
       "0    4719\n",
       "1    1617\n",
       "Name: count, dtype: int64"
      ]
     },
     "execution_count": 63,
     "metadata": {},
     "output_type": "execute_result"
    }
   ],
   "source": [
    "y_train.value_counts()"
   ]
  },
  {
   "cell_type": "code",
   "execution_count": 65,
   "id": "26b00092",
   "metadata": {},
   "outputs": [
    {
     "data": {
      "image/png": "[encoded data removed]",
      "text/plain": [
       "<Figure size 640x480 with 1 Axes>"
      ]
     },
     "metadata": {},
     "output_type": "display_data"
    }
   ],
   "source": [
    "# Using SMOTE\n",
    "\n",
    "plt.pie(\n",
    "    y_train.value_counts(),\n",
    "    labels=['Negative', 'Positive'],\n",
    "    autopct='%1.1f%%',\n",
    "    startangle=90,\n",
    "    colors=[\"#9e0505\", \"#063564\"]\n",
    ")\n",
    "plt.title('Distribution of Training Labels')\n",
    "plt.show()"
   ]
  }
 ],
 "metadata": {
  "kernelspec": {
   "display_name": "env (3.12.4)",
   "language": "python",
   "name": "python3"
  },
  "language_info": {
   "codemirror_mode": {
    "name": "ipython",
    "version": 3
   },
   "file_extension": ".py",
   "mimetype": "text/x-python",
   "name": "python",
   "nbconvert_exporter": "python",
   "pygments_lexer": "ipython3",
   "version": "3.12.4"
  }
 },
 "nbformat": 4,
 "nbformat_minor": 5
}
